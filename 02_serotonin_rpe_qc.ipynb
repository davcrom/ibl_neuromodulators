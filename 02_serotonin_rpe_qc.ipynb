{
 "cells": [
  {
   "cell_type": "code",
   "execution_count": 15,
   "id": "0a0de817-0bd1-4554-805b-c50fcbc0ebc3",
   "metadata": {},
   "outputs": [
    {
     "data": {
      "text/html": [
       "<div>\n",
       "<style scoped>\n",
       "    .dataframe tbody tr th:only-of-type {\n",
       "        vertical-align: middle;\n",
       "    }\n",
       "\n",
       "    .dataframe tbody tr th {\n",
       "        vertical-align: top;\n",
       "    }\n",
       "\n",
       "    .dataframe thead th {\n",
       "        text-align: right;\n",
       "    }\n",
       "</style>\n",
       "<table border=\"1\" class=\"dataframe\">\n",
       "  <thead>\n",
       "    <tr style=\"text-align: right;\">\n",
       "      <th></th>\n",
       "      <th>index</th>\n",
       "      <th>eid</th>\n",
       "      <th>subject</th>\n",
       "      <th>start_time</th>\n",
       "      <th>task_protocol</th>\n",
       "      <th>session_type</th>\n",
       "      <th>session_n</th>\n",
       "      <th>NM</th>\n",
       "      <th>target</th>\n",
       "      <th>roi</th>\n",
       "    </tr>\n",
       "  </thead>\n",
       "  <tbody>\n",
       "    <tr>\n",
       "      <th>0</th>\n",
       "      <td>34</td>\n",
       "      <td>fe2a712b-014b-47e7-b2ac-f85d0571cf44</td>\n",
       "      <td>ZFM-03065</td>\n",
       "      <td>2021-08-27T10:18:12.784055</td>\n",
       "      <td>_iblrig_NPH_tasks_trainingChoiceWorld6.4.2</td>\n",
       "      <td>training</td>\n",
       "      <td>4</td>\n",
       "      <td>5HT</td>\n",
       "      <td>[DR]</td>\n",
       "      <td>[Region1G]</td>\n",
       "    </tr>\n",
       "    <tr>\n",
       "      <th>1</th>\n",
       "      <td>35</td>\n",
       "      <td>ba01bf35-8a0d-4ca3-a66e-b3a540b21128</td>\n",
       "      <td>ZFM-03059</td>\n",
       "      <td>2021-08-27T11:18:32.529960</td>\n",
       "      <td>_iblrig_NPH_tasks_trainingChoiceWorld6.4.2</td>\n",
       "      <td>training</td>\n",
       "      <td>4</td>\n",
       "      <td>5HT</td>\n",
       "      <td>[DR]</td>\n",
       "      <td>[Region1G]</td>\n",
       "    </tr>\n",
       "    <tr>\n",
       "      <th>2</th>\n",
       "      <td>38</td>\n",
       "      <td>f2a6559d-1e45-4e83-8f65-1295ef50ed4b</td>\n",
       "      <td>ZFM-03065</td>\n",
       "      <td>2021-08-30T08:29:50.008373</td>\n",
       "      <td>_iblrig_NPH_tasks_trainingChoiceWorld6.4.2</td>\n",
       "      <td>training</td>\n",
       "      <td>5</td>\n",
       "      <td>5HT</td>\n",
       "      <td>[DR]</td>\n",
       "      <td>[Region1G]</td>\n",
       "    </tr>\n",
       "    <tr>\n",
       "      <th>3</th>\n",
       "      <td>42</td>\n",
       "      <td>c5cdd496-7400-4c0f-b326-55016bce4fcf</td>\n",
       "      <td>ZFM-03065</td>\n",
       "      <td>2021-08-31T10:23:23.726423</td>\n",
       "      <td>_iblrig_NPH_tasks_trainingChoiceWorld6.4.2</td>\n",
       "      <td>training</td>\n",
       "      <td>6</td>\n",
       "      <td>5HT</td>\n",
       "      <td>[DR]</td>\n",
       "      <td>[Region1G]</td>\n",
       "    </tr>\n",
       "    <tr>\n",
       "      <th>4</th>\n",
       "      <td>49</td>\n",
       "      <td>fd22820d-a2c2-4c06-b90e-f399344e1c0a</td>\n",
       "      <td>ZFM-03059</td>\n",
       "      <td>2021-09-01T09:54:32.034120</td>\n",
       "      <td>_iblrig_NPH_tasks_trainingChoiceWorld6.4.2</td>\n",
       "      <td>training</td>\n",
       "      <td>7</td>\n",
       "      <td>5HT</td>\n",
       "      <td>[DR]</td>\n",
       "      <td>[Region1G]</td>\n",
       "    </tr>\n",
       "  </tbody>\n",
       "</table>\n",
       "</div>"
      ],
      "text/plain": [
       "   index                                   eid    subject  \\\n",
       "0     34  fe2a712b-014b-47e7-b2ac-f85d0571cf44  ZFM-03065   \n",
       "1     35  ba01bf35-8a0d-4ca3-a66e-b3a540b21128  ZFM-03059   \n",
       "2     38  f2a6559d-1e45-4e83-8f65-1295ef50ed4b  ZFM-03065   \n",
       "3     42  c5cdd496-7400-4c0f-b326-55016bce4fcf  ZFM-03065   \n",
       "4     49  fd22820d-a2c2-4c06-b90e-f399344e1c0a  ZFM-03059   \n",
       "\n",
       "                   start_time                               task_protocol  \\\n",
       "0  2021-08-27T10:18:12.784055  _iblrig_NPH_tasks_trainingChoiceWorld6.4.2   \n",
       "1  2021-08-27T11:18:32.529960  _iblrig_NPH_tasks_trainingChoiceWorld6.4.2   \n",
       "2  2021-08-30T08:29:50.008373  _iblrig_NPH_tasks_trainingChoiceWorld6.4.2   \n",
       "3  2021-08-31T10:23:23.726423  _iblrig_NPH_tasks_trainingChoiceWorld6.4.2   \n",
       "4  2021-09-01T09:54:32.034120  _iblrig_NPH_tasks_trainingChoiceWorld6.4.2   \n",
       "\n",
       "  session_type  session_n   NM target         roi  \n",
       "0     training          4  5HT   [DR]  [Region1G]  \n",
       "1     training          4  5HT   [DR]  [Region1G]  \n",
       "2     training          5  5HT   [DR]  [Region1G]  \n",
       "3     training          6  5HT   [DR]  [Region1G]  \n",
       "4     training          7  5HT   [DR]  [Region1G]  "
      ]
     },
     "execution_count": 15,
     "metadata": {},
     "output_type": "execute_result"
    }
   ],
   "source": [
    "import pandas as pd\n",
    "import numpy as np\n",
    "import matplotlib.pyplot as plt\n",
    "import seaborn as sns\n",
    "\n",
    "pathfile = '/Users/sarahhu/ibl_photometry/DR-5HT/'\n",
    "metadf = pd.read_parquet(pathfile + 'sessions.pqt')\n",
    "metadf.reset_index(inplace=True)\n",
    "metadf.head()"
   ]
  },
  {
   "cell_type": "code",
   "execution_count": 16,
   "id": "bd4037dc-e307-454c-bb64-90e0cac2035e",
   "metadata": {},
   "outputs": [],
   "source": [
    "import sys\n",
    "# Change this to your path to ibl-photometry\n",
    "sys.path.append('/Users/sarahhu/ibl-photometry/src')"
   ]
  },
  {
   "cell_type": "code",
   "execution_count": 19,
   "id": "d89ea84d-cabc-4cb7-a68d-d8e51d9da71a",
   "metadata": {
    "jupyter": {
     "source_hidden": true
    }
   },
   "outputs": [],
   "source": [
    "from dataclasses import dataclass\n",
    "\n",
    "@dataclass\n",
    "class Params: \n",
    "    \"\"\"\n",
    "    Parameters for PSTH and photometry analysis.\n",
    "\n",
    "    Attributes\n",
    "    ----------\n",
    "    pre_time : float\n",
    "        Time before event to include in the analysis window (in seconds).\n",
    "    post_time : float\n",
    "        Time after event to include in the analysis window (in seconds).\n",
    "    bin_size : float\n",
    "        Size of time bins for the histogram (in seconds).\n",
    "    baseline_time : float\n",
    "        Time window before the event used for baseline fluorescence calculation (in seconds).\n",
    "    \"\"\"\n",
    "    pre_time: float=4\n",
    "    post_time: float=6\n",
    "    bin_size: float=0.1\n",
    "    baseline_time: float=0.5\n",
    "\n",
    "class Photometry: \n",
    "    \"\"\"\n",
    "    Class for analyzing photometry data aligned to behavioral events.\n",
    "\n",
    "    Parameters\n",
    "    ----------\n",
    "    eid : str\n",
    "        Experiment ID used to load data files.\n",
    "\n",
    "    trial_idx : list, optional\n",
    "        Indices of trial numbers to select from the session. \n",
    "\n",
    "    \"\"\"\n",
    "\n",
    "    def __init__(self, eid, trial_idx=None):\n",
    "        \n",
    "        # private instances\n",
    "        self.__pathfile = '/Users/sarahhu/ibl_photometry/DR-5HT/'\n",
    "        self.__eid = eid\n",
    "        \n",
    "        if trial_idx is not None:\n",
    "            self.__trials_df = self.load_trials()[self.__convert_trial_idx(trial_idx)]\n",
    "        else: \n",
    "            self.__trials_df = self.load_trials()\n",
    "            \n",
    "        self.__gcamp_df = self.load_photometry()\n",
    "\n",
    "        # public instances\n",
    "        self.firstMovement_times = self.__trials_df['firstMovement_times']\n",
    "        self.contrastRight = self.__trials_df['contrastRight']\n",
    "        self.choice = self.__trials_df['choice']\n",
    "        self.contrastLeft = self.__trials_df['contrastLeft']\n",
    "        self.response_times = self.__trials_df['response_times']\n",
    "        self.feedbackType = self.__trials_df['feedbackType']\n",
    "        self.probabilityLeft = self.__trials_df['probabilityLeft']\n",
    "        self.stimOn_times = self.__trials_df['stimOn_times']\n",
    "        self.goCue_times = self.__trials_df['goCue_times']\n",
    "        self.feedback_times = self.__trials_df['feedback_times']\n",
    "\n",
    "    \n",
    "    def __convert_trial_idx(self, trial_idx): \n",
    "        total_trial = self.load_trials().shape[0]\n",
    "        if len(trial_idx) == 2:\n",
    "            tid = [True if i in range(trial_idx[0], trial_idx[1]) else False for i in range(total_trial)]\n",
    "        else:\n",
    "            tid = trial_idx\n",
    "        return tid\n",
    "\n",
    "    # functions for loading\n",
    "    def load_photometry(self):\n",
    "        df = pd.read_parquet(self.__pathfile + self.__eid + '_gcamp.pqt')\n",
    "        return df\n",
    "\n",
    "    def load_trials(self): \n",
    "        df = pd.read_parquet(self.__pathfile + self.__eid + '_trials.pqt')\n",
    "        return df\n",
    "\n",
    "    def load_isosbestic(self): \n",
    "        df = pd.read_parquet(self.__pathfile + self.__eid + '_isosbestic.pqt')\n",
    "        return df\n",
    "\n",
    "    # Modified based on bin_spikes from brainbox.singlecell \n",
    "    def __bin_photometry(self, align_times, params: Params):\n",
    "        \"\"\"\n",
    "        Internal method to compute trial-aligned, binned photometry signal (ΔF/F).\n",
    "        Each trial is aligned to the specified event, and its fluorescence trace is:\n",
    "        1. Binned over time relative to the event.\n",
    "        2. Normalized by its own baseline fluorescence to compute ΔF/F.\n",
    "        3. Returned as a matrix of shape (n_trials, n_bins).\n",
    "        \"\"\"\n",
    "\n",
    "        # align_times = np.array(self.__trials_df[align_times])\n",
    "       \n",
    "        signal = self.__gcamp_df.values[:,0]\n",
    "        times = list(self.__gcamp_df.index) \n",
    "        \n",
    "        n_bins_pre = int(np.ceil(params.pre_time / params.bin_size))\n",
    "        n_bins_post = int(np.ceil(params.post_time / params.bin_size))\n",
    "        n_bins = n_bins_pre + n_bins_post\n",
    "        tscale = np.arange(-n_bins_pre, n_bins_post + 1) * params.bin_size\n",
    "        ts = np.repeat(align_times[:, np.newaxis], tscale.size, axis=1) + tscale\n",
    "        epoch_idxs = np.searchsorted(times, np.c_[ts[:, 0], ts[:, -1]])\n",
    "        bins = np.zeros(shape=(align_times.shape[0], n_bins))\n",
    "\n",
    "        for i, (ep, t) in enumerate(zip(epoch_idxs, ts)):\n",
    "\n",
    "            # Determine baseline period indices\n",
    "            baseline_start = align_times[i] - params.baseline_time\n",
    "            baseline_end = align_times[i]  # up to event onset\n",
    "            baseline_idx = np.searchsorted(times, [baseline_start, baseline_end])\n",
    "\n",
    "            # Compute baseline fluorescence (mean during baseline window)\n",
    "            if baseline_idx[0] < baseline_idx[1]:  # ensure valid window\n",
    "                F_baseline = np.mean(signal[baseline_idx[0]:baseline_idx[1]])\n",
    "            else:\n",
    "                F_baseline = np.nan  # if no points in baseline window\n",
    "            \n",
    "            # also account for underlying (longer-term) fluctuations one second prior to events\n",
    "            fluctuation_time = align_times[i] - 3  # 1s window hard-coded!\n",
    "            fluctuation_idx = np.searchsorted(times, [fluctuation_time, align_times[i]])\n",
    "            fluctuation_signal = signal[fluctuation_idx[0]:fluctuation_idx[1]]\n",
    "            if len(fluctuation_signal) > 0:\n",
    "                fluc_std = np.nanstd(fluctuation_signal, axis=0)\n",
    "            else:\n",
    "                fluc_std = np.nan\n",
    "\n",
    "            # Compute fluorescence during trial window\n",
    "            trial_signal = signal[ep[0]:ep[1]]\n",
    "            xind = (np.floor((times[ep[0]:ep[1]] - t[0]) / params.bin_size)).astype(np.int64)\n",
    "            \n",
    "            r_counts = np.bincount(xind, minlength=tscale.shape[0])\n",
    "            r_sum = np.bincount(xind, minlength=tscale.shape[0], weights=trial_signal)\n",
    "\n",
    "            # avoid division by zero\n",
    "            with np.errstate(divide='ignore', invalid='ignore'):\n",
    "                r_mean = np.true_divide(r_sum, r_counts)\n",
    "                r_mean[r_counts == 0] = np.nan  # if no data points in bin, set to NaN\n",
    "\n",
    "            binned_signal = r_mean[:-1]  # remove the last bin \n",
    "\n",
    "            # Compute dF/F for this trial\n",
    "            \n",
    "            # fluc_std = 1 # placeholder\n",
    "\n",
    "            if not np.isnan(F_baseline) and F_baseline != 0 and not np.isnan(fluc_std) and fluc_std != 0:\n",
    "                bins[i, :] = (binned_signal - F_baseline) / F_baseline / fluc_std \n",
    "            else:\n",
    "                bins[i, :] = np.nan  # skip if baseline invalid or zero\n",
    "\n",
    "        tscale = (tscale[:-1] + tscale[1:]) / 2\n",
    "\n",
    "        return bins, tscale\n",
    "    \n",
    "    def __get_filtered_trials_df(self, side=None, feedback_type=None, bias=None):\n",
    "        \n",
    "        # Start with full mask (all True)\n",
    "        mask = np.ones(len(self.__trials_df), dtype=bool)\n",
    "\n",
    "        # Apply side filter\n",
    "        if side == 'left':\n",
    "            mask &= ~np.isnan(self.__trials_df['contrastLeft'])\n",
    "        elif side == 'right':\n",
    "            mask &= ~np.isnan(self.__trials_df['contrastRight'])\n",
    "\n",
    "        # Apply feedback_type filter\n",
    "        if feedback_type == 1.0:\n",
    "            mask &= self.__trials_df['feedbackType'] == 1.0\n",
    "        elif feedback_type == -1.0:\n",
    "            mask &= self.__trials_df['feedbackType'] == -1.0\n",
    "        elif feedback_type is not None:\n",
    "            raise Exception(\"feedback_type must be -1.0 (incorrect) or 1.0 (correct)\")\n",
    "\n",
    "        # Apply bias filter\n",
    "        if bias == 0:\n",
    "            mask &= self.__trials_df['probabilityLeft'] == 0.5\n",
    "        elif bias == 1:\n",
    "            mask &= (self.__trials_df['probabilityLeft'] == 0.2) | (self.__trials_df['probabilityLeft'] == 0.8)\n",
    "        elif bias is not None:\n",
    "            raise Exception(\"bias must be 0 (no bias) or 1 (biased)\")\n",
    "        \n",
    "        return mask"
   ]
  },
  {
   "cell_type": "code",
   "execution_count": 20,
   "id": "72d45f38-cee8-4be2-b53b-34e32c27cbd5",
   "metadata": {},
   "outputs": [],
   "source": [
    "# focus on one mouse: ZFM-03059\n",
    "# extract all/some of its training session eids\n",
    "mouse_df = metadf[metadf['subject']=='ZFM-03059']\n",
    "train_idx = np.asarray(mouse_df['session_type']=='training').nonzero()\n",
    "mouse_train_df = mouse_df.iloc[train_idx]\n",
    "sessions = mouse_train_df['eid'][10:15]\n",
    "sessions\n",
    "\n",
    "params = Params(pre_time=2, post_time=2, bin_size=0.1, baseline_time=0.5)\n",
    "session1 = Photometry(sessions.values[4])"
   ]
  },
  {
   "cell_type": "code",
   "execution_count": 21,
   "id": "113355d5-5228-4871-8ef4-1c03f39b2d2b",
   "metadata": {},
   "outputs": [],
   "source": [
    "session = Photometry(metadf.iloc[0]['eid'])"
   ]
  },
  {
   "cell_type": "code",
   "execution_count": 22,
   "id": "91137122-1d0a-42cd-a504-20b7cf765934",
   "metadata": {},
   "outputs": [],
   "source": [
    "gcamp = session.load_photometry()\n",
    "iso = session.load_isosbestic()"
   ]
  },
  {
   "cell_type": "code",
   "execution_count": 23,
   "id": "9d9884d1-84df-4d20-9d99-1cc7e9ebd874",
   "metadata": {},
   "outputs": [
    {
     "data": {
      "text/plain": [
       "[<matplotlib.lines.Line2D at 0x163bdc430>]"
      ]
     },
     "execution_count": 23,
     "metadata": {},
     "output_type": "execute_result"
    },
    {
     "data": {
      "image/png": "[encoded data removed]",
      "text/plain": [
       "<Figure size 640x480 with 1 Axes>"
      ]
     },
     "metadata": {},
     "output_type": "display_data"
    }
   ],
   "source": [
    "plt.plot(gcamp)\n",
    "plt.plot(iso)"
   ]
  },
  {
   "cell_type": "code",
   "execution_count": 24,
   "id": "c6f4a865-1d10-4d57-a242-2c3969b3c6b2",
   "metadata": {},
   "outputs": [],
   "source": [
    "from iblphotometry.metrics import n_early_samples, n_unique_samples, ar_score\n",
    "## TODO: fix_repeated_sampling only works for raw interleaved photometry data\n",
    "from scipy.signal import medfilt\n",
    "\n",
    "def sliding_deviance(\n",
    "    A: pd.Series | np.ndarray,\n",
    "    w_len: int = 151,\n",
    ") -> float:\n",
    "    a = A.values if isinstance(A, pd.Series) else A\n",
    "    running_median = medfilt(a, kernel_size=w_len)\n",
    "    return np.median(np.abs(a - running_median) / running_median)"
   ]
  },
  {
   "cell_type": "code",
   "execution_count": 25,
   "id": "d109a9dc-f44c-48b1-848f-058eb23a53c5",
   "metadata": {},
   "outputs": [
    {
     "name": "stdout",
     "output_type": "stream",
     "text": [
      "0\n",
      "0\n"
     ]
    }
   ],
   "source": [
    "# Check that all samples are appropriately timed\n",
    "# Early samples are an indication that there are artifacts/ gcamp-iso identity swaps\n",
    "\n",
    "print(n_early_samples(gcamp))\n",
    "print(n_early_samples(iso))"
   ]
  },
  {
   "cell_type": "code",
   "execution_count": 26,
   "id": "7680ff35-01fe-47bd-9f74-3f355df94c73",
   "metadata": {},
   "outputs": [
    {
     "name": "stdout",
     "output_type": "stream",
     "text": [
      "15805\n"
     ]
    }
   ],
   "source": [
    "# Check that the recording has a high (>100, >1000) number of unique samples\n",
    "# A low number indicates that the channel label is wrong, or the signal is too low amplitude\n",
    "print(n_unique_samples(gcamp))"
   ]
  },
  {
   "cell_type": "code",
   "execution_count": 27,
   "id": "06aafa46-282e-4dec-9496-d60c7568b88e",
   "metadata": {},
   "outputs": [
    {
     "name": "stdout",
     "output_type": "stream",
     "text": [
      "0.022407527481648037 True\n"
     ]
    }
   ],
   "source": [
    "# Check that the recording has a high amplitude (\"median absolute deviance\")\n",
    "deviance_threshold = 0.0005 # Set an approproaite threshold, this is likely very liberal\n",
    "deviance = sliding_deviance(gcamp[gcamp.columns[0]])\n",
    "print(deviance, deviance > deviance_threshold)"
   ]
  },
  {
   "cell_type": "code",
   "execution_count": 28,
   "id": "348e6eaa-db35-496f-b767-0870ce9b42ca",
   "metadata": {},
   "outputs": [
    {
     "name": "stdout",
     "output_type": "stream",
     "text": [
      "0.9506278601087761 True\n"
     ]
    }
   ],
   "source": [
    "# Check that the recording has temporal dependencies\n",
    "# A simple \"autoregressive\" model tries to predict the signal based on preceding samples\n",
    "arscore_threshold = 0.25 # Set an approproaite threshold, this is likely very liberal\n",
    "r_squared = ar_score(gcamp[gcamp.columns[0]])\n",
    "print(r_squared, r_squared > arscore_threshold)"
   ]
  },
  {
   "cell_type": "code",
   "execution_count": null,
   "id": "ac50edb0-966f-49d6-ad6c-41c2516db5d9",
   "metadata": {},
   "outputs": [],
   "source": []
  }
 ],
 "metadata": {
  "kernelspec": {
   "display_name": "iblenv",
   "language": "python",
   "name": "python3"
  },
  "language_info": {
   "codemirror_mode": {
    "name": "ipython",
    "version": 3
   },
   "file_extension": ".py",
   "mimetype": "text/x-python",
   "name": "python",
   "nbconvert_exporter": "python",
   "pygments_lexer": "ipython3",
   "version": "3.10.16"
  }
 },
 "nbformat": 4,
 "nbformat_minor": 5
}
