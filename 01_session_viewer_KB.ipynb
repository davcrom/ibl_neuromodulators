{
 "cells": [
  {
   "cell_type": "code",
   "execution_count": 1,
   "id": "330e2085-7c39-402c-b6c4-26c66673cfd9",
   "metadata": {},
   "outputs": [],
   "source": [
    "import numpy as np\n",
    "import pandas as pd\n",
    "from matplotlib import pyplot as plt\n",
    "from matplotlib import gridspec\n",
    "from scipy import stats\n",
    "\n",
    "from one.api import ONE\n",
    "from brainbox.io.one import SessionLoader\n",
    "\n",
    "import sys\n",
    "sys.path.append('/home/crombie/code/ibl_photometry/src')\n",
    "from iblphotometry.loaders import KceniaLoader\n",
    "\n",
    "from iblnm.io import LOCAL_CACHE\n",
    "from iblnm.util import EVENT2COLOR\n",
    "from iblnm.resp import get_responses"
   ]
  },
  {
   "cell_type": "code",
   "execution_count": 2,
   "id": "d010d915-3cdf-4223-b7c8-dbc016025a55",
   "metadata": {},
   "outputs": [
    {
     "name": "stderr",
     "output_type": "stream",
     "text": [
      "/home/crombie/mnt/ccu-iblserver/datasets.pqt does not appear to be a valid table. Skipping\n"
     ]
    }
   ],
   "source": [
    "one = ONE(cache_dir=LOCAL_CACHE)"
   ]
  },
  {
   "cell_type": "code",
   "execution_count": 3,
   "id": "54129240-28bd-47e7-b0a2-16403ab1bd6a",
   "metadata": {},
   "outputs": [],
   "source": [
    "df_sessions = pd.read_parquet('metadata/sessions.pqt').query('local_photometry == True')"
   ]
  },
  {
   "cell_type": "code",
   "execution_count": 4,
   "id": "95494e0c-bf9b-4311-957c-dde7f63d4558",
   "metadata": {},
   "outputs": [
    {
     "data": {
      "text/plain": [
       "target_NM\n",
       "DR-5HT     617\n",
       "LC-NE      432\n",
       "VTA-DA     308\n",
       "SNc-DA     279\n",
       "NBM-ACh    132\n",
       "MR-5HT      53\n",
       "Name: count, dtype: int64"
      ]
     },
     "execution_count": 4,
     "metadata": {},
     "output_type": "execute_result"
    }
   ],
   "source": [
    "df_sessions = df_sessions[df_sessions['target'].apply(len) == 1]\n",
    "df_sessions['target_NM'] = df_sessions.apply(lambda x: f\"{x['target'][0]}-{x['NM']}\", axis='columns')\n",
    "df_sessions['target_NM'].value_counts()"
   ]
  },
  {
   "cell_type": "code",
   "execution_count": 6,
   "id": "d75f55b7-79e9-484c-9e5c-53f7933c29a8",
   "metadata": {},
   "outputs": [
    {
     "data": {
      "text/plain": [
       "subject    session_type\n",
       "ZFM-06946  training        11\n",
       "ZFM-06948  biased          11\n",
       "           training        27\n",
       "ZFM-08751  habituation      3\n",
       "           training        26\n",
       "ZFM-08757  habituation      3\n",
       "           training        25\n",
       "ZFM-08813  habituation      3\n",
       "           training        10\n",
       "ZFM-08814  habituation      3\n",
       "           training        10\n",
       "Name: session_n, dtype: int64"
      ]
     },
     "execution_count": 6,
     "metadata": {},
     "output_type": "execute_result"
    }
   ],
   "source": [
    "# Pick a target\n",
    "target_NM = 'NBM-ACh'\n",
    "df_target = df_sessions.query('target_NM == @target_NM')\n",
    "df_target.groupby(['subject', 'session_type']).count()['session_n']"
   ]
  },
  {
   "cell_type": "code",
   "execution_count": 169,
   "id": "691c4583-ee47-4912-a709-cb8959d9465d",
   "metadata": {},
   "outputs": [],
   "source": [
    "## NBM mouse, no photometry data extracted !!\n",
    "\n",
    "# subject = 'ZFM-06946'\n",
    "# session = df_sessions.query('subject == @subject').iloc[-1]\n",
    "# eid = session['eid']\n",
    "# session"
   ]
  },
  {
   "cell_type": "code",
   "execution_count": 54,
   "id": "4004eddc-ab0d-46d5-9d8e-45230b8dc5b6",
   "metadata": {},
   "outputs": [
    {
     "data": {
      "text/plain": [
       "subject                                        ZFM-06948\n",
       "NM                                                   ACh\n",
       "target                                             [NBM]\n",
       "session_type                                      biased\n",
       "session_n                                             28\n",
       "start_time                    2024-01-12T11:52:32.158403\n",
       "eid                 580d1208-d910-4fc9-8c28-8364c92dbd46\n",
       "local_photometry                                    True\n",
       "Name: 2266, dtype: object"
      ]
     },
     "execution_count": 54,
     "metadata": {},
     "output_type": "execute_result"
    }
   ],
   "source": [
    "subject = 'ZFM-06948'\n",
    "session_type = 'biased'\n",
    "session_n = 0\n",
    "session = df_sessions.query('(subject == @subject) & (session_type == @session_type)').iloc[session_n]\n",
    "eid = session['eid']\n",
    "session[['subject', 'NM', 'target', 'session_type', 'session_n', 'start_time', 'eid', 'local_photometry']]"
   ]
  },
  {
   "cell_type": "code",
   "execution_count": 55,
   "id": "a3058cd9-ddc1-4338-b2e0-96caf9d1add0",
   "metadata": {},
   "outputs": [
    {
     "name": "stdout",
     "output_type": "stream",
     "text": [
      "Index(['Region5G'], dtype='object')\n"
     ]
    }
   ],
   "source": [
    "loader = KceniaLoader(one)\n",
    "photometry = loader.load_photometry_data(eid)\n",
    "gcamp = photometry['raw_calcium']\n",
    "iso = photometry['raw_isosbestic']\n",
    "print(gcamp.columns)"
   ]
  },
  {
   "cell_type": "code",
   "execution_count": 56,
   "id": "7deba20d-d8bc-4c26-ace7-4494d119192b",
   "metadata": {},
   "outputs": [],
   "source": [
    "# roi = 'Region6G'\n",
    "roi = gcamp.columns[0]"
   ]
  },
  {
   "cell_type": "code",
   "execution_count": 57,
   "id": "5aef72b8-f92d-4acb-a02c-c2cbaff4c64a",
   "metadata": {},
   "outputs": [
    {
     "ename": "FileNotFoundError",
     "evalue": "[Errno 2] No such file or directory: '/home/crombie/mnt/ccu-iblserver/mainenlab/Subjects/ZFM-06948/2024-01-12/001/alf/_ibl_trials.table.pqt'",
     "output_type": "error",
     "traceback": [
      "\u001b[0;31m---------------------------------------------------------------------------\u001b[0m",
      "\u001b[0;31mFileNotFoundError\u001b[0m                         Traceback (most recent call last)",
      "Cell \u001b[0;32mIn[57], line 3\u001b[0m\n\u001b[1;32m      1\u001b[0m \u001b[38;5;66;03m# trials_fpath = one.eid2path(eid) / 'alf' / 'task_00' / '_ibl_trials.table.pqt'\u001b[39;00m\n\u001b[1;32m      2\u001b[0m trials_fpath \u001b[38;5;241m=\u001b[39m one\u001b[38;5;241m.\u001b[39meid2path(eid) \u001b[38;5;241m/\u001b[39m \u001b[38;5;124m'\u001b[39m\u001b[38;5;124malf\u001b[39m\u001b[38;5;124m'\u001b[39m \u001b[38;5;241m/\u001b[39m \u001b[38;5;124m'\u001b[39m\u001b[38;5;124m_ibl_trials.table.pqt\u001b[39m\u001b[38;5;124m'\u001b[39m\n\u001b[0;32m----> 3\u001b[0m df_trials \u001b[38;5;241m=\u001b[39m \u001b[43mpd\u001b[49m\u001b[38;5;241;43m.\u001b[39;49m\u001b[43mread_parquet\u001b[49m\u001b[43m(\u001b[49m\u001b[43mtrials_fpath\u001b[49m\u001b[43m)\u001b[49m\n",
      "File \u001b[0;32m~/miniconda3/envs/iblenv/lib/python3.10/site-packages/pandas/io/parquet.py:667\u001b[0m, in \u001b[0;36mread_parquet\u001b[0;34m(path, engine, columns, storage_options, use_nullable_dtypes, dtype_backend, filesystem, filters, **kwargs)\u001b[0m\n\u001b[1;32m    664\u001b[0m     use_nullable_dtypes \u001b[38;5;241m=\u001b[39m \u001b[38;5;28;01mFalse\u001b[39;00m\n\u001b[1;32m    665\u001b[0m check_dtype_backend(dtype_backend)\n\u001b[0;32m--> 667\u001b[0m \u001b[38;5;28;01mreturn\u001b[39;00m \u001b[43mimpl\u001b[49m\u001b[38;5;241;43m.\u001b[39;49m\u001b[43mread\u001b[49m\u001b[43m(\u001b[49m\n\u001b[1;32m    668\u001b[0m \u001b[43m    \u001b[49m\u001b[43mpath\u001b[49m\u001b[43m,\u001b[49m\n\u001b[1;32m    669\u001b[0m \u001b[43m    \u001b[49m\u001b[43mcolumns\u001b[49m\u001b[38;5;241;43m=\u001b[39;49m\u001b[43mcolumns\u001b[49m\u001b[43m,\u001b[49m\n\u001b[1;32m    670\u001b[0m \u001b[43m    \u001b[49m\u001b[43mfilters\u001b[49m\u001b[38;5;241;43m=\u001b[39;49m\u001b[43mfilters\u001b[49m\u001b[43m,\u001b[49m\n\u001b[1;32m    671\u001b[0m \u001b[43m    \u001b[49m\u001b[43mstorage_options\u001b[49m\u001b[38;5;241;43m=\u001b[39;49m\u001b[43mstorage_options\u001b[49m\u001b[43m,\u001b[49m\n\u001b[1;32m    672\u001b[0m \u001b[43m    \u001b[49m\u001b[43muse_nullable_dtypes\u001b[49m\u001b[38;5;241;43m=\u001b[39;49m\u001b[43muse_nullable_dtypes\u001b[49m\u001b[43m,\u001b[49m\n\u001b[1;32m    673\u001b[0m \u001b[43m    \u001b[49m\u001b[43mdtype_backend\u001b[49m\u001b[38;5;241;43m=\u001b[39;49m\u001b[43mdtype_backend\u001b[49m\u001b[43m,\u001b[49m\n\u001b[1;32m    674\u001b[0m \u001b[43m    \u001b[49m\u001b[43mfilesystem\u001b[49m\u001b[38;5;241;43m=\u001b[39;49m\u001b[43mfilesystem\u001b[49m\u001b[43m,\u001b[49m\n\u001b[1;32m    675\u001b[0m \u001b[43m    \u001b[49m\u001b[38;5;241;43m*\u001b[39;49m\u001b[38;5;241;43m*\u001b[39;49m\u001b[43mkwargs\u001b[49m\u001b[43m,\u001b[49m\n\u001b[1;32m    676\u001b[0m \u001b[43m\u001b[49m\u001b[43m)\u001b[49m\n",
      "File \u001b[0;32m~/miniconda3/envs/iblenv/lib/python3.10/site-packages/pandas/io/parquet.py:267\u001b[0m, in \u001b[0;36mPyArrowImpl.read\u001b[0;34m(self, path, columns, filters, use_nullable_dtypes, dtype_backend, storage_options, filesystem, **kwargs)\u001b[0m\n\u001b[1;32m    264\u001b[0m \u001b[38;5;28;01mif\u001b[39;00m manager \u001b[38;5;241m==\u001b[39m \u001b[38;5;124m\"\u001b[39m\u001b[38;5;124marray\u001b[39m\u001b[38;5;124m\"\u001b[39m:\n\u001b[1;32m    265\u001b[0m     to_pandas_kwargs[\u001b[38;5;124m\"\u001b[39m\u001b[38;5;124msplit_blocks\u001b[39m\u001b[38;5;124m\"\u001b[39m] \u001b[38;5;241m=\u001b[39m \u001b[38;5;28;01mTrue\u001b[39;00m  \u001b[38;5;66;03m# type: ignore[assignment]\u001b[39;00m\n\u001b[0;32m--> 267\u001b[0m path_or_handle, handles, filesystem \u001b[38;5;241m=\u001b[39m \u001b[43m_get_path_or_handle\u001b[49m\u001b[43m(\u001b[49m\n\u001b[1;32m    268\u001b[0m \u001b[43m    \u001b[49m\u001b[43mpath\u001b[49m\u001b[43m,\u001b[49m\n\u001b[1;32m    269\u001b[0m \u001b[43m    \u001b[49m\u001b[43mfilesystem\u001b[49m\u001b[43m,\u001b[49m\n\u001b[1;32m    270\u001b[0m \u001b[43m    \u001b[49m\u001b[43mstorage_options\u001b[49m\u001b[38;5;241;43m=\u001b[39;49m\u001b[43mstorage_options\u001b[49m\u001b[43m,\u001b[49m\n\u001b[1;32m    271\u001b[0m \u001b[43m    \u001b[49m\u001b[43mmode\u001b[49m\u001b[38;5;241;43m=\u001b[39;49m\u001b[38;5;124;43m\"\u001b[39;49m\u001b[38;5;124;43mrb\u001b[39;49m\u001b[38;5;124;43m\"\u001b[39;49m\u001b[43m,\u001b[49m\n\u001b[1;32m    272\u001b[0m \u001b[43m\u001b[49m\u001b[43m)\u001b[49m\n\u001b[1;32m    273\u001b[0m \u001b[38;5;28;01mtry\u001b[39;00m:\n\u001b[1;32m    274\u001b[0m     pa_table \u001b[38;5;241m=\u001b[39m \u001b[38;5;28mself\u001b[39m\u001b[38;5;241m.\u001b[39mapi\u001b[38;5;241m.\u001b[39mparquet\u001b[38;5;241m.\u001b[39mread_table(\n\u001b[1;32m    275\u001b[0m         path_or_handle,\n\u001b[1;32m    276\u001b[0m         columns\u001b[38;5;241m=\u001b[39mcolumns,\n\u001b[0;32m   (...)\u001b[0m\n\u001b[1;32m    279\u001b[0m         \u001b[38;5;241m*\u001b[39m\u001b[38;5;241m*\u001b[39mkwargs,\n\u001b[1;32m    280\u001b[0m     )\n",
      "File \u001b[0;32m~/miniconda3/envs/iblenv/lib/python3.10/site-packages/pandas/io/parquet.py:140\u001b[0m, in \u001b[0;36m_get_path_or_handle\u001b[0;34m(path, fs, storage_options, mode, is_dir)\u001b[0m\n\u001b[1;32m    130\u001b[0m handles \u001b[38;5;241m=\u001b[39m \u001b[38;5;28;01mNone\u001b[39;00m\n\u001b[1;32m    131\u001b[0m \u001b[38;5;28;01mif\u001b[39;00m (\n\u001b[1;32m    132\u001b[0m     \u001b[38;5;129;01mnot\u001b[39;00m fs\n\u001b[1;32m    133\u001b[0m     \u001b[38;5;129;01mand\u001b[39;00m \u001b[38;5;129;01mnot\u001b[39;00m is_dir\n\u001b[0;32m   (...)\u001b[0m\n\u001b[1;32m    138\u001b[0m     \u001b[38;5;66;03m# fsspec resources can also point to directories\u001b[39;00m\n\u001b[1;32m    139\u001b[0m     \u001b[38;5;66;03m# this branch is used for example when reading from non-fsspec URLs\u001b[39;00m\n\u001b[0;32m--> 140\u001b[0m     handles \u001b[38;5;241m=\u001b[39m \u001b[43mget_handle\u001b[49m\u001b[43m(\u001b[49m\n\u001b[1;32m    141\u001b[0m \u001b[43m        \u001b[49m\u001b[43mpath_or_handle\u001b[49m\u001b[43m,\u001b[49m\u001b[43m \u001b[49m\u001b[43mmode\u001b[49m\u001b[43m,\u001b[49m\u001b[43m \u001b[49m\u001b[43mis_text\u001b[49m\u001b[38;5;241;43m=\u001b[39;49m\u001b[38;5;28;43;01mFalse\u001b[39;49;00m\u001b[43m,\u001b[49m\u001b[43m \u001b[49m\u001b[43mstorage_options\u001b[49m\u001b[38;5;241;43m=\u001b[39;49m\u001b[43mstorage_options\u001b[49m\n\u001b[1;32m    142\u001b[0m \u001b[43m    \u001b[49m\u001b[43m)\u001b[49m\n\u001b[1;32m    143\u001b[0m     fs \u001b[38;5;241m=\u001b[39m \u001b[38;5;28;01mNone\u001b[39;00m\n\u001b[1;32m    144\u001b[0m     path_or_handle \u001b[38;5;241m=\u001b[39m handles\u001b[38;5;241m.\u001b[39mhandle\n",
      "File \u001b[0;32m~/miniconda3/envs/iblenv/lib/python3.10/site-packages/pandas/io/common.py:882\u001b[0m, in \u001b[0;36mget_handle\u001b[0;34m(path_or_buf, mode, encoding, compression, memory_map, is_text, errors, storage_options)\u001b[0m\n\u001b[1;32m    873\u001b[0m         handle \u001b[38;5;241m=\u001b[39m \u001b[38;5;28mopen\u001b[39m(\n\u001b[1;32m    874\u001b[0m             handle,\n\u001b[1;32m    875\u001b[0m             ioargs\u001b[38;5;241m.\u001b[39mmode,\n\u001b[0;32m   (...)\u001b[0m\n\u001b[1;32m    878\u001b[0m             newline\u001b[38;5;241m=\u001b[39m\u001b[38;5;124m\"\u001b[39m\u001b[38;5;124m\"\u001b[39m,\n\u001b[1;32m    879\u001b[0m         )\n\u001b[1;32m    880\u001b[0m     \u001b[38;5;28;01melse\u001b[39;00m:\n\u001b[1;32m    881\u001b[0m         \u001b[38;5;66;03m# Binary mode\u001b[39;00m\n\u001b[0;32m--> 882\u001b[0m         handle \u001b[38;5;241m=\u001b[39m \u001b[38;5;28;43mopen\u001b[39;49m\u001b[43m(\u001b[49m\u001b[43mhandle\u001b[49m\u001b[43m,\u001b[49m\u001b[43m \u001b[49m\u001b[43mioargs\u001b[49m\u001b[38;5;241;43m.\u001b[39;49m\u001b[43mmode\u001b[49m\u001b[43m)\u001b[49m\n\u001b[1;32m    883\u001b[0m     handles\u001b[38;5;241m.\u001b[39mappend(handle)\n\u001b[1;32m    885\u001b[0m \u001b[38;5;66;03m# Convert BytesIO or file objects passed with an encoding\u001b[39;00m\n",
      "\u001b[0;31mFileNotFoundError\u001b[0m: [Errno 2] No such file or directory: '/home/crombie/mnt/ccu-iblserver/mainenlab/Subjects/ZFM-06948/2024-01-12/001/alf/_ibl_trials.table.pqt'"
     ]
    },
    {
     "name": "stdout",
     "output_type": "stream",
     "text": [
      "> \u001b[0;32m/home/crombie/miniconda3/envs/iblenv/lib/python3.10/site-packages/pandas/io/common.py\u001b[0m(882)\u001b[0;36mget_handle\u001b[0;34m()\u001b[0m\n",
      "\u001b[0;32m    880 \u001b[0;31m        \u001b[0;32melse\u001b[0m\u001b[0;34m:\u001b[0m\u001b[0;34m\u001b[0m\u001b[0;34m\u001b[0m\u001b[0m\n",
      "\u001b[0m\u001b[0;32m    881 \u001b[0;31m            \u001b[0;31m# Binary mode\u001b[0m\u001b[0;34m\u001b[0m\u001b[0;34m\u001b[0m\u001b[0m\n",
      "\u001b[0m\u001b[0;32m--> 882 \u001b[0;31m            \u001b[0mhandle\u001b[0m \u001b[0;34m=\u001b[0m \u001b[0mopen\u001b[0m\u001b[0;34m(\u001b[0m\u001b[0mhandle\u001b[0m\u001b[0;34m,\u001b[0m \u001b[0mioargs\u001b[0m\u001b[0;34m.\u001b[0m\u001b[0mmode\u001b[0m\u001b[0;34m)\u001b[0m\u001b[0;34m\u001b[0m\u001b[0;34m\u001b[0m\u001b[0m\n",
      "\u001b[0m\u001b[0;32m    883 \u001b[0;31m        \u001b[0mhandles\u001b[0m\u001b[0;34m.\u001b[0m\u001b[0mappend\u001b[0m\u001b[0;34m(\u001b[0m\u001b[0mhandle\u001b[0m\u001b[0;34m)\u001b[0m\u001b[0;34m\u001b[0m\u001b[0;34m\u001b[0m\u001b[0m\n",
      "\u001b[0m\u001b[0;32m    884 \u001b[0;31m\u001b[0;34m\u001b[0m\u001b[0m\n",
      "\u001b[0m\n"
     ]
    },
    {
     "name": "stdin",
     "output_type": "stream",
     "text": [
      "ipdb>  c\n"
     ]
    }
   ],
   "source": [
    "# trials_fpath = one.eid2path(eid) / 'alf' / 'task_00' / '_ibl_trials.table.pqt'\n",
    "trials_fpath = one.eid2path(eid) / 'alf' / '_ibl_trials.table.pqt'\n",
    "df_trials = pd.read_parquet(trials_fpath)"
   ]
  },
  {
   "cell_type": "code",
   "execution_count": null,
   "id": "9d04e96f-7f86-4f3c-996c-098444aa85b2",
   "metadata": {},
   "outputs": [],
   "source": [
    "buffer = 15\n",
    "timings = [col for col in df_trials.columns if col.endswith('_times')]\n",
    "t0 = df_trials[timings].min().min()\n",
    "t1 = df_trials[timings].max().max()\n",
    "gcamp = gcamp.iloc[gcamp.index.searchsorted(t0 - buffer):gcamp.index.searchsorted(t1 + buffer)].copy()\n",
    "iso = iso.iloc[iso.index.searchsorted(t0 - buffer):iso.index.searchsorted(t1 + buffer)].copy()"
   ]
  },
  {
   "cell_type": "code",
   "execution_count": 21,
   "id": "8f249ab8-5a52-4068-8cb1-afc18f3e9132",
   "metadata": {},
   "outputs": [],
   "source": [
    "def _load_event_times(session, df_trials):\n",
    "    session['cue_times'] = df_trials['goCue_times'].values\n",
    "    session['movement_times'] = df_trials['firstMovement_times'].values\n",
    "    session['reward_times'] = df_trials.query('feedbackType == 1')['feedback_times'].values\n",
    "    session['omission_times'] = df_trials.query('feedbackType == -1')['feedback_times'].values\n",
    "    return session\n",
    "\n",
    "session = _load_event_times(session, df_trials)\n",
    "\n",
    "events = ['cue', 'movement', 'reward', 'omission']\n",
    "psths = []\n",
    "for event in events:\n",
    "    responses, tpts = get_responses(gcamp[roi], session[f'{event}_times'])\n",
    "    psths.append(responses)"
   ]
  },
  {
   "cell_type": "code",
   "execution_count": 22,
   "id": "df64333c-d0aa-4728-9a44-ca0d15a6bb28",
   "metadata": {},
   "outputs": [],
   "source": [
    "%matplotlib tk\n",
    "\n",
    "fig = plt.figure(figsize=(12, 8))\n",
    "grid = gridspec.GridSpec(2, 3)\n",
    "\n",
    "ax2 = fig.add_subplot(grid[1, 0])\n",
    "ax3 = fig.add_subplot(grid[1, 1])\n",
    "ax4 = fig.add_subplot(grid[1, 2])\n",
    "ax1 = fig.add_subplot(grid[0, :])\n",
    "\n",
    "ax1.plot(gcamp[roi])\n",
    "ax1.plot(iso[roi], color='gray')\n",
    "ax1.set_ylabel('Signal (a.u.)')\n",
    "ax1.set_title(f\"{session['subject']}, {session['session_type']}, session {session['session_n']}\")\n",
    "\n",
    "colors = [EVENT2COLOR[event] for event in events]\n",
    "for event, responses, color, ax in zip(events, psths, colors, [ax2, ax3, ax4, ax4]):\n",
    "    ax.plot(tpts, responses.mean(axis=0), color=color, label=event)\n",
    "    ax.plot(tpts, responses.mean(axis=0) - stats.sem(responses, axis=0), ls='--', color=color)\n",
    "    ax.plot(tpts, responses.mean(axis=0) + stats.sem(responses, axis=0), ls='--', color=color)\n",
    "    ax.axvline(0, ls='--', color='black', alpha=0.5)\n",
    "    ax.axhline(0, ls='--', color='gray', alpha=0.5)\n",
    "    ax.set_xlabel('Time (s)')\n",
    "    if event != 'omission':\n",
    "        ax.set_title(event.capitalize())\n",
    "    ax.ticklabel_format(axis='y', style='sci', scilimits=[-2, 2])"
   ]
  },
  {
   "cell_type": "code",
   "execution_count": null,
   "id": "6a679226-cd59-499a-9219-536a2812c092",
   "metadata": {},
   "outputs": [],
   "source": []
  }
 ],
 "metadata": {
  "kernelspec": {
   "display_name": "Python 3 (ipykernel)",
   "language": "python",
   "name": "python3"
  },
  "language_info": {
   "codemirror_mode": {
    "name": "ipython",
    "version": 3
   },
   "file_extension": ".py",
   "mimetype": "text/x-python",
   "name": "python",
   "nbconvert_exporter": "python",
   "pygments_lexer": "ipython3",
   "version": "3.10.14"
  }
 },
 "nbformat": 4,
 "nbformat_minor": 5
}
