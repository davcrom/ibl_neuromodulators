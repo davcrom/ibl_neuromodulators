{
 "cells": [
  {
   "cell_type": "code",
   "execution_count": 2,
   "id": "73a8e507-f969-42ff-96f5-ff4994977b60",
   "metadata": {},
   "outputs": [],
   "source": [
    "import numpy as np\n",
    "import pandas as pd\n",
    "from matplotlib import pyplot as plt\n",
    "from matplotlib import gridspec\n",
    "from scipy import stats\n",
    "\n",
    "from one.api import ONE\n",
    "from brainbox.io.one import SessionLoader\n",
    "\n",
    "from iblnm.util import EVENT2COLOR, _load_event_times\n",
    "from iblnm.resp import get_responses"
   ]
  },
  {
   "cell_type": "code",
   "execution_count": 3,
   "id": "e59dba1b-5bb8-42ac-a04d-d11529ce0c67",
   "metadata": {},
   "outputs": [],
   "source": [
    "one = ONE()"
   ]
  },
  {
   "cell_type": "code",
   "execution_count": 4,
   "id": "6d9a3e90-f451-49a8-a328-380df2e94d1f",
   "metadata": {},
   "outputs": [],
   "source": [
    "# eid = '0d118e83-1450-4382-9125-5fabc5c31b88'"
   ]
  },
  {
   "cell_type": "code",
   "execution_count": 5,
   "id": "622ba02e-de91-4bd7-99b6-b52d16338e21",
   "metadata": {},
   "outputs": [],
   "source": [
    "# eids = list(one.search(subject='ZFM-08757', datasets=DSETS))\n",
    "# len(eids)\n",
    "# eid = eids[-1]"
   ]
  },
  {
   "cell_type": "code",
   "execution_count": 6,
   "id": "0a9f706d-defe-414b-922a-239da5638191",
   "metadata": {},
   "outputs": [
    {
     "data": {
      "text/plain": [
       "target_NM\n",
       "NBM-ACh    71\n",
       "VTA-DA     37\n",
       "LC-NE      37\n",
       "SI-ACh     18\n",
       "Name: count, dtype: int64"
      ]
     },
     "execution_count": 6,
     "metadata": {},
     "output_type": "execute_result"
    }
   ],
   "source": [
    "df_sessions = pd.read_parquet('metadata/sessions.pqt').query('remote_photometry == True')\n",
    "df_sessions = df_sessions[df_sessions['target'].apply(len) > 0]\n",
    "df_sessions['target_NM'] = df_sessions.apply(lambda x: '-'.join([x['target'][0], x['NM']]), axis='columns')\n",
    "df_sessions['target_NM'].value_counts()"
   ]
  },
  {
   "cell_type": "code",
   "execution_count": 7,
   "id": "23bb23c7-8475-42f1-8f31-4ee32c00818e",
   "metadata": {},
   "outputs": [
    {
     "data": {
      "text/plain": [
       "subject    session_type\n",
       "CQ001      habituation      1\n",
       "           training        17\n",
       "ZFM-08751  habituation      1\n",
       "           training        19\n",
       "ZFM-08757  habituation      1\n",
       "           training        18\n",
       "ZFM-08813  habituation      3\n",
       "           training         4\n",
       "ZFM-08814  habituation      3\n",
       "           training         4\n",
       "Name: session_n, dtype: int64"
      ]
     },
     "execution_count": 7,
     "metadata": {},
     "output_type": "execute_result"
    }
   ],
   "source": [
    "# Pick a target\n",
    "target_NM = 'NBM-ACh'\n",
    "df_target = df_sessions.query('target_NM == @target_NM')\n",
    "df_target.groupby(['subject', 'session_type']).count()['session_n']"
   ]
  },
  {
   "cell_type": "code",
   "execution_count": 44,
   "id": "d85e3bbf-986d-42b7-bdc9-d2a2b5e6127f",
   "metadata": {},
   "outputs": [
    {
     "data": {
      "text/plain": [
       "subject                                    ZFM-08814\n",
       "target_NM                                    NBM-ACh\n",
       "session_type                                training\n",
       "session_n                                          6\n",
       "start_time                2025-05-22T11:34:33.591190\n",
       "eid             6b7c1072-6f45-4ff4-9507-e7cf53f4a7ac\n",
       "Name: 2708, dtype: object"
      ]
     },
     "execution_count": 44,
     "metadata": {},
     "output_type": "execute_result"
    }
   ],
   "source": [
    "# Pick a session\n",
    "subject = 'ZFM-08814'\n",
    "session_type = 'training'\n",
    "session_n = -2\n",
    "session = df_target.query('(subject == @subject) & (session_type == @session_type)').iloc[session_n]\n",
    "eid = session['eid']\n",
    "session[['subject', 'target_NM', 'session_type', 'session_n', 'start_time', 'eid']]"
   ]
  },
  {
   "cell_type": "code",
   "execution_count": 45,
   "id": "89bffbcd-6758-4722-bf66-16533fe44b76",
   "metadata": {},
   "outputs": [
    {
     "name": "stderr",
     "output_type": "stream",
     "text": [
      "(S3) /home/crombie/Downloads/ONE/alyx.internationalbrainlab.org/mainenlab/Subjects/ZFM-08814/2025-05-22/001/alf/photometry/photometry.signal.pqt: 100%|█| 11.8M/11.8M\n"
     ]
    },
    {
     "name": "stdout",
     "output_type": "stream",
     "text": [
      "  ROI    fiber brain_region\n",
      "0  G0  fiber00          NBM\n"
     ]
    }
   ],
   "source": [
    "# Get photometry data\n",
    "signals = one.load_dataset(id=eid, dataset='photometry.signal.pqt')\n",
    "locations = one.load_dataset(id=eid, dataset='photometryROI.locations.pqt').reset_index()\n",
    "rois = locations['ROI'].to_list()\n",
    "photometry = signals[list(rois) + ['name']].set_index(signals['times']).dropna()\n",
    "print(locations)"
   ]
  },
  {
   "cell_type": "code",
   "execution_count": 46,
   "id": "e84fbb35-f1c9-4495-b833-72d0a875d888",
   "metadata": {},
   "outputs": [],
   "source": [
    "# Pick an ROI\n",
    "# roi = 'G0'\n",
    "roi = locations['ROI'].iloc[0]"
   ]
  },
  {
   "cell_type": "code",
   "execution_count": 47,
   "id": "b8d3605a-e575-48e8-bfae-1620e9b4f5e9",
   "metadata": {},
   "outputs": [
    {
     "name": "stderr",
     "output_type": "stream",
     "text": [
      "(S3) /home/crombie/Downloads/ONE/alyx.internationalbrainlab.org/mainenlab/Subjects/ZFM-08814/2025-05-22/001/alf/task_00/_ibl_trials.stimOffTrigger_times.npy: 100%|█|\n",
      "(S3) /home/crombie/Downloads/ONE/alyx.internationalbrainlab.org/mainenlab/Subjects/ZFM-08814/2025-05-22/001/alf/task_00/_ibl_trials.table.pqt: 100%|█| 34.1k/34.1k [0\n",
      "(S3) /home/crombie/Downloads/ONE/alyx.internationalbrainlab.org/mainenlab/Subjects/ZFM-08814/2025-05-22/001/alf/task_00/_ibl_trials.goCueTrigger_times.npy: 100%|█| 3\n",
      "(S3) /home/crombie/Downloads/ONE/alyx.internationalbrainlab.org/mainenlab/Subjects/ZFM-08814/2025-05-22/001/alf/task_00/_ibl_trials.stimOnTrigger_times.npy: 100%|█| \n",
      "(S3) /home/crombie/Downloads/ONE/alyx.internationalbrainlab.org/mainenlab/Subjects/ZFM-08814/2025-05-22/001/alf/task_00/_ibl_trials.repNum.npy: 100%|█| 3.24k/3.24k [\n",
      "(S3) /home/crombie/Downloads/ONE/alyx.internationalbrainlab.org/mainenlab/Subjects/ZFM-08814/2025-05-22/001/alf/task_00/_ibl_trials.stimOff_times.npy: 100%|█| 3.24k/\n",
      "(S3) /home/crombie/Downloads/ONE/alyx.internationalbrainlab.org/mainenlab/Subjects/ZFM-08814/2025-05-22/001/alf/task_00/_ibl_trials.quiescencePeriod.npy: 100%|█| 3.2\n"
     ]
    }
   ],
   "source": [
    "# Restrict raw photometry to the task period\n",
    "buffer = 15\n",
    "loader = SessionLoader(one, eid=eid)\n",
    "## FIXME: appropriately handle cases with multiple task collections\n",
    "loader.load_trials(collection='alf/task_00')\n",
    "timings = [col for col in loader.trials.columns if col.endswith('_times')]\n",
    "t0 = loader.trials[timings].min().min()\n",
    "t1 = loader.trials[timings].max().max()\n",
    "i0 = photometry.index.searchsorted(t0 - buffer)\n",
    "i1 = photometry.index.searchsorted(t1 + buffer)\n",
    "photometry = photometry.iloc[i0:i1].copy()\n",
    "\n",
    "# Pull channels out of df\n",
    "gcamp = photometry.query('name == \"GCaMP\"')\n",
    "iso = photometry.query('name == \"Isosbestic\"')"
   ]
  },
  {
   "cell_type": "code",
   "execution_count": 48,
   "id": "3421cb44-8b33-4834-aade-89d70fc13739",
   "metadata": {},
   "outputs": [],
   "source": [
    "# Get responses to task events\n",
    "session = _load_event_times(session, one)\n",
    "\n",
    "events = ['cue', 'movement', 'reward', 'omission']\n",
    "psths = []\n",
    "for event in events:\n",
    "    responses, tpts = get_responses(gcamp[roi], session[f'{event}_times'])\n",
    "    psths.append(responses)"
   ]
  },
  {
   "cell_type": "code",
   "execution_count": 49,
   "id": "0e8e2e42-3d82-4f2c-90ce-2aa5f17b6a36",
   "metadata": {},
   "outputs": [],
   "source": [
    "%matplotlib tk\n",
    "\n",
    "fig = plt.figure(figsize=(12, 8))\n",
    "grid = gridspec.GridSpec(2, 3)\n",
    "\n",
    "ax2 = fig.add_subplot(grid[1, 0])\n",
    "ax3 = fig.add_subplot(grid[1, 1])\n",
    "ax4 = fig.add_subplot(grid[1, 2])\n",
    "ax1 = fig.add_subplot(grid[0, :])\n",
    "\n",
    "ax1.plot(gcamp[roi])\n",
    "ax1.plot(iso[roi], color='gray')\n",
    "ax1.set_ylabel('Signal (a.u.)')\n",
    "ax1.set_title(f\"{session['subject']}, {session['session_type']}, session {session['session_n']}\")\n",
    "\n",
    "colors = [EVENT2COLOR[event] for event in events]\n",
    "for event, responses, color, ax in zip(events, psths, colors, [ax2, ax3, ax4, ax4]):\n",
    "    ax.plot(tpts, responses.mean(axis=0), color=color, label=event)\n",
    "    ax.plot(tpts, responses.mean(axis=0) - stats.sem(responses, axis=0), ls='--', color=color)\n",
    "    ax.plot(tpts, responses.mean(axis=0) + stats.sem(responses, axis=0), ls='--', color=color)\n",
    "    ax.axvline(0, ls='--', color='black', alpha=0.5)\n",
    "    ax.axhline(0, ls='--', color='gray', alpha=0.5)\n",
    "    ax.set_xlabel('Time (s)')\n",
    "    if event != 'omission':\n",
    "        ax.set_title(event.capitalize())\n",
    "    ax.ticklabel_format(axis='y', style='sci', scilimits=[-2, 2])"
   ]
  },
  {
   "cell_type": "code",
   "execution_count": null,
   "id": "7d1547fc-69ca-4e1e-8565-89266dc9a784",
   "metadata": {},
   "outputs": [],
   "source": []
  }
 ],
 "metadata": {
  "kernelspec": {
   "display_name": "Python 3 (ipykernel)",
   "language": "python",
   "name": "python3"
  },
  "language_info": {
   "codemirror_mode": {
    "name": "ipython",
    "version": 3
   },
   "file_extension": ".py",
   "mimetype": "text/x-python",
   "name": "python",
   "nbconvert_exporter": "python",
   "pygments_lexer": "ipython3",
   "version": "3.10.14"
  }
 },
 "nbformat": 4,
 "nbformat_minor": 5
}
