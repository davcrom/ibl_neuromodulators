{
 "cells": [
  {
   "cell_type": "code",
   "execution_count": 52,
   "id": "73a8e507-f969-42ff-96f5-ff4994977b60",
   "metadata": {},
   "outputs": [],
   "source": [
    "import numpy as np\n",
    "import pandas as pd\n",
    "from matplotlib import pyplot as plt\n",
    "\n",
    "from one.api import ONE\n",
    "from brainbox.io.one import SessionLoader\n",
    "\n",
    "DSETS = ['photometry.signal.pqt', 'photometryROI.locations.pqt']"
   ]
  },
  {
   "cell_type": "code",
   "execution_count": 4,
   "id": "e59dba1b-5bb8-42ac-a04d-d11529ce0c67",
   "metadata": {},
   "outputs": [],
   "source": [
    "one = ONE()"
   ]
  },
  {
   "cell_type": "code",
   "execution_count": 115,
   "id": "622ba02e-de91-4bd7-99b6-b52d16338e21",
   "metadata": {},
   "outputs": [
    {
     "data": {
      "text/plain": [
       "4"
      ]
     },
     "execution_count": 115,
     "metadata": {},
     "output_type": "execute_result"
    }
   ],
   "source": [
    "eids = list(one.search(subject='ZFM-08757', datasets=DSETS))\n",
    "len(eids)"
   ]
  },
  {
   "cell_type": "code",
   "execution_count": 116,
   "id": "a6d67417-97f9-4b2b-889d-1ab38f324d62",
   "metadata": {},
   "outputs": [],
   "source": [
    "eid = '0d118e83-1450-4382-9125-5fabc5c31b88'\n",
    "eid = eids[-1]"
   ]
  },
  {
   "cell_type": "code",
   "execution_count": 117,
   "id": "89bffbcd-6758-4722-bf66-16533fe44b76",
   "metadata": {},
   "outputs": [
    {
     "name": "stdout",
     "output_type": "stream",
     "text": [
      "ROIs:  ['G0']\n"
     ]
    }
   ],
   "source": [
    "signals = one.load_dataset(id=eid, dataset='photometry.signal.pqt')\n",
    "locations = one.load_dataset(id=eid, dataset='photometryROI.locations.pqt').reset_index()\n",
    "rois = locations['ROI'].to_list()\n",
    "photometry = signals[list(rois) + ['name']].set_index(signals['times']).dropna()\n",
    "print(\"ROIs: \", rois)"
   ]
  },
  {
   "cell_type": "code",
   "execution_count": 118,
   "id": "b8d3605a-e575-48e8-bfae-1620e9b4f5e9",
   "metadata": {},
   "outputs": [],
   "source": [
    "buffer = 15\n",
    "loader = SessionLoader(one, eid=eid)\n",
    "## FIXME: appropriately handle cases with multiple task collections\n",
    "loader.load_trials(collection='alf/task_00')\n",
    "timings = [col for col in loader.trials.columns if col.endswith('_times')]\n",
    "t0 = loader.trials[timings].min().min()\n",
    "t1 = loader.trials[timings].max().max()\n",
    "i0 = photometry.index.searchsorted(t0 - buffer)\n",
    "i1 = photometry.index.searchsorted(t1 + buffer)\n",
    "photometry = photometry.iloc[i0:i1].copy()"
   ]
  },
  {
   "cell_type": "code",
   "execution_count": 119,
   "id": "9df4075d-8006-45e8-b913-15e58a46b241",
   "metadata": {},
   "outputs": [],
   "source": [
    "gcamp = photometry.query('name == \"GCaMP\"')\n",
    "iso = photometry.query('name == \"Isosbestic\"')"
   ]
  },
  {
   "cell_type": "code",
   "execution_count": 120,
   "id": "d7bac8c2-bed6-4e41-b54d-7d8e9452c4d5",
   "metadata": {},
   "outputs": [
    {
     "data": {
      "text/plain": [
       "[<matplotlib.lines.Line2D at 0x7b515d2350f0>]"
      ]
     },
     "execution_count": 120,
     "metadata": {},
     "output_type": "execute_result"
    }
   ],
   "source": [
    "%matplotlib tk\n",
    "\n",
    "fig, ax = plt.subplots(figsize=(16, 4))\n",
    "ax.plot(gcamp[rois[0]])\n",
    "ax.plot(iso[rois[0]], color='gray')"
   ]
  },
  {
   "cell_type": "code",
   "execution_count": null,
   "id": "3421cb44-8b33-4834-aade-89d70fc13739",
   "metadata": {},
   "outputs": [],
   "source": []
  }
 ],
 "metadata": {
  "kernelspec": {
   "display_name": "Python 3 (ipykernel)",
   "language": "python",
   "name": "python3"
  },
  "language_info": {
   "codemirror_mode": {
    "name": "ipython",
    "version": 3
   },
   "file_extension": ".py",
   "mimetype": "text/x-python",
   "name": "python",
   "nbconvert_exporter": "python",
   "pygments_lexer": "ipython3",
   "version": "3.10.14"
  }
 },
 "nbformat": 4,
 "nbformat_minor": 5
}
