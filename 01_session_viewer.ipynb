{
 "cells": [
  {
   "cell_type": "code",
   "execution_count": 1,
   "id": "73a8e507-f969-42ff-96f5-ff4994977b60",
   "metadata": {},
   "outputs": [],
   "source": [
    "import numpy as np\n",
    "import pandas as pd\n",
    "from matplotlib import pyplot as plt\n",
    "from matplotlib import gridspec\n",
    "from scipy import stats\n",
    "\n",
    "from one.api import ONE\n",
    "from brainbox.io.one import SessionLoader\n",
    "\n",
    "from iblnm.util import EVENT2COLOR, protocol2type, _load_event_times\n",
    "from iblnm.resp import get_responses"
   ]
  },
  {
   "cell_type": "code",
   "execution_count": 13,
   "id": "e59dba1b-5bb8-42ac-a04d-d11529ce0c67",
   "metadata": {},
   "outputs": [],
   "source": [
    "one = ONE()"
   ]
  },
  {
   "cell_type": "code",
   "execution_count": 3,
   "id": "6d9a3e90-f451-49a8-a328-380df2e94d1f",
   "metadata": {},
   "outputs": [],
   "source": [
    "# eid = '0d118e83-1450-4382-9125-5fabc5c31b88'"
   ]
  },
  {
   "cell_type": "code",
   "execution_count": 4,
   "id": "622ba02e-de91-4bd7-99b6-b52d16338e21",
   "metadata": {},
   "outputs": [],
   "source": [
    "# eids = list(one.search(subject='ZFM-08757', datasets=DSETS))\n",
    "# len(eids)\n",
    "# eid = eids[-1]"
   ]
  },
  {
   "cell_type": "code",
   "execution_count": 17,
   "id": "0a9f706d-defe-414b-922a-239da5638191",
   "metadata": {},
   "outputs": [
    {
     "data": {
      "text/plain": [
       "target_NM\n",
       "NBM-ACh    139\n",
       "LC-NE       76\n",
       "VTA-DA      75\n",
       "SI-ACh      18\n",
       "Name: count, dtype: int64"
      ]
     },
     "execution_count": 17,
     "metadata": {},
     "output_type": "execute_result"
    }
   ],
   "source": [
    "df_sessions = pd.read_parquet('metadata/sessions.pqt').query('remote_photometry == True')\n",
    "df_sessions = df_sessions[df_sessions['target'].apply(len) > 0]\n",
    "df_sessions['target_NM'] = df_sessions.apply(lambda x: '-'.join([x['target'][0], x['NM']]), axis='columns')\n",
    "df_sessions['target_NM'].value_counts()"
   ]
  },
  {
   "cell_type": "code",
   "execution_count": 18,
   "id": "23bb23c7-8475-42f1-8f31-4ee32c00818e",
   "metadata": {},
   "outputs": [
    {
     "data": {
      "text/plain": [
       "subject                    session_type\n",
       "ZFM-08488                  training         7\n",
       "ZFM-08554                  training         5\n",
       "ZFM-08689                  habituation      2\n",
       "                           training         4\n",
       "ZFM-08818                  habituation      3\n",
       "                           training        20\n",
       "ZFM-08827                  habituation      3\n",
       "                           training        20\n",
       "ZFM-08828                  habituation      3\n",
       "                           training         6\n",
       "photometry_test_subject_B  misc             2\n",
       "Name: session_n, dtype: int64"
      ]
     },
     "execution_count": 18,
     "metadata": {},
     "output_type": "execute_result"
    }
   ],
   "source": [
    "# Pick a target\n",
    "target_NM = 'VTA-DA'\n",
    "df_target = df_sessions.query('target_NM == @target_NM')\n",
    "df_target.groupby(['subject', 'session_type']).count()['session_n']"
   ]
  },
  {
   "cell_type": "code",
   "execution_count": 38,
   "id": "d85e3bbf-986d-42b7-bdc9-d2a2b5e6127f",
   "metadata": {},
   "outputs": [
    {
     "name": "stdout",
     "output_type": "stream",
     "text": [
      "subject                                    ZFM-08828\n",
      "target_NM                                     VTA-DA\n",
      "session_type                                training\n",
      "session_n                                          8\n",
      "start_time                2025-05-29T12:40:42.372336\n",
      "eid             3ebb02ef-9be1-4d44-81fe-9403173b7b48\n",
      "Name: 2750, dtype: object\n"
     ]
    }
   ],
   "source": [
    "# Pick a session\n",
    "subject = 'ZFM-08828'\n",
    "session_type = 'training'\n",
    "session_n = -2\n",
    "session = df_target.query('(subject == @subject) & (session_type == @session_type)').iloc[session_n]\n",
    "eid = session['eid']\n",
    "print(session[['subject', 'target_NM', 'session_type', 'session_n', 'start_time', 'eid']])\n",
    "\n",
    "# Get responses to task events\n",
    "session = _load_event_times(session, one)"
   ]
  },
  {
   "cell_type": "code",
   "execution_count": 45,
   "id": "f58ba466-6fb9-4981-b249-4eb36021436d",
   "metadata": {},
   "outputs": [
    {
     "ename": "IndexError",
     "evalue": "list index out of range",
     "output_type": "error",
     "traceback": [
      "\u001b[0;31m---------------------------------------------------------------------------\u001b[0m",
      "\u001b[0;31mIndexError\u001b[0m                                Traceback (most recent call last)",
      "Cell \u001b[0;32mIn[45], line 7\u001b[0m\n\u001b[1;32m      5\u001b[0m \u001b[38;5;66;03m# Pick a session\u001b[39;00m\n\u001b[1;32m      6\u001b[0m session_i \u001b[38;5;241m=\u001b[39m \u001b[38;5;241m21\u001b[39m\n\u001b[0;32m----> 7\u001b[0m eid \u001b[38;5;241m=\u001b[39m \u001b[43meids\u001b[49m\u001b[43m[\u001b[49m\u001b[43msession_i\u001b[49m\u001b[43m]\u001b[49m\n\u001b[1;32m      9\u001b[0m session_details \u001b[38;5;241m=\u001b[39m one\u001b[38;5;241m.\u001b[39mget_details(eid) \n\u001b[1;32m     10\u001b[0m session_type \u001b[38;5;241m=\u001b[39m protocol2type(session_details[\u001b[38;5;124m'\u001b[39m\u001b[38;5;124mtask_protocol\u001b[39m\u001b[38;5;124m'\u001b[39m])\n",
      "\u001b[0;31mIndexError\u001b[0m: list index out of range"
     ]
    },
    {
     "name": "stdout",
     "output_type": "stream",
     "text": [
      "> \u001b[0;32m/tmp/ipykernel_45943/2497906931.py\u001b[0m(7)\u001b[0;36m<module>\u001b[0;34m()\u001b[0m\n",
      "\u001b[0;32m      5 \u001b[0;31m\u001b[0;31m# Pick a session\u001b[0m\u001b[0;34m\u001b[0m\u001b[0;34m\u001b[0m\u001b[0m\n",
      "\u001b[0m\u001b[0;32m      6 \u001b[0;31m\u001b[0msession_i\u001b[0m \u001b[0;34m=\u001b[0m \u001b[0;36m21\u001b[0m\u001b[0;34m\u001b[0m\u001b[0;34m\u001b[0m\u001b[0m\n",
      "\u001b[0m\u001b[0;32m----> 7 \u001b[0;31m\u001b[0meid\u001b[0m \u001b[0;34m=\u001b[0m \u001b[0meids\u001b[0m\u001b[0;34m[\u001b[0m\u001b[0msession_i\u001b[0m\u001b[0;34m]\u001b[0m\u001b[0;34m\u001b[0m\u001b[0;34m\u001b[0m\u001b[0m\n",
      "\u001b[0m\u001b[0;32m      8 \u001b[0;31m\u001b[0;34m\u001b[0m\u001b[0m\n",
      "\u001b[0m\u001b[0;32m      9 \u001b[0;31m\u001b[0msession_details\u001b[0m \u001b[0;34m=\u001b[0m \u001b[0mone\u001b[0m\u001b[0;34m.\u001b[0m\u001b[0mget_details\u001b[0m\u001b[0;34m(\u001b[0m\u001b[0meid\u001b[0m\u001b[0;34m)\u001b[0m\u001b[0;34m\u001b[0m\u001b[0;34m\u001b[0m\u001b[0m\n",
      "\u001b[0m\n"
     ]
    },
    {
     "name": "stdin",
     "output_type": "stream",
     "text": [
      "ipdb>  c\n"
     ]
    }
   ],
   "source": [
    "# Pick a subject\n",
    "subject = 'ZFM-08863'\n",
    "eids = one.search(subject=subject)\n",
    "\n",
    "# Pick a session\n",
    "session_i = 21\n",
    "eid = eids[session_i]\n",
    "\n",
    "session_details = one.get_details(eid) \n",
    "session_type = protocol2type(session_details['task_protocol'])\n",
    "session_n = session_i + 1 if session_i >= 0 else len(eids) + session_i + 1\n",
    "session = pd.Series(data={'eid': eid, 'subject': subject, 'session_type': session_type, 'session_n': session_n})\n",
    "print(session[['subject', 'session_type', 'session_n', 'eid']])\n",
    "\n",
    "# Get responses to task events\n",
    "session = _load_event_times(session, one)"
   ]
  },
  {
   "cell_type": "code",
   "execution_count": 37,
   "id": "89bffbcd-6758-4722-bf66-16533fe44b76",
   "metadata": {},
   "outputs": [
    {
     "name": "stdout",
     "output_type": "stream",
     "text": [
      "  ROI     fiber brain_region\n",
      "0  G0  fiber_LC           LC\n"
     ]
    }
   ],
   "source": [
    "# Get photometry data\n",
    "signals = one.load_dataset(id=eid, dataset='photometry.signal.pqt')\n",
    "locations = one.load_dataset(id=eid, dataset='photometryROI.locations.pqt').reset_index()\n",
    "rois = locations['ROI'].to_list()\n",
    "photometry = signals[list(rois) + ['name']].set_index(signals['times']).dropna()\n",
    "print(locations)"
   ]
  },
  {
   "cell_type": "code",
   "execution_count": 38,
   "id": "e84fbb35-f1c9-4495-b833-72d0a875d888",
   "metadata": {},
   "outputs": [],
   "source": [
    "# Pick an ROI\n",
    "# roi = 'G0'\n",
    "roi = locations['ROI'].iloc[0]"
   ]
  },
  {
   "cell_type": "code",
   "execution_count": 39,
   "id": "b8d3605a-e575-48e8-bfae-1620e9b4f5e9",
   "metadata": {},
   "outputs": [],
   "source": [
    "# Restrict raw photometry to the task period\n",
    "buffer = 15\n",
    "loader = SessionLoader(one, eid=eid)\n",
    "## FIXME: appropriately handle cases with multiple task collections\n",
    "loader.load_trials(collection='alf/task_00')\n",
    "timings = [col for col in loader.trials.columns if col.endswith('_times')]\n",
    "t0 = loader.trials[timings].min().min()\n",
    "t1 = loader.trials[timings].max().max()\n",
    "i0 = photometry.index.searchsorted(t0 - buffer)\n",
    "i1 = photometry.index.searchsorted(t1 + buffer)\n",
    "photometry = photometry.iloc[i0:i1].copy()\n",
    "\n",
    "# Pull channels out of df\n",
    "gcamp = photometry.query('name == \"GCaMP\"')\n",
    "iso = photometry.query('name == \"Isosbestic\"')"
   ]
  },
  {
   "cell_type": "code",
   "execution_count": 40,
   "id": "35452493-9bf9-4151-8d5d-e0c78c2f764d",
   "metadata": {},
   "outputs": [],
   "source": [
    "events = ['cue', 'movement', 'reward', 'omission']\n",
    "psths = []\n",
    "for event in events:\n",
    "    responses, tpts = get_responses(gcamp[roi], session[f'{event}_times'])\n",
    "    psths.append(responses)"
   ]
  },
  {
   "cell_type": "code",
   "execution_count": 41,
   "id": "0e8e2e42-3d82-4f2c-90ce-2aa5f17b6a36",
   "metadata": {},
   "outputs": [],
   "source": [
    "%matplotlib tk\n",
    "\n",
    "fig = plt.figure(figsize=(12, 8))\n",
    "grid = gridspec.GridSpec(2, 3)\n",
    "\n",
    "ax2 = fig.add_subplot(grid[1, 0])\n",
    "ax3 = fig.add_subplot(grid[1, 1])\n",
    "ax4 = fig.add_subplot(grid[1, 2])\n",
    "ax1 = fig.add_subplot(grid[0, :])\n",
    "\n",
    "ax1.plot(gcamp[roi])\n",
    "ax1.plot(iso[roi], color='gray')\n",
    "ax1.set_ylabel('Signal (a.u.)')\n",
    "ax1.set_title(f\"{session['subject']}, {session['session_type']}, session {session['session_n']}\")\n",
    "\n",
    "colors = [EVENT2COLOR[event] for event in events]\n",
    "for event, responses, color, ax in zip(events, psths, colors, [ax2, ax3, ax4, ax4]):\n",
    "    ax.plot(tpts, responses.mean(axis=0), color=color, label=event)\n",
    "    ax.plot(tpts, responses.mean(axis=0) - stats.sem(responses, axis=0), ls='--', color=color)\n",
    "    ax.plot(tpts, responses.mean(axis=0) + stats.sem(responses, axis=0), ls='--', color=color)\n",
    "    ax.axvline(0, ls='--', color='black', alpha=0.5)\n",
    "    ax.axhline(0, ls='--', color='gray', alpha=0.5)\n",
    "    ax.set_xlabel('Time (s)')\n",
    "    if event != 'omission':\n",
    "        ax.set_title(event.capitalize())\n",
    "    ax.ticklabel_format(axis='y', style='sci', scilimits=[-2, 2])"
   ]
  },
  {
   "cell_type": "code",
   "execution_count": null,
   "id": "7d1547fc-69ca-4e1e-8565-89266dc9a784",
   "metadata": {},
   "outputs": [],
   "source": []
  }
 ],
 "metadata": {
  "kernelspec": {
   "display_name": "Python 3 (ipykernel)",
   "language": "python",
   "name": "python3"
  },
  "language_info": {
   "codemirror_mode": {
    "name": "ipython",
    "version": 3
   },
   "file_extension": ".py",
   "mimetype": "text/x-python",
   "name": "python",
   "nbconvert_exporter": "python",
   "pygments_lexer": "ipython3",
   "version": "3.10.14"
  }
 },
 "nbformat": 4,
 "nbformat_minor": 5
}
