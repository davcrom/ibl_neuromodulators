{
 "cells": [
  {
   "cell_type": "code",
   "execution_count": 1,
   "id": "0c3adf4a-99e9-4530-a128-218b8aed849e",
   "metadata": {},
   "outputs": [],
   "source": [
    "from one.api import ONE\n",
    "one = ONE(mode='remote')"
   ]
  },
  {
   "cell_type": "code",
   "execution_count": 33,
   "id": "12cccb17-ac75-42f6-864c-ae4463c551ac",
   "metadata": {},
   "outputs": [
    {
     "name": "stdout",
     "output_type": "stream",
     "text": [
      "485\n"
     ]
    }
   ],
   "source": [
    "# Find sessions from subject KS023\n",
    "# sess = list(one.search(project='brainwide', datasets='_ibl_leftCamera.features.pqt'))\n",
    "sess = list(one.search(project='brainwide', task_protocol='ephys', datasets='_ibl_wheel.position.npy'))\n",
    "print(len(sess))\n",
    "eid = sess[450]"
   ]
  },
  {
   "cell_type": "code",
   "execution_count": 34,
   "id": "bd1486fd-cbcc-4d3f-af48-74d2351a5773",
   "metadata": {},
   "outputs": [
    {
     "data": {
      "text/plain": [
       "{'subject': 'DY_010',\n",
       " 'lab': 'danlab',\n",
       " 'projects': 'ibl_neuropixel_brainwide_01',\n",
       " 'task_protocol': '_iblrig_tasks_ephysChoiceWorld6.2.5',\n",
       " 'number': 1,\n",
       " 'start_time': '2020-01-23T14:35:49.539303',\n",
       " 'url': 'https://openalyx.internationalbrainlab.org/sessions/90d1e82c-c96f-496c-ad4e-ee3f02067f25',\n",
       " 'local_path': PosixALFPath('/Users/sarahhu/Downloads/ONE/openalyx.internationalbrainlab.org/danlab/Subjects/DY_010/2020-01-23/001'),\n",
       " 'date': datetime.date(2020, 1, 23)}"
      ]
     },
     "execution_count": 34,
     "metadata": {},
     "output_type": "execute_result"
    }
   ],
   "source": [
    "one.get_details(eid)"
   ]
  },
  {
   "cell_type": "code",
   "execution_count": 42,
   "id": "ff74e78f-dbf9-4d54-b360-b5e111e2cc7f",
   "metadata": {},
   "outputs": [
    {
     "data": {
      "text/plain": [
       "['alf/_ibl_trials.table.pqt']"
      ]
     },
     "execution_count": 42,
     "metadata": {},
     "output_type": "execute_result"
    }
   ],
   "source": [
    "one.list_datasets(eid=sess[500], query_type='remote')"
   ]
  },
  {
   "cell_type": "code",
   "execution_count": 44,
   "id": "7d03a3bf-3a5e-4568-873b-9b7482bac798",
   "metadata": {},
   "outputs": [
    {
     "data": {
      "text/plain": [
       "['alf/#2023-04-20#/_ibl_leftCamera.times.npy',\n",
       " 'alf/#2023-04-20#/_ibl_rightCamera.times.npy',\n",
       " 'alf/#2023-04-20#/licks.times.npy',\n",
       " 'alf/_ibl_leftCamera.dlc.pqt',\n",
       " 'alf/_ibl_leftCamera.features.pqt',\n",
       " 'alf/_ibl_passiveGabor.table.csv',\n",
       " 'alf/_ibl_passivePeriods.intervalsTable.csv',\n",
       " 'alf/_ibl_passiveRFM.times.npy',\n",
       " 'alf/_ibl_passiveStims.table.csv',\n",
       " 'alf/_ibl_rightCamera.dlc.pqt',\n",
       " 'alf/_ibl_rightCamera.features.pqt',\n",
       " 'alf/_ibl_trials.goCueTrigger_times.npy',\n",
       " 'alf/_ibl_trials.stimOff_times.npy',\n",
       " 'alf/_ibl_trials.table.pqt',\n",
       " 'alf/_ibl_wheel.position.npy',\n",
       " 'alf/_ibl_wheel.timestamps.npy',\n",
       " 'alf/_ibl_wheelMoves.intervals.npy',\n",
       " 'alf/_ibl_wheelMoves.peakAmplitude.npy',\n",
       " 'alf/leftCamera.ROIMotionEnergy.npy',\n",
       " 'alf/leftROIMotionEnergy.position.npy',\n",
       " 'alf/probe00/electrodeSites.brainLocationIds_ccf_2017.npy',\n",
       " 'alf/probe00/electrodeSites.localCoordinates.npy',\n",
       " 'alf/probe00/electrodeSites.mlapdv.npy',\n",
       " 'alf/probe00/pykilosort/#2024-05-06#/_ibl_log.info_pykilosort.log',\n",
       " 'alf/probe00/pykilosort/#2024-05-06#/_kilosort_whitening.matrix.npy',\n",
       " 'alf/probe00/pykilosort/#2024-05-06#/_phy_spikes_subset.channels.npy',\n",
       " 'alf/probe00/pykilosort/#2024-05-06#/_phy_spikes_subset.spikes.npy',\n",
       " 'alf/probe00/pykilosort/#2024-05-06#/_phy_spikes_subset.waveforms.npy',\n",
       " 'alf/probe00/pykilosort/#2024-05-06#/channels.brainLocationIds_ccf_2017.npy',\n",
       " 'alf/probe00/pykilosort/#2024-05-06#/channels.labels.npy',\n",
       " 'alf/probe00/pykilosort/#2024-05-06#/channels.localCoordinates.npy',\n",
       " 'alf/probe00/pykilosort/#2024-05-06#/channels.mlapdv.npy',\n",
       " 'alf/probe00/pykilosort/#2024-05-06#/channels.rawInd.npy',\n",
       " 'alf/probe00/pykilosort/#2024-05-06#/clusters.amps.npy',\n",
       " 'alf/probe00/pykilosort/#2024-05-06#/clusters.channels.npy',\n",
       " 'alf/probe00/pykilosort/#2024-05-06#/clusters.depths.npy',\n",
       " 'alf/probe00/pykilosort/#2024-05-06#/clusters.metrics.pqt',\n",
       " 'alf/probe00/pykilosort/#2024-05-06#/clusters.peakToTrough.npy',\n",
       " 'alf/probe00/pykilosort/#2024-05-06#/clusters.uuids.csv',\n",
       " 'alf/probe00/pykilosort/#2024-05-06#/clusters.waveforms.npy',\n",
       " 'alf/probe00/pykilosort/#2024-05-06#/clusters.waveformsChannels.npy',\n",
       " 'alf/probe00/pykilosort/#2024-05-06#/drift.times.npy',\n",
       " 'alf/probe00/pykilosort/#2024-05-06#/drift.um.npy',\n",
       " 'alf/probe00/pykilosort/#2024-05-06#/drift_depths.um.npy',\n",
       " 'alf/probe00/pykilosort/#2024-05-06#/passingSpikes.table.pqt',\n",
       " 'alf/probe00/pykilosort/#2024-05-06#/spikes.amps.npy',\n",
       " 'alf/probe00/pykilosort/#2024-05-06#/spikes.clusters.npy',\n",
       " 'alf/probe00/pykilosort/#2024-05-06#/spikes.depths.npy',\n",
       " 'alf/probe00/pykilosort/#2024-05-06#/spikes.samples.npy',\n",
       " 'alf/probe00/pykilosort/#2024-05-06#/spikes.templates.npy',\n",
       " 'alf/probe00/pykilosort/#2024-05-06#/spikes.times.npy',\n",
       " 'alf/probe00/pykilosort/#2024-05-06#/templates.amps.npy',\n",
       " 'alf/probe00/pykilosort/#2024-05-06#/templates.waveforms.npy',\n",
       " 'alf/probe00/pykilosort/#2024-05-06#/templates.waveformsChannels.npy',\n",
       " 'alf/probe00/pykilosort/#2024-05-06#/waveforms.channels.npz',\n",
       " 'alf/probe00/pykilosort/#2024-05-06#/waveforms.table.pqt',\n",
       " 'alf/probe00/pykilosort/#2024-05-06#/waveforms.templates.npy',\n",
       " 'alf/probe00/pykilosort/#2024-05-06#/waveforms.traces.npy',\n",
       " 'alf/probe00/pykilosort/_ibl_log.info_pykilosort.log',\n",
       " 'alf/probe00/pykilosort/_kilosort_whitening.matrix.npy',\n",
       " 'alf/probe00/pykilosort/_phy_spikes_subset.channels.npy',\n",
       " 'alf/probe00/pykilosort/_phy_spikes_subset.spikes.npy',\n",
       " 'alf/probe00/pykilosort/_phy_spikes_subset.waveforms.npy',\n",
       " 'alf/probe00/pykilosort/channels.brainLocationIds_ccf_2017.npy',\n",
       " 'alf/probe00/pykilosort/channels.localCoordinates.npy',\n",
       " 'alf/probe00/pykilosort/channels.mlapdv.npy',\n",
       " 'alf/probe00/pykilosort/channels.rawInd.npy',\n",
       " 'alf/probe00/pykilosort/clusters.amps.npy',\n",
       " 'alf/probe00/pykilosort/clusters.channels.npy',\n",
       " 'alf/probe00/pykilosort/clusters.depths.npy',\n",
       " 'alf/probe00/pykilosort/clusters.metrics.pqt',\n",
       " 'alf/probe00/pykilosort/clusters.peakToTrough.npy',\n",
       " 'alf/probe00/pykilosort/clusters.uuids.csv',\n",
       " 'alf/probe00/pykilosort/clusters.waveforms.npy',\n",
       " 'alf/probe00/pykilosort/clusters.waveformsChannels.npy',\n",
       " 'alf/probe00/pykilosort/drift.times.npy',\n",
       " 'alf/probe00/pykilosort/drift.um.npy',\n",
       " 'alf/probe00/pykilosort/drift_depths.um.npy',\n",
       " 'alf/probe00/pykilosort/spikes.amps.npy',\n",
       " 'alf/probe00/pykilosort/spikes.clusters.npy',\n",
       " 'alf/probe00/pykilosort/spikes.depths.npy',\n",
       " 'alf/probe00/pykilosort/spikes.samples.npy',\n",
       " 'alf/probe00/pykilosort/spikes.templates.npy',\n",
       " 'alf/probe00/pykilosort/spikes.times.npy',\n",
       " 'alf/probe00/pykilosort/templates.amps.npy',\n",
       " 'alf/probe00/pykilosort/templates.waveforms.npy',\n",
       " 'alf/probe00/pykilosort/templates.waveformsChannels.npy',\n",
       " 'alf/probe01/electrodeSites.brainLocationIds_ccf_2017.npy',\n",
       " 'alf/probe01/electrodeSites.localCoordinates.npy',\n",
       " 'alf/probe01/electrodeSites.mlapdv.npy',\n",
       " 'alf/probe01/pykilosort/#2024-05-06#/_ibl_log.info_pykilosort.log',\n",
       " 'alf/probe01/pykilosort/#2024-05-06#/_kilosort_whitening.matrix.npy',\n",
       " 'alf/probe01/pykilosort/#2024-05-06#/_phy_spikes_subset.channels.npy',\n",
       " 'alf/probe01/pykilosort/#2024-05-06#/_phy_spikes_subset.spikes.npy',\n",
       " 'alf/probe01/pykilosort/#2024-05-06#/_phy_spikes_subset.waveforms.npy',\n",
       " 'alf/probe01/pykilosort/#2024-05-06#/channels.brainLocationIds_ccf_2017.npy',\n",
       " 'alf/probe01/pykilosort/#2024-05-06#/channels.labels.npy',\n",
       " 'alf/probe01/pykilosort/#2024-05-06#/channels.localCoordinates.npy',\n",
       " 'alf/probe01/pykilosort/#2024-05-06#/channels.mlapdv.npy',\n",
       " 'alf/probe01/pykilosort/#2024-05-06#/channels.rawInd.npy',\n",
       " 'alf/probe01/pykilosort/#2024-05-06#/clusters.amps.npy',\n",
       " 'alf/probe01/pykilosort/#2024-05-06#/clusters.channels.npy',\n",
       " 'alf/probe01/pykilosort/#2024-05-06#/clusters.depths.npy',\n",
       " 'alf/probe01/pykilosort/#2024-05-06#/clusters.metrics.pqt',\n",
       " 'alf/probe01/pykilosort/#2024-05-06#/clusters.peakToTrough.npy',\n",
       " 'alf/probe01/pykilosort/#2024-05-06#/clusters.uuids.csv',\n",
       " 'alf/probe01/pykilosort/#2024-05-06#/clusters.waveforms.npy',\n",
       " 'alf/probe01/pykilosort/#2024-05-06#/clusters.waveformsChannels.npy',\n",
       " 'alf/probe01/pykilosort/#2024-05-06#/drift.times.npy',\n",
       " 'alf/probe01/pykilosort/#2024-05-06#/drift.um.npy',\n",
       " 'alf/probe01/pykilosort/#2024-05-06#/drift_depths.um.npy',\n",
       " 'alf/probe01/pykilosort/#2024-05-06#/passingSpikes.table.pqt',\n",
       " 'alf/probe01/pykilosort/#2024-05-06#/spikes.amps.npy',\n",
       " 'alf/probe01/pykilosort/#2024-05-06#/spikes.clusters.npy',\n",
       " 'alf/probe01/pykilosort/#2024-05-06#/spikes.depths.npy',\n",
       " 'alf/probe01/pykilosort/#2024-05-06#/spikes.samples.npy',\n",
       " 'alf/probe01/pykilosort/#2024-05-06#/spikes.templates.npy',\n",
       " 'alf/probe01/pykilosort/#2024-05-06#/spikes.times.npy',\n",
       " 'alf/probe01/pykilosort/#2024-05-06#/templates.amps.npy',\n",
       " 'alf/probe01/pykilosort/#2024-05-06#/templates.waveforms.npy',\n",
       " 'alf/probe01/pykilosort/#2024-05-06#/templates.waveformsChannels.npy',\n",
       " 'alf/probe01/pykilosort/#2024-05-06#/waveforms.channels.npz',\n",
       " 'alf/probe01/pykilosort/#2024-05-06#/waveforms.table.pqt',\n",
       " 'alf/probe01/pykilosort/#2024-05-06#/waveforms.templates.npy',\n",
       " 'alf/probe01/pykilosort/#2024-05-06#/waveforms.traces.npy',\n",
       " 'alf/probe01/pykilosort/_ibl_log.info_pykilosort.log',\n",
       " 'alf/probe01/pykilosort/_kilosort_whitening.matrix.npy',\n",
       " 'alf/probe01/pykilosort/_phy_spikes_subset.channels.npy',\n",
       " 'alf/probe01/pykilosort/_phy_spikes_subset.spikes.npy',\n",
       " 'alf/probe01/pykilosort/_phy_spikes_subset.waveforms.npy',\n",
       " 'alf/probe01/pykilosort/channels.brainLocationIds_ccf_2017.npy',\n",
       " 'alf/probe01/pykilosort/channels.localCoordinates.npy',\n",
       " 'alf/probe01/pykilosort/channels.mlapdv.npy',\n",
       " 'alf/probe01/pykilosort/channels.rawInd.npy',\n",
       " 'alf/probe01/pykilosort/clusters.amps.npy',\n",
       " 'alf/probe01/pykilosort/clusters.brainLocationAcronyms_ccf_2017.npy',\n",
       " 'alf/probe01/pykilosort/clusters.brainLocationIds_ccf_2017.npy',\n",
       " 'alf/probe01/pykilosort/clusters.channels.npy',\n",
       " 'alf/probe01/pykilosort/clusters.depths.npy',\n",
       " 'alf/probe01/pykilosort/clusters.metrics.pqt',\n",
       " 'alf/probe01/pykilosort/clusters.mlapdv.npy',\n",
       " 'alf/probe01/pykilosort/clusters.peakToTrough.npy',\n",
       " 'alf/probe01/pykilosort/clusters.uuids.csv',\n",
       " 'alf/probe01/pykilosort/clusters.waveforms.npy',\n",
       " 'alf/probe01/pykilosort/clusters.waveformsChannels.npy',\n",
       " 'alf/probe01/pykilosort/drift.times.npy',\n",
       " 'alf/probe01/pykilosort/drift.um.npy',\n",
       " 'alf/probe01/pykilosort/drift_depths.um.npy',\n",
       " 'alf/probe01/pykilosort/spikes.amps.npy',\n",
       " 'alf/probe01/pykilosort/spikes.clusters.npy',\n",
       " 'alf/probe01/pykilosort/spikes.depths.npy',\n",
       " 'alf/probe01/pykilosort/spikes.samples.npy',\n",
       " 'alf/probe01/pykilosort/spikes.templates.npy',\n",
       " 'alf/probe01/pykilosort/spikes.times.npy',\n",
       " 'alf/probe01/pykilosort/templates.amps.npy',\n",
       " 'alf/probe01/pykilosort/templates.waveforms.npy',\n",
       " 'alf/probe01/pykilosort/templates.waveformsChannels.npy',\n",
       " 'alf/probes.description.json',\n",
       " 'alf/rightCamera.ROIMotionEnergy.npy',\n",
       " 'alf/rightROIMotionEnergy.position.npy',\n",
       " 'raw_ephys_data/_spikeglx_ephysData_g0_t0.nidq.cbin',\n",
       " 'raw_ephys_data/_spikeglx_ephysData_g0_t0.nidq.ch',\n",
       " 'raw_ephys_data/_spikeglx_ephysData_g0_t0.nidq.meta',\n",
       " 'raw_ephys_data/_spikeglx_ephysData_g0_t0.nidq.wiring.json',\n",
       " 'raw_ephys_data/_spikeglx_sync.channels.npy',\n",
       " 'raw_ephys_data/_spikeglx_sync.polarities.npy',\n",
       " 'raw_ephys_data/_spikeglx_sync.times.npy',\n",
       " 'raw_ephys_data/probe00/_iblqc_ephysChannels.apRMS.npy',\n",
       " 'raw_ephys_data/probe00/_iblqc_ephysSpectralDensityAP.freqs.npy',\n",
       " 'raw_ephys_data/probe00/_iblqc_ephysSpectralDensityAP.power.npy',\n",
       " 'raw_ephys_data/probe00/_iblqc_ephysSpectralDensityLF.freqs.npy',\n",
       " 'raw_ephys_data/probe00/_iblqc_ephysSpectralDensityLF.power.npy',\n",
       " 'raw_ephys_data/probe00/_iblqc_ephysTimeRmsLF.rms.npy',\n",
       " 'raw_ephys_data/probe00/_iblqc_ephysTimeRmsLF.timestamps.npy',\n",
       " 'raw_ephys_data/probe00/_spikeglx_ephysData_g0_t0.imec0.ap.cbin',\n",
       " 'raw_ephys_data/probe00/_spikeglx_ephysData_g0_t0.imec0.ap.ch',\n",
       " 'raw_ephys_data/probe00/_spikeglx_ephysData_g0_t0.imec0.ap.meta',\n",
       " 'raw_ephys_data/probe00/_spikeglx_ephysData_g0_t0.imec0.lf.cbin',\n",
       " 'raw_ephys_data/probe00/_spikeglx_ephysData_g0_t0.imec0.lf.ch',\n",
       " 'raw_ephys_data/probe00/_spikeglx_ephysData_g0_t0.imec0.lf.meta',\n",
       " 'raw_ephys_data/probe00/_spikeglx_ephysData_g0_t0.imec0.sync.npy',\n",
       " 'raw_ephys_data/probe00/_spikeglx_ephysData_g0_t0.imec0.timestamps.npy',\n",
       " 'raw_ephys_data/probe00/_spikeglx_ephysData_g0_t0.imec0.wiring.json',\n",
       " 'raw_ephys_data/probe00/_spikeglx_sync.channels.probe00.npy',\n",
       " 'raw_ephys_data/probe00/_spikeglx_sync.polarities.probe00.npy',\n",
       " 'raw_ephys_data/probe00/_spikeglx_sync.times.probe00.npy',\n",
       " 'raw_ephys_data/probe01/_iblqc_ephysChannels.apRMS.npy',\n",
       " 'raw_ephys_data/probe01/_iblqc_ephysSpectralDensityAP.freqs.npy',\n",
       " 'raw_ephys_data/probe01/_iblqc_ephysSpectralDensityAP.power.npy',\n",
       " 'raw_ephys_data/probe01/_iblqc_ephysSpectralDensityLF.freqs.npy',\n",
       " 'raw_ephys_data/probe01/_iblqc_ephysSpectralDensityLF.power.npy',\n",
       " 'raw_ephys_data/probe01/_iblqc_ephysTimeRmsLF.rms.npy',\n",
       " 'raw_ephys_data/probe01/_iblqc_ephysTimeRmsLF.timestamps.npy',\n",
       " 'raw_ephys_data/probe01/_spikeglx_ephysData_g0_t0.imec1.ap.cbin',\n",
       " 'raw_ephys_data/probe01/_spikeglx_ephysData_g0_t0.imec1.ap.ch',\n",
       " 'raw_ephys_data/probe01/_spikeglx_ephysData_g0_t0.imec1.ap.meta',\n",
       " 'raw_ephys_data/probe01/_spikeglx_ephysData_g0_t0.imec1.lf.cbin',\n",
       " 'raw_ephys_data/probe01/_spikeglx_ephysData_g0_t0.imec1.lf.ch',\n",
       " 'raw_ephys_data/probe01/_spikeglx_ephysData_g0_t0.imec1.lf.meta',\n",
       " 'raw_ephys_data/probe01/_spikeglx_ephysData_g0_t0.imec1.sync.npy',\n",
       " 'raw_ephys_data/probe01/_spikeglx_ephysData_g0_t0.imec1.timestamps.npy',\n",
       " 'raw_ephys_data/probe01/_spikeglx_ephysData_g0_t0.imec1.wiring.json',\n",
       " 'raw_ephys_data/probe01/_spikeglx_sync.channels.probe01.npy',\n",
       " 'raw_ephys_data/probe01/_spikeglx_sync.polarities.probe01.npy',\n",
       " 'raw_ephys_data/probe01/_spikeglx_sync.times.probe01.npy',\n",
       " 'raw_passive_data/_iblrig_RFMapStim.raw.bin',\n",
       " 'raw_video_data/_iblrig_leftCamera.raw.mp4',\n",
       " 'raw_video_data/_iblrig_rightCamera.raw.mp4']"
      ]
     },
     "execution_count": 44,
     "metadata": {},
     "output_type": "execute_result"
    }
   ],
   "source": [
    "eid = '4720c98a-a305-4fba-affb-bbfa00a724a4'\n",
    "datasets = one.list_datasets(eid)\n",
    "datasets"
   ]
  },
  {
   "cell_type": "code",
   "execution_count": 36,
   "id": "bd79d9f0-ce81-43f1-99f9-75aeb7f4cd67",
   "metadata": {},
   "outputs": [
    {
     "data": {
      "text/plain": [
       "\u001b[0;31mSignature:\u001b[0m\n",
       "\u001b[0mone\u001b[0m\u001b[0;34m.\u001b[0m\u001b[0mlist_datasets\u001b[0m\u001b[0;34m(\u001b[0m\u001b[0;34m\u001b[0m\n",
       "\u001b[0;34m\u001b[0m    \u001b[0meid\u001b[0m\u001b[0;34m=\u001b[0m\u001b[0;32mNone\u001b[0m\u001b[0;34m,\u001b[0m\u001b[0;34m\u001b[0m\n",
       "\u001b[0;34m\u001b[0m    \u001b[0mfilename\u001b[0m\u001b[0;34m=\u001b[0m\u001b[0;32mNone\u001b[0m\u001b[0;34m,\u001b[0m\u001b[0;34m\u001b[0m\n",
       "\u001b[0;34m\u001b[0m    \u001b[0mcollection\u001b[0m\u001b[0;34m=\u001b[0m\u001b[0;32mNone\u001b[0m\u001b[0;34m,\u001b[0m\u001b[0;34m\u001b[0m\n",
       "\u001b[0;34m\u001b[0m    \u001b[0mrevision\u001b[0m\u001b[0;34m=\u001b[0m\u001b[0;32mNone\u001b[0m\u001b[0;34m,\u001b[0m\u001b[0;34m\u001b[0m\n",
       "\u001b[0;34m\u001b[0m    \u001b[0mqc\u001b[0m\u001b[0;34m=\u001b[0m\u001b[0;34m<\u001b[0m\u001b[0mQC\u001b[0m\u001b[0;34m.\u001b[0m\u001b[0mFAIL\u001b[0m\u001b[0;34m:\u001b[0m \u001b[0;36m40\u001b[0m\u001b[0;34m>\u001b[0m\u001b[0;34m,\u001b[0m\u001b[0;34m\u001b[0m\n",
       "\u001b[0;34m\u001b[0m    \u001b[0mignore_qc_not_set\u001b[0m\u001b[0;34m=\u001b[0m\u001b[0;32mFalse\u001b[0m\u001b[0;34m,\u001b[0m\u001b[0;34m\u001b[0m\n",
       "\u001b[0;34m\u001b[0m    \u001b[0mdetails\u001b[0m\u001b[0;34m=\u001b[0m\u001b[0;32mFalse\u001b[0m\u001b[0;34m,\u001b[0m\u001b[0;34m\u001b[0m\n",
       "\u001b[0;34m\u001b[0m    \u001b[0mquery_type\u001b[0m\u001b[0;34m=\u001b[0m\u001b[0;32mNone\u001b[0m\u001b[0;34m,\u001b[0m\u001b[0;34m\u001b[0m\n",
       "\u001b[0;34m\u001b[0m    \u001b[0mdefault_revisions_only\u001b[0m\u001b[0;34m=\u001b[0m\u001b[0;32mFalse\u001b[0m\u001b[0;34m,\u001b[0m\u001b[0;34m\u001b[0m\n",
       "\u001b[0;34m\u001b[0m    \u001b[0mkeep_eid_index\u001b[0m\u001b[0;34m=\u001b[0m\u001b[0;32mFalse\u001b[0m\u001b[0;34m,\u001b[0m\u001b[0;34m\u001b[0m\n",
       "\u001b[0;34m\u001b[0m\u001b[0;34m)\u001b[0m \u001b[0;34m->\u001b[0m \u001b[0mUnion\u001b[0m\u001b[0;34m[\u001b[0m\u001b[0mnumpy\u001b[0m\u001b[0;34m.\u001b[0m\u001b[0mndarray\u001b[0m\u001b[0;34m,\u001b[0m \u001b[0mpandas\u001b[0m\u001b[0;34m.\u001b[0m\u001b[0mcore\u001b[0m\u001b[0;34m.\u001b[0m\u001b[0mframe\u001b[0m\u001b[0;34m.\u001b[0m\u001b[0mDataFrame\u001b[0m\u001b[0;34m]\u001b[0m\u001b[0;34m\u001b[0m\u001b[0;34m\u001b[0m\u001b[0m\n",
       "\u001b[0;31mDocstring:\u001b[0m\n",
       "Given an eid, return the datasets for those sessions.\n",
       "\n",
       "If no eid is provided, a list of all datasets is returned.  When details is false, a sorted\n",
       "array of unique datasets is returned (their relative paths).\n",
       "\n",
       "Parameters\n",
       "----------\n",
       "eid : str, UUID, pathlib.Path, dict\n",
       "    Experiment session identifier; may be a UUID, URL, experiment reference string\n",
       "    details dict or Path.\n",
       "filename : str, dict, list\n",
       "    Filters datasets and returns only the ones matching the filename.\n",
       "    Supports lists asterisks as wildcards.  May be a dict of ALF parts.\n",
       "collection : str, list\n",
       "    The collection to which the object belongs, e.g. 'alf/probe01'.\n",
       "    This is the relative path of the file from the session root.\n",
       "    Supports asterisks as wildcards.\n",
       "revision : str\n",
       "    Filters datasets and returns only the ones matching the revision.\n",
       "    Supports asterisks as wildcards.\n",
       "qc : str, int, one.alf.spec.QC\n",
       "    Returns datasets at or below this QC level.  Integer values should correspond to the QC\n",
       "    enumeration NOT the qc category column codes in the pandas table.\n",
       "ignore_qc_not_set : bool\n",
       "    When true, do not return datasets for which QC is NOT_SET.\n",
       "details : bool\n",
       "    When true, a pandas DataFrame is returned, otherwise a numpy array of\n",
       "    relative paths (collection/revision/filename) - see one.alf.spec.describe for details.\n",
       "query_type : str\n",
       "    Query cache ('local') or Alyx database ('remote').\n",
       "default_revisions_only : bool\n",
       "    When true, only matching datasets that are considered default revisions are returned.\n",
       "    If no 'default_revision' column is present, and ALFError is raised.\n",
       "keep_eid_index : bool\n",
       "    If details is true, this determines whether the returned data frame contains the eid\n",
       "    in the index. When false (default) the returned data frame index is the dataset id\n",
       "    only, otherwise the index is a MultIndex with levels (eid, id).\n",
       "\n",
       "Returns\n",
       "-------\n",
       "np.ndarray, pd.DataFrame\n",
       "    Slice of datasets table or numpy array if details is False.\n",
       "\n",
       "Examples\n",
       "--------\n",
       "List all unique datasets in ONE cache\n",
       "\n",
       ">>> datasets = one.list_datasets()\n",
       "\n",
       "List all datasets for a given experiment\n",
       "\n",
       ">>> datasets = one.list_datasets(eid)\n",
       "\n",
       "List all datasets for an experiment that match a collection name\n",
       "\n",
       ">>> probe_datasets = one.list_datasets(eid, collection='*probe*')\n",
       "\n",
       "List datasets for an experiment that have 'wheel' in the filename\n",
       "\n",
       ">>> datasets = one.list_datasets(eid, filename='*wheel*')\n",
       "\n",
       "List datasets for an experiment that are part of a 'wheel' or 'trial(s)' object\n",
       "\n",
       ">>> datasets = one.list_datasets(eid, {'object': ['wheel', 'trial?']})\n",
       "\u001b[0;31mFile:\u001b[0m      ~/miniconda3/envs/iblenv/lib/python3.10/site-packages/one/api.py\n",
       "\u001b[0;31mType:\u001b[0m      method"
      ]
     },
     "metadata": {},
     "output_type": "display_data"
    }
   ],
   "source": [
    "one.list_datasets?"
   ]
  },
  {
   "cell_type": "code",
   "execution_count": 36,
   "id": "05e772b8-7882-4f5e-8d0f-8d00b797677d",
   "metadata": {},
   "outputs": [],
   "source": [
    "# import session loader\n",
    "from brainbox.io.one import SessionLoader"
   ]
  },
  {
   "cell_type": "code",
   "execution_count": 37,
   "id": "b16f3c2f-cd6c-42fe-bada-a8a4ff6f26c7",
   "metadata": {},
   "outputs": [],
   "source": [
    "# instantiate session loader\n",
    "sess_loader = SessionLoader(one=one, eid=eid)"
   ]
  },
  {
   "cell_type": "code",
   "execution_count": 38,
   "id": "7d8b8199-00ef-44d1-9dde-1cb01f1354d3",
   "metadata": {},
   "outputs": [
    {
     "name": "stderr",
     "output_type": "stream",
     "text": [
      "(S3) /Users/sarahhu/Downloads/ONE/openalyx.internationalbrainlab.org/danlab/Subj\n",
      "(S3) /Users/sarahhu/Downloads/ONE/openalyx.internationalbrainlab.org/danlab/Subj\n",
      "(S3) /Users/sarahhu/Downloads/ONE/openalyx.internationalbrainlab.org/danlab/Subj\n"
     ]
    }
   ],
   "source": [
    "# Load in trials data\n",
    "sess_loader.load_trials()"
   ]
  },
  {
   "cell_type": "code",
   "execution_count": 39,
   "id": "81f01b9d-f475-4c1a-ba0a-2cb56dab7eae",
   "metadata": {},
   "outputs": [],
   "source": [
    "df = sess_loader.trials"
   ]
  },
  {
   "cell_type": "code",
   "execution_count": 40,
   "id": "ce2ab7ef-c04a-4ce3-a96c-181da6475fad",
   "metadata": {},
   "outputs": [
    {
     "data": {
      "text/plain": [
       "Index(['goCueTrigger_times', 'stimOff_times', 'rewardVolume', 'contrastRight',\n",
       "       'contrastLeft', 'goCue_times', 'firstMovement_times', 'probabilityLeft',\n",
       "       'feedbackType', 'choice', 'response_times', 'stimOn_times',\n",
       "       'feedback_times', 'intervals_0', 'intervals_1'],\n",
       "      dtype='object')"
      ]
     },
     "execution_count": 40,
     "metadata": {},
     "output_type": "execute_result"
    }
   ],
   "source": [
    "df.columns"
   ]
  },
  {
   "cell_type": "code",
   "execution_count": 47,
   "id": "5876dd54-8a0c-4a5b-bd8a-48d963b7dfe3",
   "metadata": {},
   "outputs": [
    {
     "data": {
      "text/html": [
       "<div>\n",
       "<style scoped>\n",
       "    .dataframe tbody tr th:only-of-type {\n",
       "        vertical-align: middle;\n",
       "    }\n",
       "\n",
       "    .dataframe tbody tr th {\n",
       "        vertical-align: top;\n",
       "    }\n",
       "\n",
       "    .dataframe thead th {\n",
       "        text-align: right;\n",
       "    }\n",
       "</style>\n",
       "<table border=\"1\" class=\"dataframe\">\n",
       "  <thead>\n",
       "    <tr style=\"text-align: right;\">\n",
       "      <th></th>\n",
       "      <th>goCue_times</th>\n",
       "      <th>stimOn_times</th>\n",
       "      <th>response_times</th>\n",
       "      <th>feedback_times</th>\n",
       "    </tr>\n",
       "  </thead>\n",
       "  <tbody>\n",
       "    <tr>\n",
       "      <th>0</th>\n",
       "      <td>92.288337</td>\n",
       "      <td>92.373695</td>\n",
       "      <td>92.504810</td>\n",
       "      <td>92.504915</td>\n",
       "    </tr>\n",
       "    <tr>\n",
       "      <th>1</th>\n",
       "      <td>97.257273</td>\n",
       "      <td>97.256607</td>\n",
       "      <td>97.561736</td>\n",
       "      <td>97.561810</td>\n",
       "    </tr>\n",
       "    <tr>\n",
       "      <th>2</th>\n",
       "      <td>100.068892</td>\n",
       "      <td>100.068159</td>\n",
       "      <td>100.318343</td>\n",
       "      <td>100.318434</td>\n",
       "    </tr>\n",
       "    <tr>\n",
       "      <th>3</th>\n",
       "      <td>102.957503</td>\n",
       "      <td>102.956570</td>\n",
       "      <td>103.187642</td>\n",
       "      <td>103.187747</td>\n",
       "    </tr>\n",
       "    <tr>\n",
       "      <th>4</th>\n",
       "      <td>105.935472</td>\n",
       "      <td>105.934705</td>\n",
       "      <td>106.214959</td>\n",
       "      <td>106.215777</td>\n",
       "    </tr>\n",
       "  </tbody>\n",
       "</table>\n",
       "</div>"
      ],
      "text/plain": [
       "   goCue_times  stimOn_times  response_times  feedback_times\n",
       "0    92.288337     92.373695       92.504810       92.504915\n",
       "1    97.257273     97.256607       97.561736       97.561810\n",
       "2   100.068892    100.068159      100.318343      100.318434\n",
       "3   102.957503    102.956570      103.187642      103.187747\n",
       "4   105.935472    105.934705      106.214959      106.215777"
      ]
     },
     "execution_count": 47,
     "metadata": {},
     "output_type": "execute_result"
    }
   ],
   "source": [
    "df[['contrastLeft', 'contrastRight', 'choice', 'feedbackType']].head()\n",
    "df[['goCue_times', 'stimOn_times', 'response_times', 'feedback_times']].head()"
   ]
  },
  {
   "cell_type": "code",
   "execution_count": 21,
   "id": "6ea7dcff-08b9-4514-b012-8bc6c70e3aa7",
   "metadata": {},
   "outputs": [
    {
     "data": {
      "text/plain": [
       "array([0.125 , 0.0625, 0.25  , 1.    ,    nan, 0.    ])"
      ]
     },
     "execution_count": 21,
     "metadata": {},
     "output_type": "execute_result"
    }
   ],
   "source": [
    "df['contrastLeft'].unique()"
   ]
  },
  {
   "cell_type": "code",
   "execution_count": 43,
   "id": "351f8872-230c-4b85-a53a-627c8e7fafc1",
   "metadata": {},
   "outputs": [],
   "source": [
    "prob_left = df['probabilityLeft']"
   ]
  },
  {
   "cell_type": "code",
   "execution_count": 44,
   "id": "16c8d32f-cc82-4e1e-b919-439134cc54a8",
   "metadata": {},
   "outputs": [
    {
     "data": {
      "text/plain": [
       "Text(0, 0.5, 'probability')"
      ]
     },
     "execution_count": 44,
     "metadata": {},
     "output_type": "execute_result"
    },
    {
     "data": {
      "image/png": "[encoded data removed]",
      "text/plain": [
       "<Figure size 640x480 with 1 Axes>"
      ]
     },
     "metadata": {},
     "output_type": "display_data"
    }
   ],
   "source": [
    "import matplotlib.pyplot as plt\n",
    "plt.plot(prob_left)\n",
    "plt.xlabel('trials')\n",
    "plt.ylabel('probability')"
   ]
  },
  {
   "cell_type": "code",
   "execution_count": 45,
   "id": "6c073fe0-a61b-402a-8b93-9437733c9240",
   "metadata": {},
   "outputs": [
    {
     "name": "stderr",
     "output_type": "stream",
     "text": [
      "(S3) /Users/sarahhu/Downloads/ONE/openalyx.internationalbrainlab.org/danlab/Subj\n",
      "(S3) /Users/sarahhu/Downloads/ONE/openalyx.internationalbrainlab.org/danlab/Subj\n"
     ]
    }
   ],
   "source": [
    "sess_loader.load_wheel()"
   ]
  },
  {
   "cell_type": "code",
   "execution_count": 46,
   "id": "4c00cf17-e507-459c-85f8-06012977ea12",
   "metadata": {},
   "outputs": [
    {
     "data": {
      "text/html": [
       "<div>\n",
       "<style scoped>\n",
       "    .dataframe tbody tr th:only-of-type {\n",
       "        vertical-align: middle;\n",
       "    }\n",
       "\n",
       "    .dataframe tbody tr th {\n",
       "        vertical-align: top;\n",
       "    }\n",
       "\n",
       "    .dataframe thead th {\n",
       "        text-align: right;\n",
       "    }\n",
       "</style>\n",
       "<table border=\"1\" class=\"dataframe\">\n",
       "  <thead>\n",
       "    <tr style=\"text-align: right;\">\n",
       "      <th></th>\n",
       "      <th>times</th>\n",
       "      <th>position</th>\n",
       "      <th>velocity</th>\n",
       "      <th>acceleration</th>\n",
       "    </tr>\n",
       "  </thead>\n",
       "  <tbody>\n",
       "    <tr>\n",
       "      <th>0</th>\n",
       "      <td>0.255008</td>\n",
       "      <td>-0.001534</td>\n",
       "      <td>0.000000</td>\n",
       "      <td>0.000000</td>\n",
       "    </tr>\n",
       "    <tr>\n",
       "      <th>1</th>\n",
       "      <td>0.256008</td>\n",
       "      <td>-0.001527</td>\n",
       "      <td>0.007285</td>\n",
       "      <td>7.284842</td>\n",
       "    </tr>\n",
       "    <tr>\n",
       "      <th>2</th>\n",
       "      <td>0.257008</td>\n",
       "      <td>-0.001521</td>\n",
       "      <td>0.007260</td>\n",
       "      <td>-0.024393</td>\n",
       "    </tr>\n",
       "    <tr>\n",
       "      <th>3</th>\n",
       "      <td>0.258008</td>\n",
       "      <td>-0.001514</td>\n",
       "      <td>0.007229</td>\n",
       "      <td>-0.031414</td>\n",
       "    </tr>\n",
       "    <tr>\n",
       "      <th>4</th>\n",
       "      <td>0.259008</td>\n",
       "      <td>-0.001507</td>\n",
       "      <td>0.007192</td>\n",
       "      <td>-0.037452</td>\n",
       "    </tr>\n",
       "    <tr>\n",
       "      <th>...</th>\n",
       "      <td>...</td>\n",
       "      <td>...</td>\n",
       "      <td>...</td>\n",
       "      <td>...</td>\n",
       "    </tr>\n",
       "    <tr>\n",
       "      <th>4038209</th>\n",
       "      <td>4038.464111</td>\n",
       "      <td>33.923622</td>\n",
       "      <td>0.011440</td>\n",
       "      <td>-1.975636</td>\n",
       "    </tr>\n",
       "    <tr>\n",
       "      <th>4038210</th>\n",
       "      <td>4038.465088</td>\n",
       "      <td>33.923698</td>\n",
       "      <td>0.009671</td>\n",
       "      <td>-1.768656</td>\n",
       "    </tr>\n",
       "    <tr>\n",
       "      <th>4038211</th>\n",
       "      <td>4038.466064</td>\n",
       "      <td>33.923775</td>\n",
       "      <td>0.008102</td>\n",
       "      <td>-1.569706</td>\n",
       "    </tr>\n",
       "    <tr>\n",
       "      <th>4038212</th>\n",
       "      <td>4038.467041</td>\n",
       "      <td>33.923855</td>\n",
       "      <td>0.006721</td>\n",
       "      <td>-1.380532</td>\n",
       "    </tr>\n",
       "    <tr>\n",
       "      <th>4038213</th>\n",
       "      <td>4038.468018</td>\n",
       "      <td>33.923931</td>\n",
       "      <td>0.005518</td>\n",
       "      <td>-1.202598</td>\n",
       "    </tr>\n",
       "  </tbody>\n",
       "</table>\n",
       "<p>4038214 rows × 4 columns</p>\n",
       "</div>"
      ],
      "text/plain": [
       "               times   position  velocity  acceleration\n",
       "0           0.255008  -0.001534  0.000000      0.000000\n",
       "1           0.256008  -0.001527  0.007285      7.284842\n",
       "2           0.257008  -0.001521  0.007260     -0.024393\n",
       "3           0.258008  -0.001514  0.007229     -0.031414\n",
       "4           0.259008  -0.001507  0.007192     -0.037452\n",
       "...              ...        ...       ...           ...\n",
       "4038209  4038.464111  33.923622  0.011440     -1.975636\n",
       "4038210  4038.465088  33.923698  0.009671     -1.768656\n",
       "4038211  4038.466064  33.923775  0.008102     -1.569706\n",
       "4038212  4038.467041  33.923855  0.006721     -1.380532\n",
       "4038213  4038.468018  33.923931  0.005518     -1.202598\n",
       "\n",
       "[4038214 rows x 4 columns]"
      ]
     },
     "execution_count": 46,
     "metadata": {},
     "output_type": "execute_result"
    }
   ],
   "source": [
    "sess_loader.wheel"
   ]
  },
  {
   "cell_type": "code",
   "execution_count": null,
   "id": "25443d0f-72af-4ca0-9ecc-3cabb8237436",
   "metadata": {},
   "outputs": [],
   "source": []
  }
 ],
 "metadata": {
  "kernelspec": {
   "display_name": "Python 3 (ipykernel)",
   "language": "python",
   "name": "python3"
  },
  "language_info": {
   "codemirror_mode": {
    "name": "ipython",
    "version": 3
   },
   "file_extension": ".py",
   "mimetype": "text/x-python",
   "name": "python",
   "nbconvert_exporter": "python",
   "pygments_lexer": "ipython3",
   "version": "3.10.16"
  }
 },
 "nbformat": 4,
 "nbformat_minor": 5
}
