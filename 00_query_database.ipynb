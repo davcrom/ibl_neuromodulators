{
 "cells": [
  {
   "cell_type": "code",
   "execution_count": 1,
   "id": "6f30c6c8-ed42-4023-bb15-59f641c39b00",
   "metadata": {},
   "outputs": [],
   "source": [
    "import sys\n",
    "import numpy as np\n",
    "import pandas as pd\n",
    "pd.set_option('future.no_silent_downcasting', True)\n",
    "from matplotlib import pyplot as plt\n",
    "\n",
    "from datetime import datetime\n",
    "from tqdm import tqdm\n",
    "tqdm.pandas()\n",
    "\n",
    "from one.api import ONE\n",
    "from brainbox.io.one import SessionLoader\n",
    "\n",
    "import sys\n",
    "sys.path.append('/home/crombie/code/ibl_photometry/src')\n",
    "\n",
    "import util"
   ]
  },
  {
   "cell_type": "markdown",
   "id": "99d3dc02-7deb-4962-a340-f0404493bf95",
   "metadata": {},
   "source": [
    "## Query Alyx for sessions in the ibl_fibrephotometry project"
   ]
  },
  {
   "cell_type": "code",
   "execution_count": 2,
   "id": "bd8a4552-d036-4e43-9faa-cd2cad9d4ae7",
   "metadata": {},
   "outputs": [],
   "source": [
    "# Instantiate a database connection\n",
    "one = ONE()"
   ]
  },
  {
   "cell_type": "code",
   "execution_count": 3,
   "id": "66c9c502-6fbd-4d7c-92ce-da8c43e76f88",
   "metadata": {},
   "outputs": [
    {
     "name": "stdout",
     "output_type": "stream",
     "text": [
      "Querying database...\n",
      "Checking remote datasets...\n"
     ]
    },
    {
     "name": "stderr",
     "output_type": "stream",
     "text": [
      "100%|████████████████████████████████████████████████████████████████████████████████████████████████████████████████████████████| 2584/2584 [27:12<00:00,  1.58it/s]\n",
      "/home/crombie/miniconda3/envs/iblenv/lib/python3.10/site-packages/one/api.py:166: UserWarning: No cache tables found in /home/crombie/mnt/ccu-iblserver/kb/data/one\n",
      "  warnings.warn(f'No cache tables found in {self._tables_dir}')\n"
     ]
    },
    {
     "name": "stdout",
     "output_type": "stream",
     "text": [
      "Checking local datasets...\n"
     ]
    },
    {
     "name": "stderr",
     "output_type": "stream",
     "text": [
      "100%|██████████████████████████████████████████████████████████████████████████████████████████████████████████████████████████| 2584/2584 [00:01<00:00, 2107.21it/s]\n"
     ]
    }
   ],
   "source": [
    "# Query for sessions in the ibl_fibrephotometry project\n",
    "df_sessions = util.fetch_sessions(one, save=True, check_local=True)"
   ]
  },
  {
   "cell_type": "code",
   "execution_count": 4,
   "id": "4a37af93-38cd-436e-887a-b52dac3c98f4",
   "metadata": {},
   "outputs": [
    {
     "data": {
      "text/plain": [
       "np.int64(0)"
      ]
     },
     "execution_count": 4,
     "metadata": {},
     "output_type": "execute_result"
    }
   ],
   "source": [
    "df_sessions['local_photometry'].replace({np.nan:False}).sum()"
   ]
  },
  {
   "cell_type": "code",
   "execution_count": 10,
   "id": "3e7234d5-f4b5-492c-a24e-9b297810a15c",
   "metadata": {},
   "outputs": [],
   "source": [
    "df_sessions = pd.read_parquet('metadata/sessions.pqt')"
   ]
  },
  {
   "cell_type": "code",
   "execution_count": 11,
   "id": "661372d3-5d3e-44f2-9df0-435150872ed4",
   "metadata": {},
   "outputs": [
    {
     "name": "stderr",
     "output_type": "stream",
     "text": [
      "100%|██████████████████████████████████████████████████████████████████████████████████████████████████████████████████████████| 2584/2584 [00:00<00:00, 3570.39it/s]\n"
     ]
    }
   ],
   "source": [
    "def _get_subject_info(series, one=None):\n",
    "    assert one is not None\n",
    "    subjects = one.alyx.rest('subjects', 'list', nickname=series['subject'])\n",
    "    assert len(subjects) == 1\n",
    "    subject = subjects[0]\n",
    "    for key in ['strain']:\n",
    "        series[key] = subject[key]\n",
    "    return series\n",
    "\n",
    "df_sessions = df_sessions.progress_apply(_get_subject_info, one=one, axis='columns').copy()\n",
    "df_sessions.to_parquet('metadata/sessions.pqt', index=False)"
   ]
  },
  {
   "cell_type": "code",
   "execution_count": 12,
   "id": "f5023039-62bc-4529-b878-f8f9d65661bb",
   "metadata": {},
   "outputs": [],
   "source": [
    "df_sessions['NM'] = df_sessions['strain'].replace({\n",
    "    'Ai148xSERTCre': '5HT',\n",
    "    'Ai148xDATCre': 'DA',\n",
    "    'Ai148xDbhCre': 'NE',\n",
    "    'Ai148xTHCre': 'NE',\n",
    "    'B6.Cg': 'none',\n",
    "    'Ai148xChATCre': 'ACh',\n",
    "    'Ai148xDbh-Cre': 'NE',\n",
    "    'B6.129S2': 'none',\n",
    "    'Ai95xSERTCre': '5HT',\n",
    "    'C57BL/6J': 'none'\n",
    "})"
   ]
  },
  {
   "cell_type": "code",
   "execution_count": 13,
   "id": "2642fbdc-1ecd-414e-8bc3-64154b6085aa",
   "metadata": {},
   "outputs": [],
   "source": [
    "def protocol2type(protocol):\n",
    "    types = np.array(['habituation', 'training', 'biased'])\n",
    "    type_mask = [t in protocol for t in types]\n",
    "    if sum(type_mask) == 1:\n",
    "        return str(types[type_mask][0])\n",
    "    elif sum(type_mask) == 0:\n",
    "        return 'misc'\n",
    "    else:\n",
    "        raise ValueError\n",
    "\n",
    "df_sessions['session_type'] = df_sessions['task_protocol'].map(protocol2type)"
   ]
  },
  {
   "cell_type": "code",
   "execution_count": 14,
   "id": "45a198b2-7d3d-46d7-8734-78a7996a1d9c",
   "metadata": {},
   "outputs": [],
   "source": [
    "df_sessions.to_parquet('metadata/sessions.pqt', index=False)"
   ]
  },
  {
   "cell_type": "code",
   "execution_count": 29,
   "id": "27d7824e-79ea-425c-a811-82243278e4a7",
   "metadata": {},
   "outputs": [],
   "source": [
    "df_sessions[['subject', 'start_time', 'session_n', 'session_type', 'NM']].to_csv('IBL-NM_recordings.csv')"
   ]
  },
  {
   "cell_type": "code",
   "execution_count": 17,
   "id": "2d60e4cd-8415-465c-a18a-592ebd61de2b",
   "metadata": {},
   "outputs": [],
   "source": [
    "sessions = one.alyx.rest('sessions', 'list', project='ibl_fibrephotometry')\n",
    "df_sessions = pd.DataFrame(sessions).rename(columns={'id': 'eid'})"
   ]
  },
  {
   "cell_type": "code",
   "execution_count": 3,
   "id": "56fb1721-b365-46cc-8f8d-312bb44d83ba",
   "metadata": {},
   "outputs": [],
   "source": [
    "# Load sessions from a saved query\n",
    "df_sessions = pd.read_parquet('metadata/sessions.pqt')"
   ]
  },
  {
   "cell_type": "code",
   "execution_count": 8,
   "id": "0b87649c-727f-4f4e-b259-175fc515029c",
   "metadata": {},
   "outputs": [
    {
     "data": {
      "text/plain": [
       "np.int64(905)"
      ]
     },
     "execution_count": 8,
     "metadata": {},
     "output_type": "execute_result"
    }
   ],
   "source": [
    "df_sessions['local_photometry'].replace({'nan': False}).astype(bool).sum()"
   ]
  },
  {
   "cell_type": "markdown",
   "id": "bb85212c-8bde-4689-b033-b2ef5016164f",
   "metadata": {},
   "source": [
    "## Perform QC on fiber photometry sessions"
   ]
  },
  {
   "cell_type": "code",
   "execution_count": 53,
   "id": "b410f329-072a-4a72-9a10-263d0561f2f0",
   "metadata": {},
   "outputs": [],
   "source": [
    "# Filter for sessions in 2025\n",
    "df_sessions2025 = df_sessions[df_sessions['start_time'].apply(lambda x: datetime.fromisoformat(x).year == 2023)].copy()\n",
    "\n",
    "# Remove habituation sessions\n",
    "df_qc = df_sessions2025.query('not task_protocol.str.contains(\"habituation\")').sort_values(['subject', 'session_n'])"
   ]
  },
  {
   "cell_type": "code",
   "execution_count": 54,
   "id": "ca73c863-de9e-4c7e-bc65-1f494fad3cf2",
   "metadata": {},
   "outputs": [
    {
     "data": {
      "image/png": "[encoded data removed]",
      "text/plain": [
       "<Figure size 3000x1000 with 1 Axes>"
      ]
     },
     "metadata": {},
     "output_type": "display_data"
    }
   ],
   "source": [
    "# Select video qc columns\n",
    "qc_columns = [col for col in df_sessions2025.columns if col.startswith('_video') & col.endswith('_qc')]\n",
    "\n",
    "# Plot qc outcomes\n",
    "fig, ax = plt.subplots(figsize=(30, 10))\n",
    "ax = util.qc_grid(df_qc[:200], qc_columns, xticklabels=['subject', 'session_n'], ax=ax)"
   ]
  },
  {
   "cell_type": "code",
   "execution_count": 55,
   "id": "7c5e1b8e-d3b0-4f82-a826-493f4bd1a425",
   "metadata": {},
   "outputs": [
    {
     "data": {
      "text/plain": [
       "<Axes: >"
      ]
     },
     "execution_count": 55,
     "metadata": {},
     "output_type": "execute_result"
    },
    {
     "data": {
      "image/png": "[encoded data removed]",
      "text/plain": [
       "<Figure size 3000x1000 with 1 Axes>"
      ]
     },
     "metadata": {},
     "output_type": "display_data"
    }
   ],
   "source": [
    "fig, ax = plt.subplots(figsize=(30, 10))\n",
    "qc_columns = [col for col in df_sessions2025.columns if col.startswith('_task') & col.endswith('_qc')]\n",
    "util.qc_grid(df_qc[:200], qc_columns, xticklabels=['subject', 'session_n'], ax=ax)"
   ]
  },
  {
   "cell_type": "code",
   "execution_count": null,
   "id": "5bdcda5c-37db-4daa-b5cb-b355cd38552f",
   "metadata": {},
   "outputs": [],
   "source": []
  },
  {
   "cell_type": "code",
   "execution_count": 3,
   "id": "d50747f6-c3ce-4bd7-8e6e-8a0133852108",
   "metadata": {},
   "outputs": [],
   "source": [
    "# Load sessions from previous query\n",
    "df_sessions = pd.read_parquet('metadata/sessions.pqt')"
   ]
  },
  {
   "cell_type": "code",
   "execution_count": 10,
   "id": "4cc50cca-550d-42b4-af68-10d664a7f430",
   "metadata": {},
   "outputs": [
    {
     "name": "stdout",
     "output_type": "stream",
     "text": [
      "N Sessions: 2519\n",
      "N Mice: 51\n",
      "['ZFM-02128' 'ZFM-03065' 'ZFM-03059' 'ZFM-03062' 'ZFM-03061' 'ZFM-03448'\n",
      " 'ZFM-03450' 'ZFM-03447' 'ZFM-04026' 'ZFM-04022' 'ZFM-04019' 'ZFM-03063'\n",
      " 'ZFM-04533' 'ZFM-04534' 'ZFM-04392' 'ZFM-03064' 'ZFM-05235' 'ZFM-05236'\n",
      " 'ZFM-05239' 'ZFM-05244' 'ZFM-05245' 'ZFM-05247' 'ZFM-05248' 'ZFM-05645'\n",
      " 'ZFM-06272' 'ZFM-06275' 'ZFM-06268' 'ZFM-06271' 'ZFM-06171' 'ZFM-06305'\n",
      " 'ZFM-06946' 'ZFM-06948' 'VIV-45585' 'VIV-45598' 'VIV-47615' 'VIV-47627'\n",
      " 'CQ001' 'CQ002' 'CQ003' 'CQ004' 'SP065' 'ZFM-08488' 'ZFM-08551'\n",
      " 'ZFM-08554' 'CQ005' 'CQ008' 'CQ006' 'ZFM-08652' 'ZFM-08689' 'SP067'\n",
      " 'SP068']\n"
     ]
    }
   ],
   "source": [
    "# Print out some summary data\n",
    "print(f\"N Sessions: {len(df_sessions)}\")\n",
    "print(f\"N Mice: {len(df_sessions['subject'].unique())}\")\n",
    "print(df_sessions['subject'].unique())"
   ]
  },
  {
   "cell_type": "code",
   "execution_count": 7,
   "id": "6b76b15b-cfdd-4342-8a3c-5f89556dc557",
   "metadata": {},
   "outputs": [],
   "source": [
    "subject = 'CQ005'\n",
    "df_subject = df_sessions.query('subject == @subject')"
   ]
  },
  {
   "cell_type": "code",
   "execution_count": 17,
   "id": "2151b2bc-9efa-4f09-8f85-9271d2a48502",
   "metadata": {},
   "outputs": [],
   "source": [
    "session_dict = one.alyx.rest('sessions', 'read', id=df_subject.iloc[-3]['eid'])"
   ]
  },
  {
   "cell_type": "code",
   "execution_count": 18,
   "id": "1a362141-4707-46c8-8d5a-ec142483d121",
   "metadata": {
    "scrolled": true
   },
   "outputs": [
    {
     "data": {
      "text/plain": [
       "{'subject': 'CQ005',\n",
       " 'users': ['carolina.quadrado', 'SamuelP'],\n",
       " 'location': '_iblrig_cortexlab_behavior_3',\n",
       " 'procedures': ['Fiber photometry', 'Behavior training/tasks'],\n",
       " 'lab': 'cortexlab',\n",
       " 'projects': ['ibl_fibrephotometry'],\n",
       " 'type': 'Experiment',\n",
       " 'task_protocol': '_iblrig_tasks_trainingChoiceWorld8.27.4',\n",
       " 'number': 1,\n",
       " 'start_time': '2025-03-17T15:08:06.918000',\n",
       " 'end_time': '2025-03-17T15:57:48.835000',\n",
       " 'narrative': '',\n",
       " 'parent_session': None,\n",
       " 'n_correct_trials': 481,\n",
       " 'n_trials': 634,\n",
       " 'url': 'https://alyx.internationalbrainlab.org/sessions/cad34b7a-ce47-4963-9a1a-dc3a9ca92e3e',\n",
       " 'extended_qc': {'task_00': 'FAIL',\n",
       "  'videoLeft': 'FAIL',\n",
       "  '_task_iti_delays': 0.7535545023696683,\n",
       "  '_videoLeft_focus': 'PASS',\n",
       "  '_task_goCue_delays': 1.0,\n",
       "  '_task_trial_length': 0.9479495268138801,\n",
       "  '_task_stimOn_delays': 0.9968454258675079,\n",
       "  '_videoLeft_position': 'PASS',\n",
       "  '_task_n_trial_events': 0.9463722397476341,\n",
       "  '_task_reward_volumes': 1.0,\n",
       "  '_task_stimOff_delays': 1.0,\n",
       "  '_videoLeft_framerate': ['FAIL', 99.01],\n",
       "  '_videoLeft_pin_state': ['WARNING', 6, 0],\n",
       "  '_task_audio_pre_trial': 1.0,\n",
       "  '_task_errorCue_delays': 0.7843137254901961,\n",
       "  '_task_wheel_integrity': 1.0,\n",
       "  '_videoLeft_brightness': 'PASS',\n",
       "  '_videoLeft_resolution': 'PASS',\n",
       "  '_videoLeft_timestamps': 'PASS',\n",
       "  '_task_reward_volume_set': 1.0,\n",
       "  '_task_stimFreeze_delays': 0.9700315457413249,\n",
       "  '_videoLeft_camera_times': ['PASS', 0],\n",
       "  '_videoLeft_file_headers': 'FAIL',\n",
       "  '_task_passed_trial_checks': 0.7018927444794952,\n",
       "  '_task_stimOn_goCue_delays': 0.9968454258675079,\n",
       "  '_videoLeft_dropped_frames': ['PASS', 28, 0],\n",
       "  '_task_detected_wheel_moves': 0.9478672985781991,\n",
       "  '_task_stimOff_itiIn_delays': 1.0,\n",
       "  '_videoLeft_wheel_alignment': ['PASS', 0],\n",
       "  '_task_response_feedback_delays': 0.9479495268138801,\n",
       "  '_task_error_trial_event_sequence': 0.7843137254901961,\n",
       "  '_task_response_stimFreeze_delays': 0.9715639810426541,\n",
       "  '_task_stimulus_move_before_goCue': 0.9968454258675079,\n",
       "  '_task_wheel_move_before_feedback': 0.9478672985781991,\n",
       "  '_task_correct_trial_event_sequence': 1.0,\n",
       "  '_task_wheel_move_during_closed_loop': 0.9968404423380727,\n",
       "  '_task_wheel_freeze_during_quiescence': 1.0,\n",
       "  '_task_negative_feedback_stimOff_delays': 0.7843137254901961,\n",
       "  '_task_positive_feedback_stimOff_delays': 1.0,\n",
       "  '_task_wheel_move_during_closed_loop_bpod': 0.9968404423380727},\n",
       " 'qc': 'FAIL',\n",
       " 'wateradmin_session_related': [{'id': '7857117a-4623-476f-b215-f77410592919',\n",
       "   'name': '',\n",
       "   'water_type': 'Water 10% Sucrose',\n",
       "   'water_administered': 1.058}],\n",
       " 'data_dataset_session_related': [{'id': '1a411c6f-4c74-4d80-bcc5-04c5c009d8e6',\n",
       "   'name': '_iblrig_stimPositionScreen.raw.csv',\n",
       "   'dataset_type': '_iblrig_stimPositionScreen.raw',\n",
       "   'data_url': 'https://ibl.flatironinstitute.org/cortexlab/Subjects/CQ005/2025-03-17/001/raw_task_data_00/_iblrig_stimPositionScreen.raw.1a411c6f-4c74-4d80-bcc5-04c5c009d8e6.csv',\n",
       "   'url': 'https://alyx.internationalbrainlab.org/datasets/1a411c6f-4c74-4d80-bcc5-04c5c009d8e6',\n",
       "   'file_size': 567094,\n",
       "   'hash': '6e6e7af8bf4ef6d3994596d8202c174a',\n",
       "   'version': '3.3.0',\n",
       "   'collection': 'raw_task_data_00',\n",
       "   'revision': '',\n",
       "   'default_revision': 'True',\n",
       "   'qc': 'NOT_SET'},\n",
       "  {'id': '20a894e3-c29c-455f-a79f-22b54b386fcb',\n",
       "   'name': '_iblrig_encoderEvents.raw.ssv',\n",
       "   'dataset_type': '_iblrig_encoderEvents.raw',\n",
       "   'data_url': 'https://ibl.flatironinstitute.org/cortexlab/Subjects/CQ005/2025-03-17/001/raw_task_data_00/_iblrig_encoderEvents.raw.20a894e3-c29c-455f-a79f-22b54b386fcb.ssv',\n",
       "   'url': 'https://alyx.internationalbrainlab.org/datasets/20a894e3-c29c-455f-a79f-22b54b386fcb',\n",
       "   'file_size': 37078,\n",
       "   'hash': '5870a77cc0f68f16865ba780133d8e5d',\n",
       "   'version': '3.3.0',\n",
       "   'collection': 'raw_task_data_00',\n",
       "   'revision': '',\n",
       "   'default_revision': 'True',\n",
       "   'qc': 'NOT_SET'},\n",
       "  {'id': '3a284f4d-4de4-43b5-a5fd-2d3997c32cec',\n",
       "   'name': '_ibl_trials.repNum.npy',\n",
       "   'dataset_type': 'trials.repNum',\n",
       "   'data_url': 'https://ibl.flatironinstitute.org/cortexlab/Subjects/CQ005/2025-03-17/001/alf/task_00/_ibl_trials.repNum.3a284f4d-4de4-43b5-a5fd-2d3997c32cec.npy',\n",
       "   'url': 'https://alyx.internationalbrainlab.org/datasets/3a284f4d-4de4-43b5-a5fd-2d3997c32cec',\n",
       "   'file_size': 5200,\n",
       "   'hash': 'f0e76d7346b8da6fef244ca3c2859291',\n",
       "   'version': '3.3.0',\n",
       "   'collection': 'alf/task_00',\n",
       "   'revision': '',\n",
       "   'default_revision': 'True',\n",
       "   'qc': 'NOT_SET'},\n",
       "  {'id': '48349e95-4d60-4108-b51b-abd6e3fcbb3f',\n",
       "   'name': '_ibl_trials.stimOff_times.npy',\n",
       "   'dataset_type': 'trials.stimOff_times',\n",
       "   'data_url': 'https://ibl.flatironinstitute.org/cortexlab/Subjects/CQ005/2025-03-17/001/alf/task_00/_ibl_trials.stimOff_times.48349e95-4d60-4108-b51b-abd6e3fcbb3f.npy',\n",
       "   'url': 'https://alyx.internationalbrainlab.org/datasets/48349e95-4d60-4108-b51b-abd6e3fcbb3f',\n",
       "   'file_size': 5200,\n",
       "   'hash': 'fb4b348492bccc664c15f0fba61fa8c3',\n",
       "   'version': '3.3.0',\n",
       "   'collection': 'alf/task_00',\n",
       "   'revision': '',\n",
       "   'default_revision': 'True',\n",
       "   'qc': 'PASS'},\n",
       "  {'id': '50adb851-913b-4d9b-a2db-0e000b00a074',\n",
       "   'name': '_ibl_trials.stimOnTrigger_times.npy',\n",
       "   'dataset_type': '_ibl_trials.stimOnTrigger_times',\n",
       "   'data_url': 'https://ibl.flatironinstitute.org/cortexlab/Subjects/CQ005/2025-03-17/001/alf/task_00/_ibl_trials.stimOnTrigger_times.50adb851-913b-4d9b-a2db-0e000b00a074.npy',\n",
       "   'url': 'https://alyx.internationalbrainlab.org/datasets/50adb851-913b-4d9b-a2db-0e000b00a074',\n",
       "   'file_size': 5200,\n",
       "   'hash': 'fc52a48429bad979949491166bdebf7c',\n",
       "   'version': '3.3.0',\n",
       "   'collection': 'alf/task_00',\n",
       "   'revision': '',\n",
       "   'default_revision': 'True',\n",
       "   'qc': 'NOT_SET'},\n",
       "  {'id': '598dba92-42cd-4af9-bb9e-fa2ecb0ca7fd',\n",
       "   'name': '_iblrig_syncSquareUpdate.raw.csv',\n",
       "   'dataset_type': '_iblrig_syncSquareUpdate.raw',\n",
       "   'data_url': 'https://ibl.flatironinstitute.org/cortexlab/Subjects/CQ005/2025-03-17/001/raw_task_data_00/_iblrig_syncSquareUpdate.raw.598dba92-42cd-4af9-bb9e-fa2ecb0ca7fd.csv',\n",
       "   'url': 'https://alyx.internationalbrainlab.org/datasets/598dba92-42cd-4af9-bb9e-fa2ecb0ca7fd',\n",
       "   'file_size': 504687,\n",
       "   'hash': 'cedec9fac3d67e46d6836cc85cf71da5',\n",
       "   'version': '3.3.0',\n",
       "   'collection': 'raw_task_data_00',\n",
       "   'revision': '',\n",
       "   'default_revision': 'True',\n",
       "   'qc': 'NOT_SET'},\n",
       "  {'id': '78952748-2f2b-437c-b776-c0b21a389008',\n",
       "   'name': '_ibl_leftCamera.times.npy',\n",
       "   'dataset_type': 'camera.times',\n",
       "   'data_url': 'https://ibl.flatironinstitute.org/cortexlab/Subjects/CQ005/2025-03-17/001/alf/_ibl_leftCamera.times.78952748-2f2b-437c-b776-c0b21a389008.npy',\n",
       "   'url': 'https://alyx.internationalbrainlab.org/datasets/78952748-2f2b-437c-b776-c0b21a389008',\n",
       "   'file_size': 2264416,\n",
       "   'hash': '7b6d37e8007361149e2efb12b0e61bb5',\n",
       "   'version': '3.3.0',\n",
       "   'collection': 'alf',\n",
       "   'revision': '',\n",
       "   'default_revision': 'True',\n",
       "   'qc': 'NOT_SET'},\n",
       "  {'id': '796a4409-32d0-482a-b607-469bf649ad7f',\n",
       "   'name': '_iblrig_encoderPositions.raw.ssv',\n",
       "   'dataset_type': '_iblrig_encoderPositions.raw',\n",
       "   'data_url': 'https://ibl.flatironinstitute.org/cortexlab/Subjects/CQ005/2025-03-17/001/raw_task_data_00/_iblrig_encoderPositions.raw.796a4409-32d0-482a-b607-469bf649ad7f.ssv',\n",
       "   'url': 'https://alyx.internationalbrainlab.org/datasets/796a4409-32d0-482a-b607-469bf649ad7f',\n",
       "   'file_size': 5971697,\n",
       "   'hash': 'cfa3ce7aa8b406f8bb5ebfee3dfb02e2',\n",
       "   'version': '3.3.0',\n",
       "   'collection': 'raw_task_data_00',\n",
       "   'revision': '',\n",
       "   'default_revision': 'True',\n",
       "   'qc': 'NOT_SET'},\n",
       "  {'id': '81284edc-0643-45b5-b8f3-e936d2142a71',\n",
       "   'name': '_iblrig_leftCamera.raw.mp4',\n",
       "   'dataset_type': '_iblrig_Camera.raw',\n",
       "   'data_url': 'https://ibl.flatironinstitute.org/cortexlab/Subjects/CQ005/2025-03-17/001/raw_video_data/_iblrig_leftCamera.raw.81284edc-0643-45b5-b8f3-e936d2142a71.mp4',\n",
       "   'url': 'https://alyx.internationalbrainlab.org/datasets/81284edc-0643-45b5-b8f3-e936d2142a71',\n",
       "   'file_size': 555997228,\n",
       "   'hash': '9f9d57b79ca80291873d3156888a4307',\n",
       "   'version': '3.3.0',\n",
       "   'collection': 'raw_video_data',\n",
       "   'revision': '',\n",
       "   'default_revision': 'True',\n",
       "   'qc': 'NOT_SET'},\n",
       "  {'id': '82cab974-93d4-4c29-b14c-b1a1c8770359',\n",
       "   'name': '_ibl_trials.goCueTrigger_times.npy',\n",
       "   'dataset_type': 'trials.goCueTrigger_times',\n",
       "   'data_url': 'https://ibl.flatironinstitute.org/cortexlab/Subjects/CQ005/2025-03-17/001/alf/task_00/_ibl_trials.goCueTrigger_times.82cab974-93d4-4c29-b14c-b1a1c8770359.npy',\n",
       "   'url': 'https://alyx.internationalbrainlab.org/datasets/82cab974-93d4-4c29-b14c-b1a1c8770359',\n",
       "   'file_size': 5200,\n",
       "   'hash': '89cbafb392aada5b42ccc7c10c80525d',\n",
       "   'version': '3.3.0',\n",
       "   'collection': 'alf/task_00',\n",
       "   'revision': '',\n",
       "   'default_revision': 'True',\n",
       "   'qc': 'NOT_SET'},\n",
       "  {'id': '918e977c-eaaf-49b9-a834-947c3470c63f',\n",
       "   'name': '_ibl_experiment.description.yaml',\n",
       "   'dataset_type': '_ibl_experiment.description',\n",
       "   'data_url': 'https://ibl.flatironinstitute.org/cortexlab/Subjects/CQ005/2025-03-17/001/_ibl_experiment.description.918e977c-eaaf-49b9-a834-947c3470c63f.yaml',\n",
       "   'url': 'https://alyx.internationalbrainlab.org/datasets/918e977c-eaaf-49b9-a834-947c3470c63f',\n",
       "   'file_size': 485,\n",
       "   'hash': '685c41d1899af46b8bd708c34e36a22b',\n",
       "   'version': '3.3.0',\n",
       "   'collection': '',\n",
       "   'revision': '',\n",
       "   'default_revision': 'True',\n",
       "   'qc': 'NOT_SET'},\n",
       "  {'id': '9467dd08-cdcb-409e-87e7-f86e5302372d',\n",
       "   'name': '_iblrig_taskSettings.raw.json',\n",
       "   'dataset_type': '_iblrig_taskSettings.raw',\n",
       "   'data_url': 'https://ibl.flatironinstitute.org/cortexlab/Subjects/CQ005/2025-03-17/001/raw_task_data_00/_iblrig_taskSettings.raw.9467dd08-cdcb-409e-87e7-f86e5302372d.json',\n",
       "   'url': 'https://alyx.internationalbrainlab.org/datasets/9467dd08-cdcb-409e-87e7-f86e5302372d',\n",
       "   'file_size': 4657,\n",
       "   'hash': '2df9b1fef846b3df114661633645cd83',\n",
       "   'version': '3.3.0',\n",
       "   'collection': 'raw_task_data_00',\n",
       "   'revision': '',\n",
       "   'default_revision': 'True',\n",
       "   'qc': 'NOT_SET'},\n",
       "  {'id': '9becff04-179d-44ba-869f-c8e4d943bdb2',\n",
       "   'name': '_iblmic_audioSpectrogram.power.npy',\n",
       "   'dataset_type': '_iblmic_audioSpectrogram.power',\n",
       "   'data_url': 'https://ibl.flatironinstitute.org/cortexlab/Subjects/CQ005/2025-03-17/001/raw_task_data_00/_iblmic_audioSpectrogram.power.9becff04-179d-44ba-869f-c8e4d943bdb2.npy',\n",
       "   'url': 'https://alyx.internationalbrainlab.org/datasets/9becff04-179d-44ba-869f-c8e4d943bdb2',\n",
       "   'file_size': 4476040,\n",
       "   'hash': '6b9e982a92054c61ffc973dcb26dae85',\n",
       "   'version': '3.3.0',\n",
       "   'collection': 'raw_task_data_00',\n",
       "   'revision': '',\n",
       "   'default_revision': 'True',\n",
       "   'qc': 'NOT_SET'},\n",
       "  {'id': '9dfdc9e7-423e-46d3-981a-be34bfc94112',\n",
       "   'name': '_iblrig_encoderTrialInfo.raw.ssv',\n",
       "   'dataset_type': '_iblrig_encoderTrialInfo.raw',\n",
       "   'data_url': 'https://ibl.flatironinstitute.org/cortexlab/Subjects/CQ005/2025-03-17/001/raw_task_data_00/_iblrig_encoderTrialInfo.raw.9dfdc9e7-423e-46d3-981a-be34bfc94112.ssv',\n",
       "   'url': 'https://alyx.internationalbrainlab.org/datasets/9dfdc9e7-423e-46d3-981a-be34bfc94112',\n",
       "   'file_size': 47077,\n",
       "   'hash': 'ea1cba30356f6309dbe2789dbc91b8e3',\n",
       "   'version': '3.3.0',\n",
       "   'collection': 'raw_task_data_00',\n",
       "   'revision': '',\n",
       "   'default_revision': 'True',\n",
       "   'qc': 'NOT_SET'},\n",
       "  {'id': 'a300cde1-3e88-4e9b-977b-d6a86a062fad',\n",
       "   'name': '_ibl_wheel.position.npy',\n",
       "   'dataset_type': 'wheel.position',\n",
       "   'data_url': 'https://ibl.flatironinstitute.org/cortexlab/Subjects/CQ005/2025-03-17/001/alf/task_00/_ibl_wheel.position.a300cde1-3e88-4e9b-977b-d6a86a062fad.npy',\n",
       "   'url': 'https://alyx.internationalbrainlab.org/datasets/a300cde1-3e88-4e9b-977b-d6a86a062fad',\n",
       "   'file_size': 3070848,\n",
       "   'hash': 'e6d3ae31a452c412bd1e99d276ef74c1',\n",
       "   'version': '3.3.0',\n",
       "   'collection': 'alf/task_00',\n",
       "   'revision': '',\n",
       "   'default_revision': 'True',\n",
       "   'qc': 'NOT_SET'},\n",
       "  {'id': 'bea3ff3e-7334-4714-8af2-01343de3fc4a',\n",
       "   'name': '_ibl_trials.stimOffTrigger_times.npy',\n",
       "   'dataset_type': '_ibl_trials.stimOffTrigger_times',\n",
       "   'data_url': 'https://ibl.flatironinstitute.org/cortexlab/Subjects/CQ005/2025-03-17/001/alf/task_00/_ibl_trials.stimOffTrigger_times.bea3ff3e-7334-4714-8af2-01343de3fc4a.npy',\n",
       "   'url': 'https://alyx.internationalbrainlab.org/datasets/bea3ff3e-7334-4714-8af2-01343de3fc4a',\n",
       "   'file_size': 5200,\n",
       "   'hash': 'ce614f9e54fe40be830ebdd280730682',\n",
       "   'version': '3.3.0',\n",
       "   'collection': 'alf/task_00',\n",
       "   'revision': '',\n",
       "   'default_revision': 'True',\n",
       "   'qc': 'NOT_SET'},\n",
       "  {'id': 'ccc7448e-b90e-4212-a075-da935d04fcbd',\n",
       "   'name': '_ibl_trials.quiescencePeriod.npy',\n",
       "   'dataset_type': '_ibl_trials.quiescencePeriod',\n",
       "   'data_url': 'https://ibl.flatironinstitute.org/cortexlab/Subjects/CQ005/2025-03-17/001/alf/task_00/_ibl_trials.quiescencePeriod.ccc7448e-b90e-4212-a075-da935d04fcbd.npy',\n",
       "   'url': 'https://alyx.internationalbrainlab.org/datasets/ccc7448e-b90e-4212-a075-da935d04fcbd',\n",
       "   'file_size': 5200,\n",
       "   'hash': 'bb4defa1d8f0c7d7116454f86feb1156',\n",
       "   'version': '3.3.0',\n",
       "   'collection': 'alf/task_00',\n",
       "   'revision': '',\n",
       "   'default_revision': 'True',\n",
       "   'qc': 'NOT_SET'},\n",
       "  {'id': 'd854aada-0ceb-46fd-8e54-3180eae71067',\n",
       "   'name': '_ibl_wheel.timestamps.npy',\n",
       "   'dataset_type': 'wheel.timestamps',\n",
       "   'data_url': 'https://ibl.flatironinstitute.org/cortexlab/Subjects/CQ005/2025-03-17/001/alf/task_00/_ibl_wheel.timestamps.d854aada-0ceb-46fd-8e54-3180eae71067.npy',\n",
       "   'url': 'https://alyx.internationalbrainlab.org/datasets/d854aada-0ceb-46fd-8e54-3180eae71067',\n",
       "   'file_size': 3070848,\n",
       "   'hash': '6b7e609fe1c5ae048f867462bc012ace',\n",
       "   'version': '3.3.0',\n",
       "   'collection': 'alf/task_00',\n",
       "   'revision': '',\n",
       "   'default_revision': 'True',\n",
       "   'qc': 'NOT_SET'},\n",
       "  {'id': 'fdc2c905-cf00-45be-baec-7e89248abfd6',\n",
       "   'name': '_iblrig_taskData.raw.jsonable',\n",
       "   'dataset_type': '_iblrig_taskData.raw',\n",
       "   'data_url': 'https://ibl.flatironinstitute.org/cortexlab/Subjects/CQ005/2025-03-17/001/raw_task_data_00/_iblrig_taskData.raw.fdc2c905-cf00-45be-baec-7e89248abfd6.jsonable',\n",
       "   'url': 'https://alyx.internationalbrainlab.org/datasets/fdc2c905-cf00-45be-baec-7e89248abfd6',\n",
       "   'file_size': 10878144,\n",
       "   'hash': 'fc384f654e538885c29cacf645161d67',\n",
       "   'version': '3.3.0',\n",
       "   'collection': 'raw_task_data_00',\n",
       "   'revision': '',\n",
       "   'default_revision': 'True',\n",
       "   'qc': 'NOT_SET'},\n",
       "  {'id': '0c36cbea-5030-4d95-aecc-ff329f3eb750',\n",
       "   'name': '_iblmic_audioSpectrogram.times_mic.npy',\n",
       "   'dataset_type': '_iblmic_audioSpectrogram.times_mic',\n",
       "   'data_url': 'https://ibl.flatironinstitute.org/cortexlab/Subjects/CQ005/2025-03-17/001/raw_task_data_00/_iblmic_audioSpectrogram.times_mic.0c36cbea-5030-4d95-aecc-ff329f3eb750.npy',\n",
       "   'url': 'https://alyx.internationalbrainlab.org/datasets/0c36cbea-5030-4d95-aecc-ff329f3eb750',\n",
       "   'file_size': 17544,\n",
       "   'hash': 'addb5f665e85a8b655e9db3891680c1c',\n",
       "   'version': '3.3.0',\n",
       "   'collection': 'raw_task_data_00',\n",
       "   'revision': '',\n",
       "   'default_revision': 'True',\n",
       "   'qc': 'NOT_SET'},\n",
       "  {'id': '67c2de05-1c98-49a7-a506-e189be0844e5',\n",
       "   'name': '_iblmic_audioSpectrogram.frequencies.npy',\n",
       "   'dataset_type': '_iblmic_audioSpectrogram.frequencies',\n",
       "   'data_url': 'https://ibl.flatironinstitute.org/cortexlab/Subjects/CQ005/2025-03-17/001/raw_task_data_00/_iblmic_audioSpectrogram.frequencies.67c2de05-1c98-49a7-a506-e189be0844e5.npy',\n",
       "   'url': 'https://alyx.internationalbrainlab.org/datasets/67c2de05-1c98-49a7-a506-e189be0844e5',\n",
       "   'file_size': 1156,\n",
       "   'hash': '122dd32aed72580d0ae47ae16fec37f9',\n",
       "   'version': '3.3.0',\n",
       "   'collection': 'raw_task_data_00',\n",
       "   'revision': '',\n",
       "   'default_revision': 'True',\n",
       "   'qc': 'NOT_SET'},\n",
       "  {'id': '73b7ee7b-224f-4994-9095-c7b31acab9c1',\n",
       "   'name': '_iblrig_leftCamera.frameData.bin',\n",
       "   'dataset_type': '_iblrig_Camera.frameData',\n",
       "   'data_url': 'https://ibl.flatironinstitute.org/cortexlab/Subjects/CQ005/2025-03-17/001/raw_video_data/_iblrig_leftCamera.frameData.73b7ee7b-224f-4994-9095-c7b31acab9c1.bin',\n",
       "   'url': 'https://alyx.internationalbrainlab.org/datasets/73b7ee7b-224f-4994-9095-c7b31acab9c1',\n",
       "   'file_size': 9057152,\n",
       "   'hash': 'bd396de491293b18e3a3d30ad06a17c1',\n",
       "   'version': '3.3.0',\n",
       "   'collection': 'raw_video_data',\n",
       "   'revision': '',\n",
       "   'default_revision': 'True',\n",
       "   'qc': 'NOT_SET'},\n",
       "  {'id': 'ac2b34c7-4856-4aff-b598-c0fdb4c54f0f',\n",
       "   'name': '_iblmic_audioOnsetGoCue.times_mic.npy',\n",
       "   'dataset_type': 'audioOnsetGoCue.times_mic',\n",
       "   'data_url': 'https://ibl.flatironinstitute.org/cortexlab/Subjects/CQ005/2025-03-17/001/raw_task_data_00/_iblmic_audioOnsetGoCue.times_mic.ac2b34c7-4856-4aff-b598-c0fdb4c54f0f.npy',\n",
       "   'url': 'https://alyx.internationalbrainlab.org/datasets/ac2b34c7-4856-4aff-b598-c0fdb4c54f0f',\n",
       "   'file_size': 5264,\n",
       "   'hash': 'bb11fb5df8afe2bf0cb6dde2405a36be',\n",
       "   'version': '3.3.0',\n",
       "   'collection': 'raw_task_data_00',\n",
       "   'revision': '',\n",
       "   'default_revision': 'True',\n",
       "   'qc': 'NOT_SET'},\n",
       "  {'id': 'd33c1a30-61dd-480e-a095-99c425ca9965',\n",
       "   'name': '_ibl_wheelMoves.peakAmplitude.npy',\n",
       "   'dataset_type': 'wheelMoves.peakAmplitude',\n",
       "   'data_url': 'https://ibl.flatironinstitute.org/cortexlab/Subjects/CQ005/2025-03-17/001/alf/task_00/_ibl_wheelMoves.peakAmplitude.d33c1a30-61dd-480e-a095-99c425ca9965.npy',\n",
       "   'url': 'https://alyx.internationalbrainlab.org/datasets/d33c1a30-61dd-480e-a095-99c425ca9965',\n",
       "   'file_size': 15392,\n",
       "   'hash': '72ee65c7f1f746c2c09c98632c8c10eb',\n",
       "   'version': '3.3.0',\n",
       "   'collection': 'alf/task_00',\n",
       "   'revision': '',\n",
       "   'default_revision': 'True',\n",
       "   'qc': 'NOT_SET'},\n",
       "  {'id': '955e508e-fa22-4fda-9d26-9d509a2d6f5f',\n",
       "   'name': '_ibl_wheelMoves.intervals.npy',\n",
       "   'dataset_type': 'wheelMoves.intervals',\n",
       "   'data_url': 'https://ibl.flatironinstitute.org/cortexlab/Subjects/CQ005/2025-03-17/001/alf/task_00/_ibl_wheelMoves.intervals.955e508e-fa22-4fda-9d26-9d509a2d6f5f.npy',\n",
       "   'url': 'https://alyx.internationalbrainlab.org/datasets/955e508e-fa22-4fda-9d26-9d509a2d6f5f',\n",
       "   'file_size': 30656,\n",
       "   'hash': 'b4914aca2f26c89628db2817c0e397e5',\n",
       "   'version': '3.3.0',\n",
       "   'collection': 'alf/task_00',\n",
       "   'revision': '',\n",
       "   'default_revision': 'True',\n",
       "   'qc': 'NOT_SET'},\n",
       "  {'id': 'bbe0a692-b271-4317-a2d5-e118cdd7897f',\n",
       "   'name': '_ibl_trials.table.pqt',\n",
       "   'dataset_type': 'trials.table',\n",
       "   'data_url': 'https://ibl.flatironinstitute.org/cortexlab/Subjects/CQ005/2025-03-17/001/alf/task_00/_ibl_trials.table.bbe0a692-b271-4317-a2d5-e118cdd7897f.pqt',\n",
       "   'url': 'https://alyx.internationalbrainlab.org/datasets/bbe0a692-b271-4317-a2d5-e118cdd7897f',\n",
       "   'file_size': 51499,\n",
       "   'hash': 'df162c2b43b24125e543f5becc94e81c',\n",
       "   'version': '3.3.0',\n",
       "   'collection': 'alf/task_00',\n",
       "   'revision': '',\n",
       "   'default_revision': 'True',\n",
       "   'qc': 'WARNING'}],\n",
       " 'auto_datetime': '2025-03-19T23:08:23.592000',\n",
       " 'id': 'cad34b7a-ce47-4963-9a1a-dc3a9ca92e3e',\n",
       " 'json': {'IS_MOCK': False,\n",
       "  'POOP_COUNT': 4,\n",
       "  'IBLRIG_VERSION': '8.27.4',\n",
       "  'sign_off_checklist': {'_microphone': None,\n",
       "   '_cameras_left': None,\n",
       "   '__iblrig_tasks_trainingChoiceWorld_00': None},\n",
       "  'SESSION_DELAY_START': 0,\n",
       "  'PROJECT_EXTRACTION_VERSION': '0.3.0'},\n",
       " 'probe_insertion': [],\n",
       " 'field_of_view': [],\n",
       " 'notes': []}"
      ]
     },
     "execution_count": 18,
     "metadata": {},
     "output_type": "execute_result"
    }
   ],
   "source": [
    "session_dict"
   ]
  },
  {
   "cell_type": "code",
   "execution_count": 128,
   "id": "4be6b93f-19d1-4844-86cd-e7c2fbc7afe3",
   "metadata": {},
   "outputs": [],
   "source": [
    "raw_photometry_datasets = [\n",
    "    'raw_photometry_data/_neurophotometrics_fpData.channels.csv',\n",
    "    'raw_photometry_data/_neurophotometrics_fpData.raw.pqt'\n",
    "]\n",
    "\n",
    "extracted_photometry_datasets = [\n",
    "    'alf/photometry/photometry.signal.pqt',\n",
    "    'alf/photometry/photometryROI.locations.pqt'\n",
    "]\n",
    "\n",
    "df_sessions['photometry_extracted'] = df_sessions.apply(lambda x: x[extracted_photometry_datasets].all(), axis='columns')\n",
    "df_extracted = df_sessions.query('photometry_extracted == True').copy()"
   ]
  },
  {
   "cell_type": "markdown",
   "id": "919349a5-299c-4a2b-8475-185aa610ae00",
   "metadata": {},
   "source": [
    "## KB data on local server"
   ]
  },
  {
   "cell_type": "code",
   "execution_count": 12,
   "id": "de585a91-0323-46b1-8df3-2e46e581142f",
   "metadata": {},
   "outputs": [],
   "source": [
    "target2genotype = {\n",
    "    'VTA': 'DAT-Cre',\n",
    "    'SNc': 'DAT-Cre',\n",
    "    'DR': 'SERT-Cre',\n",
    "    'MR': 'SERT-Cre',\n",
    "    'LC': 'DbH-Cre',\n",
    "    'NBM': 'ChAT-Cre',\n",
    "    'SI': 'ChAT-Cre'\n",
    "}\n",
    "\n",
    "df_insertions = pd.read_csv('insertions.csv').set_index('subject')\n",
    "\n",
    "def _get_genotype(series, df_insertions=df_insertions):\n",
    "    try:\n",
    "        target = df_insertions.loc[series['subject']]['targeted_regions']\n",
    "        if isinstance(target, pd.Series):\n",
    "            target = target.iloc[0]\n",
    "        genotype = target2genotype[target]\n",
    "    except KeyError:\n",
    "        genotype = 'unknown'\n",
    "    return genotype\n",
    "\n",
    "df_recordings['genotype'] = df_recordings.apply(_get_genotype, axis='columns')"
   ]
  },
  {
   "cell_type": "code",
   "execution_count": 14,
   "id": "291c2b8a-d534-4e47-9bf4-cf368bf5852e",
   "metadata": {},
   "outputs": [
    {
     "name": "stderr",
     "output_type": "stream",
     "text": [
      "/tmp/ipykernel_14629/2944090011.py:1: DeprecationWarning: DataFrameGroupBy.apply operated on the grouping columns. This behavior is deprecated, and in a future version of pandas the grouping columns will be excluded from the operation. Either pass `include_groups=False` to exclude the groupings or explicitly select the grouping columns after groupby to silence this warning.\n",
      "  n_sessions = df_recordings.groupby('subject').apply(len)\n",
      "/tmp/ipykernel_14629/2944090011.py:2: DeprecationWarning: DataFrameGroupBy.apply operated on the grouping columns. This behavior is deprecated, and in a future version of pandas the grouping columns will be excluded from the operation. Either pass `include_groups=False` to exclude the groupings or explicitly select the grouping columns after groupby to silence this warning.\n",
      "  bias = df_recordings.groupby('subject').apply(lambda x: any(['bias' in pr for pr in x['task_protocol']]))\n",
      "/tmp/ipykernel_14629/2944090011.py:3: DeprecationWarning: DataFrameGroupBy.apply operated on the grouping columns. This behavior is deprecated, and in a future version of pandas the grouping columns will be excluded from the operation. Either pass `include_groups=False` to exclude the groupings or explicitly select the grouping columns after groupby to silence this warning.\n",
      "  ephys = df_recordings.groupby('subject').apply(lambda x: any(['ephys' in pr for pr in x['task_protocol']]))\n"
     ]
    },
    {
     "data": {
      "text/plain": [
       "<matplotlib.collections.PathCollection at 0x777c11cbfdf0>"
      ]
     },
     "execution_count": 14,
     "metadata": {},
     "output_type": "execute_result"
    },
    {
     "data": {
      "image/png": "[encoded data removed]",
      "text/plain": [
       "<Figure size 800x400 with 2 Axes>"
      ]
     },
     "metadata": {},
     "output_type": "display_data"
    }
   ],
   "source": [
    "n_sessions = df_recordings.groupby('subject').apply(len)\n",
    "bias = df_recordings.groupby('subject').apply(lambda x: any(['bias' in pr for pr in x['task_protocol']]))\n",
    "ephys = df_recordings.groupby('subject').apply(lambda x: any(['ephys' in pr for pr in x['task_protocol']]))\n",
    "\n",
    "fig = plt.figure(figsize=(8, 4))\n",
    "\n",
    "genotype2color = {\n",
    "    'DAT-Cre': 'cornflowerblue',\n",
    "    'SERT-Cre': 'mediumpurple',\n",
    "    'DbH-Cre': 'limegreen',\n",
    "    'ChAT-Cre': 'darkorange',\n",
    "    'unknown': 'gray'\n",
    "}\n",
    "\n",
    "colors = [genotype2color[subject['genotype'].iloc[0]] for _, subject in df_recordings.groupby('subject')] \n",
    "ax = fig.add_axes([0.1, 0.1, 0.65, 0.8])\n",
    "for genotype, color in genotype2color.items():\n",
    "    ax.scatter(-1, -1, color=color, label=genotype)\n",
    "ax.bar(np.arange(len(n_sessions)), n_sessions.values, color=colors)\n",
    "ax.set_xticks(np.arange(len(n_sessions)))\n",
    "ax.set_xticklabels(n_sessions.index)\n",
    "ax.tick_params(axis='x', labelrotation=90)\n",
    "ax.set_yticks([0, 50, 100, 150])\n",
    "ax.set_ylim([0, 160])\n",
    "ax.set_ylabel('N Sessions')\n",
    "ax.legend(ncols=3, loc='lower left', bbox_to_anchor=(0, 1))\n",
    "\n",
    "ax_hist = fig.add_axes([0.75, 0.1, 0.1, 0.8])\n",
    "ax_hist.hist(n_sessions, bins=np.linspace(0, 150, 16), orientation='horizontal', color='gray')\n",
    "ax_hist.set_xlabel('N Mice')\n",
    "ax_hist.yaxis.tick_right()\n",
    "ax_hist.set_yticks([0, 50, 100, 160])\n",
    "ax_hist.set_ylim([0, 150])\n",
    "\n",
    "ax.scatter(np.arange(len(n_sessions))[bias], n_sessions.values[bias] + 4, s=10, marker='v', fc='none', ec=np.array(colors)[bias])\n",
    "ax.scatter(np.arange(len(n_sessions))[ephys], n_sessions.values[ephys] + 4, s=10, marker='v', ec='none', fc=np.array(colors)[ephys])\n"
   ]
  },
  {
   "cell_type": "code",
   "execution_count": null,
   "id": "8ae13da3-8eec-4a82-9f79-701d619e2afa",
   "metadata": {
    "scrolled": true
   },
   "outputs": [
    {
     "data": {
      "application/vnd.jupyter.widget-view+json": {
       "model_id": "6501d396b5874f27a42cfa7f4bb49837",
       "version_major": 2,
       "version_minor": 0
      },
      "text/plain": [
       "  0%|          | 0/2446 [00:00<?, ?it/s]"
      ]
     },
     "metadata": {},
     "output_type": "display_data"
    },
    {
     "name": "stderr",
     "output_type": "stream",
     "text": [
      "\n",
      "(S3) /home/crombie/Downloads/ONE/alyx.internationalbrainlab.org/cortexlab/Subjec\u001b[A\n",
      "(S3) /home/crombie/Downloads/ONE/alyx.internationalbrainlab.org/cortexlab/Subjec\u001b[A\n",
      "\n",
      "(S3) /home/crombie/Downloads/ONE/alyx.internationalbrainlab.org/cortexlab/Subjec\u001b[A\n",
      "(S3) /home/crombie/Downloads/ONE/alyx.internationalbrainlab.org/cortexlab/Subjec\u001b[A\n",
      "\n",
      "(S3) /home/crombie/Downloads/ONE/alyx.internationalbrainlab.org/cortexlab/Subjec\u001b[A\n",
      "(S3) /home/crombie/Downloads/ONE/alyx.internationalbrainlab.org/cortexlab/Subjec\u001b[A\n",
      "\n",
      "(S3) /home/crombie/Downloads/ONE/alyx.internationalbrainlab.org/cortexlab/Subjec\u001b[A\n",
      "(S3) /home/crombie/Downloads/ONE/alyx.internationalbrainlab.org/cortexlab/Subjec\u001b[A\n",
      "\n",
      "(S3) /home/crombie/Downloads/ONE/alyx.internationalbrainlab.org/cortexlab/Subjec\u001b[A\n",
      "(S3) /home/crombie/Downloads/ONE/alyx.internationalbrainlab.org/cortexlab/Subjec\u001b[A\n",
      "\n",
      "(S3) /home/crombie/Downloads/ONE/alyx.internationalbrainlab.org/cortexlab/Subjec\u001b[A\n",
      "(S3) /home/crombie/Downloads/ONE/alyx.internationalbrainlab.org/cortexlab/Subjec\u001b[A\n",
      "\n",
      "(S3) /home/crombie/Downloads/ONE/alyx.internationalbrainlab.org/cortexlab/Subjec\u001b[A\n",
      "(S3) /home/crombie/Downloads/ONE/alyx.internationalbrainlab.org/cortexlab/Subjec\u001b[A\n",
      "\n",
      "(S3) /home/crombie/Downloads/ONE/alyx.internationalbrainlab.org/cortexlab/Subjec\u001b[A\n",
      "(S3) /home/crombie/Downloads/ONE/alyx.internationalbrainlab.org/cortexlab/Subjec\u001b[A\n",
      "\n",
      "(S3) /home/crombie/Downloads/ONE/alyx.internationalbrainlab.org/cortexlab/Subjec\u001b[A\n",
      "(S3) /home/crombie/Downloads/ONE/alyx.internationalbrainlab.org/cortexlab/Subjec\u001b[A\n",
      "\n",
      "(S3) /home/crombie/Downloads/ONE/alyx.internationalbrainlab.org/cortexlab/Subjec\u001b[A\n",
      "(S3) /home/crombie/Downloads/ONE/alyx.internationalbrainlab.org/cortexlab/Subjec\u001b[A\n",
      "\n",
      "(S3) /home/crombie/Downloads/ONE/alyx.internationalbrainlab.org/cortexlab/Subjec\u001b[A\n",
      "(S3) /home/crombie/Downloads/ONE/alyx.internationalbrainlab.org/cortexlab/Subjec\u001b[A\n",
      "\n",
      "(S3) /home/crombie/Downloads/ONE/alyx.internationalbrainlab.org/cortexlab/Subjec\u001b[A\n",
      "(S3) /home/crombie/Downloads/ONE/alyx.internationalbrainlab.org/cortexlab/Subjec\u001b[A\n",
      "\n",
      "(S3) /home/crombie/Downloads/ONE/alyx.internationalbrainlab.org/cortexlab/Subjec\u001b[A\n",
      "(S3) /home/crombie/Downloads/ONE/alyx.internationalbrainlab.org/cortexlab/Subjec\u001b[A\n",
      "\n",
      "(S3) /home/crombie/Downloads/ONE/alyx.internationalbrainlab.org/cortexlab/Subjec\u001b[A\n",
      "(S3) /home/crombie/Downloads/ONE/alyx.internationalbrainlab.org/cortexlab/Subjec\u001b[A\n",
      "\n",
      "(S3) /home/crombie/Downloads/ONE/alyx.internationalbrainlab.org/cortexlab/Subjec\u001b[A\n",
      "(S3) /home/crombie/Downloads/ONE/alyx.internationalbrainlab.org/cortexlab/Subjec\u001b[A\n",
      "\n",
      "(S3) /home/crombie/Downloads/ONE/alyx.internationalbrainlab.org/cortexlab/Subjec\u001b[A\n",
      "(S3) /home/crombie/Downloads/ONE/alyx.internationalbrainlab.org/cortexlab/Subjec\u001b[A\n",
      "\n",
      "(S3) /home/crombie/Downloads/ONE/alyx.internationalbrainlab.org/cortexlab/Subjec\u001b[A\n",
      "(S3) /home/crombie/Downloads/ONE/alyx.internationalbrainlab.org/cortexlab/Subjec\u001b[A\n",
      "\n",
      "(S3) /home/crombie/Downloads/ONE/alyx.internationalbrainlab.org/cortexlab/Subjec\u001b[A\n",
      "(S3) /home/crombie/Downloads/ONE/alyx.internationalbrainlab.org/cortexlab/Subjec\u001b[A\n",
      "\n",
      "(S3) /home/crombie/Downloads/ONE/alyx.internationalbrainlab.org/cortexlab/Subjec\u001b[A\n",
      "(S3) /home/crombie/Downloads/ONE/alyx.internationalbrainlab.org/cortexlab/Subjec\u001b[A\n",
      "\n",
      "(S3) /home/crombie/Downloads/ONE/alyx.internationalbrainlab.org/cortexlab/Subjec\u001b[A\n",
      "(S3) /home/crombie/Downloads/ONE/alyx.internationalbrainlab.org/cortexlab/Subjec\u001b[A\n",
      "\n",
      "(S3) /home/crombie/Downloads/ONE/alyx.internationalbrainlab.org/cortexlab/Subjec\u001b[A\n",
      "(S3) /home/crombie/Downloads/ONE/alyx.internationalbrainlab.org/cortexlab/Subjec\u001b[A\n",
      "\n",
      "(S3) /home/crombie/Downloads/ONE/alyx.internationalbrainlab.org/cortexlab/Subjec\u001b[A\n",
      "(S3) /home/crombie/Downloads/ONE/alyx.internationalbrainlab.org/cortexlab/Subjec\u001b[A\n",
      "\n",
      "(S3) /home/crombie/Downloads/ONE/alyx.internationalbrainlab.org/cortexlab/Subjec\u001b[A\n",
      "(S3) /home/crombie/Downloads/ONE/alyx.internationalbrainlab.org/cortexlab/Subjec\u001b[A\n",
      "\n",
      "(S3) /home/crombie/Downloads/ONE/alyx.internationalbrainlab.org/cortexlab/Subjec\u001b[A\n",
      "(S3) /home/crombie/Downloads/ONE/alyx.internationalbrainlab.org/cortexlab/Subjec\u001b[A\n",
      "\n",
      "(S3) /home/crombie/Downloads/ONE/alyx.internationalbrainlab.org/cortexlab/Subjec\u001b[A\n",
      "(S3) /home/crombie/Downloads/ONE/alyx.internationalbrainlab.org/cortexlab/Subjec\u001b[A\n",
      "\n",
      "(S3) /home/crombie/Downloads/ONE/alyx.internationalbrainlab.org/cortexlab/Subjec\u001b[A\n",
      "(S3) /home/crombie/Downloads/ONE/alyx.internationalbrainlab.org/cortexlab/Subjec\u001b[A\n",
      "\n",
      "(S3) /home/crombie/Downloads/ONE/alyx.internationalbrainlab.org/cortexlab/Subjec\u001b[A\n",
      "(S3) /home/crombie/Downloads/ONE/alyx.internationalbrainlab.org/cortexlab/Subjec\u001b[A\n",
      "\n",
      "(S3) /home/crombie/Downloads/ONE/alyx.internationalbrainlab.org/cortexlab/Subjec\u001b[A\n",
      "(S3) /home/crombie/Downloads/ONE/alyx.internationalbrainlab.org/cortexlab/Subjec\u001b[A\n",
      "\n",
      "(S3) /home/crombie/Downloads/ONE/alyx.internationalbrainlab.org/cortexlab/Subjec\u001b[A\n",
      "(S3) /home/crombie/Downloads/ONE/alyx.internationalbrainlab.org/cortexlab/Subjec\u001b[A\n",
      "\n",
      "(S3) /home/crombie/Downloads/ONE/alyx.internationalbrainlab.org/cortexlab/Subjec\u001b[A\n",
      "(S3) /home/crombie/Downloads/ONE/alyx.internationalbrainlab.org/cortexlab/Subjec\u001b[A\n",
      "\n",
      "(S3) /home/crombie/Downloads/ONE/alyx.internationalbrainlab.org/cortexlab/Subjec\u001b[A\n",
      "(S3) /home/crombie/Downloads/ONE/alyx.internationalbrainlab.org/cortexlab/Subjec\u001b[A\n",
      "\n",
      "(S3) /home/crombie/Downloads/ONE/alyx.internationalbrainlab.org/cortexlab/Subjec\u001b[A\n",
      "(S3) /home/crombie/Downloads/ONE/alyx.internationalbrainlab.org/cortexlab/Subjec\u001b[A\n",
      "\n",
      "(S3) /home/crombie/Downloads/ONE/alyx.internationalbrainlab.org/cortexlab/Subjec\u001b[A\n",
      "(S3) /home/crombie/Downloads/ONE/alyx.internationalbrainlab.org/cortexlab/Subjec\u001b[A\n",
      "\n",
      "(S3) /home/crombie/Downloads/ONE/alyx.internationalbrainlab.org/cortexlab/Subjec\u001b[A\n",
      "(S3) /home/crombie/Downloads/ONE/alyx.internationalbrainlab.org/cortexlab/Subjec\u001b[A\n",
      "\n",
      "(S3) /home/crombie/Downloads/ONE/alyx.internationalbrainlab.org/cortexlab/Subjec\u001b[A\n",
      "(S3) /home/crombie/Downloads/ONE/alyx.internationalbrainlab.org/cortexlab/Subjec\u001b[A\n",
      "\n",
      "(S3) /home/crombie/Downloads/ONE/alyx.internationalbrainlab.org/cortexlab/Subjec\u001b[A\n",
      "(S3) /home/crombie/Downloads/ONE/alyx.internationalbrainlab.org/cortexlab/Subjec\u001b[A\n",
      "\n",
      "(S3) /home/crombie/Downloads/ONE/alyx.internationalbrainlab.org/cortexlab/Subjec\u001b[A\n",
      "(S3) /home/crombie/Downloads/ONE/alyx.internationalbrainlab.org/cortexlab/Subjec\u001b[A\n",
      "\n",
      "(S3) /home/crombie/Downloads/ONE/alyx.internationalbrainlab.org/cortexlab/Subjec\u001b[A\n",
      "(S3) /home/crombie/Downloads/ONE/alyx.internationalbrainlab.org/cortexlab/Subjec\u001b[A\n",
      "\n",
      "(S3) /home/crombie/Downloads/ONE/alyx.internationalbrainlab.org/cortexlab/Subjec\u001b[A\n",
      "(S3) /home/crombie/Downloads/ONE/alyx.internationalbrainlab.org/cortexlab/Subjec\u001b[A\n",
      "\n",
      "(S3) /home/crombie/Downloads/ONE/alyx.internationalbrainlab.org/cortexlab/Subjec\u001b[A\n",
      "(S3) /home/crombie/Downloads/ONE/alyx.internationalbrainlab.org/cortexlab/Subjec\u001b[A\n",
      "\n",
      "(S3) /home/crombie/Downloads/ONE/alyx.internationalbrainlab.org/cortexlab/Subjec\u001b[A\n",
      "(S3) /home/crombie/Downloads/ONE/alyx.internationalbrainlab.org/cortexlab/Subjec\u001b[A\n",
      "\n",
      "(S3) /home/crombie/Downloads/ONE/alyx.internationalbrainlab.org/cortexlab/Subjec\u001b[A\n",
      "(S3) /home/crombie/Downloads/ONE/alyx.internationalbrainlab.org/cortexlab/Subjec\u001b[A\n",
      "\n",
      "(S3) /home/crombie/Downloads/ONE/alyx.internationalbrainlab.org/cortexlab/Subjec\u001b[A\n",
      "(S3) /home/crombie/Downloads/ONE/alyx.internationalbrainlab.org/cortexlab/Subjec\u001b[A\n",
      "\n",
      "(S3) /home/crombie/Downloads/ONE/alyx.internationalbrainlab.org/cortexlab/Subjec\u001b[A\n",
      "(S3) /home/crombie/Downloads/ONE/alyx.internationalbrainlab.org/cortexlab/Subjec\u001b[A\n",
      "\n",
      "(S3) /home/crombie/Downloads/ONE/alyx.internationalbrainlab.org/cortexlab/Subjec\u001b[A\n",
      "(S3) /home/crombie/Downloads/ONE/alyx.internationalbrainlab.org/cortexlab/Subjec\u001b[A\n",
      "\n",
      "(S3) /home/crombie/Downloads/ONE/alyx.internationalbrainlab.org/cortexlab/Subjec\u001b[A\n",
      "(S3) /home/crombie/Downloads/ONE/alyx.internationalbrainlab.org/cortexlab/Subjec\u001b[A\n",
      "\n",
      "(S3) /home/crombie/Downloads/ONE/alyx.internationalbrainlab.org/cortexlab/Subjec\u001b[A\n",
      "(S3) /home/crombie/Downloads/ONE/alyx.internationalbrainlab.org/cortexlab/Subjec\u001b[A\n",
      "\n",
      "(S3) /home/crombie/Downloads/ONE/alyx.internationalbrainlab.org/cortexlab/Subjec\u001b[A\n",
      "(S3) /home/crombie/Downloads/ONE/alyx.internationalbrainlab.org/cortexlab/Subjec\u001b[A\n",
      "\n",
      "(S3) /home/crombie/Downloads/ONE/alyx.internationalbrainlab.org/cortexlab/Subjec\u001b[A\n",
      "(S3) /home/crombie/Downloads/ONE/alyx.internationalbrainlab.org/cortexlab/Subjec\u001b[A\n",
      "\n",
      "(S3) /home/crombie/Downloads/ONE/alyx.internationalbrainlab.org/cortexlab/Subjec\u001b[A\n",
      "(S3) /home/crombie/Downloads/ONE/alyx.internationalbrainlab.org/cortexlab/Subjec\u001b[A\n",
      "\n",
      "(S3) /home/crombie/Downloads/ONE/alyx.internationalbrainlab.org/cortexlab/Subjec\u001b[A\n",
      "(S3) /home/crombie/Downloads/ONE/alyx.internationalbrainlab.org/cortexlab/Subjec\u001b[A\n",
      "\n",
      "(S3) /home/crombie/Downloads/ONE/alyx.internationalbrainlab.org/cortexlab/Subjec\u001b[A\n",
      "(S3) /home/crombie/Downloads/ONE/alyx.internationalbrainlab.org/cortexlab/Subjec\u001b[A\n",
      "\n",
      "(S3) /home/crombie/Downloads/ONE/alyx.internationalbrainlab.org/cortexlab/Subjec\u001b[A\n",
      "(S3) /home/crombie/Downloads/ONE/alyx.internationalbrainlab.org/cortexlab/Subjec\u001b[A\n",
      "\n",
      "(S3) /home/crombie/Downloads/ONE/alyx.internationalbrainlab.org/cortexlab/Subjec\u001b[A\n",
      "(S3) /home/crombie/Downloads/ONE/alyx.internationalbrainlab.org/cortexlab/Subjec\u001b[A\n",
      "\n",
      "(S3) /home/crombie/Downloads/ONE/alyx.internationalbrainlab.org/cortexlab/Subjec\u001b[A\n",
      "(S3) /home/crombie/Downloads/ONE/alyx.internationalbrainlab.org/cortexlab/Subjec\u001b[A\n",
      "\n",
      "(S3) /home/crombie/Downloads/ONE/alyx.internationalbrainlab.org/cortexlab/Subjec\u001b[A\n",
      "(S3) /home/crombie/Downloads/ONE/alyx.internationalbrainlab.org/cortexlab/Subjec\u001b[A\n",
      "\n",
      "(S3) /home/crombie/Downloads/ONE/alyx.internationalbrainlab.org/cortexlab/Subjec\u001b[A\n",
      "(S3) /home/crombie/Downloads/ONE/alyx.internationalbrainlab.org/cortexlab/Subjec\u001b[A\n",
      "\n",
      "(S3) /home/crombie/Downloads/ONE/alyx.internationalbrainlab.org/cortexlab/Subjec\u001b[A\n",
      "(S3) /home/crombie/Downloads/ONE/alyx.internationalbrainlab.org/cortexlab/Subjec\u001b[A\n",
      "\n",
      "(S3) /home/crombie/Downloads/ONE/alyx.internationalbrainlab.org/cortexlab/Subjec\u001b[A\n",
      "(S3) /home/crombie/Downloads/ONE/alyx.internationalbrainlab.org/cortexlab/Subjec\u001b[A\n",
      "\n",
      "(S3) /home/crombie/Downloads/ONE/alyx.internationalbrainlab.org/cortexlab/Subjec\u001b[A\n",
      "(S3) /home/crombie/Downloads/ONE/alyx.internationalbrainlab.org/cortexlab/Subjec\u001b[A\n",
      "\n",
      "(S3) /home/crombie/Downloads/ONE/alyx.internationalbrainlab.org/cortexlab/Subjec\u001b[A\n",
      "(S3) /home/crombie/Downloads/ONE/alyx.internationalbrainlab.org/cortexlab/Subjec\u001b[A\n",
      "\n",
      "(S3) /home/crombie/Downloads/ONE/alyx.internationalbrainlab.org/cortexlab/Subjec\u001b[A\n",
      "(S3) /home/crombie/Downloads/ONE/alyx.internationalbrainlab.org/cortexlab/Subjec\u001b[A\n",
      "\n",
      "(S3) /home/crombie/Downloads/ONE/alyx.internationalbrainlab.org/cortexlab/Subjec\u001b[A\n",
      "(S3) /home/crombie/Downloads/ONE/alyx.internationalbrainlab.org/cortexlab/Subjec\u001b[A\n",
      "\n",
      "(S3) /home/crombie/Downloads/ONE/alyx.internationalbrainlab.org/cortexlab/Subjec\u001b[A\n",
      "(S3) /home/crombie/Downloads/ONE/alyx.internationalbrainlab.org/cortexlab/Subjec\u001b[A\n",
      "\n",
      "(S3) /home/crombie/Downloads/ONE/alyx.internationalbrainlab.org/cortexlab/Subjec\u001b[A\n",
      "(S3) /home/crombie/Downloads/ONE/alyx.internationalbrainlab.org/cortexlab/Subjec\u001b[A\n",
      "\n",
      "(S3) /home/crombie/Downloads/ONE/alyx.internationalbrainlab.org/cortexlab/Subjec\u001b[A\n",
      "(S3) /home/crombie/Downloads/ONE/alyx.internationalbrainlab.org/cortexlab/Subjec\u001b[A\n",
      "\n",
      "(S3) /home/crombie/Downloads/ONE/alyx.internationalbrainlab.org/cortexlab/Subjec\u001b[A\n",
      "(S3) /home/crombie/Downloads/ONE/alyx.internationalbrainlab.org/cortexlab/Subjec\u001b[A\n",
      "\n",
      "(S3) /home/crombie/Downloads/ONE/alyx.internationalbrainlab.org/cortexlab/Subjec\u001b[A\n",
      "(S3) /home/crombie/Downloads/ONE/alyx.internationalbrainlab.org/cortexlab/Subjec\u001b[A\n",
      "\n",
      "(S3) /home/crombie/Downloads/ONE/alyx.internationalbrainlab.org/cortexlab/Subjec\u001b[A\n",
      "(S3) /home/crombie/Downloads/ONE/alyx.internationalbrainlab.org/cortexlab/Subjec\u001b[A\n",
      "\n",
      "(S3) /home/crombie/Downloads/ONE/alyx.internationalbrainlab.org/cortexlab/Subjec\u001b[A\n",
      "(S3) /home/crombie/Downloads/ONE/alyx.internationalbrainlab.org/cortexlab/Subjec\u001b[A\n",
      "\n",
      "(S3) /home/crombie/Downloads/ONE/alyx.internationalbrainlab.org/cortexlab/Subjec\u001b[A\n",
      "(S3) /home/crombie/Downloads/ONE/alyx.internationalbrainlab.org/cortexlab/Subjec\u001b[A\n",
      "\n",
      "(S3) /home/crombie/Downloads/ONE/alyx.internationalbrainlab.org/cortexlab/Subjec\u001b[A\n",
      "(S3) /home/crombie/Downloads/ONE/alyx.internationalbrainlab.org/cortexlab/Subjec\u001b[A\n",
      "\n",
      "(S3) /home/crombie/Downloads/ONE/alyx.internationalbrainlab.org/cortexlab/Subjec\u001b[A\n",
      "(S3) /home/crombie/Downloads/ONE/alyx.internationalbrainlab.org/cortexlab/Subjec\u001b[A\n",
      "\n",
      "(S3) /home/crombie/Downloads/ONE/alyx.internationalbrainlab.org/cortexlab/Subjec\u001b[A\n",
      "(S3) /home/crombie/Downloads/ONE/alyx.internationalbrainlab.org/cortexlab/Subjec\u001b[A\n",
      "\n",
      "(S3) /home/crombie/Downloads/ONE/alyx.internationalbrainlab.org/cortexlab/Subjec\u001b[A\n",
      "(S3) /home/crombie/Downloads/ONE/alyx.internationalbrainlab.org/cortexlab/Subjec\u001b[A\n",
      "\n",
      "(S3) /home/crombie/Downloads/ONE/alyx.internationalbrainlab.org/cortexlab/Subjec\u001b[A\n",
      "(S3) /home/crombie/Downloads/ONE/alyx.internationalbrainlab.org/cortexlab/Subjec\u001b[A\n",
      "\n",
      "(S3) /home/crombie/Downloads/ONE/alyx.internationalbrainlab.org/cortexlab/Subjec\u001b[A\n",
      "(S3) /home/crombie/Downloads/ONE/alyx.internationalbrainlab.org/cortexlab/Subjec\u001b[A\n",
      "\n",
      "(S3) /home/crombie/Downloads/ONE/alyx.internationalbrainlab.org/cortexlab/Subjec\u001b[A\n",
      "(S3) /home/crombie/Downloads/ONE/alyx.internationalbrainlab.org/cortexlab/Subjec\u001b[A\n",
      "\n",
      "(S3) /home/crombie/Downloads/ONE/alyx.internationalbrainlab.org/cortexlab/Subjec\u001b[A\n",
      "(S3) /home/crombie/Downloads/ONE/alyx.internationalbrainlab.org/cortexlab/Subjec\u001b[A\n",
      "\n",
      "(S3) /home/crombie/Downloads/ONE/alyx.internationalbrainlab.org/cortexlab/Subjec\u001b[A\n",
      "(S3) /home/crombie/Downloads/ONE/alyx.internationalbrainlab.org/cortexlab/Subjec\u001b[A\n",
      "\n",
      "(S3) /home/crombie/Downloads/ONE/alyx.internationalbrainlab.org/cortexlab/Subjec\u001b[A\n",
      "(S3) /home/crombie/Downloads/ONE/alyx.internationalbrainlab.org/cortexlab/Subjec\u001b[A\n",
      "\n",
      "(S3) /home/crombie/Downloads/ONE/alyx.internationalbrainlab.org/cortexlab/Subjec\u001b[A\n",
      "(S3) /home/crombie/Downloads/ONE/alyx.internationalbrainlab.org/cortexlab/Subjec\u001b[A\n",
      "\n",
      "(S3) /home/crombie/Downloads/ONE/alyx.internationalbrainlab.org/cortexlab/Subjec\u001b[A\n",
      "(S3) /home/crombie/Downloads/ONE/alyx.internationalbrainlab.org/cortexlab/Subjec\u001b[A\n",
      "\n",
      "(S3) /home/crombie/Downloads/ONE/alyx.internationalbrainlab.org/cortexlab/Subjec\u001b[A\n",
      "(S3) /home/crombie/Downloads/ONE/alyx.internationalbrainlab.org/cortexlab/Subjec\u001b[A\n",
      "\n",
      "(S3) /home/crombie/Downloads/ONE/alyx.internationalbrainlab.org/cortexlab/Subjec\u001b[A\n",
      "(S3) /home/crombie/Downloads/ONE/alyx.internationalbrainlab.org/cortexlab/Subjec\u001b[A\n",
      "\n",
      "(S3) /home/crombie/Downloads/ONE/alyx.internationalbrainlab.org/cortexlab/Subjec\u001b[A\n",
      "(S3) /home/crombie/Downloads/ONE/alyx.internationalbrainlab.org/cortexlab/Subjec\u001b[A\n",
      "\n",
      "(S3) /home/crombie/Downloads/ONE/alyx.internationalbrainlab.org/cortexlab/Subjec\u001b[A\n",
      "(S3) /home/crombie/Downloads/ONE/alyx.internationalbrainlab.org/cortexlab/Subjec\u001b[A\n",
      "\n",
      "(S3) /home/crombie/Downloads/ONE/alyx.internationalbrainlab.org/cortexlab/Subjec\u001b[A\n",
      "(S3) /home/crombie/Downloads/ONE/alyx.internationalbrainlab.org/cortexlab/Subjec\u001b[A\n",
      "\n",
      "(S3) /home/crombie/Downloads/ONE/alyx.internationalbrainlab.org/cortexlab/Subjec\u001b[A\n",
      "(S3) /home/crombie/Downloads/ONE/alyx.internationalbrainlab.org/cortexlab/Subjec\u001b[A\n",
      "\n",
      "(S3) /home/crombie/Downloads/ONE/alyx.internationalbrainlab.org/mainenlab/Subjec\u001b[A\n",
      "(S3) /home/crombie/Downloads/ONE/alyx.internationalbrainlab.org/mainenlab/Subjec\u001b[A\n",
      "\n",
      "(S3) /home/crombie/Downloads/ONE/alyx.internationalbrainlab.org/mainenlab/Subjec\u001b[A\n",
      "(S3) /home/crombie/Downloads/ONE/alyx.internationalbrainlab.org/mainenlab/Subjec\u001b[A\n",
      "\n",
      "(S3) /home/crombie/Downloads/ONE/alyx.internationalbrainlab.org/mainenlab/Subjec\u001b[A\n",
      "(S3) /home/crombie/Downloads/ONE/alyx.internationalbrainlab.org/mainenlab/Subjec\u001b[A\n"
     ]
    },
    {
     "name": "stdout",
     "output_type": "stream",
     "text": [
      "Downloading: /home/crombie/Downloads/ONE/alyx.internationalbrainlab.org/mainenlab/Subjects/ZFM-06948/2024-03-28/001/alf/task_00/_ibl_trials.table.fda945f7-1df1-45e6-abf1-2d7cc369c14b.pqt Bytes: 75169\n"
     ]
    },
    {
     "name": "stderr",
     "output_type": "stream",
     "text": [
      "\n",
      "  0%|                                    | 0/0.0716867446899414 [00:00<?, ?it/s]\u001b[A\n",
      "100%|███████████| 0.0716867446899414/0.0716867446899414 [00:00<00:00,  5.63s/it]\u001b[A\n",
      "\n",
      "(S3) /home/crombie/Downloads/ONE/alyx.internationalbrainlab.org/mainenlab/Subjec\u001b[A\n",
      "(S3) /home/crombie/Downloads/ONE/alyx.internationalbrainlab.org/mainenlab/Subjec\u001b[A\n",
      "\n",
      "(S3) /home/crombie/Downloads/ONE/alyx.internationalbrainlab.org/mainenlab/Subjec\u001b[A\n",
      "(S3) /home/crombie/Downloads/ONE/alyx.internationalbrainlab.org/mainenlab/Subjec\u001b[A\n",
      "\n",
      "(S3) /home/crombie/Downloads/ONE/alyx.internationalbrainlab.org/mainenlab/Subjec\u001b[A\n",
      "(S3) /home/crombie/Downloads/ONE/alyx.internationalbrainlab.org/mainenlab/Subjec\u001b[A\n",
      "\n",
      "(S3) /home/crombie/Downloads/ONE/alyx.internationalbrainlab.org/mainenlab/Subjec\u001b[A\n",
      "(S3) /home/crombie/Downloads/ONE/alyx.internationalbrainlab.org/mainenlab/Subjec\u001b[A\n",
      "\n",
      "(S3) /home/crombie/Downloads/ONE/alyx.internationalbrainlab.org/mainenlab/Subjec\u001b[A\n",
      "(S3) /home/crombie/Downloads/ONE/alyx.internationalbrainlab.org/mainenlab/Subjec\u001b[A\n",
      "\n",
      "(S3) /home/crombie/Downloads/ONE/alyx.internationalbrainlab.org/mainenlab/Subjec\u001b[A\n",
      "(S3) /home/crombie/Downloads/ONE/alyx.internationalbrainlab.org/mainenlab/Subjec\u001b[A\n",
      "\n",
      "(S3) /home/crombie/Downloads/ONE/alyx.internationalbrainlab.org/mainenlab/Subjec\u001b[A\n",
      "(S3) /home/crombie/Downloads/ONE/alyx.internationalbrainlab.org/mainenlab/Subjec\u001b[A\n",
      "\n",
      "(S3) /home/crombie/Downloads/ONE/alyx.internationalbrainlab.org/mainenlab/Subjec\u001b[A\n",
      "(S3) /home/crombie/Downloads/ONE/alyx.internationalbrainlab.org/mainenlab/Subjec\u001b[A\n",
      "\n",
      "(S3) /home/crombie/Downloads/ONE/alyx.internationalbrainlab.org/mainenlab/Subjec\u001b[A\n",
      "(S3) /home/crombie/Downloads/ONE/alyx.internationalbrainlab.org/mainenlab/Subjec\u001b[A\n"
     ]
    },
    {
     "name": "stdout",
     "output_type": "stream",
     "text": [
      "Downloading: /home/crombie/Downloads/ONE/alyx.internationalbrainlab.org/mainenlab/Subjects/ZFM-06268/2024-01-24/001/alf/task_00/_ibl_trials.table.596361c9-a7f9-4619-8d2f-59037c99d44c.pqt Bytes: 38238\n"
     ]
    },
    {
     "name": "stderr",
     "output_type": "stream",
     "text": [
      "\n",
      "  0%|                                   | 0/0.03646659851074219 [00:00<?, ?it/s]\u001b[A\n",
      "100%|█████████| 0.03646659851074219/0.03646659851074219 [00:00<00:00, 11.54s/it]\u001b[A\n"
     ]
    },
    {
     "name": "stdout",
     "output_type": "stream",
     "text": [
      "Downloading: /home/crombie/Downloads/ONE/alyx.internationalbrainlab.org/mainenlab/Subjects/ZFM-06171/2024-01-24/002/alf/task_00/_ibl_trials.table.539837b8-a9e6-42b3-8b67-2b4d696bb676.pqt Bytes: 29489\n"
     ]
    },
    {
     "name": "stderr",
     "output_type": "stream",
     "text": [
      "\n",
      "  0%|                                  | 0/0.028122901916503906 [00:00<?, ?it/s]\u001b[A\n",
      "100%|███████| 0.028122901916503906/0.028122901916503906 [00:00<00:00,  5.73s/it]\u001b[A\n",
      "\n",
      "(S3) /home/crombie/Downloads/ONE/alyx.internationalbrainlab.org/mainenlab/Subjec\u001b[A\n",
      "(S3) /home/crombie/Downloads/ONE/alyx.internationalbrainlab.org/mainenlab/Subjec\u001b[A\n",
      "\n",
      "(S3) /home/crombie/Downloads/ONE/alyx.internationalbrainlab.org/mainenlab/Subjec\u001b[A\n",
      "(S3) /home/crombie/Downloads/ONE/alyx.internationalbrainlab.org/mainenlab/Subjec\u001b[A\n"
     ]
    },
    {
     "name": "stdout",
     "output_type": "stream",
     "text": [
      "Downloading: /home/crombie/Downloads/ONE/alyx.internationalbrainlab.org/mainenlab/Subjects/ZFM-06948/2024-01-19/001/alf/task_00/_ibl_trials.table.69934e89-de6d-4940-99f4-43ecc976f1ed.pqt Bytes: 89641\n"
     ]
    },
    {
     "name": "stderr",
     "output_type": "stream",
     "text": [
      "\n",
      "  0%|                                   | 0/0.08548831939697266 [00:00<?, ?it/s]\u001b[A\n",
      "100%|█████████| 0.08548831939697266/0.08548831939697266 [00:00<00:00,  5.32s/it]\u001b[A\n",
      "\n",
      "(S3) /home/crombie/Downloads/ONE/alyx.internationalbrainlab.org/mainenlab/Subjec\u001b[A\n",
      "(S3) /home/crombie/Downloads/ONE/alyx.internationalbrainlab.org/mainenlab/Subjec\u001b[A\n",
      "\n",
      "(S3) /home/crombie/Downloads/ONE/alyx.internationalbrainlab.org/mainenlab/Subjec\u001b[A\n",
      "(S3) /home/crombie/Downloads/ONE/alyx.internationalbrainlab.org/mainenlab/Subjec\u001b[A\n"
     ]
    },
    {
     "name": "stdout",
     "output_type": "stream",
     "text": [
      "Downloading: /home/crombie/Downloads/ONE/alyx.internationalbrainlab.org/mainenlab/Subjects/ZFM-06271/2024-01-19/001/alf/task_00/_ibl_trials.table.b1c6fcc7-3e43-43a6-a30a-73e55b46836f.pqt Bytes: 28487\n"
     ]
    },
    {
     "name": "stderr",
     "output_type": "stream",
     "text": [
      "\n",
      "  0%|                                  | 0/0.027167320251464844 [00:00<?, ?it/s]\u001b[A\n",
      "100%|███████| 0.027167320251464844/0.027167320251464844 [00:00<00:00,  5.54s/it]\u001b[A\n"
     ]
    },
    {
     "name": "stdout",
     "output_type": "stream",
     "text": [
      "Downloading: /home/crombie/Downloads/ONE/alyx.internationalbrainlab.org/mainenlab/Subjects/ZFM-06268/2024-01-19/001/alf/task_00/_ibl_trials.table.805ccf7c-e72a-4a34-852a-b9a20455fa68.pqt Bytes: 36460\n"
     ]
    },
    {
     "name": "stderr",
     "output_type": "stream",
     "text": [
      "\n",
      "  0%|                                  | 0/0.034770965576171875 [00:00<?, ?it/s]\u001b[A\n",
      "100%|███████| 0.034770965576171875/0.034770965576171875 [00:00<00:00, 10.58s/it]\u001b[A\n",
      "\n",
      "(S3) /home/crombie/Downloads/ONE/alyx.internationalbrainlab.org/mainenlab/Subjec\u001b[A\n",
      "(S3) /home/crombie/Downloads/ONE/alyx.internationalbrainlab.org/mainenlab/Subjec\u001b[A\n",
      "\n",
      "(S3) /home/crombie/Downloads/ONE/alyx.internationalbrainlab.org/mainenlab/Subjec\u001b[A\n",
      "(S3) /home/crombie/Downloads/ONE/alyx.internationalbrainlab.org/mainenlab/Subjec\u001b[A\n",
      "\n",
      "(S3) /home/crombie/Downloads/ONE/alyx.internationalbrainlab.org/mainenlab/Subjec\u001b[A\n",
      "(S3) /home/crombie/Downloads/ONE/alyx.internationalbrainlab.org/mainenlab/Subjec\u001b[A\n",
      "\n",
      "(S3) /home/crombie/Downloads/ONE/alyx.internationalbrainlab.org/mainenlab/Subjec\u001b[A\n",
      "(S3) /home/crombie/Downloads/ONE/alyx.internationalbrainlab.org/mainenlab/Subjec\u001b[A\n",
      "\n",
      "(S3) /home/crombie/Downloads/ONE/alyx.internationalbrainlab.org/mainenlab/Subjec\u001b[A\n",
      "(S3) /home/crombie/Downloads/ONE/alyx.internationalbrainlab.org/mainenlab/Subjec\u001b[A\n",
      "\n",
      "(S3) /home/crombie/Downloads/ONE/alyx.internationalbrainlab.org/mainenlab/Subjec\u001b[A\n",
      "(S3) /home/crombie/Downloads/ONE/alyx.internationalbrainlab.org/mainenlab/Subjec\u001b[A\n",
      "\n",
      "(S3) /home/crombie/Downloads/ONE/alyx.internationalbrainlab.org/mainenlab/Subjec\u001b[A\n",
      "(S3) /home/crombie/Downloads/ONE/alyx.internationalbrainlab.org/mainenlab/Subjec\u001b[A\n",
      "\n",
      "(S3) /home/crombie/Downloads/ONE/alyx.internationalbrainlab.org/mainenlab/Subjec\u001b[A\n",
      "(S3) /home/crombie/Downloads/ONE/alyx.internationalbrainlab.org/mainenlab/Subjec\u001b[A\n",
      "\n",
      "(S3) /home/crombie/Downloads/ONE/alyx.internationalbrainlab.org/mainenlab/Subjec\u001b[A\n",
      "(S3) /home/crombie/Downloads/ONE/alyx.internationalbrainlab.org/mainenlab/Subjec\u001b[A\n"
     ]
    },
    {
     "name": "stdout",
     "output_type": "stream",
     "text": [
      "Downloading: /home/crombie/Downloads/ONE/alyx.internationalbrainlab.org/mainenlab/Subjects/ZFM-06272/2024-01-17/001/alf/task_00/_ibl_trials.table.7078b690-1960-44b4-bab8-11861dae2fc9.pqt Bytes: 56704\n"
     ]
    },
    {
     "name": "stderr",
     "output_type": "stream",
     "text": [
      "\n",
      "  0%|                                       | 0/0.0540771484375 [00:00<?, ?it/s]\u001b[A\n",
      "100%|█████████████████| 0.0540771484375/0.0540771484375 [00:00<00:00,  6.04s/it]\u001b[A\n",
      "\n",
      "(S3) /home/crombie/Downloads/ONE/alyx.internationalbrainlab.org/mainenlab/Subjec\u001b[A\n",
      "(S3) /home/crombie/Downloads/ONE/alyx.internationalbrainlab.org/mainenlab/Subjec\u001b[A\n"
     ]
    },
    {
     "name": "stdout",
     "output_type": "stream",
     "text": [
      "Downloading: /home/crombie/Downloads/ONE/alyx.internationalbrainlab.org/mainenlab/Subjects/ZFM-06948/2024-01-17/001/alf/task_00/_ibl_trials.table.b37e001e-007b-4399-a472-40c997d4189d.pqt Bytes: 69310\n"
     ]
    },
    {
     "name": "stderr",
     "output_type": "stream",
     "text": [
      "\n",
      "  0%|                                   | 0/0.06609916687011719 [00:00<?, ?it/s]\u001b[A\n",
      "100%|█████████| 0.06609916687011719/0.06609916687011719 [00:00<00:00,  6.06s/it]\u001b[A\n",
      "\n",
      "(S3) /home/crombie/Downloads/ONE/alyx.internationalbrainlab.org/mainenlab/Subjec\u001b[A\n",
      "(S3) /home/crombie/Downloads/ONE/alyx.internationalbrainlab.org/mainenlab/Subjec\u001b[A\n",
      "\n",
      "(S3) /home/crombie/Downloads/ONE/alyx.internationalbrainlab.org/mainenlab/Subjec\u001b[A\n",
      "(S3) /home/crombie/Downloads/ONE/alyx.internationalbrainlab.org/mainenlab/Subjec\u001b[A\n",
      "\n",
      "(S3) /home/crombie/Downloads/ONE/alyx.internationalbrainlab.org/mainenlab/Subjec\u001b[A\n",
      "(S3) /home/crombie/Downloads/ONE/alyx.internationalbrainlab.org/mainenlab/Subjec\u001b[A\n",
      "\n",
      "(S3) /home/crombie/Downloads/ONE/alyx.internationalbrainlab.org/mainenlab/Subjec\u001b[A\n",
      "(S3) /home/crombie/Downloads/ONE/alyx.internationalbrainlab.org/mainenlab/Subjec\u001b[A\n",
      "\n",
      "(S3) /home/crombie/Downloads/ONE/alyx.internationalbrainlab.org/mainenlab/Subjec\u001b[A\n",
      "(S3) /home/crombie/Downloads/ONE/alyx.internationalbrainlab.org/mainenlab/Subjec\u001b[A\n"
     ]
    },
    {
     "name": "stdout",
     "output_type": "stream",
     "text": [
      "Downloading: /home/crombie/Downloads/ONE/alyx.internationalbrainlab.org/mainenlab/Subjects/ZFM-06948/2024-01-16/001/alf/task_00/_ibl_trials.table.b819af36-d967-4ecf-b26c-b3cf11cd2eba.pqt Bytes: 63451\n"
     ]
    },
    {
     "name": "stderr",
     "output_type": "stream",
     "text": [
      "\n",
      "  0%|                                   | 0/0.06051158905029297 [00:00<?, ?it/s]\u001b[A\n",
      "100%|█████████| 0.06051158905029297/0.06051158905029297 [00:00<00:00,  5.31s/it]\u001b[A\n",
      "\n",
      "(S3) /home/crombie/Downloads/ONE/alyx.internationalbrainlab.org/mainenlab/Subjec\u001b[A\n",
      "(S3) /home/crombie/Downloads/ONE/alyx.internationalbrainlab.org/mainenlab/Subjec\u001b[A\n",
      "\n",
      "(S3) /home/crombie/Downloads/ONE/alyx.internationalbrainlab.org/mainenlab/Subjec\u001b[A\n",
      "(S3) /home/crombie/Downloads/ONE/alyx.internationalbrainlab.org/mainenlab/Subjec\u001b[A\n",
      "\n",
      "(S3) /home/crombie/Downloads/ONE/alyx.internationalbrainlab.org/mainenlab/Subjec\u001b[A\n",
      "(S3) /home/crombie/Downloads/ONE/alyx.internationalbrainlab.org/mainenlab/Subjec\u001b[A\n",
      "\n",
      "(S3) /home/crombie/Downloads/ONE/alyx.internationalbrainlab.org/mainenlab/Subjec\u001b[A\n",
      "(S3) /home/crombie/Downloads/ONE/alyx.internationalbrainlab.org/mainenlab/Subjec\u001b[A\n",
      "\n",
      "(S3) /home/crombie/Downloads/ONE/alyx.internationalbrainlab.org/mainenlab/Subjec\u001b[A\n",
      "(S3) /home/crombie/Downloads/ONE/alyx.internationalbrainlab.org/mainenlab/Subjec\u001b[A\n"
     ]
    },
    {
     "name": "stdout",
     "output_type": "stream",
     "text": [
      "Downloading: /home/crombie/Downloads/ONE/alyx.internationalbrainlab.org/mainenlab/Subjects/ZFM-06272/2024-01-15/001/alf/task_00/_ibl_trials.table.d05e973a-659c-485d-a0b0-9107505d3e72.pqt Bytes: 29970\n"
     ]
    },
    {
     "name": "stderr",
     "output_type": "stream",
     "text": [
      "\n",
      "  0%|                                  | 0/0.028581619262695312 [00:00<?, ?it/s]\u001b[A\n",
      "100%|███████| 0.028581619262695312/0.028581619262695312 [00:00<00:00,  7.07s/it]\u001b[A\n",
      "\n",
      "(S3) /home/crombie/Downloads/ONE/alyx.internationalbrainlab.org/mainenlab/Subjec\u001b[A\n",
      "(S3) /home/crombie/Downloads/ONE/alyx.internationalbrainlab.org/mainenlab/Subjec\u001b[A\n",
      "\n",
      "(S3) /home/crombie/Downloads/ONE/alyx.internationalbrainlab.org/mainenlab/Subjec\u001b[A\n",
      "(S3) /home/crombie/Downloads/ONE/alyx.internationalbrainlab.org/mainenlab/Subjec\u001b[A\n"
     ]
    },
    {
     "name": "stdout",
     "output_type": "stream",
     "text": [
      "Downloading: /home/crombie/Downloads/ONE/alyx.internationalbrainlab.org/mainenlab/Subjects/ZFM-06948/2024-01-12/001/alf/task_00/_ibl_trials.table.0d529933-3d17-4bdf-aa04-95f7d90585a3.pqt Bytes: 99961\n"
     ]
    },
    {
     "name": "stderr",
     "output_type": "stream",
     "text": [
      "\n",
      "  0%|                                   | 0/0.09533023834228516 [00:00<?, ?it/s]\u001b[A\n",
      "100%|█████████| 0.09533023834228516/0.09533023834228516 [00:00<00:00,  4.75s/it]\u001b[A\n",
      "\n",
      "(S3) /home/crombie/Downloads/ONE/alyx.internationalbrainlab.org/mainenlab/Subjec\u001b[A\n",
      "(S3) /home/crombie/Downloads/ONE/alyx.internationalbrainlab.org/mainenlab/Subjec\u001b[A\n",
      "\n",
      "(S3) /home/crombie/Downloads/ONE/alyx.internationalbrainlab.org/mainenlab/Subjec\u001b[A\n",
      "(S3) /home/crombie/Downloads/ONE/alyx.internationalbrainlab.org/mainenlab/Subjec\u001b[A\n"
     ]
    },
    {
     "name": "stdout",
     "output_type": "stream",
     "text": [
      "Downloading: /home/crombie/Downloads/ONE/alyx.internationalbrainlab.org/mainenlab/Subjects/ZFM-06268/2024-01-12/001/alf/task_00/_ibl_trials.table.ad114058-f4f7-4295-9b4a-33305f5b8d92.pqt Bytes: 36877\n"
     ]
    },
    {
     "name": "stderr",
     "output_type": "stream",
     "text": [
      "\n",
      "  0%|                                   | 0/0.03516864776611328 [00:00<?, ?it/s]\u001b[A\n",
      "100%|█████████| 0.03516864776611328/0.03516864776611328 [00:00<00:00, 11.45s/it]\u001b[A\n",
      "\n",
      "(S3) /home/crombie/Downloads/ONE/alyx.internationalbrainlab.org/mainenlab/Subjec\u001b[A\n",
      "(S3) /home/crombie/Downloads/ONE/alyx.internationalbrainlab.org/mainenlab/Subjec\u001b[A\n",
      "\n",
      "(S3) /home/crombie/Downloads/ONE/alyx.internationalbrainlab.org/mainenlab/Subjec\u001b[A\n",
      "(S3) /home/crombie/Downloads/ONE/alyx.internationalbrainlab.org/mainenlab/Subjec\u001b[A\n",
      "\n",
      "(S3) /home/crombie/Downloads/ONE/alyx.internationalbrainlab.org/mainenlab/Subjec\u001b[A\n",
      "(S3) /home/crombie/Downloads/ONE/alyx.internationalbrainlab.org/mainenlab/Subjec\u001b[A\n",
      "\n",
      "(S3) /home/crombie/Downloads/ONE/alyx.internationalbrainlab.org/mainenlab/Subjec\u001b[A\n",
      "(S3) /home/crombie/Downloads/ONE/alyx.internationalbrainlab.org/mainenlab/Subjec\u001b[A\n",
      "\n",
      "(S3) /home/crombie/Downloads/ONE/alyx.internationalbrainlab.org/mainenlab/Subjec\u001b[A\n",
      "(S3) /home/crombie/Downloads/ONE/alyx.internationalbrainlab.org/mainenlab/Subjec\u001b[A\n",
      "\n",
      "(S3) /home/crombie/Downloads/ONE/alyx.internationalbrainlab.org/mainenlab/Subjec\u001b[A\n",
      "(S3) /home/crombie/Downloads/ONE/alyx.internationalbrainlab.org/mainenlab/Subjec\u001b[A\n",
      "\n",
      "(S3) /home/crombie/Downloads/ONE/alyx.internationalbrainlab.org/mainenlab/Subjec\u001b[A\n",
      "(S3) /home/crombie/Downloads/ONE/alyx.internationalbrainlab.org/mainenlab/Subjec\u001b[A\n",
      "\n",
      "(S3) /home/crombie/Downloads/ONE/alyx.internationalbrainlab.org/mainenlab/Subjec\u001b[A\n",
      "(S3) /home/crombie/Downloads/ONE/alyx.internationalbrainlab.org/mainenlab/Subjec\u001b[A\n",
      "\n",
      "(S3) /home/crombie/Downloads/ONE/alyx.internationalbrainlab.org/mainenlab/Subjec\u001b[A\n",
      "(S3) /home/crombie/Downloads/ONE/alyx.internationalbrainlab.org/mainenlab/Subjec\u001b[A\n",
      "\n",
      "(S3) /home/crombie/Downloads/ONE/alyx.internationalbrainlab.org/mainenlab/Subjec\u001b[A\n",
      "(S3) /home/crombie/Downloads/ONE/alyx.internationalbrainlab.org/mainenlab/Subjec\u001b[A\n",
      "\n",
      "(S3) /home/crombie/Downloads/ONE/alyx.internationalbrainlab.org/mainenlab/Subjec\u001b[A\n",
      "(S3) /home/crombie/Downloads/ONE/alyx.internationalbrainlab.org/mainenlab/Subjec\u001b[A\n",
      "\n",
      "(S3) /home/crombie/Downloads/ONE/alyx.internationalbrainlab.org/mainenlab/Subjec\u001b[A\n",
      "(S3) /home/crombie/Downloads/ONE/alyx.internationalbrainlab.org/mainenlab/Subjec\u001b[A\n"
     ]
    },
    {
     "name": "stdout",
     "output_type": "stream",
     "text": [
      "Downloading: /home/crombie/Downloads/ONE/alyx.internationalbrainlab.org/mainenlab/Subjects/ZFM-06275/2024-01-10/001/alf/task_00/_ibl_trials.table.b22f4f7e-0398-4443-b831-cac9fc47c2a4.pqt Bytes: 68041\n"
     ]
    },
    {
     "name": "stderr",
     "output_type": "stream",
     "text": [
      "\n",
      "  0%|                                   | 0/0.06488895416259766 [00:00<?, ?it/s]\u001b[A\n",
      "100%|█████████| 0.06488895416259766/0.06488895416259766 [00:00<00:00,  4.83s/it]\u001b[A\n",
      "\n",
      "(S3) /home/crombie/Downloads/ONE/alyx.internationalbrainlab.org/mainenlab/Subjec\u001b[A\n",
      "(S3) /home/crombie/Downloads/ONE/alyx.internationalbrainlab.org/mainenlab/Subjec\u001b[A\n",
      "\n",
      "(S3) /home/crombie/Downloads/ONE/alyx.internationalbrainlab.org/mainenlab/Subjec\u001b[A\n",
      "(S3) /home/crombie/Downloads/ONE/alyx.internationalbrainlab.org/mainenlab/Subjec\u001b[A\n",
      "\n",
      "(S3) /home/crombie/Downloads/ONE/alyx.internationalbrainlab.org/mainenlab/Subjec\u001b[A\n",
      "(S3) /home/crombie/Downloads/ONE/alyx.internationalbrainlab.org/mainenlab/Subjec\u001b[A\n",
      "\n",
      "(S3) /home/crombie/Downloads/ONE/alyx.internationalbrainlab.org/mainenlab/Subjec\u001b[A\n",
      "(S3) /home/crombie/Downloads/ONE/alyx.internationalbrainlab.org/mainenlab/Subjec\u001b[A\n"
     ]
    },
    {
     "name": "stdout",
     "output_type": "stream",
     "text": [
      "Downloading: /home/crombie/Downloads/ONE/alyx.internationalbrainlab.org/mainenlab/Subjects/ZFM-06275/2024-01-09/001/alf/task_00/_ibl_trials.table.a2d4b89d-ac03-4747-ba95-6f1d0bfa1d86.pqt Bytes: 56012\n"
     ]
    },
    {
     "name": "stderr",
     "output_type": "stream",
     "text": [
      "\n",
      "  0%|                                  | 0/0.053417205810546875 [00:00<?, ?it/s]\u001b[A\n",
      "100%|███████| 0.053417205810546875/0.053417205810546875 [00:00<00:00,  7.39s/it]\u001b[A\n",
      "\n",
      "(S3) /home/crombie/Downloads/ONE/alyx.internationalbrainlab.org/mainenlab/Subjec\u001b[A\n",
      "(S3) /home/crombie/Downloads/ONE/alyx.internationalbrainlab.org/mainenlab/Subjec\u001b[A\n",
      "\n",
      "(S3) /home/crombie/Downloads/ONE/alyx.internationalbrainlab.org/mainenlab/Subjec\u001b[A\n",
      "(S3) /home/crombie/Downloads/ONE/alyx.internationalbrainlab.org/mainenlab/Subjec\u001b[A\n",
      "\n",
      "(S3) /home/crombie/Downloads/ONE/alyx.internationalbrainlab.org/mainenlab/Subjec\u001b[A\n",
      "(S3) /home/crombie/Downloads/ONE/alyx.internationalbrainlab.org/mainenlab/Subjec\u001b[A\n",
      "\n",
      "(S3) /home/crombie/Downloads/ONE/alyx.internationalbrainlab.org/mainenlab/Subjec\u001b[A\n",
      "(S3) /home/crombie/Downloads/ONE/alyx.internationalbrainlab.org/mainenlab/Subjec\u001b[A\n",
      "\n",
      "(S3) /home/crombie/Downloads/ONE/alyx.internationalbrainlab.org/mainenlab/Subjec\u001b[A\n",
      "(S3) /home/crombie/Downloads/ONE/alyx.internationalbrainlab.org/mainenlab/Subjec\u001b[A\n",
      "\n",
      "(S3) /home/crombie/Downloads/ONE/alyx.internationalbrainlab.org/mainenlab/Subjec\u001b[A\n",
      "(S3) /home/crombie/Downloads/ONE/alyx.internationalbrainlab.org/mainenlab/Subjec\u001b[A\n",
      "\n",
      "(S3) /home/crombie/Downloads/ONE/alyx.internationalbrainlab.org/mainenlab/Subjec\u001b[A\n",
      "(S3) /home/crombie/Downloads/ONE/alyx.internationalbrainlab.org/mainenlab/Subjec\u001b[A\n",
      "\n",
      "(S3) /home/crombie/Downloads/ONE/alyx.internationalbrainlab.org/mainenlab/Subjec\u001b[A\n",
      "(S3) /home/crombie/Downloads/ONE/alyx.internationalbrainlab.org/mainenlab/Subjec\u001b[A\n",
      "\n",
      "(S3) /home/crombie/Downloads/ONE/alyx.internationalbrainlab.org/mainenlab/Subjec\u001b[A\n",
      "(S3) /home/crombie/Downloads/ONE/alyx.internationalbrainlab.org/mainenlab/Subjec\u001b[A\n",
      "\n",
      "(S3) /home/crombie/Downloads/ONE/alyx.internationalbrainlab.org/mainenlab/Subjec\u001b[A\n",
      "(S3) /home/crombie/Downloads/ONE/alyx.internationalbrainlab.org/mainenlab/Subjec\u001b[A\n",
      "\n",
      "(S3) /home/crombie/Downloads/ONE/alyx.internationalbrainlab.org/mainenlab/Subjec\u001b[A\n",
      "(S3) /home/crombie/Downloads/ONE/alyx.internationalbrainlab.org/mainenlab/Subjec\u001b[A\n",
      "\n",
      "(S3) /home/crombie/Downloads/ONE/alyx.internationalbrainlab.org/mainenlab/Subjec\u001b[A\n",
      "(S3) /home/crombie/Downloads/ONE/alyx.internationalbrainlab.org/mainenlab/Subjec\u001b[A\n",
      "\n",
      "(S3) /home/crombie/Downloads/ONE/alyx.internationalbrainlab.org/mainenlab/Subjec\u001b[A\n",
      "(S3) /home/crombie/Downloads/ONE/alyx.internationalbrainlab.org/mainenlab/Subjec\u001b[A\n",
      "\n",
      "(S3) /home/crombie/Downloads/ONE/alyx.internationalbrainlab.org/mainenlab/Subjec\u001b[A\n",
      "(S3) /home/crombie/Downloads/ONE/alyx.internationalbrainlab.org/mainenlab/Subjec\u001b[A\n",
      "\n",
      "(S3) /home/crombie/Downloads/ONE/alyx.internationalbrainlab.org/mainenlab/Subjec\u001b[A\n",
      "(S3) /home/crombie/Downloads/ONE/alyx.internationalbrainlab.org/mainenlab/Subjec\u001b[A\n",
      "\n",
      "(S3) /home/crombie/Downloads/ONE/alyx.internationalbrainlab.org/mainenlab/Subjec\u001b[A\n",
      "(S3) /home/crombie/Downloads/ONE/alyx.internationalbrainlab.org/mainenlab/Subjec\u001b[A\n",
      "\n",
      "(S3) /home/crombie/Downloads/ONE/alyx.internationalbrainlab.org/mainenlab/Subjec\u001b[A\n",
      "(S3) /home/crombie/Downloads/ONE/alyx.internationalbrainlab.org/mainenlab/Subjec\u001b[A\n",
      "\n",
      "(S3) /home/crombie/Downloads/ONE/alyx.internationalbrainlab.org/mainenlab/Subjec\u001b[A\n",
      "(S3) /home/crombie/Downloads/ONE/alyx.internationalbrainlab.org/mainenlab/Subjec\u001b[A\n",
      "\n",
      "(S3) /home/crombie/Downloads/ONE/alyx.internationalbrainlab.org/mainenlab/Subjec\u001b[A\n",
      "(S3) /home/crombie/Downloads/ONE/alyx.internationalbrainlab.org/mainenlab/Subjec\u001b[A\n",
      "\n",
      "(S3) /home/crombie/Downloads/ONE/alyx.internationalbrainlab.org/mainenlab/Subjec\u001b[A\n",
      "(S3) /home/crombie/Downloads/ONE/alyx.internationalbrainlab.org/mainenlab/Subjec\u001b[A\n"
     ]
    },
    {
     "name": "stdout",
     "output_type": "stream",
     "text": [
      "Downloading: /home/crombie/Downloads/ONE/alyx.internationalbrainlab.org/mainenlab/Subjects/ZFM-06268/2023-12-28/001/alf/task_00/_ibl_trials.table.ae146c79-5387-4070-a3a2-1648e2e74b36.pqt Bytes: 32564\n"
     ]
    },
    {
     "name": "stderr",
     "output_type": "stream",
     "text": [
      "\n",
      "  0%|                                  | 0/0.031055450439453125 [00:00<?, ?it/s]\u001b[A\n",
      "100%|███████| 0.031055450439453125/0.031055450439453125 [00:00<00:00,  4.90s/it]\u001b[A\n",
      "\n",
      "(S3) /home/crombie/Downloads/ONE/alyx.internationalbrainlab.org/mainenlab/Subjec\u001b[A\n",
      "(S3) /home/crombie/Downloads/ONE/alyx.internationalbrainlab.org/mainenlab/Subjec\u001b[A\n",
      "\n",
      "(S3) /home/crombie/Downloads/ONE/alyx.internationalbrainlab.org/mainenlab/Subjec\u001b[A\n",
      "(S3) /home/crombie/Downloads/ONE/alyx.internationalbrainlab.org/mainenlab/Subjec\u001b[A\n",
      "\n",
      "(S3) /home/crombie/Downloads/ONE/alyx.internationalbrainlab.org/mainenlab/Subjec\u001b[A\n",
      "(S3) /home/crombie/Downloads/ONE/alyx.internationalbrainlab.org/mainenlab/Subjec\u001b[A\n"
     ]
    },
    {
     "name": "stdout",
     "output_type": "stream",
     "text": [
      "Downloading: /home/crombie/Downloads/ONE/alyx.internationalbrainlab.org/mainenlab/Subjects/ZFM-06275/2023-12-27/001/alf/task_00/_ibl_trials.table.367daf9d-7617-4a7e-b0f9-c751d7313c6f.pqt Bytes: 17580\n"
     ]
    },
    {
     "name": "stderr",
     "output_type": "stream",
     "text": [
      "\n",
      "  0%|                                  | 0/0.016765594482421875 [00:00<?, ?it/s]\u001b[A\n",
      "100%|███████| 0.016765594482421875/0.016765594482421875 [00:00<00:00, 11.95s/it]\u001b[A\n",
      "\n",
      "(S3) /home/crombie/Downloads/ONE/alyx.internationalbrainlab.org/mainenlab/Subjec\u001b[A\n",
      "(S3) /home/crombie/Downloads/ONE/alyx.internationalbrainlab.org/mainenlab/Subjec\u001b[A\n"
     ]
    },
    {
     "name": "stdout",
     "output_type": "stream",
     "text": [
      "Downloading: /home/crombie/Downloads/ONE/alyx.internationalbrainlab.org/mainenlab/Subjects/ZFM-06268/2023-12-27/001/alf/task_00/_ibl_trials.table.d84b812f-ba89-4509-91e0-5b5e6a9a1156.pqt Bytes: 51207\n"
     ]
    },
    {
     "name": "stderr",
     "output_type": "stream",
     "text": [
      "\n",
      "  0%|                                  | 0/0.048834800720214844 [00:00<?, ?it/s]\u001b[A\n",
      "100%|███████| 0.048834800720214844/0.048834800720214844 [00:00<00:00,  9.89s/it]\u001b[A\n",
      "\n",
      "(S3) /home/crombie/Downloads/ONE/alyx.internationalbrainlab.org/mainenlab/Subjec\u001b[A\n",
      "(S3) /home/crombie/Downloads/ONE/alyx.internationalbrainlab.org/mainenlab/Subjec\u001b[A\n",
      "\n",
      "(S3) /home/crombie/Downloads/ONE/alyx.internationalbrainlab.org/mainenlab/Subjec\u001b[A\n",
      "(S3) /home/crombie/Downloads/ONE/alyx.internationalbrainlab.org/mainenlab/Subjec\u001b[A\n",
      "\n",
      "(S3) /home/crombie/Downloads/ONE/alyx.internationalbrainlab.org/mainenlab/Subjec\u001b[A\n",
      "(S3) /home/crombie/Downloads/ONE/alyx.internationalbrainlab.org/mainenlab/Subjec\u001b[A\n",
      "\n",
      "(S3) /home/crombie/Downloads/ONE/alyx.internationalbrainlab.org/mainenlab/Subjec\u001b[A\n",
      "(S3) /home/crombie/Downloads/ONE/alyx.internationalbrainlab.org/mainenlab/Subjec\u001b[A\n",
      "\n",
      "(S3) /home/crombie/Downloads/ONE/alyx.internationalbrainlab.org/mainenlab/Subjec\u001b[A\n",
      "(S3) /home/crombie/Downloads/ONE/alyx.internationalbrainlab.org/mainenlab/Subjec\u001b[A\n",
      "\n",
      "(S3) /home/crombie/Downloads/ONE/alyx.internationalbrainlab.org/mainenlab/Subjec\u001b[A\n",
      "(S3) /home/crombie/Downloads/ONE/alyx.internationalbrainlab.org/mainenlab/Subjec\u001b[A\n",
      "\n",
      "(S3) /home/crombie/Downloads/ONE/alyx.internationalbrainlab.org/mainenlab/Subjec\u001b[A\n",
      "(S3) /home/crombie/Downloads/ONE/alyx.internationalbrainlab.org/mainenlab/Subjec\u001b[A\n"
     ]
    },
    {
     "name": "stdout",
     "output_type": "stream",
     "text": [
      "Downloading: /home/crombie/Downloads/ONE/alyx.internationalbrainlab.org/mainenlab/Subjects/ZFM-06171/2023-12-22/001/alf/task_00/_ibl_trials.table.ed9b6484-f651-491a-b6cb-4940ced4d9f0.pqt Bytes: 32066\n"
     ]
    },
    {
     "name": "stderr",
     "output_type": "stream",
     "text": [
      "\n",
      "  0%|                                  | 0/0.030580520629882812 [00:00<?, ?it/s]\u001b[A\n",
      "100%|███████| 0.030580520629882812/0.030580520629882812 [00:00<00:00,  6.93s/it]\u001b[A\n"
     ]
    },
    {
     "name": "stdout",
     "output_type": "stream",
     "text": [
      "Downloading: /home/crombie/Downloads/ONE/alyx.internationalbrainlab.org/mainenlab/Subjects/ZFM-06272/2023-12-22/001/alf/task_00/_ibl_trials.table.b8bf3133-9add-468a-a94e-1d1de8393a8e.pqt Bytes: 57199\n"
     ]
    },
    {
     "name": "stderr",
     "output_type": "stream",
     "text": [
      "\n",
      "  0%|                                  | 0/0.054549217224121094 [00:00<?, ?it/s]\u001b[A\n",
      "100%|███████| 0.054549217224121094/0.054549217224121094 [00:00<00:00,  7.68s/it]\u001b[A\n",
      "\n",
      "(S3) /home/crombie/Downloads/ONE/alyx.internationalbrainlab.org/mainenlab/Subjec\u001b[A\n",
      "(S3) /home/crombie/Downloads/ONE/alyx.internationalbrainlab.org/mainenlab/Subjec\u001b[A\n",
      "\n",
      "(S3) /home/crombie/Downloads/ONE/alyx.internationalbrainlab.org/mainenlab/Subjec\u001b[A\n",
      "(S3) /home/crombie/Downloads/ONE/alyx.internationalbrainlab.org/mainenlab/Subjec\u001b[A\n"
     ]
    },
    {
     "name": "stdout",
     "output_type": "stream",
     "text": [
      "Downloading: /home/crombie/Downloads/ONE/alyx.internationalbrainlab.org/mainenlab/Subjects/ZFM-06268/2023-12-20/001/alf/task_00/_ibl_trials.table.dfb8c62a-88d1-4ac6-b3ae-65d69936de7c.pqt Bytes: 40226\n"
     ]
    },
    {
     "name": "stderr",
     "output_type": "stream",
     "text": [
      "\n",
      "  0%|                                   | 0/0.03836250305175781 [00:00<?, ?it/s]\u001b[A\n",
      "100%|█████████| 0.03836250305175781/0.03836250305175781 [00:00<00:00, 12.30s/it]\u001b[A\n",
      "\n",
      "(S3) /home/crombie/Downloads/ONE/alyx.internationalbrainlab.org/mainenlab/Subjec\u001b[A\n",
      "(S3) /home/crombie/Downloads/ONE/alyx.internationalbrainlab.org/mainenlab/Subjec\u001b[A\n",
      "\n",
      "(S3) /home/crombie/Downloads/ONE/alyx.internationalbrainlab.org/mainenlab/Subjec\u001b[A\n",
      "(S3) /home/crombie/Downloads/ONE/alyx.internationalbrainlab.org/mainenlab/Subjec\u001b[A\n",
      "\n",
      "(S3) /home/crombie/Downloads/ONE/alyx.internationalbrainlab.org/mainenlab/Subjec\u001b[A\n",
      "(S3) /home/crombie/Downloads/ONE/alyx.internationalbrainlab.org/mainenlab/Subjec\u001b[A\n",
      "\n",
      "(S3) /home/crombie/Downloads/ONE/alyx.internationalbrainlab.org/mainenlab/Subjec\u001b[A\n",
      "(S3) /home/crombie/Downloads/ONE/alyx.internationalbrainlab.org/mainenlab/Subjec\u001b[A\n",
      "\n",
      "(S3) /home/crombie/Downloads/ONE/alyx.internationalbrainlab.org/mainenlab/Subjec\u001b[A\n",
      "(S3) /home/crombie/Downloads/ONE/alyx.internationalbrainlab.org/mainenlab/Subjec\u001b[A\n",
      "\n",
      "(S3) /home/crombie/Downloads/ONE/alyx.internationalbrainlab.org/mainenlab/Subjec\u001b[A\n",
      "(S3) /home/crombie/Downloads/ONE/alyx.internationalbrainlab.org/mainenlab/Subjec\u001b[A\n",
      "\n",
      "(S3) /home/crombie/Downloads/ONE/alyx.internationalbrainlab.org/mainenlab/Subjec\u001b[A\n",
      "(S3) /home/crombie/Downloads/ONE/alyx.internationalbrainlab.org/mainenlab/Subjec\u001b[A\n",
      "\n",
      "(S3) /home/crombie/Downloads/ONE/alyx.internationalbrainlab.org/mainenlab/Subjec\u001b[A\n",
      "(S3) /home/crombie/Downloads/ONE/alyx.internationalbrainlab.org/mainenlab/Subjec\u001b[A\n",
      "\n",
      "(S3) /home/crombie/Downloads/ONE/alyx.internationalbrainlab.org/mainenlab/Subjec\u001b[A\n",
      "(S3) /home/crombie/Downloads/ONE/alyx.internationalbrainlab.org/mainenlab/Subjec\u001b[A\n"
     ]
    },
    {
     "name": "stdout",
     "output_type": "stream",
     "text": [
      "Downloading: /home/crombie/Downloads/ONE/alyx.internationalbrainlab.org/mainenlab/Subjects/ZFM-06171/2023-12-06/001/alf/task_00/_ibl_trials.table.be90035d-d7e0-4573-a289-bece4c620d2d.pqt Bytes: 50091\n"
     ]
    },
    {
     "name": "stderr",
     "output_type": "stream",
     "text": [
      "\n",
      "  0%|                                   | 0/0.04777050018310547 [00:00<?, ?it/s]\u001b[A\n",
      "100%|█████████| 0.04777050018310547/0.04777050018310547 [00:00<00:00,  6.82s/it]\u001b[A\n",
      "\n",
      "(S3) /home/crombie/Downloads/ONE/alyx.internationalbrainlab.org/mainenlab/Subjec\u001b[A\n",
      "(S3) /home/crombie/Downloads/ONE/alyx.internationalbrainlab.org/mainenlab/Subjec\u001b[A\n"
     ]
    },
    {
     "name": "stdout",
     "output_type": "stream",
     "text": [
      "Downloading: /home/crombie/Downloads/ONE/alyx.internationalbrainlab.org/mainenlab/Subjects/ZFM-06275/2023-12-06/001/alf/task_00/_ibl_trials.table.a5b9ca18-3ce4-4b8d-a1d3-e5ebfcda9868.pqt Bytes: 27810\n"
     ]
    },
    {
     "name": "stderr",
     "output_type": "stream",
     "text": [
      "\n",
      "  0%|                                  | 0/0.026521682739257812 [00:00<?, ?it/s]\u001b[A\n",
      "100%|███████| 0.026521682739257812/0.026521682739257812 [00:00<00:00,  5.91s/it]\u001b[A\n"
     ]
    },
    {
     "name": "stdout",
     "output_type": "stream",
     "text": [
      "Downloading: /home/crombie/Downloads/ONE/alyx.internationalbrainlab.org/mainenlab/Subjects/ZFM-06268/2023-12-06/001/alf/task_00/_ibl_trials.table.af41fd08-3e14-4f2b-b523-5a4c4a5b3491.pqt Bytes: 45408\n"
     ]
    },
    {
     "name": "stderr",
     "output_type": "stream",
     "text": [
      "\n",
      "  0%|                                     | 0/0.043304443359375 [00:00<?, ?it/s]\u001b[A\n",
      "100%|█████████████| 0.043304443359375/0.043304443359375 [00:00<00:00,  8.74s/it]\u001b[A\n",
      "\n",
      "(S3) /home/crombie/Downloads/ONE/alyx.internationalbrainlab.org/mainenlab/Subjec\u001b[A\n",
      "(S3) /home/crombie/Downloads/ONE/alyx.internationalbrainlab.org/mainenlab/Subjec\u001b[A\n",
      "\n",
      "(S3) /home/crombie/Downloads/ONE/alyx.internationalbrainlab.org/mainenlab/Subjec\u001b[A\n",
      "(S3) /home/crombie/Downloads/ONE/alyx.internationalbrainlab.org/mainenlab/Subjec\u001b[A\n",
      "\n",
      "(S3) /home/crombie/Downloads/ONE/alyx.internationalbrainlab.org/mainenlab/Subjec\u001b[A\n",
      "(S3) /home/crombie/Downloads/ONE/alyx.internationalbrainlab.org/mainenlab/Subjec\u001b[A\n",
      "\n",
      "(S3) /home/crombie/Downloads/ONE/alyx.internationalbrainlab.org/mainenlab/Subjec\u001b[A\n",
      "(S3) /home/crombie/Downloads/ONE/alyx.internationalbrainlab.org/mainenlab/Subjec\u001b[A\n",
      "\n",
      "(S3) /home/crombie/Downloads/ONE/alyx.internationalbrainlab.org/mainenlab/Subjec\u001b[A\n",
      "(S3) /home/crombie/Downloads/ONE/alyx.internationalbrainlab.org/mainenlab/Subjec\u001b[A\n",
      "\n",
      "(S3) /home/crombie/Downloads/ONE/alyx.internationalbrainlab.org/mainenlab/Subjec\u001b[A\n",
      "(S3) /home/crombie/Downloads/ONE/alyx.internationalbrainlab.org/mainenlab/Subjec\u001b[A\n",
      "\n",
      "(S3) /home/crombie/Downloads/ONE/alyx.internationalbrainlab.org/mainenlab/Subjec\u001b[A\n",
      "(S3) /home/crombie/Downloads/ONE/alyx.internationalbrainlab.org/mainenlab/Subjec\u001b[A\n",
      "\n",
      "(S3) /home/crombie/Downloads/ONE/alyx.internationalbrainlab.org/mainenlab/Subjec\u001b[A\n",
      "(S3) /home/crombie/Downloads/ONE/alyx.internationalbrainlab.org/mainenlab/Subjec\u001b[A\n",
      "\n",
      "(S3) /home/crombie/Downloads/ONE/alyx.internationalbrainlab.org/mainenlab/Subjec\u001b[A\n",
      "(S3) /home/crombie/Downloads/ONE/alyx.internationalbrainlab.org/mainenlab/Subjec\u001b[A\n",
      "\n",
      "(S3) /home/crombie/Downloads/ONE/alyx.internationalbrainlab.org/mainenlab/Subjec\u001b[A\n",
      "(S3) /home/crombie/Downloads/ONE/alyx.internationalbrainlab.org/mainenlab/Subjec\u001b[A\n",
      "\n",
      "(S3) /home/crombie/Downloads/ONE/alyx.internationalbrainlab.org/mainenlab/Subjec\u001b[A\n",
      "(S3) /home/crombie/Downloads/ONE/alyx.internationalbrainlab.org/mainenlab/Subjec\u001b[A\n",
      "\n",
      "(S3) /home/crombie/Downloads/ONE/alyx.internationalbrainlab.org/mainenlab/Subjec\u001b[A\n",
      "(S3) /home/crombie/Downloads/ONE/alyx.internationalbrainlab.org/mainenlab/Subjec\u001b[A\n",
      "\n",
      "(S3) /home/crombie/Downloads/ONE/alyx.internationalbrainlab.org/mainenlab/Subjec\u001b[A\n",
      "(S3) /home/crombie/Downloads/ONE/alyx.internationalbrainlab.org/mainenlab/Subjec\u001b[A\n",
      "\n",
      "(S3) /home/crombie/Downloads/ONE/alyx.internationalbrainlab.org/mainenlab/Subjec\u001b[A\n",
      "(S3) /home/crombie/Downloads/ONE/alyx.internationalbrainlab.org/mainenlab/Subjec\u001b[A\n"
     ]
    },
    {
     "name": "stdout",
     "output_type": "stream",
     "text": [
      "Downloading: /home/crombie/Downloads/ONE/alyx.internationalbrainlab.org/mainenlab/Subjects/ZFM-06275/2023-11-30/001/alf/task_00/_ibl_trials.table.35797f6f-e750-4c85-9505-795917131d2c.pqt Bytes: 39186\n"
     ]
    },
    {
     "name": "stderr",
     "output_type": "stream",
     "text": [
      "\n",
      "  0%|                                   | 0/0.03737068176269531 [00:00<?, ?it/s]\u001b[A\n",
      "100%|█████████| 0.03737068176269531/0.03737068176269531 [00:00<00:00, 13.48s/it]\u001b[A\n",
      "\n",
      "(S3) /home/crombie/Downloads/ONE/alyx.internationalbrainlab.org/mainenlab/Subjec\u001b[A\n",
      "(S3) /home/crombie/Downloads/ONE/alyx.internationalbrainlab.org/mainenlab/Subjec\u001b[A\n",
      "\n",
      "(S3) /home/crombie/Downloads/ONE/alyx.internationalbrainlab.org/mainenlab/Subjec\u001b[A\n",
      "(S3) /home/crombie/Downloads/ONE/alyx.internationalbrainlab.org/mainenlab/Subjec\u001b[A\n",
      "\n",
      "(S3) /home/crombie/Downloads/ONE/alyx.internationalbrainlab.org/mainenlab/Subjec\u001b[A\n",
      "(S3) /home/crombie/Downloads/ONE/alyx.internationalbrainlab.org/mainenlab/Subjec\u001b[A\n",
      "\n",
      "(S3) /home/crombie/Downloads/ONE/alyx.internationalbrainlab.org/mainenlab/Subjec\u001b[A\n",
      "(S3) /home/crombie/Downloads/ONE/alyx.internationalbrainlab.org/mainenlab/Subjec\u001b[A\n"
     ]
    },
    {
     "name": "stdout",
     "output_type": "stream",
     "text": [
      "Downloading: /home/crombie/Downloads/ONE/alyx.internationalbrainlab.org/mainenlab/Subjects/ZFM-06272/2023-11-29/001/alf/task_00/_ibl_trials.table.bd655ef9-b480-4f5d-939c-467f9eb9eeed.pqt Bytes: 50506\n"
     ]
    },
    {
     "name": "stderr",
     "output_type": "stream",
     "text": [
      "\n",
      "  0%|                                   | 0/0.04816627502441406 [00:00<?, ?it/s]\u001b[A\n",
      "100%|█████████| 0.04816627502441406/0.04816627502441406 [00:00<00:00,  7.46s/it]\u001b[A\n",
      "\n",
      "(S3) /home/crombie/Downloads/ONE/alyx.internationalbrainlab.org/mainenlab/Subjec\u001b[A\n",
      "(S3) /home/crombie/Downloads/ONE/alyx.internationalbrainlab.org/mainenlab/Subjec\u001b[A\n",
      "\n",
      "(S3) /home/crombie/Downloads/ONE/alyx.internationalbrainlab.org/mainenlab/Subjec\u001b[A\n",
      "(S3) /home/crombie/Downloads/ONE/alyx.internationalbrainlab.org/mainenlab/Subjec\u001b[A\n",
      "\n",
      "(S3) /home/crombie/Downloads/ONE/alyx.internationalbrainlab.org/mainenlab/Subjec\u001b[A\n",
      "(S3) /home/crombie/Downloads/ONE/alyx.internationalbrainlab.org/mainenlab/Subjec\u001b[A\n",
      "\n",
      "(S3) /home/crombie/Downloads/ONE/alyx.internationalbrainlab.org/mainenlab/Subjec\u001b[A\n",
      "(S3) /home/crombie/Downloads/ONE/alyx.internationalbrainlab.org/mainenlab/Subjec\u001b[A\n",
      "\n",
      "(S3) /home/crombie/Downloads/ONE/alyx.internationalbrainlab.org/mainenlab/Subjec\u001b[A\n",
      "(S3) /home/crombie/Downloads/ONE/alyx.internationalbrainlab.org/mainenlab/Subjec\u001b[A\n",
      "\n",
      "(S3) /home/crombie/Downloads/ONE/alyx.internationalbrainlab.org/mainenlab/Subjec\u001b[A\n",
      "(S3) /home/crombie/Downloads/ONE/alyx.internationalbrainlab.org/mainenlab/Subjec\u001b[A\n",
      "\n",
      "(S3) /home/crombie/Downloads/ONE/alyx.internationalbrainlab.org/mainenlab/Subjec\u001b[A\n",
      "(S3) /home/crombie/Downloads/ONE/alyx.internationalbrainlab.org/mainenlab/Subjec\u001b[A\n",
      "\n",
      "(S3) /home/crombie/Downloads/ONE/alyx.internationalbrainlab.org/mainenlab/Subjec\u001b[A\n",
      "(S3) /home/crombie/Downloads/ONE/alyx.internationalbrainlab.org/mainenlab/Subjec\u001b[A\n"
     ]
    },
    {
     "name": "stdout",
     "output_type": "stream",
     "text": [
      "Downloading: /home/crombie/Downloads/ONE/alyx.internationalbrainlab.org/mainenlab/Subjects/ZFM-05245/2023-11-28/001/alf/task_00/_ibl_trials.table.6bd05034-2e44-4de8-aa1e-3ce7ed89f5da.pqt Bytes: 22544\n"
     ]
    },
    {
     "name": "stderr",
     "output_type": "stream",
     "text": [
      "\n",
      "  0%|                                    | 0/0.0214996337890625 [00:00<?, ?it/s]\u001b[A\n",
      "100%|███████████| 0.0214996337890625/0.0214996337890625 [00:00<00:00,  9.89s/it]\u001b[A\n",
      "\n",
      "(S3) /home/crombie/Downloads/ONE/alyx.internationalbrainlab.org/mainenlab/Subjec\u001b[A\n",
      "(S3) /home/crombie/Downloads/ONE/alyx.internationalbrainlab.org/mainenlab/Subjec\u001b[A\n",
      "\n",
      "(S3) /home/crombie/Downloads/ONE/alyx.internationalbrainlab.org/mainenlab/Subjec\u001b[A\n",
      "(S3) /home/crombie/Downloads/ONE/alyx.internationalbrainlab.org/mainenlab/Subjec\u001b[A\n",
      "\n",
      "(S3) /home/crombie/Downloads/ONE/alyx.internationalbrainlab.org/mainenlab/Subjec\u001b[A\n",
      "(S3) /home/crombie/Downloads/ONE/alyx.internationalbrainlab.org/mainenlab/Subjec\u001b[A\n",
      "\n",
      "(S3) /home/crombie/Downloads/ONE/alyx.internationalbrainlab.org/mainenlab/Subjec\u001b[A\n",
      "(S3) /home/crombie/Downloads/ONE/alyx.internationalbrainlab.org/mainenlab/Subjec\u001b[A\n",
      "\n",
      "(S3) /home/crombie/Downloads/ONE/alyx.internationalbrainlab.org/mainenlab/Subjec\u001b[A\n",
      "(S3) /home/crombie/Downloads/ONE/alyx.internationalbrainlab.org/mainenlab/Subjec\u001b[A\n",
      "\n",
      "(S3) /home/crombie/Downloads/ONE/alyx.internationalbrainlab.org/mainenlab/Subjec\u001b[A\n",
      "(S3) /home/crombie/Downloads/ONE/alyx.internationalbrainlab.org/mainenlab/Subjec\u001b[A\n",
      "\n",
      "(S3) /home/crombie/Downloads/ONE/alyx.internationalbrainlab.org/mainenlab/Subjec\u001b[A\n",
      "(S3) /home/crombie/Downloads/ONE/alyx.internationalbrainlab.org/mainenlab/Subjec\u001b[A\n",
      "\n",
      "(S3) /home/crombie/Downloads/ONE/alyx.internationalbrainlab.org/mainenlab/Subjec\u001b[A\n",
      "(S3) /home/crombie/Downloads/ONE/alyx.internationalbrainlab.org/mainenlab/Subjec\u001b[A\n",
      "\n",
      "(S3) /home/crombie/Downloads/ONE/alyx.internationalbrainlab.org/mainenlab/Subjec\u001b[A\n",
      "(S3) /home/crombie/Downloads/ONE/alyx.internationalbrainlab.org/mainenlab/Subjec\u001b[A\n",
      "\n",
      "(S3) /home/crombie/Downloads/ONE/alyx.internationalbrainlab.org/mainenlab/Subjec\u001b[A\n",
      "(S3) /home/crombie/Downloads/ONE/alyx.internationalbrainlab.org/mainenlab/Subjec\u001b[A\n",
      "\n",
      "(S3) /home/crombie/Downloads/ONE/alyx.internationalbrainlab.org/mainenlab/Subjec\u001b[A\n",
      "(S3) /home/crombie/Downloads/ONE/alyx.internationalbrainlab.org/mainenlab/Subjec\u001b[A\n",
      "\n",
      "(S3) /home/crombie/Downloads/ONE/alyx.internationalbrainlab.org/mainenlab/Subjec\u001b[A\n",
      "(S3) /home/crombie/Downloads/ONE/alyx.internationalbrainlab.org/mainenlab/Subjec\u001b[A\n",
      "\n",
      "(S3) /home/crombie/Downloads/ONE/alyx.internationalbrainlab.org/mainenlab/Subjec\u001b[A\n",
      "(S3) /home/crombie/Downloads/ONE/alyx.internationalbrainlab.org/mainenlab/Subjec\u001b[A\n",
      "\n",
      "(S3) /home/crombie/Downloads/ONE/alyx.internationalbrainlab.org/mainenlab/Subjec\u001b[A\n",
      "(S3) /home/crombie/Downloads/ONE/alyx.internationalbrainlab.org/mainenlab/Subjec\u001b[A\n",
      "\n",
      "(S3) /home/crombie/Downloads/ONE/alyx.internationalbrainlab.org/mainenlab/Subjec\u001b[A\n",
      "(S3) /home/crombie/Downloads/ONE/alyx.internationalbrainlab.org/mainenlab/Subjec\u001b[A\n",
      "\n",
      "(S3) /home/crombie/Downloads/ONE/alyx.internationalbrainlab.org/mainenlab/Subjec\u001b[A\n",
      "(S3) /home/crombie/Downloads/ONE/alyx.internationalbrainlab.org/mainenlab/Subjec\u001b[A\n",
      "\n",
      "(S3) /home/crombie/Downloads/ONE/alyx.internationalbrainlab.org/mainenlab/Subjec\u001b[A\n",
      "(S3) /home/crombie/Downloads/ONE/alyx.internationalbrainlab.org/mainenlab/Subjec\u001b[A\n",
      "\n",
      "(S3) /home/crombie/Downloads/ONE/alyx.internationalbrainlab.org/mainenlab/Subjec\u001b[A\n",
      "(S3) /home/crombie/Downloads/ONE/alyx.internationalbrainlab.org/mainenlab/Subjec\u001b[A\n",
      "\n",
      "(S3) /home/crombie/Downloads/ONE/alyx.internationalbrainlab.org/mainenlab/Subjec\u001b[A\n",
      "(S3) /home/crombie/Downloads/ONE/alyx.internationalbrainlab.org/mainenlab/Subjec\u001b[A\n",
      "\n",
      "(S3) /home/crombie/Downloads/ONE/alyx.internationalbrainlab.org/mainenlab/Subjec\u001b[A\n",
      "(S3) /home/crombie/Downloads/ONE/alyx.internationalbrainlab.org/mainenlab/Subjec\u001b[A\n",
      "\n",
      "(S3) /home/crombie/Downloads/ONE/alyx.internationalbrainlab.org/mainenlab/Subjec\u001b[A\n",
      "(S3) /home/crombie/Downloads/ONE/alyx.internationalbrainlab.org/mainenlab/Subjec\u001b[A\n",
      "\n",
      "(S3) /home/crombie/Downloads/ONE/alyx.internationalbrainlab.org/mainenlab/Subjec\u001b[A\n",
      "(S3) /home/crombie/Downloads/ONE/alyx.internationalbrainlab.org/mainenlab/Subjec\u001b[A\n"
     ]
    },
    {
     "name": "stdout",
     "output_type": "stream",
     "text": [
      "Downloading: /home/crombie/Downloads/ONE/alyx.internationalbrainlab.org/mainenlab/Subjects/ZFM-06275/2023-11-17/001/alf/task_00/_ibl_trials.table.aa3c0075-b522-47b8-8da3-b408cd4e3c26.pqt Bytes: 22012\n"
     ]
    },
    {
     "name": "stderr",
     "output_type": "stream",
     "text": [
      "\n",
      "  0%|                                  | 0/0.020992279052734375 [00:00<?, ?it/s]\u001b[A\n",
      "100%|███████| 0.020992279052734375/0.020992279052734375 [00:00<00:00,  9.82s/it]\u001b[A\n",
      "\n",
      "(S3) /home/crombie/Downloads/ONE/alyx.internationalbrainlab.org/mainenlab/Subjec\u001b[A\n",
      "(S3) /home/crombie/Downloads/ONE/alyx.internationalbrainlab.org/mainenlab/Subjec\u001b[A\n"
     ]
    },
    {
     "name": "stdout",
     "output_type": "stream",
     "text": [
      "Downloading: /home/crombie/Downloads/ONE/alyx.internationalbrainlab.org/mainenlab/Subjects/ZFM-06171/2023-11-17/001/alf/task_00/_ibl_trials.table.85dc6221-db95-4d7d-aef5-3bce347f1fdd.pqt Bytes: 36259\n"
     ]
    },
    {
     "name": "stderr",
     "output_type": "stream",
     "text": [
      "\n",
      "  0%|                                   | 0/0.03457927703857422 [00:00<?, ?it/s]\u001b[A\n",
      "100%|█████████| 0.03457927703857422/0.03457927703857422 [00:00<00:00, 11.68s/it]\u001b[A\n",
      "\n",
      "(S3) /home/crombie/Downloads/ONE/alyx.internationalbrainlab.org/mainenlab/Subjec\u001b[A\n",
      "(S3) /home/crombie/Downloads/ONE/alyx.internationalbrainlab.org/mainenlab/Subjec\u001b[A\n",
      "\n",
      "(S3) /home/crombie/Downloads/ONE/alyx.internationalbrainlab.org/mainenlab/Subjec\u001b[A\n",
      "(S3) /home/crombie/Downloads/ONE/alyx.internationalbrainlab.org/mainenlab/Subjec\u001b[A\n",
      "\n",
      "(S3) /home/crombie/Downloads/ONE/alyx.internationalbrainlab.org/mainenlab/Subjec\u001b[A\n",
      "(S3) /home/crombie/Downloads/ONE/alyx.internationalbrainlab.org/mainenlab/Subjec\u001b[A\n"
     ]
    },
    {
     "name": "stdout",
     "output_type": "stream",
     "text": [
      "Downloading: /home/crombie/Downloads/ONE/alyx.internationalbrainlab.org/mainenlab/Subjects/ZFM-05245/2023-11-16/001/alf/task_00/_ibl_trials.table.f70d4cfa-bc38-4c71-ad2d-066cfa869196.pqt Bytes: 48676\n"
     ]
    },
    {
     "name": "stderr",
     "output_type": "stream",
     "text": [
      "\n",
      "  0%|                                  | 0/0.046421051025390625 [00:00<?, ?it/s]\u001b[A\n",
      "100%|███████| 0.046421051025390625/0.046421051025390625 [00:00<00:00,  8.81s/it]\u001b[A\n",
      "\n",
      "(S3) /home/crombie/Downloads/ONE/alyx.internationalbrainlab.org/mainenlab/Subjec\u001b[A\n",
      "(S3) /home/crombie/Downloads/ONE/alyx.internationalbrainlab.org/mainenlab/Subjec\u001b[A\n",
      "\n",
      "(S3) /home/crombie/Downloads/ONE/alyx.internationalbrainlab.org/mainenlab/Subjec\u001b[A\n",
      "(S3) /home/crombie/Downloads/ONE/alyx.internationalbrainlab.org/mainenlab/Subjec\u001b[A\n",
      "\n",
      "(S3) /home/crombie/Downloads/ONE/alyx.internationalbrainlab.org/mainenlab/Subjec\u001b[A\n",
      "(S3) /home/crombie/Downloads/ONE/alyx.internationalbrainlab.org/mainenlab/Subjec\u001b[A\n",
      "\n",
      "(S3) /home/crombie/Downloads/ONE/alyx.internationalbrainlab.org/mainenlab/Subjec\u001b[A\n",
      "(S3) /home/crombie/Downloads/ONE/alyx.internationalbrainlab.org/mainenlab/Subjec\u001b[A\n",
      "\n",
      "(S3) /home/crombie/Downloads/ONE/alyx.internationalbrainlab.org/mainenlab/Subjec\u001b[A\n",
      "(S3) /home/crombie/Downloads/ONE/alyx.internationalbrainlab.org/mainenlab/Subjec\u001b[A\n",
      "\n",
      "(S3) /home/crombie/Downloads/ONE/alyx.internationalbrainlab.org/mainenlab/Subjec\u001b[A\n",
      "(S3) /home/crombie/Downloads/ONE/alyx.internationalbrainlab.org/mainenlab/Subjec\u001b[A\n",
      "\n",
      "(S3) /home/crombie/Downloads/ONE/alyx.internationalbrainlab.org/mainenlab/Subjec\u001b[A\n",
      "(S3) /home/crombie/Downloads/ONE/alyx.internationalbrainlab.org/mainenlab/Subjec\u001b[A\n",
      "\n",
      "(S3) /home/crombie/Downloads/ONE/alyx.internationalbrainlab.org/mainenlab/Subjec\u001b[A\n",
      "(S3) /home/crombie/Downloads/ONE/alyx.internationalbrainlab.org/mainenlab/Subjec\u001b[A\n",
      "\n",
      "(S3) /home/crombie/Downloads/ONE/alyx.internationalbrainlab.org/mainenlab/Subjec\u001b[A\n",
      "(S3) /home/crombie/Downloads/ONE/alyx.internationalbrainlab.org/mainenlab/Subjec\u001b[A\n",
      "\n",
      "(S3) /home/crombie/Downloads/ONE/alyx.internationalbrainlab.org/mainenlab/Subjec\u001b[A\n",
      "(S3) /home/crombie/Downloads/ONE/alyx.internationalbrainlab.org/mainenlab/Subjec\u001b[A\n",
      "\n",
      "(S3) /home/crombie/Downloads/ONE/alyx.internationalbrainlab.org/mainenlab/Subjec\u001b[A\n",
      "(S3) /home/crombie/Downloads/ONE/alyx.internationalbrainlab.org/mainenlab/Subjec\u001b[A\n"
     ]
    },
    {
     "name": "stdout",
     "output_type": "stream",
     "text": [
      "Downloading: /home/crombie/Downloads/ONE/alyx.internationalbrainlab.org/mainenlab/Subjects/ZFM-05235/2023-11-15/001/alf/task_00/_ibl_trials.table.6405b31c-9e8b-4cb3-b068-2128cf844b17.pqt Bytes: 41389\n"
     ]
    },
    {
     "name": "stderr",
     "output_type": "stream",
     "text": [
      "\n",
      "  0%|                                   | 0/0.03947162628173828 [00:00<?, ?it/s]\u001b[A\n",
      "100%|█████████| 0.03947162628173828/0.03947162628173828 [00:00<00:00, 10.18s/it]\u001b[A\n",
      "\n",
      "(S3) /home/crombie/Downloads/ONE/alyx.internationalbrainlab.org/mainenlab/Subjec\u001b[A\n",
      "(S3) /home/crombie/Downloads/ONE/alyx.internationalbrainlab.org/mainenlab/Subjec\u001b[A\n",
      "\n",
      "(S3) /home/crombie/Downloads/ONE/alyx.internationalbrainlab.org/mainenlab/Subjec\u001b[A\n",
      "(S3) /home/crombie/Downloads/ONE/alyx.internationalbrainlab.org/mainenlab/Subjec\u001b[A\n",
      "\n",
      "(S3) /home/crombie/Downloads/ONE/alyx.internationalbrainlab.org/mainenlab/Subjec\u001b[A\n",
      "(S3) /home/crombie/Downloads/ONE/alyx.internationalbrainlab.org/mainenlab/Subjec\u001b[A\n",
      "\n",
      "(S3) /home/crombie/Downloads/ONE/alyx.internationalbrainlab.org/mainenlab/Subjec\u001b[A\n",
      "(S3) /home/crombie/Downloads/ONE/alyx.internationalbrainlab.org/mainenlab/Subjec\u001b[A\n"
     ]
    },
    {
     "name": "stdout",
     "output_type": "stream",
     "text": [
      "Downloading: /home/crombie/Downloads/ONE/alyx.internationalbrainlab.org/mainenlab/Subjects/ZFM-06268/2023-11-15/001/alf/task_00/_ibl_trials.table.d16d9802-0597-432a-ba58-ba8efdc23987.pqt Bytes: 17811\n"
     ]
    },
    {
     "name": "stderr",
     "output_type": "stream",
     "text": [
      "\n",
      "  0%|                                   | 0/0.01698589324951172 [00:00<?, ?it/s]\u001b[A\n",
      "100%|█████████| 0.01698589324951172/0.01698589324951172 [00:00<00:00, 11.88s/it]\u001b[A\n",
      "\n",
      "(S3) /home/crombie/Downloads/ONE/alyx.internationalbrainlab.org/mainenlab/Subjec\u001b[A\n",
      "(S3) /home/crombie/Downloads/ONE/alyx.internationalbrainlab.org/mainenlab/Subjec\u001b[A\n",
      "\n",
      "(S3) /home/crombie/Downloads/ONE/alyx.internationalbrainlab.org/mainenlab/Subjec\u001b[A\n",
      "(S3) /home/crombie/Downloads/ONE/alyx.internationalbrainlab.org/mainenlab/Subjec\u001b[A\n",
      "\n",
      "(S3) /home/crombie/Downloads/ONE/alyx.internationalbrainlab.org/mainenlab/Subjec\u001b[A\n",
      "(S3) /home/crombie/Downloads/ONE/alyx.internationalbrainlab.org/mainenlab/Subjec\u001b[A\n",
      "\n",
      "(S3) /home/crombie/Downloads/ONE/alyx.internationalbrainlab.org/mainenlab/Subjec\u001b[A\n",
      "(S3) /home/crombie/Downloads/ONE/alyx.internationalbrainlab.org/mainenlab/Subjec\u001b[A\n",
      "\n",
      "(S3) /home/crombie/Downloads/ONE/alyx.internationalbrainlab.org/mainenlab/Subjec\u001b[A\n",
      "(S3) /home/crombie/Downloads/ONE/alyx.internationalbrainlab.org/mainenlab/Subjec\u001b[A\n",
      "\n",
      "(S3) /home/crombie/Downloads/ONE/alyx.internationalbrainlab.org/mainenlab/Subjec\u001b[A\n",
      "(S3) /home/crombie/Downloads/ONE/alyx.internationalbrainlab.org/mainenlab/Subjec\u001b[A\n",
      "\n",
      "(S3) /home/crombie/Downloads/ONE/alyx.internationalbrainlab.org/mainenlab/Subjec\u001b[A\n",
      "(S3) /home/crombie/Downloads/ONE/alyx.internationalbrainlab.org/mainenlab/Subjec\u001b[A\n",
      "\n",
      "(S3) /home/crombie/Downloads/ONE/alyx.internationalbrainlab.org/mainenlab/Subjec\u001b[A\n",
      "(S3) /home/crombie/Downloads/ONE/alyx.internationalbrainlab.org/mainenlab/Subjec\u001b[A\n"
     ]
    },
    {
     "name": "stdout",
     "output_type": "stream",
     "text": [
      "Downloading: /home/crombie/Downloads/ONE/alyx.internationalbrainlab.org/mainenlab/Subjects/ZFM-06271/2023-11-14/001/alf/task_00/_ibl_trials.table.cc5d4390-ee81-433c-9ddc-ee9938fc883d.pqt Bytes: 40696\n"
     ]
    },
    {
     "name": "stderr",
     "output_type": "stream",
     "text": [
      "\n",
      "  0%|                                   | 0/0.03881072998046875 [00:00<?, ?it/s]\u001b[A\n",
      "100%|█████████| 0.03881072998046875/0.03881072998046875 [00:00<00:00,  8.15s/it]\u001b[A\n"
     ]
    },
    {
     "name": "stdout",
     "output_type": "stream",
     "text": [
      "Downloading: /home/crombie/Downloads/ONE/alyx.internationalbrainlab.org/mainenlab/Subjects/ZFM-06272/2023-11-13/001/alf/task_00/_ibl_trials.table.f5c88fb9-d9d2-4bd7-948d-43e4154b7f04.pqt Bytes: 14758\n"
     ]
    },
    {
     "name": "stderr",
     "output_type": "stream",
     "text": [
      "\n",
      "  0%|                                  | 0/0.014074325561523438 [00:00<?, ?it/s]\u001b[A\n",
      "100%|███████| 0.014074325561523438/0.014074325561523438 [00:00<00:00,  8.60s/it]\u001b[A\n",
      "\n",
      "(S3) /home/crombie/Downloads/ONE/alyx.internationalbrainlab.org/mainenlab/Subjec\u001b[A\n",
      "(S3) /home/crombie/Downloads/ONE/alyx.internationalbrainlab.org/mainenlab/Subjec\u001b[A\n"
     ]
    },
    {
     "name": "stdout",
     "output_type": "stream",
     "text": [
      "Downloading: /home/crombie/Downloads/ONE/alyx.internationalbrainlab.org/mainenlab/Subjects/ZFM-06948/2023-11-13/001/alf/task_00/_ibl_trials.table.89d29a87-a367-4b04-9740-0817dcb408f6.pqt Bytes: 27891\n"
     ]
    },
    {
     "name": "stderr",
     "output_type": "stream",
     "text": [
      "\n",
      "  0%|                                   | 0/0.02659893035888672 [00:00<?, ?it/s]\u001b[A\n",
      "100%|█████████| 0.02659893035888672/0.02659893035888672 [00:00<00:00,  7.73s/it]\u001b[A\n",
      "\n",
      "(S3) /home/crombie/Downloads/ONE/alyx.internationalbrainlab.org/mainenlab/Subjec\u001b[A\n",
      "(S3) /home/crombie/Downloads/ONE/alyx.internationalbrainlab.org/mainenlab/Subjec\u001b[A\n",
      "\n",
      "(S3) /home/crombie/Downloads/ONE/alyx.internationalbrainlab.org/mainenlab/Subjec\u001b[A\n",
      "(S3) /home/crombie/Downloads/ONE/alyx.internationalbrainlab.org/mainenlab/Subjec\u001b[A\n",
      "\n",
      "(S3) /home/crombie/Downloads/ONE/alyx.internationalbrainlab.org/mainenlab/Subjec\u001b[A\n",
      "(S3) /home/crombie/Downloads/ONE/alyx.internationalbrainlab.org/mainenlab/Subjec\u001b[A\n",
      "\n",
      "(S3) /home/crombie/Downloads/ONE/alyx.internationalbrainlab.org/mainenlab/Subjec\u001b[A\n",
      "(S3) /home/crombie/Downloads/ONE/alyx.internationalbrainlab.org/mainenlab/Subjec\u001b[A\n",
      "\n",
      "(S3) /home/crombie/Downloads/ONE/alyx.internationalbrainlab.org/mainenlab/Subjec\u001b[A\n",
      "(S3) /home/crombie/Downloads/ONE/alyx.internationalbrainlab.org/mainenlab/Subjec\u001b[A\n",
      "\n",
      "(S3) /home/crombie/Downloads/ONE/alyx.internationalbrainlab.org/mainenlab/Subjec\u001b[A\n",
      "(S3) /home/crombie/Downloads/ONE/alyx.internationalbrainlab.org/mainenlab/Subjec\u001b[A\n",
      "\n",
      "(S3) /home/crombie/Downloads/ONE/alyx.internationalbrainlab.org/mainenlab/Subjec\u001b[A\n",
      "(S3) /home/crombie/Downloads/ONE/alyx.internationalbrainlab.org/mainenlab/Subjec\u001b[A\n",
      "\n",
      "(S3) /home/crombie/Downloads/ONE/alyx.internationalbrainlab.org/mainenlab/Subjec\u001b[A\n",
      "(S3) /home/crombie/Downloads/ONE/alyx.internationalbrainlab.org/mainenlab/Subjec\u001b[A\n",
      "\n",
      "(S3) /home/crombie/Downloads/ONE/alyx.internationalbrainlab.org/mainenlab/Subjec\u001b[A\n",
      "(S3) /home/crombie/Downloads/ONE/alyx.internationalbrainlab.org/mainenlab/Subjec\u001b[A\n",
      "\n",
      "(S3) /home/crombie/Downloads/ONE/alyx.internationalbrainlab.org/mainenlab/Subjec\u001b[A\n",
      "(S3) /home/crombie/Downloads/ONE/alyx.internationalbrainlab.org/mainenlab/Subjec\u001b[A\n",
      "\n",
      "(S3) /home/crombie/Downloads/ONE/alyx.internationalbrainlab.org/mainenlab/Subjec\u001b[A\n",
      "(S3) /home/crombie/Downloads/ONE/alyx.internationalbrainlab.org/mainenlab/Subjec\u001b[A\n"
     ]
    },
    {
     "name": "stdout",
     "output_type": "stream",
     "text": [
      "Downloading: /home/crombie/Downloads/ONE/alyx.internationalbrainlab.org/mainenlab/Subjects/ZFM-06275/2023-11-09/001/alf/task_00/_ibl_trials.table.6efc00bd-80fb-41e5-8823-4242caf426a9.pqt Bytes: 45226\n"
     ]
    },
    {
     "name": "stderr",
     "output_type": "stream",
     "text": [
      "\n",
      "  0%|                                   | 0/0.04313087463378906 [00:00<?, ?it/s]\u001b[A\n",
      "100%|█████████| 0.04313087463378906/0.04313087463378906 [00:00<00:00,  7.52s/it]\u001b[A\n",
      "\n",
      "(S3) /home/crombie/Downloads/ONE/alyx.internationalbrainlab.org/mainenlab/Subjec\u001b[A\n",
      "(S3) /home/crombie/Downloads/ONE/alyx.internationalbrainlab.org/mainenlab/Subjec\u001b[A\n",
      "\n",
      "(S3) /home/crombie/Downloads/ONE/alyx.internationalbrainlab.org/mainenlab/Subjec\u001b[A\n",
      "(S3) /home/crombie/Downloads/ONE/alyx.internationalbrainlab.org/mainenlab/Subjec\u001b[A\n",
      "\n",
      "(S3) /home/crombie/Downloads/ONE/alyx.internationalbrainlab.org/mainenlab/Subjec\u001b[A\n",
      "(S3) /home/crombie/Downloads/ONE/alyx.internationalbrainlab.org/mainenlab/Subjec\u001b[A\n",
      "\n",
      "(S3) /home/crombie/Downloads/ONE/alyx.internationalbrainlab.org/mainenlab/Subjec\u001b[A\n",
      "(S3) /home/crombie/Downloads/ONE/alyx.internationalbrainlab.org/mainenlab/Subjec\u001b[A\n",
      "\n",
      "(S3) /home/crombie/Downloads/ONE/alyx.internationalbrainlab.org/mainenlab/Subjec\u001b[A\n",
      "(S3) /home/crombie/Downloads/ONE/alyx.internationalbrainlab.org/mainenlab/Subjec\u001b[A\n",
      "\n",
      "(S3) /home/crombie/Downloads/ONE/alyx.internationalbrainlab.org/mainenlab/Subjec\u001b[A\n",
      "(S3) /home/crombie/Downloads/ONE/alyx.internationalbrainlab.org/mainenlab/Subjec\u001b[A\n",
      "\n",
      "(S3) /home/crombie/Downloads/ONE/alyx.internationalbrainlab.org/mainenlab/Subjec\u001b[A\n",
      "(S3) /home/crombie/Downloads/ONE/alyx.internationalbrainlab.org/mainenlab/Subjec\u001b[A\n",
      "\n",
      "(S3) /home/crombie/Downloads/ONE/alyx.internationalbrainlab.org/mainenlab/Subjec\u001b[A\n",
      "(S3) /home/crombie/Downloads/ONE/alyx.internationalbrainlab.org/mainenlab/Subjec\u001b[A\n",
      "\n",
      "(S3) /home/crombie/Downloads/ONE/alyx.internationalbrainlab.org/mainenlab/Subjec\u001b[A\n",
      "(S3) /home/crombie/Downloads/ONE/alyx.internationalbrainlab.org/mainenlab/Subjec\u001b[A\n"
     ]
    },
    {
     "name": "stdout",
     "output_type": "stream",
     "text": [
      "Downloading: /home/crombie/Downloads/ONE/alyx.internationalbrainlab.org/mainenlab/Subjects/ZFM-06272/2023-11-03/001/alf/task_00/_ibl_trials.table.5fc08d06-1d96-457f-930f-9197dd45022d.pqt Bytes: 45735\n"
     ]
    },
    {
     "name": "stderr",
     "output_type": "stream",
     "text": [
      "\n",
      "  0%|                                  | 0/0.043616294860839844 [00:00<?, ?it/s]\u001b[A\n",
      "100%|███████| 0.043616294860839844/0.043616294860839844 [00:00<00:00,  7.59s/it]\u001b[A\n",
      "\n",
      "(S3) /home/crombie/Downloads/ONE/alyx.internationalbrainlab.org/mainenlab/Subjec\u001b[A\n",
      "(S3) /home/crombie/Downloads/ONE/alyx.internationalbrainlab.org/mainenlab/Subjec\u001b[A\n",
      "\n",
      "(S3) /home/crombie/Downloads/ONE/alyx.internationalbrainlab.org/mainenlab/Subjec\u001b[A\n",
      "(S3) /home/crombie/Downloads/ONE/alyx.internationalbrainlab.org/mainenlab/Subjec\u001b[A\n",
      "\n",
      "(S3) /home/crombie/Downloads/ONE/alyx.internationalbrainlab.org/mainenlab/Subjec\u001b[A\n",
      "(S3) /home/crombie/Downloads/ONE/alyx.internationalbrainlab.org/mainenlab/Subjec\u001b[A\n"
     ]
    },
    {
     "name": "stdout",
     "output_type": "stream",
     "text": [
      "Downloading: /home/crombie/Downloads/ONE/alyx.internationalbrainlab.org/mainenlab/Subjects/ZFM-06171/2023-11-02/001/alf/task_00/_ibl_trials.table.f5d43751-c434-40fc-b495-5681b3b01318.pqt Bytes: 33098\n"
     ]
    },
    {
     "name": "stderr",
     "output_type": "stream",
     "text": [
      "\n",
      "  0%|                                   | 0/0.03156471252441406 [00:00<?, ?it/s]\u001b[A\n",
      "100%|█████████| 0.03156471252441406/0.03156471252441406 [00:00<00:00,  5.20s/it]\u001b[A\n"
     ]
    },
    {
     "name": "stdout",
     "output_type": "stream",
     "text": [
      "Downloading: /home/crombie/Downloads/ONE/alyx.internationalbrainlab.org/mainenlab/Subjects/ZFM-06271/2023-11-02/001/alf/task_00/_ibl_trials.table.5e7f97c0-6ca9-42fb-8b15-23f68e56ffe8.pqt Bytes: 66277\n"
     ]
    },
    {
     "name": "stderr",
     "output_type": "stream",
     "text": [
      "\n",
      "  0%|                                   | 0/0.06320667266845703 [00:00<?, ?it/s]\u001b[A\n",
      "100%|█████████| 0.06320667266845703/0.06320667266845703 [00:00<00:00,  6.52s/it]\u001b[A\n",
      "\n",
      "(S3) /home/crombie/Downloads/ONE/alyx.internationalbrainlab.org/mainenlab/Subjec\u001b[A\n",
      "(S3) /home/crombie/Downloads/ONE/alyx.internationalbrainlab.org/mainenlab/Subjec\u001b[A\n",
      "\n",
      "(S3) /home/crombie/Downloads/ONE/alyx.internationalbrainlab.org/mainenlab/Subjec\u001b[A\n",
      "(S3) /home/crombie/Downloads/ONE/alyx.internationalbrainlab.org/mainenlab/Subjec\u001b[A\n",
      "\n",
      "(S3) /home/crombie/Downloads/ONE/alyx.internationalbrainlab.org/mainenlab/Subjec\u001b[A\n",
      "(S3) /home/crombie/Downloads/ONE/alyx.internationalbrainlab.org/mainenlab/Subjec\u001b[A\n",
      "\n",
      "(S3) /home/crombie/Downloads/ONE/alyx.internationalbrainlab.org/mainenlab/Subjec\u001b[A\n",
      "(S3) /home/crombie/Downloads/ONE/alyx.internationalbrainlab.org/mainenlab/Subjec\u001b[A\n",
      "\n",
      "(S3) /home/crombie/Downloads/ONE/alyx.internationalbrainlab.org/mainenlab/Subjec\u001b[A\n",
      "(S3) /home/crombie/Downloads/ONE/alyx.internationalbrainlab.org/mainenlab/Subjec\u001b[A\n",
      "\n",
      "(S3) /home/crombie/Downloads/ONE/alyx.internationalbrainlab.org/mainenlab/Subjec\u001b[A\n",
      "(S3) /home/crombie/Downloads/ONE/alyx.internationalbrainlab.org/mainenlab/Subjec\u001b[A\n",
      "\n",
      "(S3) /home/crombie/Downloads/ONE/alyx.internationalbrainlab.org/mainenlab/Subjec\u001b[A\n",
      "(S3) /home/crombie/Downloads/ONE/alyx.internationalbrainlab.org/mainenlab/Subjec\u001b[A\n",
      "\n",
      "(S3) /home/crombie/Downloads/ONE/alyx.internationalbrainlab.org/mainenlab/Subjec\u001b[A\n",
      "(S3) /home/crombie/Downloads/ONE/alyx.internationalbrainlab.org/mainenlab/Subjec\u001b[A\n",
      "\n",
      "(S3) /home/crombie/Downloads/ONE/alyx.internationalbrainlab.org/mainenlab/Subjec\u001b[A\n",
      "(S3) /home/crombie/Downloads/ONE/alyx.internationalbrainlab.org/mainenlab/Subjec\u001b[A\n",
      "\n",
      "(S3) /home/crombie/Downloads/ONE/alyx.internationalbrainlab.org/mainenlab/Subjec\u001b[A\n",
      "(S3) /home/crombie/Downloads/ONE/alyx.internationalbrainlab.org/mainenlab/Subjec\u001b[A\n"
     ]
    },
    {
     "name": "stdout",
     "output_type": "stream",
     "text": [
      "Downloading: /home/crombie/Downloads/ONE/alyx.internationalbrainlab.org/mainenlab/Subjects/ZFM-06275/2023-10-26/001/alf/task_00/_ibl_trials.table.ae05f4ce-4c9e-4328-ba9b-c5d67c0c8e34.pqt Bytes: 66310\n"
     ]
    },
    {
     "name": "stderr",
     "output_type": "stream",
     "text": [
      "\n",
      "  0%|                                   | 0/0.06323814392089844 [00:00<?, ?it/s]\u001b[A\n",
      "100%|█████████| 0.06323814392089844/0.06323814392089844 [00:00<00:00,  6.21s/it]\u001b[A\n",
      "\n",
      "(S3) /home/crombie/Downloads/ONE/alyx.internationalbrainlab.org/mainenlab/Subjec\u001b[A\n",
      "(S3) /home/crombie/Downloads/ONE/alyx.internationalbrainlab.org/mainenlab/Subjec\u001b[A\n"
     ]
    },
    {
     "name": "stdout",
     "output_type": "stream",
     "text": [
      "Downloading: /home/crombie/Downloads/ONE/alyx.internationalbrainlab.org/mainenlab/Subjects/ZFM-05235/2023-10-25/001/alf/task_00/_ibl_trials.table.6cdf2d11-8726-4e7c-be2e-9a71fb6c88fd.pqt Bytes: 83049\n"
     ]
    },
    {
     "name": "stderr",
     "output_type": "stream",
     "text": [
      "\n",
      "  0%|                                   | 0/0.07920169830322266 [00:00<?, ?it/s]\u001b[A\n",
      "100%|█████████| 0.07920169830322266/0.07920169830322266 [00:00<00:00,  6.67s/it]\u001b[A\n",
      "\n",
      "(S3) /home/crombie/Downloads/ONE/alyx.internationalbrainlab.org/mainenlab/Subjec\u001b[A\n",
      "(S3) /home/crombie/Downloads/ONE/alyx.internationalbrainlab.org/mainenlab/Subjec\u001b[A\n",
      "\n",
      "(S3) /home/crombie/Downloads/ONE/alyx.internationalbrainlab.org/mainenlab/Subjec\u001b[A\n",
      "(S3) /home/crombie/Downloads/ONE/alyx.internationalbrainlab.org/mainenlab/Subjec\u001b[A\n",
      "\n",
      "(S3) /home/crombie/Downloads/ONE/alyx.internationalbrainlab.org/mainenlab/Subjec\u001b[A\n",
      "(S3) /home/crombie/Downloads/ONE/alyx.internationalbrainlab.org/mainenlab/Subjec\u001b[A\n",
      "\n",
      "(S3) /home/crombie/Downloads/ONE/alyx.internationalbrainlab.org/mainenlab/Subjec\u001b[A\n",
      "(S3) /home/crombie/Downloads/ONE/alyx.internationalbrainlab.org/mainenlab/Subjec\u001b[A\n",
      "\n",
      "(S3) /home/crombie/Downloads/ONE/alyx.internationalbrainlab.org/mainenlab/Subjec\u001b[A\n",
      "(S3) /home/crombie/Downloads/ONE/alyx.internationalbrainlab.org/mainenlab/Subjec\u001b[A\n"
     ]
    },
    {
     "name": "stdout",
     "output_type": "stream",
     "text": [
      "Downloading: /home/crombie/Downloads/ONE/alyx.internationalbrainlab.org/mainenlab/Subjects/ZFM-06275/2023-10-24/002/alf/task_00/_ibl_trials.table.d8389af8-1cb8-4943-a26b-48db784a35ad.pqt Bytes: 52881\n"
     ]
    },
    {
     "name": "stderr",
     "output_type": "stream",
     "text": [
      "\n",
      "  0%|                                  | 0/0.050431251525878906 [00:00<?, ?it/s]\u001b[A\n",
      "100%|███████| 0.050431251525878906/0.050431251525878906 [00:00<00:00,  6.41s/it]\u001b[A\n",
      "\n",
      "(S3) /home/crombie/Downloads/ONE/alyx.internationalbrainlab.org/mainenlab/Subjec\u001b[A\n",
      "(S3) /home/crombie/Downloads/ONE/alyx.internationalbrainlab.org/mainenlab/Subjec\u001b[A\n",
      "\n",
      "(S3) /home/crombie/Downloads/ONE/alyx.internationalbrainlab.org/mainenlab/Subjec\u001b[A\n",
      "(S3) /home/crombie/Downloads/ONE/alyx.internationalbrainlab.org/mainenlab/Subjec\u001b[A\n"
     ]
    },
    {
     "name": "stdout",
     "output_type": "stream",
     "text": [
      "Downloading: /home/crombie/Downloads/ONE/alyx.internationalbrainlab.org/mainenlab/Subjects/ZFM-06271/2023-10-24/001/alf/task_00/_ibl_trials.table.49b1e384-5952-4687-8d29-dcacb8a0203f.pqt Bytes: 49303\n"
     ]
    },
    {
     "name": "stderr",
     "output_type": "stream",
     "text": [
      "\n",
      "  0%|                                  | 0/0.047019004821777344 [00:00<?, ?it/s]\u001b[A\n",
      "100%|███████| 0.047019004821777344/0.047019004821777344 [00:00<00:00,  8.83s/it]\u001b[A\n",
      "\n",
      "(S3) /home/crombie/Downloads/ONE/alyx.internationalbrainlab.org/mainenlab/Subjec\u001b[A\n",
      "(S3) /home/crombie/Downloads/ONE/alyx.internationalbrainlab.org/mainenlab/Subjec\u001b[A\n"
     ]
    },
    {
     "name": "stdout",
     "output_type": "stream",
     "text": [
      "Downloading: /home/crombie/Downloads/ONE/alyx.internationalbrainlab.org/mainenlab/Subjects/ZFM-06268/2023-10-23/001/alf/task_00/_ibl_trials.table.5fbffb66-df31-418b-b722-d1ef6d4895d3.pqt Bytes: 34426\n"
     ]
    },
    {
     "name": "stderr",
     "output_type": "stream",
     "text": [
      "\n",
      "  0%|                                   | 0/0.03283119201660156 [00:00<?, ?it/s]\u001b[A\n",
      "100%|█████████| 0.03283119201660156/0.03283119201660156 [00:00<00:00,  6.32s/it]\u001b[A\n",
      "\n",
      "(S3) /home/crombie/Downloads/ONE/alyx.internationalbrainlab.org/mainenlab/Subjec\u001b[A\n",
      "(S3) /home/crombie/Downloads/ONE/alyx.internationalbrainlab.org/mainenlab/Subjec\u001b[A\n"
     ]
    },
    {
     "name": "stdout",
     "output_type": "stream",
     "text": [
      "Downloading: /home/crombie/Downloads/ONE/alyx.internationalbrainlab.org/mainenlab/Subjects/ZFM-06271/2023-10-23/001/alf/task_00/_ibl_trials.table.ceb42e96-8ef9-4d83-b46e-64998be4e5fa.pqt Bytes: 43091\n"
     ]
    },
    {
     "name": "stderr",
     "output_type": "stream",
     "text": [
      "\n",
      "  0%|                                   | 0/0.04109477996826172 [00:00<?, ?it/s]\u001b[A\n",
      "100%|█████████| 0.04109477996826172/0.04109477996826172 [00:00<00:00,  8.67s/it]\u001b[A\n",
      "\n",
      "(S3) /home/crombie/Downloads/ONE/alyx.internationalbrainlab.org/mainenlab/Subjec\u001b[A\n",
      "(S3) /home/crombie/Downloads/ONE/alyx.internationalbrainlab.org/mainenlab/Subjec\u001b[A\n",
      "\n",
      "(S3) /home/crombie/Downloads/ONE/alyx.internationalbrainlab.org/mainenlab/Subjec\u001b[A\n",
      "(S3) /home/crombie/Downloads/ONE/alyx.internationalbrainlab.org/mainenlab/Subjec\u001b[A\n",
      "\n",
      "(S3) /home/crombie/Downloads/ONE/alyx.internationalbrainlab.org/mainenlab/Subjec\u001b[A\n",
      "(S3) /home/crombie/Downloads/ONE/alyx.internationalbrainlab.org/mainenlab/Subjec\u001b[A\n",
      "\n",
      "(S3) /home/crombie/Downloads/ONE/alyx.internationalbrainlab.org/mainenlab/Subjec\u001b[A\n",
      "(S3) /home/crombie/Downloads/ONE/alyx.internationalbrainlab.org/mainenlab/Subjec\u001b[A\n",
      "\n",
      "(S3) /home/crombie/Downloads/ONE/alyx.internationalbrainlab.org/mainenlab/Subjec\u001b[A\n",
      "(S3) /home/crombie/Downloads/ONE/alyx.internationalbrainlab.org/mainenlab/Subjec\u001b[A\n",
      "\n",
      "(S3) /home/crombie/Downloads/ONE/alyx.internationalbrainlab.org/mainenlab/Subjec\u001b[A\n",
      "(S3) /home/crombie/Downloads/ONE/alyx.internationalbrainlab.org/mainenlab/Subjec\u001b[A\n",
      "\n",
      "(S3) /home/crombie/Downloads/ONE/alyx.internationalbrainlab.org/mainenlab/Subjec\u001b[A\n",
      "(S3) /home/crombie/Downloads/ONE/alyx.internationalbrainlab.org/mainenlab/Subjec\u001b[A\n",
      "\n",
      "(S3) /home/crombie/Downloads/ONE/alyx.internationalbrainlab.org/mainenlab/Subjec\u001b[A\n",
      "(S3) /home/crombie/Downloads/ONE/alyx.internationalbrainlab.org/mainenlab/Subjec\u001b[A\n"
     ]
    },
    {
     "name": "stdout",
     "output_type": "stream",
     "text": [
      "Downloading: /home/crombie/Downloads/ONE/alyx.internationalbrainlab.org/mainenlab/Subjects/ZFM-06268/2023-10-19/001/alf/task_00/_ibl_trials.table.0dc4acab-3c6f-467c-817f-600ce8c88c58.pqt Bytes: 33049\n"
     ]
    },
    {
     "name": "stderr",
     "output_type": "stream",
     "text": [
      "\n",
      "  0%|                                  | 0/0.031517982482910156 [00:00<?, ?it/s]\u001b[A\n",
      "100%|███████| 0.031517982482910156/0.031517982482910156 [00:00<00:00,  6.22s/it]\u001b[A\n"
     ]
    },
    {
     "name": "stdout",
     "output_type": "stream",
     "text": [
      "Downloading: /home/crombie/Downloads/ONE/alyx.internationalbrainlab.org/mainenlab/Subjects/ZFM-06272/2023-10-19/001/alf/task_00/_ibl_trials.table.64f453b2-d065-4ccc-b95d-2d26b31ed08d.pqt Bytes: 59283\n"
     ]
    },
    {
     "name": "stderr",
     "output_type": "stream",
     "text": [
      "\n",
      "  0%|                                   | 0/0.05653667449951172 [00:00<?, ?it/s]\u001b[A\n",
      "100%|█████████| 0.05653667449951172/0.05653667449951172 [00:00<00:00,  6.11s/it]\u001b[A\n",
      "\n",
      "(S3) /home/crombie/Downloads/ONE/alyx.internationalbrainlab.org/mainenlab/Subjec\u001b[A\n",
      "(S3) /home/crombie/Downloads/ONE/alyx.internationalbrainlab.org/mainenlab/Subjec\u001b[A\n",
      "\n",
      "(S3) /home/crombie/Downloads/ONE/alyx.internationalbrainlab.org/mainenlab/Subjec\u001b[A\n",
      "(S3) /home/crombie/Downloads/ONE/alyx.internationalbrainlab.org/mainenlab/Subjec\u001b[A\n",
      "\n",
      "(S3) /home/crombie/Downloads/ONE/alyx.internationalbrainlab.org/mainenlab/Subjec\u001b[A\n",
      "(S3) /home/crombie/Downloads/ONE/alyx.internationalbrainlab.org/mainenlab/Subjec\u001b[A\n"
     ]
    },
    {
     "name": "stdout",
     "output_type": "stream",
     "text": [
      "Downloading: /home/crombie/Downloads/ONE/alyx.internationalbrainlab.org/mainenlab/Subjects/ZFM-05235/2023-10-18/001/alf/task_00/_ibl_trials.table.80b26c67-49e0-4ed7-9e28-a21d6a2c52f4.pqt Bytes: 72679\n"
     ]
    },
    {
     "name": "stderr",
     "output_type": "stream",
     "text": [
      "\n",
      "  0%|                                   | 0/0.06931209564208984 [00:00<?, ?it/s]\u001b[A\n",
      "100%|█████████| 0.06931209564208984/0.06931209564208984 [00:00<00:00,  4.55s/it]\u001b[A\n"
     ]
    },
    {
     "name": "stdout",
     "output_type": "stream",
     "text": [
      "Downloading: /home/crombie/Downloads/ONE/alyx.internationalbrainlab.org/mainenlab/Subjects/ZFM-06268/2023-10-18/001/alf/task_00/_ibl_trials.table.fd3e670b-492e-4a70-a1bc-6b081b8bad0c.pqt Bytes: 31143\n"
     ]
    },
    {
     "name": "stderr",
     "output_type": "stream",
     "text": [
      "\n",
      "  0%|                                  | 0/0.029700279235839844 [00:00<?, ?it/s]\u001b[A\n",
      "100%|███████| 0.029700279235839844/0.029700279235839844 [00:00<00:00,  6.92s/it]\u001b[A\n",
      "\n",
      "(S3) /home/crombie/Downloads/ONE/alyx.internationalbrainlab.org/mainenlab/Subjec\u001b[A\n",
      "(S3) /home/crombie/Downloads/ONE/alyx.internationalbrainlab.org/mainenlab/Subjec\u001b[A\n",
      "\n",
      "(S3) /home/crombie/Downloads/ONE/alyx.internationalbrainlab.org/mainenlab/Subjec\u001b[A\n",
      "(S3) /home/crombie/Downloads/ONE/alyx.internationalbrainlab.org/mainenlab/Subjec\u001b[A\n",
      "\n",
      "(S3) /home/crombie/Downloads/ONE/alyx.internationalbrainlab.org/mainenlab/Subjec\u001b[A\n",
      "(S3) /home/crombie/Downloads/ONE/alyx.internationalbrainlab.org/mainenlab/Subjec\u001b[A\n",
      "\n",
      "(S3) /home/crombie/Downloads/ONE/alyx.internationalbrainlab.org/mainenlab/Subjec\u001b[A\n",
      "(S3) /home/crombie/Downloads/ONE/alyx.internationalbrainlab.org/mainenlab/Subjec\u001b[A\n",
      "\n",
      "(S3) /home/crombie/Downloads/ONE/alyx.internationalbrainlab.org/mainenlab/Subjec\u001b[A\n",
      "(S3) /home/crombie/Downloads/ONE/alyx.internationalbrainlab.org/mainenlab/Subjec\u001b[A\n",
      "\n",
      "(S3) /home/crombie/Downloads/ONE/alyx.internationalbrainlab.org/mainenlab/Subjec\u001b[A\n",
      "(S3) /home/crombie/Downloads/ONE/alyx.internationalbrainlab.org/mainenlab/Subjec\u001b[A\n",
      "\n",
      "(S3) /home/crombie/Downloads/ONE/alyx.internationalbrainlab.org/mainenlab/Subjec\u001b[A\n",
      "(S3) /home/crombie/Downloads/ONE/alyx.internationalbrainlab.org/mainenlab/Subjec\u001b[A\n",
      "\n",
      "(S3) /home/crombie/Downloads/ONE/alyx.internationalbrainlab.org/mainenlab/Subjec\u001b[A\n",
      "(S3) /home/crombie/Downloads/ONE/alyx.internationalbrainlab.org/mainenlab/Subjec\u001b[A\n",
      "\n",
      "(S3) /home/crombie/Downloads/ONE/alyx.internationalbrainlab.org/mainenlab/Subjec\u001b[A\n",
      "(S3) /home/crombie/Downloads/ONE/alyx.internationalbrainlab.org/mainenlab/Subjec\u001b[A\n",
      "\n",
      "(S3) /home/crombie/Downloads/ONE/alyx.internationalbrainlab.org/mainenlab/Subjec\u001b[A\n",
      "(S3) /home/crombie/Downloads/ONE/alyx.internationalbrainlab.org/mainenlab/Subjec\u001b[A\n",
      "\n",
      "(S3) /home/crombie/Downloads/ONE/alyx.internationalbrainlab.org/mainenlab/Subjec\u001b[A\n",
      "(S3) /home/crombie/Downloads/ONE/alyx.internationalbrainlab.org/mainenlab/Subjec\u001b[A\n",
      "\n",
      "(S3) /home/crombie/Downloads/ONE/alyx.internationalbrainlab.org/mainenlab/Subjec\u001b[A\n",
      "(S3) /home/crombie/Downloads/ONE/alyx.internationalbrainlab.org/mainenlab/Subjec\u001b[A\n",
      "\n",
      "(S3) /home/crombie/Downloads/ONE/alyx.internationalbrainlab.org/mainenlab/Subjec\u001b[A\n",
      "(S3) /home/crombie/Downloads/ONE/alyx.internationalbrainlab.org/mainenlab/Subjec\u001b[A\n",
      "\n",
      "(S3) /home/crombie/Downloads/ONE/alyx.internationalbrainlab.org/mainenlab/Subjec\u001b[A\n",
      "(S3) /home/crombie/Downloads/ONE/alyx.internationalbrainlab.org/mainenlab/Subjec\u001b[A\n",
      "\n",
      "(S3) /home/crombie/Downloads/ONE/alyx.internationalbrainlab.org/mainenlab/Subjec\u001b[A\n",
      "(S3) /home/crombie/Downloads/ONE/alyx.internationalbrainlab.org/mainenlab/Subjec\u001b[A\n",
      "\n",
      "(S3) /home/crombie/Downloads/ONE/alyx.internationalbrainlab.org/mainenlab/Subjec\u001b[A\n",
      "(S3) /home/crombie/Downloads/ONE/alyx.internationalbrainlab.org/mainenlab/Subjec\u001b[A\n",
      "\n",
      "(S3) /home/crombie/Downloads/ONE/alyx.internationalbrainlab.org/mainenlab/Subjec\u001b[A\n",
      "(S3) /home/crombie/Downloads/ONE/alyx.internationalbrainlab.org/mainenlab/Subjec\u001b[A\n",
      "\n",
      "(S3) /home/crombie/Downloads/ONE/alyx.internationalbrainlab.org/mainenlab/Subjec\u001b[A\n",
      "(S3) /home/crombie/Downloads/ONE/alyx.internationalbrainlab.org/mainenlab/Subjec\u001b[A\n",
      "\n",
      "(S3) /home/crombie/Downloads/ONE/alyx.internationalbrainlab.org/mainenlab/Subjec\u001b[A\n",
      "(S3) /home/crombie/Downloads/ONE/alyx.internationalbrainlab.org/mainenlab/Subjec\u001b[A\n",
      "\n",
      "(S3) /home/crombie/Downloads/ONE/alyx.internationalbrainlab.org/mainenlab/Subjec\u001b[A\n",
      "(S3) /home/crombie/Downloads/ONE/alyx.internationalbrainlab.org/mainenlab/Subjec\u001b[A\n",
      "\n",
      "(S3) /home/crombie/Downloads/ONE/alyx.internationalbrainlab.org/mainenlab/Subjec\u001b[A\n",
      "(S3) /home/crombie/Downloads/ONE/alyx.internationalbrainlab.org/mainenlab/Subjec\u001b[A\n",
      "\n",
      "(S3) /home/crombie/Downloads/ONE/alyx.internationalbrainlab.org/mainenlab/Subjec\u001b[A\n",
      "(S3) /home/crombie/Downloads/ONE/alyx.internationalbrainlab.org/mainenlab/Subjec\u001b[A\n",
      "\n",
      "(S3) /home/crombie/Downloads/ONE/alyx.internationalbrainlab.org/mainenlab/Subjec\u001b[A\n",
      "(S3) /home/crombie/Downloads/ONE/alyx.internationalbrainlab.org/mainenlab/Subjec\u001b[A\n",
      "\n",
      "(S3) /home/crombie/Downloads/ONE/alyx.internationalbrainlab.org/mainenlab/Subjec\u001b[A\n",
      "(S3) /home/crombie/Downloads/ONE/alyx.internationalbrainlab.org/mainenlab/Subjec\u001b[A\n",
      "\n",
      "(S3) /home/crombie/Downloads/ONE/alyx.internationalbrainlab.org/mainenlab/Subjec\u001b[A\n",
      "(S3) /home/crombie/Downloads/ONE/alyx.internationalbrainlab.org/mainenlab/Subjec\u001b[A\n",
      "\n",
      "(S3) /home/crombie/Downloads/ONE/alyx.internationalbrainlab.org/mainenlab/Subjec\u001b[A\n",
      "(S3) /home/crombie/Downloads/ONE/alyx.internationalbrainlab.org/mainenlab/Subjec\u001b[A\n",
      "\n",
      "(S3) /home/crombie/Downloads/ONE/alyx.internationalbrainlab.org/mainenlab/Subjec\u001b[A\n",
      "(S3) /home/crombie/Downloads/ONE/alyx.internationalbrainlab.org/mainenlab/Subjec\u001b[A\n",
      "\n",
      "(S3) /home/crombie/Downloads/ONE/alyx.internationalbrainlab.org/mainenlab/Subjec\u001b[A\n",
      "(S3) /home/crombie/Downloads/ONE/alyx.internationalbrainlab.org/mainenlab/Subjec\u001b[A\n",
      "\n",
      "(S3) /home/crombie/Downloads/ONE/alyx.internationalbrainlab.org/mainenlab/Subjec\u001b[A\n",
      "(S3) /home/crombie/Downloads/ONE/alyx.internationalbrainlab.org/mainenlab/Subjec\u001b[A\n"
     ]
    },
    {
     "name": "stdout",
     "output_type": "stream",
     "text": [
      "Downloading: /home/crombie/Downloads/ONE/alyx.internationalbrainlab.org/mainenlab/Subjects/ZFM-06268/2023-10-10/001/alf/task_00/_ibl_trials.table.ae3d4df8-47dc-4136-9d1f-13b0a33c7d3e.pqt Bytes: 15144\n"
     ]
    },
    {
     "name": "stderr",
     "output_type": "stream",
     "text": [
      "\n",
      "  0%|                                   | 0/0.01444244384765625 [00:00<?, ?it/s]\u001b[A\n",
      "100%|█████████| 0.01444244384765625/0.01444244384765625 [00:00<00:00, 11.65s/it]\u001b[A\n",
      "\n",
      "(S3) /home/crombie/Downloads/ONE/alyx.internationalbrainlab.org/mainenlab/Subjec\u001b[A\n",
      "(S3) /home/crombie/Downloads/ONE/alyx.internationalbrainlab.org/mainenlab/Subjec\u001b[A\n",
      "\n",
      "(S3) /home/crombie/Downloads/ONE/alyx.internationalbrainlab.org/mainenlab/Subjec\u001b[A\n",
      "(S3) /home/crombie/Downloads/ONE/alyx.internationalbrainlab.org/mainenlab/Subjec\u001b[A\n",
      "\n",
      "(S3) /home/crombie/Downloads/ONE/alyx.internationalbrainlab.org/mainenlab/Subjec\u001b[A\n",
      "(S3) /home/crombie/Downloads/ONE/alyx.internationalbrainlab.org/mainenlab/Subjec\u001b[A\n",
      "\n",
      "(S3) /home/crombie/Downloads/ONE/alyx.internationalbrainlab.org/mainenlab/Subjec\u001b[A\n",
      "(S3) /home/crombie/Downloads/ONE/alyx.internationalbrainlab.org/mainenlab/Subjec\u001b[A\n",
      "\n",
      "(S3) /home/crombie/Downloads/ONE/alyx.internationalbrainlab.org/mainenlab/Subjec\u001b[A\n",
      "(S3) /home/crombie/Downloads/ONE/alyx.internationalbrainlab.org/mainenlab/Subjec\u001b[A\n"
     ]
    },
    {
     "name": "stdout",
     "output_type": "stream",
     "text": [
      "Downloading: /home/crombie/Downloads/ONE/alyx.internationalbrainlab.org/mainenlab/Subjects/ZFM-06271/2023-10-09/001/alf/task_00/_ibl_trials.table.9db1b224-89e0-45d0-bf03-0841a5494302.pqt Bytes: 14110\n"
     ]
    },
    {
     "name": "stderr",
     "output_type": "stream",
     "text": [
      "\n",
      "  0%|                                  | 0/0.013456344604492188 [00:00<?, ?it/s]\u001b[A\n",
      "100%|███████| 0.013456344604492188/0.013456344604492188 [00:00<00:00, 11.55s/it]\u001b[A\n",
      "\n",
      "(S3) /home/crombie/Downloads/ONE/alyx.internationalbrainlab.org/mainenlab/Subjec\u001b[A\n",
      "(S3) /home/crombie/Downloads/ONE/alyx.internationalbrainlab.org/mainenlab/Subjec\u001b[A\n"
     ]
    },
    {
     "name": "stdout",
     "output_type": "stream",
     "text": [
      "Downloading: /home/crombie/Downloads/ONE/alyx.internationalbrainlab.org/mainenlab/Subjects/ZFM-06305/2023-10-06/001/alf/task_00/_ibl_trials.table.08862ca9-5897-418c-b4e1-7b3e5f3e7815.pqt Bytes: 28071\n"
     ]
    },
    {
     "name": "stderr",
     "output_type": "stream",
     "text": [
      "\n",
      "  0%|                                  | 0/0.026770591735839844 [00:00<?, ?it/s]\u001b[A\n",
      "100%|███████| 0.026770591735839844/0.026770591735839844 [00:00<00:00,  7.47s/it]\u001b[A\n"
     ]
    },
    {
     "name": "stdout",
     "output_type": "stream",
     "text": [
      "Downloading: /home/crombie/Downloads/ONE/alyx.internationalbrainlab.org/mainenlab/Subjects/ZFM-06268/2023-10-06/001/alf/task_00/_ibl_trials.table.53a6a144-5baf-44cc-a19b-d159a709362e.pqt Bytes: 43240\n"
     ]
    },
    {
     "name": "stderr",
     "output_type": "stream",
     "text": [
      "\n",
      "  0%|                                   | 0/0.04123687744140625 [00:00<?, ?it/s]\u001b[A\n",
      "100%|█████████| 0.04123687744140625/0.04123687744140625 [00:00<00:00,  7.64s/it]\u001b[A\n",
      "\n",
      "(S3) /home/crombie/Downloads/ONE/alyx.internationalbrainlab.org/mainenlab/Subjec\u001b[A\n",
      "(S3) /home/crombie/Downloads/ONE/alyx.internationalbrainlab.org/mainenlab/Subjec\u001b[A\n",
      "\n",
      "(S3) /home/crombie/Downloads/ONE/alyx.internationalbrainlab.org/mainenlab/Subjec\u001b[A\n",
      "(S3) /home/crombie/Downloads/ONE/alyx.internationalbrainlab.org/mainenlab/Subjec\u001b[A\n",
      "\n",
      "(S3) /home/crombie/Downloads/ONE/alyx.internationalbrainlab.org/mainenlab/Subjec\u001b[A\n",
      "(S3) /home/crombie/Downloads/ONE/alyx.internationalbrainlab.org/mainenlab/Subjec\u001b[A\n",
      "\n",
      "(S3) /home/crombie/Downloads/ONE/alyx.internationalbrainlab.org/mainenlab/Subjec\u001b[A\n",
      "(S3) /home/crombie/Downloads/ONE/alyx.internationalbrainlab.org/mainenlab/Subjec\u001b[A\n",
      "\n",
      "(S3) /home/crombie/Downloads/ONE/alyx.internationalbrainlab.org/mainenlab/Subjec\u001b[A\n",
      "(S3) /home/crombie/Downloads/ONE/alyx.internationalbrainlab.org/mainenlab/Subjec\u001b[A\n"
     ]
    },
    {
     "name": "stdout",
     "output_type": "stream",
     "text": [
      "Downloading: /home/crombie/Downloads/ONE/alyx.internationalbrainlab.org/mainenlab/Subjects/ZFM-06305/2023-10-05/001/alf/task_00/_ibl_trials.table.a8f38c87-ec52-47fa-b4dc-12cf8aa41515.pqt Bytes: 45062\n"
     ]
    },
    {
     "name": "stderr",
     "output_type": "stream",
     "text": [
      "\n",
      "  0%|                                   | 0/0.04297447204589844 [00:00<?, ?it/s]\u001b[A\n",
      "100%|█████████| 0.04297447204589844/0.04297447204589844 [00:00<00:00,  9.33s/it]\u001b[A\n",
      "\n",
      "(S3) /home/crombie/Downloads/ONE/alyx.internationalbrainlab.org/mainenlab/Subjec\u001b[A\n",
      "(S3) /home/crombie/Downloads/ONE/alyx.internationalbrainlab.org/mainenlab/Subjec\u001b[A\n",
      "\n",
      "(S3) /home/crombie/Downloads/ONE/alyx.internationalbrainlab.org/mainenlab/Subjec\u001b[A\n",
      "(S3) /home/crombie/Downloads/ONE/alyx.internationalbrainlab.org/mainenlab/Subjec\u001b[A\n",
      "\n",
      "(S3) /home/crombie/Downloads/ONE/alyx.internationalbrainlab.org/mainenlab/Subjec\u001b[A\n",
      "(S3) /home/crombie/Downloads/ONE/alyx.internationalbrainlab.org/mainenlab/Subjec\u001b[A\n"
     ]
    },
    {
     "name": "stdout",
     "output_type": "stream",
     "text": [
      "Downloading: /home/crombie/Downloads/ONE/alyx.internationalbrainlab.org/mainenlab/Subjects/ZFM-06171/2023-10-05/001/alf/task_00/_ibl_trials.table.e6f7f48d-96f9-4d3d-87c9-611f91e2fda2.pqt Bytes: 54331\n"
     ]
    },
    {
     "name": "stderr",
     "output_type": "stream",
     "text": [
      "\n",
      "  0%|                                   | 0/0.05181407928466797 [00:00<?, ?it/s]\u001b[A\n",
      "100%|█████████| 0.05181407928466797/0.05181407928466797 [00:00<00:00,  6.12s/it]\u001b[A\n",
      "\n",
      "(S3) /home/crombie/Downloads/ONE/alyx.internationalbrainlab.org/mainenlab/Subjec\u001b[A\n",
      "(S3) /home/crombie/Downloads/ONE/alyx.internationalbrainlab.org/mainenlab/Subjec\u001b[A\n",
      "\n",
      "(S3) /home/crombie/Downloads/ONE/alyx.internationalbrainlab.org/mainenlab/Subjec\u001b[A\n",
      "(S3) /home/crombie/Downloads/ONE/alyx.internationalbrainlab.org/mainenlab/Subjec\u001b[A\n"
     ]
    },
    {
     "name": "stdout",
     "output_type": "stream",
     "text": [
      "Downloading: /home/crombie/Downloads/ONE/alyx.internationalbrainlab.org/mainenlab/Subjects/ZFM-06275/2023-10-04/001/alf/task_00/_ibl_trials.table.2ea52a03-eb5e-4e14-afdd-0d4c6fe71e96.pqt Bytes: 45249\n"
     ]
    },
    {
     "name": "stderr",
     "output_type": "stream",
     "text": [
      "\n",
      "  0%|                                  | 0/0.043152809143066406 [00:00<?, ?it/s]\u001b[A\n",
      "100%|███████| 0.043152809143066406/0.043152809143066406 [00:00<00:00,  9.47s/it]\u001b[A\n",
      "\n",
      "(S3) /home/crombie/Downloads/ONE/alyx.internationalbrainlab.org/mainenlab/Subjec\u001b[A\n",
      "(S3) /home/crombie/Downloads/ONE/alyx.internationalbrainlab.org/mainenlab/Subjec\u001b[A\n",
      "\n",
      "(S3) /home/crombie/Downloads/ONE/alyx.internationalbrainlab.org/mainenlab/Subjec\u001b[A\n",
      "(S3) /home/crombie/Downloads/ONE/alyx.internationalbrainlab.org/mainenlab/Subjec\u001b[A\n",
      "\n",
      "(S3) /home/crombie/Downloads/ONE/alyx.internationalbrainlab.org/mainenlab/Subjec\u001b[A\n",
      "(S3) /home/crombie/Downloads/ONE/alyx.internationalbrainlab.org/mainenlab/Subjec\u001b[A\n",
      "\n",
      "(S3) /home/crombie/Downloads/ONE/alyx.internationalbrainlab.org/mainenlab/Subjec\u001b[A\n",
      "(S3) /home/crombie/Downloads/ONE/alyx.internationalbrainlab.org/mainenlab/Subjec\u001b[A\n",
      "\n",
      "(S3) /home/crombie/Downloads/ONE/alyx.internationalbrainlab.org/mainenlab/Subjec\u001b[A\n",
      "(S3) /home/crombie/Downloads/ONE/alyx.internationalbrainlab.org/mainenlab/Subjec\u001b[A\n",
      "\n",
      "(S3) /home/crombie/Downloads/ONE/alyx.internationalbrainlab.org/mainenlab/Subjec\u001b[A\n",
      "(S3) /home/crombie/Downloads/ONE/alyx.internationalbrainlab.org/mainenlab/Subjec\u001b[A\n",
      "\n",
      "(S3) /home/crombie/Downloads/ONE/alyx.internationalbrainlab.org/mainenlab/Subjec\u001b[A\n",
      "(S3) /home/crombie/Downloads/ONE/alyx.internationalbrainlab.org/mainenlab/Subjec\u001b[A\n"
     ]
    },
    {
     "name": "stdout",
     "output_type": "stream",
     "text": [
      "Downloading: /home/crombie/Downloads/ONE/alyx.internationalbrainlab.org/mainenlab/Subjects/ZFM-06171/2023-10-03/001/alf/task_00/_ibl_trials.table.99d8e0a4-3ce6-4182-ade7-5c117754dca8.pqt Bytes: 22233\n"
     ]
    },
    {
     "name": "stderr",
     "output_type": "stream",
     "text": [
      "\n",
      "  0%|                                  | 0/0.021203041076660156 [00:00<?, ?it/s]\u001b[A\n",
      "100%|███████| 0.021203041076660156/0.021203041076660156 [00:00<00:00,  7.19s/it]\u001b[A\n",
      "\n",
      "(S3) /home/crombie/Downloads/ONE/alyx.internationalbrainlab.org/mainenlab/Subjec\u001b[A\n",
      "(S3) /home/crombie/Downloads/ONE/alyx.internationalbrainlab.org/mainenlab/Subjec\u001b[A\n",
      "\n",
      "(S3) /home/crombie/Downloads/ONE/alyx.internationalbrainlab.org/mainenlab/Subjec\u001b[A\n",
      "(S3) /home/crombie/Downloads/ONE/alyx.internationalbrainlab.org/mainenlab/Subjec\u001b[A\n"
     ]
    },
    {
     "name": "stdout",
     "output_type": "stream",
     "text": [
      "Downloading: /home/crombie/Downloads/ONE/alyx.internationalbrainlab.org/mainenlab/Subjects/ZFM-05248/2023-10-03/001/alf/task_00/_ibl_trials.table.30e6aca0-5724-4209-b0fc-c0c9184cb733.pqt Bytes: 63199\n"
     ]
    },
    {
     "name": "stderr",
     "output_type": "stream",
     "text": [
      "\n",
      "  0%|                                  | 0/0.060271263122558594 [00:00<?, ?it/s]\u001b[A\n",
      "100%|███████| 0.060271263122558594/0.060271263122558594 [00:00<00:00,  6.82s/it]\u001b[A\n",
      "\n",
      "(S3) /home/crombie/Downloads/ONE/alyx.internationalbrainlab.org/mainenlab/Subjec\u001b[A\n",
      "(S3) /home/crombie/Downloads/ONE/alyx.internationalbrainlab.org/mainenlab/Subjec\u001b[A\n",
      "\n",
      "(S3) /home/crombie/Downloads/ONE/alyx.internationalbrainlab.org/mainenlab/Subjec\u001b[A\n",
      "(S3) /home/crombie/Downloads/ONE/alyx.internationalbrainlab.org/mainenlab/Subjec\u001b[A\n"
     ]
    },
    {
     "name": "stdout",
     "output_type": "stream",
     "text": [
      "Downloading: /home/crombie/Downloads/ONE/alyx.internationalbrainlab.org/mainenlab/Subjects/ZFM-05245/2023-10-02/001/alf/task_00/_ibl_trials.table.4fc0abce-8952-4f40-ab25-ed1d4d756e67.pqt Bytes: 86177\n"
     ]
    },
    {
     "name": "stderr",
     "output_type": "stream",
     "text": [
      "\n",
      "  0%|                                    | 0/0.0821847915649414 [00:00<?, ?it/s]\u001b[A\n",
      "100%|███████████| 0.0821847915649414/0.0821847915649414 [00:00<00:00,  7.45s/it]\u001b[A\n"
     ]
    },
    {
     "name": "stdout",
     "output_type": "stream",
     "text": [
      "Downloading: /home/crombie/Downloads/ONE/alyx.internationalbrainlab.org/mainenlab/Subjects/ZFM-05248/2023-10-02/001/alf/task_00/_ibl_trials.table.b8f5629f-77ad-4af7-a304-6b052a112e4c.pqt Bytes: 36443\n"
     ]
    },
    {
     "name": "stderr",
     "output_type": "stream",
     "text": [
      "\n",
      "  0%|                                   | 0/0.03475475311279297 [00:00<?, ?it/s]\u001b[A\n",
      "100%|█████████| 0.03475475311279297/0.03475475311279297 [00:00<00:00, 11.65s/it]\u001b[A\n",
      "\n",
      "(S3) /home/crombie/Downloads/ONE/alyx.internationalbrainlab.org/mainenlab/Subjec\u001b[A\n",
      "(S3) /home/crombie/Downloads/ONE/alyx.internationalbrainlab.org/mainenlab/Subjec\u001b[A\n",
      "\n",
      "(S3) /home/crombie/Downloads/ONE/alyx.internationalbrainlab.org/mainenlab/Subjec\u001b[A\n",
      "(S3) /home/crombie/Downloads/ONE/alyx.internationalbrainlab.org/mainenlab/Subjec\u001b[A\n",
      "\n",
      "(S3) /home/crombie/Downloads/ONE/alyx.internationalbrainlab.org/mainenlab/Subjec\u001b[A\n",
      "(S3) /home/crombie/Downloads/ONE/alyx.internationalbrainlab.org/mainenlab/Subjec\u001b[A\n",
      "\n",
      "(S3) /home/crombie/Downloads/ONE/alyx.internationalbrainlab.org/mainenlab/Subjec\u001b[A\n",
      "(S3) /home/crombie/Downloads/ONE/alyx.internationalbrainlab.org/mainenlab/Subjec\u001b[A\n",
      "\n",
      "(S3) /home/crombie/Downloads/ONE/alyx.internationalbrainlab.org/mainenlab/Subjec\u001b[A\n",
      "(S3) /home/crombie/Downloads/ONE/alyx.internationalbrainlab.org/mainenlab/Subjec\u001b[A\n",
      "\n",
      "(S3) /home/crombie/Downloads/ONE/alyx.internationalbrainlab.org/mainenlab/Subjec\u001b[A\n",
      "(S3) /home/crombie/Downloads/ONE/alyx.internationalbrainlab.org/mainenlab/Subjec\u001b[A\n",
      "\n",
      "(S3) /home/crombie/Downloads/ONE/alyx.internationalbrainlab.org/mainenlab/Subjec\u001b[A\n",
      "(S3) /home/crombie/Downloads/ONE/alyx.internationalbrainlab.org/mainenlab/Subjec\u001b[A\n",
      "\n",
      "(S3) /home/crombie/Downloads/ONE/alyx.internationalbrainlab.org/mainenlab/Subjec\u001b[A\n",
      "(S3) /home/crombie/Downloads/ONE/alyx.internationalbrainlab.org/mainenlab/Subjec\u001b[A\n"
     ]
    },
    {
     "name": "stdout",
     "output_type": "stream",
     "text": [
      "Downloading: /home/crombie/Downloads/ONE/alyx.internationalbrainlab.org/mainenlab/Subjects/ZFM-06271/2023-09-28/001/alf/task_00/_ibl_trials.table.5ee9513e-9a1d-410e-ba3e-fa90cd7c2692.pqt Bytes: 13339\n"
     ]
    },
    {
     "name": "stderr",
     "output_type": "stream",
     "text": [
      "\n",
      "  0%|                                  | 0/0.012721061706542969 [00:00<?, ?it/s]\u001b[A\n",
      "100%|███████| 0.012721061706542969/0.012721061706542969 [00:00<00:00, 15.81s/it]\u001b[A\n",
      "\n",
      "(S3) /home/crombie/Downloads/ONE/alyx.internationalbrainlab.org/mainenlab/Subjec\u001b[A\n",
      "(S3) /home/crombie/Downloads/ONE/alyx.internationalbrainlab.org/mainenlab/Subjec\u001b[A\n",
      "\n",
      "(S3) /home/crombie/Downloads/ONE/alyx.internationalbrainlab.org/mainenlab/Subjec\u001b[A\n",
      "(S3) /home/crombie/Downloads/ONE/alyx.internationalbrainlab.org/mainenlab/Subjec\u001b[A\n",
      "\n",
      "(S3) /home/crombie/Downloads/ONE/alyx.internationalbrainlab.org/mainenlab/Subjec\u001b[A\n",
      "(S3) /home/crombie/Downloads/ONE/alyx.internationalbrainlab.org/mainenlab/Subjec\u001b[A\n",
      "\n",
      "(S3) /home/crombie/Downloads/ONE/alyx.internationalbrainlab.org/mainenlab/Subjec\u001b[A\n",
      "(S3) /home/crombie/Downloads/ONE/alyx.internationalbrainlab.org/mainenlab/Subjec\u001b[A\n",
      "\n",
      "(S3) /home/crombie/Downloads/ONE/alyx.internationalbrainlab.org/mainenlab/Subjec\u001b[A\n",
      "(S3) /home/crombie/Downloads/ONE/alyx.internationalbrainlab.org/mainenlab/Subjec\u001b[A\n",
      "\n",
      "(S3) /home/crombie/Downloads/ONE/alyx.internationalbrainlab.org/mainenlab/Subjec\u001b[A\n",
      "(S3) /home/crombie/Downloads/ONE/alyx.internationalbrainlab.org/mainenlab/Subjec\u001b[A\n"
     ]
    },
    {
     "name": "stdout",
     "output_type": "stream",
     "text": [
      "Downloading: /home/crombie/Downloads/ONE/alyx.internationalbrainlab.org/mainenlab/Subjects/ZFM-06275/2023-09-18/001/alf/task_00/_ibl_trials.table.fe6f7318-ebbe-4975-a8cd-90f5fa73eacf.pqt Bytes: 25906\n"
     ]
    },
    {
     "name": "stderr",
     "output_type": "stream",
     "text": [
      "\n",
      "  0%|                                  | 0/0.024705886840820312 [00:00<?, ?it/s]\u001b[A\n",
      "100%|███████| 0.024705886840820312/0.024705886840820312 [00:00<00:00,  6.06s/it]\u001b[A\n",
      "\n",
      "(S3) /home/crombie/Downloads/ONE/alyx.internationalbrainlab.org/mainenlab/Subjec\u001b[A\n",
      "(S3) /home/crombie/Downloads/ONE/alyx.internationalbrainlab.org/mainenlab/Subjec\u001b[A\n",
      "\n",
      "(S3) /home/crombie/Downloads/ONE/alyx.internationalbrainlab.org/mainenlab/Subjec\u001b[A\n",
      "(S3) /home/crombie/Downloads/ONE/alyx.internationalbrainlab.org/mainenlab/Subjec\u001b[A\n",
      "\n",
      "(S3) /home/crombie/Downloads/ONE/alyx.internationalbrainlab.org/mainenlab/Subjec\u001b[A\n",
      "(S3) /home/crombie/Downloads/ONE/alyx.internationalbrainlab.org/mainenlab/Subjec\u001b[A\n",
      "\n",
      "(S3) /home/crombie/Downloads/ONE/alyx.internationalbrainlab.org/mainenlab/Subjec\u001b[A\n",
      "(S3) /home/crombie/Downloads/ONE/alyx.internationalbrainlab.org/mainenlab/Subjec\u001b[A\n",
      "\n",
      "(S3) /home/crombie/Downloads/ONE/alyx.internationalbrainlab.org/mainenlab/Subjec\u001b[A\n",
      "(S3) /home/crombie/Downloads/ONE/alyx.internationalbrainlab.org/mainenlab/Subjec\u001b[A\n"
     ]
    },
    {
     "name": "stdout",
     "output_type": "stream",
     "text": [
      "Downloading: /home/crombie/Downloads/ONE/alyx.internationalbrainlab.org/mainenlab/Subjects/ZFM-06275/2023-09-15/001/alf/task_00/_ibl_trials.table.d066d39b-00de-4a4f-a831-0f4afa692180.pqt Bytes: 20550\n"
     ]
    },
    {
     "name": "stderr",
     "output_type": "stream",
     "text": [
      "\n",
      "  0%|                                  | 0/0.019598007202148438 [00:00<?, ?it/s]\u001b[A\n",
      "100%|███████| 0.019598007202148438/0.019598007202148438 [00:00<00:00, 10.27s/it]\u001b[A\n",
      "\n",
      "(S3) /home/crombie/Downloads/ONE/alyx.internationalbrainlab.org/mainenlab/Subjec\u001b[A\n",
      "(S3) /home/crombie/Downloads/ONE/alyx.internationalbrainlab.org/mainenlab/Subjec\u001b[A\n"
     ]
    },
    {
     "name": "stdout",
     "output_type": "stream",
     "text": [
      "Downloading: /home/crombie/Downloads/ONE/alyx.internationalbrainlab.org/mainenlab/Subjects/ZFM-06268/2023-09-15/001/alf/task_00/_ibl_trials.table.d83b77c3-6958-4c76-b701-1487acd58acd.pqt Bytes: 35913\n"
     ]
    },
    {
     "name": "stderr",
     "output_type": "stream",
     "text": [
      "\n",
      "  0%|                                  | 0/0.034249305725097656 [00:00<?, ?it/s]\u001b[A\n",
      "100%|███████| 0.034249305725097656/0.034249305725097656 [00:00<00:00,  9.12s/it]\u001b[A\n",
      "\n",
      "(S3) /home/crombie/Downloads/ONE/alyx.internationalbrainlab.org/mainenlab/Subjec\u001b[A\n",
      "(S3) /home/crombie/Downloads/ONE/alyx.internationalbrainlab.org/mainenlab/Subjec\u001b[A\n",
      "\n",
      "(S3) /home/crombie/Downloads/ONE/alyx.internationalbrainlab.org/mainenlab/Subjec\u001b[A\n",
      "(S3) /home/crombie/Downloads/ONE/alyx.internationalbrainlab.org/mainenlab/Subjec\u001b[A\n"
     ]
    },
    {
     "name": "stdout",
     "output_type": "stream",
     "text": [
      "Downloading: /home/crombie/Downloads/ONE/alyx.internationalbrainlab.org/mainenlab/Subjects/ZFM-06171/2023-09-14/001/alf/task_00/_ibl_trials.table.f64a633e-7a23-4899-adcf-67af18cbac77.pqt Bytes: 21973\n"
     ]
    },
    {
     "name": "stderr",
     "output_type": "stream",
     "text": [
      "\n",
      "  0%|                                   | 0/0.02095508575439453 [00:00<?, ?it/s]\u001b[A\n",
      "100%|█████████| 0.02095508575439453/0.02095508575439453 [00:00<00:00,  7.71s/it]\u001b[A\n",
      "\n",
      "(S3) /home/crombie/Downloads/ONE/alyx.internationalbrainlab.org/mainenlab/Subjec\u001b[A\n",
      "(S3) /home/crombie/Downloads/ONE/alyx.internationalbrainlab.org/mainenlab/Subjec\u001b[A\n",
      "\n",
      "(S3) /home/crombie/Downloads/ONE/alyx.internationalbrainlab.org/mainenlab/Subjec\u001b[A\n",
      "(S3) /home/crombie/Downloads/ONE/alyx.internationalbrainlab.org/mainenlab/Subjec\u001b[A\n",
      "\n",
      "(S3) /home/crombie/Downloads/ONE/alyx.internationalbrainlab.org/mainenlab/Subjec\u001b[A\n",
      "(S3) /home/crombie/Downloads/ONE/alyx.internationalbrainlab.org/mainenlab/Subjec\u001b[A\n",
      "\n",
      "(S3) /home/crombie/Downloads/ONE/alyx.internationalbrainlab.org/mainenlab/Subjec\u001b[A\n",
      "(S3) /home/crombie/Downloads/ONE/alyx.internationalbrainlab.org/mainenlab/Subjec\u001b[A\n",
      "\n",
      "(S3) /home/crombie/Downloads/ONE/alyx.internationalbrainlab.org/mainenlab/Subjec\u001b[A\n",
      "(S3) /home/crombie/Downloads/ONE/alyx.internationalbrainlab.org/mainenlab/Subjec\u001b[A\n",
      "\n",
      "(S3) /home/crombie/Downloads/ONE/alyx.internationalbrainlab.org/mainenlab/Subjec\u001b[A\n",
      "(S3) /home/crombie/Downloads/ONE/alyx.internationalbrainlab.org/mainenlab/Subjec\u001b[A\n",
      "\n",
      "(S3) /home/crombie/Downloads/ONE/alyx.internationalbrainlab.org/mainenlab/Subjec\u001b[A\n",
      "(S3) /home/crombie/Downloads/ONE/alyx.internationalbrainlab.org/mainenlab/Subjec\u001b[A\n",
      "\n",
      "(S3) /home/crombie/Downloads/ONE/alyx.internationalbrainlab.org/mainenlab/Subjec\u001b[A\n",
      "(S3) /home/crombie/Downloads/ONE/alyx.internationalbrainlab.org/mainenlab/Subjec\u001b[A\n",
      "\n",
      "(S3) /home/crombie/Downloads/ONE/alyx.internationalbrainlab.org/mainenlab/Subjec\u001b[A\n",
      "(S3) /home/crombie/Downloads/ONE/alyx.internationalbrainlab.org/mainenlab/Subjec\u001b[A\n",
      "\n",
      "(S3) /home/crombie/Downloads/ONE/alyx.internationalbrainlab.org/mainenlab/Subjec\u001b[A\n",
      "(S3) /home/crombie/Downloads/ONE/alyx.internationalbrainlab.org/mainenlab/Subjec\u001b[A\n",
      "\n",
      "(S3) /home/crombie/Downloads/ONE/alyx.internationalbrainlab.org/mainenlab/Subjec\u001b[A\n",
      "(S3) /home/crombie/Downloads/ONE/alyx.internationalbrainlab.org/mainenlab/Subjec\u001b[A\n",
      "\n",
      "(S3) /home/crombie/Downloads/ONE/alyx.internationalbrainlab.org/mainenlab/Subjec\u001b[A\n",
      "(S3) /home/crombie/Downloads/ONE/alyx.internationalbrainlab.org/mainenlab/Subjec\u001b[A\n",
      "\n",
      "(S3) /home/crombie/Downloads/ONE/alyx.internationalbrainlab.org/mainenlab/Subjec\u001b[A\n",
      "(S3) /home/crombie/Downloads/ONE/alyx.internationalbrainlab.org/mainenlab/Subjec\u001b[A\n",
      "\n",
      "(S3) /home/crombie/Downloads/ONE/alyx.internationalbrainlab.org/mainenlab/Subjec\u001b[A\n",
      "(S3) /home/crombie/Downloads/ONE/alyx.internationalbrainlab.org/mainenlab/Subjec\u001b[A\n",
      "\n",
      "(S3) /home/crombie/Downloads/ONE/alyx.internationalbrainlab.org/mainenlab/Subjec\u001b[A\n",
      "(S3) /home/crombie/Downloads/ONE/alyx.internationalbrainlab.org/mainenlab/Subjec\u001b[A\n",
      "\n",
      "(S3) /home/crombie/Downloads/ONE/alyx.internationalbrainlab.org/mainenlab/Subjec\u001b[A\n",
      "(S3) /home/crombie/Downloads/ONE/alyx.internationalbrainlab.org/mainenlab/Subjec\u001b[A\n",
      "\n",
      "(S3) /home/crombie/Downloads/ONE/alyx.internationalbrainlab.org/mainenlab/Subjec\u001b[A\n",
      "(S3) /home/crombie/Downloads/ONE/alyx.internationalbrainlab.org/mainenlab/Subjec\u001b[A\n",
      "\n",
      "(S3) /home/crombie/Downloads/ONE/alyx.internationalbrainlab.org/mainenlab/Subjec\u001b[A\n",
      "(S3) /home/crombie/Downloads/ONE/alyx.internationalbrainlab.org/mainenlab/Subjec\u001b[A\n"
     ]
    },
    {
     "name": "stdout",
     "output_type": "stream",
     "text": [
      "Downloading: /home/crombie/Downloads/ONE/alyx.internationalbrainlab.org/mainenlab/Subjects/ZFM-06275/2023-09-07/001/alf/task_00/_ibl_trials.table.b96faa36-2f41-4afb-9a9e-39332d0535b4.pqt Bytes: 30077\n"
     ]
    },
    {
     "name": "stderr",
     "output_type": "stream",
     "text": [
      "\n",
      "  0%|                                   | 0/0.02868366241455078 [00:00<?, ?it/s]\u001b[A\n",
      "100%|█████████| 0.02868366241455078/0.02868366241455078 [00:00<00:00,  5.63s/it]\u001b[A\n",
      "\n",
      "(S3) /home/crombie/Downloads/ONE/alyx.internationalbrainlab.org/mainenlab/Subjec\u001b[A\n",
      "(S3) /home/crombie/Downloads/ONE/alyx.internationalbrainlab.org/mainenlab/Subjec\u001b[A\n",
      "\n",
      "(S3) /home/crombie/Downloads/ONE/alyx.internationalbrainlab.org/mainenlab/Subjec\u001b[A\n",
      "(S3) /home/crombie/Downloads/ONE/alyx.internationalbrainlab.org/mainenlab/Subjec\u001b[A\n",
      "\n",
      "(S3) /home/crombie/Downloads/ONE/alyx.internationalbrainlab.org/mainenlab/Subjec\u001b[A\n",
      "(S3) /home/crombie/Downloads/ONE/alyx.internationalbrainlab.org/mainenlab/Subjec\u001b[A\n",
      "\n",
      "(S3) /home/crombie/Downloads/ONE/alyx.internationalbrainlab.org/mainenlab/Subjec\u001b[A\n",
      "(S3) /home/crombie/Downloads/ONE/alyx.internationalbrainlab.org/mainenlab/Subjec\u001b[A\n",
      "\n",
      "(S3) /home/crombie/Downloads/ONE/alyx.internationalbrainlab.org/mainenlab/Subjec\u001b[A\n",
      "(S3) /home/crombie/Downloads/ONE/alyx.internationalbrainlab.org/mainenlab/Subjec\u001b[A\n",
      "\n",
      "(S3) /home/crombie/Downloads/ONE/alyx.internationalbrainlab.org/mainenlab/Subjec\u001b[A\n",
      "(S3) /home/crombie/Downloads/ONE/alyx.internationalbrainlab.org/mainenlab/Subjec\u001b[A\n",
      "\n",
      "(S3) /home/crombie/Downloads/ONE/alyx.internationalbrainlab.org/mainenlab/Subjec\u001b[A\n",
      "(S3) /home/crombie/Downloads/ONE/alyx.internationalbrainlab.org/mainenlab/Subjec\u001b[A\n",
      "\n",
      "(S3) /home/crombie/Downloads/ONE/alyx.internationalbrainlab.org/mainenlab/Subjec\u001b[A\n",
      "(S3) /home/crombie/Downloads/ONE/alyx.internationalbrainlab.org/mainenlab/Subjec\u001b[A\n",
      "\n",
      "(S3) /home/crombie/Downloads/ONE/alyx.internationalbrainlab.org/mainenlab/Subjec\u001b[A\n",
      "(S3) /home/crombie/Downloads/ONE/alyx.internationalbrainlab.org/mainenlab/Subjec\u001b[A\n",
      "\n",
      "(S3) /home/crombie/Downloads/ONE/alyx.internationalbrainlab.org/mainenlab/Subjec\u001b[A\n",
      "(S3) /home/crombie/Downloads/ONE/alyx.internationalbrainlab.org/mainenlab/Subjec\u001b[A\n"
     ]
    },
    {
     "name": "stdout",
     "output_type": "stream",
     "text": [
      "Downloading: /home/crombie/Downloads/ONE/alyx.internationalbrainlab.org/mainenlab/Subjects/ZFM-06272/2023-09-05/001/alf/task_00/_ibl_trials.table.5fc638cf-878e-41a1-a16d-38c526eb1fc2.pqt Bytes: 20615\n"
     ]
    },
    {
     "name": "stderr",
     "output_type": "stream",
     "text": [
      "\n",
      "  0%|                                  | 0/0.019659996032714844 [00:00<?, ?it/s]\u001b[A\n",
      "100%|███████| 0.019659996032714844/0.019659996032714844 [00:00<00:00,  8.20s/it]\u001b[A\n"
     ]
    },
    {
     "name": "stdout",
     "output_type": "stream",
     "text": [
      "Downloading: /home/crombie/Downloads/ONE/alyx.internationalbrainlab.org/mainenlab/Subjects/ZFM-06271/2023-09-05/001/alf/task_00/_ibl_trials.table.7a63eb3a-88d3-462e-ac3e-29f88e1ef460.pqt Bytes: 28275\n"
     ]
    },
    {
     "name": "stderr",
     "output_type": "stream",
     "text": [
      "\n",
      "  0%|                                   | 0/0.02696514129638672 [00:00<?, ?it/s]\u001b[A\n",
      "100%|█████████| 0.02696514129638672/0.02696514129638672 [00:00<00:00,  7.51s/it]\u001b[A\n",
      "\n",
      "(S3) /home/crombie/Downloads/ONE/alyx.internationalbrainlab.org/mainenlab/Subjec\u001b[A\n",
      "(S3) /home/crombie/Downloads/ONE/alyx.internationalbrainlab.org/mainenlab/Subjec\u001b[A\n",
      "\n",
      "(S3) /home/crombie/Downloads/ONE/alyx.internationalbrainlab.org/mainenlab/Subjec\u001b[A\n",
      "(S3) /home/crombie/Downloads/ONE/alyx.internationalbrainlab.org/mainenlab/Subjec\u001b[A\n",
      "\n",
      "(S3) /home/crombie/Downloads/ONE/alyx.internationalbrainlab.org/mainenlab/Subjec\u001b[A\n",
      "(S3) /home/crombie/Downloads/ONE/alyx.internationalbrainlab.org/mainenlab/Subjec\u001b[A\n",
      "\n",
      "(S3) /home/crombie/Downloads/ONE/alyx.internationalbrainlab.org/mainenlab/Subjec\u001b[A\n",
      "(S3) /home/crombie/Downloads/ONE/alyx.internationalbrainlab.org/mainenlab/Subjec\u001b[A\n",
      "\n",
      "(S3) /home/crombie/Downloads/ONE/alyx.internationalbrainlab.org/mainenlab/Subjec\u001b[A\n",
      "(S3) /home/crombie/Downloads/ONE/alyx.internationalbrainlab.org/mainenlab/Subjec\u001b[A\n",
      "\n",
      "(S3) /home/crombie/Downloads/ONE/alyx.internationalbrainlab.org/mainenlab/Subjec\u001b[A\n",
      "(S3) /home/crombie/Downloads/ONE/alyx.internationalbrainlab.org/mainenlab/Subjec\u001b[A\n",
      "\n",
      "(S3) /home/crombie/Downloads/ONE/alyx.internationalbrainlab.org/mainenlab/Subjec\u001b[A\n",
      "(S3) /home/crombie/Downloads/ONE/alyx.internationalbrainlab.org/mainenlab/Subjec\u001b[A\n",
      "\n",
      "(S3) /home/crombie/Downloads/ONE/alyx.internationalbrainlab.org/mainenlab/Subjec\u001b[A\n",
      "(S3) /home/crombie/Downloads/ONE/alyx.internationalbrainlab.org/mainenlab/Subjec\u001b[A\n",
      "\n",
      "(S3) /home/crombie/Downloads/ONE/alyx.internationalbrainlab.org/mainenlab/Subjec\u001b[A\n",
      "(S3) /home/crombie/Downloads/ONE/alyx.internationalbrainlab.org/mainenlab/Subjec\u001b[A\n",
      "\n",
      "(S3) /home/crombie/Downloads/ONE/alyx.internationalbrainlab.org/mainenlab/Subjec\u001b[A\n",
      "(S3) /home/crombie/Downloads/ONE/alyx.internationalbrainlab.org/mainenlab/Subjec\u001b[A\n"
     ]
    },
    {
     "name": "stdout",
     "output_type": "stream",
     "text": [
      "Downloading: /home/crombie/Downloads/ONE/alyx.internationalbrainlab.org/mainenlab/Subjects/ZFM-06275/2023-08-31/001/alf/task_00/_ibl_trials.table.c472b87a-3e9c-475c-9f62-daac149ab7da.pqt Bytes: 25359\n"
     ]
    },
    {
     "name": "stderr",
     "output_type": "stream",
     "text": [
      "\n",
      "  0%|                                  | 0/0.024184226989746094 [00:00<?, ?it/s]\u001b[A\n",
      "100%|███████| 0.024184226989746094/0.024184226989746094 [00:00<00:00,  8.98s/it]\u001b[A\n",
      "\n",
      "(S3) /home/crombie/Downloads/ONE/alyx.internationalbrainlab.org/mainenlab/Subjec\u001b[A\n",
      "(S3) /home/crombie/Downloads/ONE/alyx.internationalbrainlab.org/mainenlab/Subjec\u001b[A\n",
      "\n",
      "(S3) /home/crombie/Downloads/ONE/alyx.internationalbrainlab.org/mainenlab/Subjec\u001b[A\n",
      "(S3) /home/crombie/Downloads/ONE/alyx.internationalbrainlab.org/mainenlab/Subjec\u001b[A\n",
      "\n",
      "(S3) /home/crombie/Downloads/ONE/alyx.internationalbrainlab.org/mainenlab/Subjec\u001b[A\n",
      "(S3) /home/crombie/Downloads/ONE/alyx.internationalbrainlab.org/mainenlab/Subjec\u001b[A\n",
      "\n",
      "(S3) /home/crombie/Downloads/ONE/alyx.internationalbrainlab.org/mainenlab/Subjec\u001b[A\n",
      "(S3) /home/crombie/Downloads/ONE/alyx.internationalbrainlab.org/mainenlab/Subjec\u001b[A\n"
     ]
    },
    {
     "name": "stdout",
     "output_type": "stream",
     "text": [
      "Downloading: /home/crombie/Downloads/ONE/alyx.internationalbrainlab.org/mainenlab/Subjects/ZFM-06305/2023-08-31/001/alf/_ibl_trials.table.fcb55d68-438d-4f84-bc49-52c1e48e6cad.pqt Bytes: 50552\n"
     ]
    },
    {
     "name": "stderr",
     "output_type": "stream",
     "text": [
      "\n",
      "  0%|                                   | 0/0.04821014404296875 [00:00<?, ?it/s]\u001b[A\n",
      "100%|█████████| 0.04821014404296875/0.04821014404296875 [00:00<00:00,  8.64s/it]\u001b[A\n",
      "\n",
      "(S3) /home/crombie/Downloads/ONE/alyx.internationalbrainlab.org/mainenlab/Subjec\u001b[A\n",
      "(S3) /home/crombie/Downloads/ONE/alyx.internationalbrainlab.org/mainenlab/Subjec\u001b[A\n",
      "\n",
      "(S3) /home/crombie/Downloads/ONE/alyx.internationalbrainlab.org/mainenlab/Subjec\u001b[A\n",
      "(S3) /home/crombie/Downloads/ONE/alyx.internationalbrainlab.org/mainenlab/Subjec\u001b[A\n",
      "\n",
      "(S3) /home/crombie/Downloads/ONE/alyx.internationalbrainlab.org/mainenlab/Subjec\u001b[A\n",
      "(S3) /home/crombie/Downloads/ONE/alyx.internationalbrainlab.org/mainenlab/Subjec\u001b[A\n"
     ]
    },
    {
     "name": "stdout",
     "output_type": "stream",
     "text": [
      "Downloading: /home/crombie/Downloads/ONE/alyx.internationalbrainlab.org/mainenlab/Subjects/ZFM-06271/2023-08-29/002/alf/_ibl_trials.table.507498b1-898a-4949-be44-e93c7a686b83.pqt Bytes: 41410\n"
     ]
    },
    {
     "name": "stderr",
     "output_type": "stream",
     "text": [
      "\n",
      "  0%|                                   | 0/0.03949165344238281 [00:00<?, ?it/s]\u001b[A\n",
      "100%|█████████| 0.03949165344238281/0.03949165344238281 [00:00<00:00, 10.33s/it]\u001b[A\n"
     ]
    },
    {
     "name": "stdout",
     "output_type": "stream",
     "text": [
      "Downloading: /home/crombie/Downloads/ONE/alyx.internationalbrainlab.org/mainenlab/Subjects/ZFM-06171/2023-08-28/001/alf/task_00/_ibl_trials.table.630a2db0-70c4-4a74-8c61-95382d8bbcb9.pqt Bytes: 25667\n"
     ]
    },
    {
     "name": "stderr",
     "output_type": "stream",
     "text": [
      "\n",
      "  0%|                                   | 0/0.02447795867919922 [00:00<?, ?it/s]\u001b[A\n",
      "100%|█████████| 0.02447795867919922/0.02447795867919922 [00:00<00:00,  6.52s/it]\u001b[A\n",
      "\n",
      "(S3) /home/crombie/Downloads/ONE/alyx.internationalbrainlab.org/mainenlab/Subjec\u001b[A\n",
      "(S3) /home/crombie/Downloads/ONE/alyx.internationalbrainlab.org/mainenlab/Subjec\u001b[A\n",
      "\n",
      "(S3) /home/crombie/Downloads/ONE/alyx.internationalbrainlab.org/mainenlab/Subjec\u001b[A\n",
      "(S3) /home/crombie/Downloads/ONE/alyx.internationalbrainlab.org/mainenlab/Subjec\u001b[A\n",
      "\n",
      "(S3) /home/crombie/Downloads/ONE/alyx.internationalbrainlab.org/mainenlab/Subjec\u001b[A\n",
      "(S3) /home/crombie/Downloads/ONE/alyx.internationalbrainlab.org/mainenlab/Subjec\u001b[A\n",
      "\n",
      "(S3) /home/crombie/Downloads/ONE/alyx.internationalbrainlab.org/mainenlab/Subjec\u001b[A\n",
      "(S3) /home/crombie/Downloads/ONE/alyx.internationalbrainlab.org/mainenlab/Subjec\u001b[A\n",
      "\n",
      "(S3) /home/crombie/Downloads/ONE/alyx.internationalbrainlab.org/mainenlab/Subjec\u001b[A\n",
      "(S3) /home/crombie/Downloads/ONE/alyx.internationalbrainlab.org/mainenlab/Subjec\u001b[A\n",
      "\n",
      "(S3) /home/crombie/Downloads/ONE/alyx.internationalbrainlab.org/mainenlab/Subjec\u001b[A\n",
      "(S3) /home/crombie/Downloads/ONE/alyx.internationalbrainlab.org/mainenlab/Subjec\u001b[A\n",
      "\n",
      "(S3) /home/crombie/Downloads/ONE/alyx.internationalbrainlab.org/mainenlab/Subjec\u001b[A\n",
      "(S3) /home/crombie/Downloads/ONE/alyx.internationalbrainlab.org/mainenlab/Subjec\u001b[A\n",
      "\n",
      "(S3) /home/crombie/Downloads/ONE/alyx.internationalbrainlab.org/mainenlab/Subjec\u001b[A\n",
      "(S3) /home/crombie/Downloads/ONE/alyx.internationalbrainlab.org/mainenlab/Subjec\u001b[A\n",
      "\n",
      "(S3) /home/crombie/Downloads/ONE/alyx.internationalbrainlab.org/mainenlab/Subjec\u001b[A\n",
      "(S3) /home/crombie/Downloads/ONE/alyx.internationalbrainlab.org/mainenlab/Subjec\u001b[A\n",
      "\n",
      "(S3) /home/crombie/Downloads/ONE/alyx.internationalbrainlab.org/mainenlab/Subjec\u001b[A\n",
      "(S3) /home/crombie/Downloads/ONE/alyx.internationalbrainlab.org/mainenlab/Subjec\u001b[A\n",
      "\n",
      "(S3) /home/crombie/Downloads/ONE/alyx.internationalbrainlab.org/mainenlab/Subjec\u001b[A\n",
      "(S3) /home/crombie/Downloads/ONE/alyx.internationalbrainlab.org/mainenlab/Subjec\u001b[A\n",
      "\n",
      "(S3) /home/crombie/Downloads/ONE/alyx.internationalbrainlab.org/mainenlab/Subjec\u001b[A\n",
      "(S3) /home/crombie/Downloads/ONE/alyx.internationalbrainlab.org/mainenlab/Subjec\u001b[A\n",
      "\n",
      "(S3) /home/crombie/Downloads/ONE/alyx.internationalbrainlab.org/mainenlab/Subjec\u001b[A\n",
      "(S3) /home/crombie/Downloads/ONE/alyx.internationalbrainlab.org/mainenlab/Subjec\u001b[A\n",
      "\n",
      "(S3) /home/crombie/Downloads/ONE/alyx.internationalbrainlab.org/mainenlab/Subjec\u001b[A\n",
      "(S3) /home/crombie/Downloads/ONE/alyx.internationalbrainlab.org/mainenlab/Subjec\u001b[A\n"
     ]
    },
    {
     "name": "stdout",
     "output_type": "stream",
     "text": [
      "Downloading: /home/crombie/Downloads/ONE/alyx.internationalbrainlab.org/mainenlab/Subjects/ZFM-06271/2023-08-23/001/alf/_ibl_trials.table.fba2ec95-a1ef-466c-865b-f0c3f48afa0e.pqt Bytes: 41547\n"
     ]
    },
    {
     "name": "stderr",
     "output_type": "stream",
     "text": [
      "\n",
      "  0%|                                   | 0/0.03962230682373047 [00:00<?, ?it/s]\u001b[A\n",
      "100%|█████████| 0.03962230682373047/0.03962230682373047 [00:00<00:00,  8.91s/it]\u001b[A\n",
      "\n",
      "(S3) /home/crombie/Downloads/ONE/alyx.internationalbrainlab.org/mainenlab/Subjec\u001b[A\n",
      "(S3) /home/crombie/Downloads/ONE/alyx.internationalbrainlab.org/mainenlab/Subjec\u001b[A\n"
     ]
    },
    {
     "name": "stdout",
     "output_type": "stream",
     "text": [
      "Downloading: /home/crombie/Downloads/ONE/alyx.internationalbrainlab.org/mainenlab/Subjects/ZFM-06305/2023-08-22/001/alf/_ibl_trials.table.03f06632-826c-4376-b785-8abfdb19ef74.pqt Bytes: 54498\n"
     ]
    },
    {
     "name": "stderr",
     "output_type": "stream",
     "text": [
      "\n",
      "  0%|                                   | 0/0.05197334289550781 [00:00<?, ?it/s]\u001b[A\n",
      "100%|█████████| 0.05197334289550781/0.05197334289550781 [00:00<00:00,  8.00s/it]\u001b[A\n",
      "\n",
      "(S3) /home/crombie/Downloads/ONE/alyx.internationalbrainlab.org/mainenlab/Subjec\u001b[A\n",
      "(S3) /home/crombie/Downloads/ONE/alyx.internationalbrainlab.org/mainenlab/Subjec\u001b[A\n",
      "\n",
      "(S3) /home/crombie/Downloads/ONE/alyx.internationalbrainlab.org/mainenlab/Subjec\u001b[A\n",
      "(S3) /home/crombie/Downloads/ONE/alyx.internationalbrainlab.org/mainenlab/Subjec\u001b[A\n"
     ]
    },
    {
     "name": "stdout",
     "output_type": "stream",
     "text": [
      "Downloading: /home/crombie/Downloads/ONE/alyx.internationalbrainlab.org/mainenlab/Subjects/ZFM-06271/2023-08-22/001/alf/_ibl_trials.table.06936d98-17d5-4049-ae64-91e486d0a0a9.pqt Bytes: 44172\n"
     ]
    },
    {
     "name": "stderr",
     "output_type": "stream",
     "text": [
      "\n",
      "  0%|                                  | 0/0.042125701904296875 [00:00<?, ?it/s]\u001b[A\n",
      "100%|███████| 0.042125701904296875/0.042125701904296875 [00:00<00:00,  9.45s/it]\u001b[A\n"
     ]
    },
    {
     "name": "stdout",
     "output_type": "stream",
     "text": [
      "Downloading: /home/crombie/Downloads/ONE/alyx.internationalbrainlab.org/mainenlab/Subjects/ZFM-05248/2023-08-22/001/alf/_ibl_trials.table.4ce9b0fd-5bd5-47b2-8598-2e929ae4b79e.pqt Bytes: 71430\n"
     ]
    },
    {
     "name": "stderr",
     "output_type": "stream",
     "text": [
      "\n",
      "  0%|                                   | 0/0.06812095642089844 [00:00<?, ?it/s]\u001b[A\n",
      "100%|█████████| 0.06812095642089844/0.06812095642089844 [00:00<00:00,  4.72s/it]\u001b[A\n",
      "\n",
      "(S3) /home/crombie/Downloads/ONE/alyx.internationalbrainlab.org/mainenlab/Subjec\u001b[A\n",
      "(S3) /home/crombie/Downloads/ONE/alyx.internationalbrainlab.org/mainenlab/Subjec\u001b[A\n",
      "\n",
      "(S3) /home/crombie/Downloads/ONE/alyx.internationalbrainlab.org/mainenlab/Subjec\u001b[A\n",
      "(S3) /home/crombie/Downloads/ONE/alyx.internationalbrainlab.org/mainenlab/Subjec\u001b[A\n"
     ]
    },
    {
     "name": "stdout",
     "output_type": "stream",
     "text": [
      "Downloading: /home/crombie/Downloads/ONE/alyx.internationalbrainlab.org/mainenlab/Subjects/ZFM-06171/2023-08-18/001/alf/_ibl_trials.table.24b51c48-09e1-47ee-93e3-8df44432f392.pqt Bytes: 22518\n"
     ]
    },
    {
     "name": "stderr",
     "output_type": "stream",
     "text": [
      "\n",
      "  0%|                                  | 0/0.021474838256835938 [00:00<?, ?it/s]\u001b[A\n",
      "100%|███████| 0.021474838256835938/0.021474838256835938 [00:00<00:00,  8.68s/it]\u001b[A\n",
      "\n",
      "(S3) /home/crombie/Downloads/ONE/alyx.internationalbrainlab.org/mainenlab/Subjec\u001b[A\n",
      "(S3) /home/crombie/Downloads/ONE/alyx.internationalbrainlab.org/mainenlab/Subjec\u001b[A\n",
      "\n",
      "(S3) /home/crombie/Downloads/ONE/alyx.internationalbrainlab.org/mainenlab/Subjec\u001b[A\n",
      "(S3) /home/crombie/Downloads/ONE/alyx.internationalbrainlab.org/mainenlab/Subjec\u001b[A\n",
      "\n",
      "(S3) /home/crombie/Downloads/ONE/alyx.internationalbrainlab.org/mainenlab/Subjec\u001b[A\n",
      "(S3) /home/crombie/Downloads/ONE/alyx.internationalbrainlab.org/mainenlab/Subjec\u001b[A\n",
      "\n",
      "(S3) /home/crombie/Downloads/ONE/alyx.internationalbrainlab.org/mainenlab/Subjec\u001b[A\n",
      "(S3) /home/crombie/Downloads/ONE/alyx.internationalbrainlab.org/mainenlab/Subjec\u001b[A\n",
      "\n",
      "(S3) /home/crombie/Downloads/ONE/alyx.internationalbrainlab.org/mainenlab/Subjec\u001b[A\n",
      "(S3) /home/crombie/Downloads/ONE/alyx.internationalbrainlab.org/mainenlab/Subjec\u001b[A\n"
     ]
    },
    {
     "name": "stdout",
     "output_type": "stream",
     "text": [
      "Downloading: /home/crombie/Downloads/ONE/alyx.internationalbrainlab.org/mainenlab/Subjects/ZFM-06271/2023-08-18/001/alf/_ibl_trials.table.76dddbdb-8de7-4765-9ecd-7ea745dcf755.pqt Bytes: 53822\n"
     ]
    },
    {
     "name": "stderr",
     "output_type": "stream",
     "text": [
      "\n",
      "  0%|                                   | 0/0.05132865905761719 [00:00<?, ?it/s]\u001b[A\n",
      "100%|█████████| 0.05132865905761719/0.05132865905761719 [00:00<00:00,  6.35s/it]\u001b[A\n",
      "\n",
      "(S3) /home/crombie/Downloads/ONE/alyx.internationalbrainlab.org/mainenlab/Subjec\u001b[A\n",
      "(S3) /home/crombie/Downloads/ONE/alyx.internationalbrainlab.org/mainenlab/Subjec\u001b[A\n"
     ]
    },
    {
     "name": "stdout",
     "output_type": "stream",
     "text": [
      "Downloading: /home/crombie/Downloads/ONE/alyx.internationalbrainlab.org/mainenlab/Subjects/ZFM-06171/2023-08-17/001/alf/task_00/_ibl_trials.table.1ba3539e-2243-41e3-91b5-79b190cc44cb.pqt Bytes: 16480\n"
     ]
    },
    {
     "name": "stderr",
     "output_type": "stream",
     "text": [
      "\n",
      "  0%|                                     | 0/0.015716552734375 [00:00<?, ?it/s]\u001b[A\n",
      "100%|█████████████| 0.015716552734375/0.015716552734375 [00:00<00:00, 10.50s/it]\u001b[A\n",
      "\n",
      "(S3) /home/crombie/Downloads/ONE/alyx.internationalbrainlab.org/mainenlab/Subjec\u001b[A\n",
      "(S3) /home/crombie/Downloads/ONE/alyx.internationalbrainlab.org/mainenlab/Subjec\u001b[A\n"
     ]
    },
    {
     "name": "stdout",
     "output_type": "stream",
     "text": [
      "Downloading: /home/crombie/Downloads/ONE/alyx.internationalbrainlab.org/mainenlab/Subjects/ZFM-06275/2023-08-17/001/alf/_ibl_trials.table.e31d90a0-72c3-4d15-bac5-9b9009ca3aba.pqt Bytes: 36008\n"
     ]
    },
    {
     "name": "stderr",
     "output_type": "stream",
     "text": [
      "\n",
      "  0%|                                   | 0/0.03433990478515625 [00:00<?, ?it/s]\u001b[A\n",
      "100%|█████████| 0.03433990478515625/0.03433990478515625 [00:00<00:00, 10.45s/it]\u001b[A\n",
      "\n",
      "(S3) /home/crombie/Downloads/ONE/alyx.internationalbrainlab.org/mainenlab/Subjec\u001b[A\n",
      "(S3) /home/crombie/Downloads/ONE/alyx.internationalbrainlab.org/mainenlab/Subjec\u001b[A\n",
      "\n",
      "(S3) /home/crombie/Downloads/ONE/alyx.internationalbrainlab.org/mainenlab/Subjec\u001b[A\n",
      "(S3) /home/crombie/Downloads/ONE/alyx.internationalbrainlab.org/mainenlab/Subjec\u001b[A\n",
      "\n",
      "(S3) /home/crombie/Downloads/ONE/alyx.internationalbrainlab.org/mainenlab/Subjec\u001b[A\n",
      "(S3) /home/crombie/Downloads/ONE/alyx.internationalbrainlab.org/mainenlab/Subjec\u001b[A\n",
      "\n",
      "(S3) /home/crombie/Downloads/ONE/alyx.internationalbrainlab.org/mainenlab/Subjec\u001b[A\n",
      "(S3) /home/crombie/Downloads/ONE/alyx.internationalbrainlab.org/mainenlab/Subjec\u001b[A\n"
     ]
    },
    {
     "name": "stdout",
     "output_type": "stream",
     "text": [
      "Downloading: /home/crombie/Downloads/ONE/alyx.internationalbrainlab.org/mainenlab/Subjects/ZFM-05248/2023-08-17/002/alf/_ibl_trials.table.6cd444a5-281c-4ee1-86e6-90ae7e25feb7.pqt Bytes: 61055\n"
     ]
    },
    {
     "name": "stderr",
     "output_type": "stream",
     "text": [
      "\n",
      "  0%|                                  | 0/0.058226585388183594 [00:00<?, ?it/s]\u001b[A\n",
      "100%|███████| 0.058226585388183594/0.058226585388183594 [00:00<00:00,  6.98s/it]\u001b[A\n",
      "\n",
      "(S3) /home/crombie/Downloads/ONE/alyx.internationalbrainlab.org/mainenlab/Subjec\u001b[A\n",
      "(S3) /home/crombie/Downloads/ONE/alyx.internationalbrainlab.org/mainenlab/Subjec\u001b[A\n"
     ]
    },
    {
     "name": "stdout",
     "output_type": "stream",
     "text": [
      "Downloading: /home/crombie/Downloads/ONE/alyx.internationalbrainlab.org/mainenlab/Subjects/ZFM-06305/2023-08-16/001/alf/_ibl_trials.table.0459e8b7-5a1b-408c-81e7-758d1bfef9ae.pqt Bytes: 34661\n"
     ]
    },
    {
     "name": "stderr",
     "output_type": "stream",
     "text": [
      "\n",
      "  0%|                                   | 0/0.03305530548095703 [00:00<?, ?it/s]\u001b[A\n",
      "100%|█████████| 0.03305530548095703/0.03305530548095703 [00:00<00:00,  6.14s/it]\u001b[A\n",
      "\n",
      "(S3) /home/crombie/Downloads/ONE/alyx.internationalbrainlab.org/mainenlab/Subjec\u001b[A\n",
      "(S3) /home/crombie/Downloads/ONE/alyx.internationalbrainlab.org/mainenlab/Subjec\u001b[A\n",
      "\n",
      "(S3) /home/crombie/Downloads/ONE/alyx.internationalbrainlab.org/mainenlab/Subjec\u001b[A\n",
      "(S3) /home/crombie/Downloads/ONE/alyx.internationalbrainlab.org/mainenlab/Subjec\u001b[A\n",
      "\n",
      "(S3) /home/crombie/Downloads/ONE/alyx.internationalbrainlab.org/mainenlab/Subjec\u001b[A\n",
      "(S3) /home/crombie/Downloads/ONE/alyx.internationalbrainlab.org/mainenlab/Subjec\u001b[A\n",
      "\n",
      "(S3) /home/crombie/Downloads/ONE/alyx.internationalbrainlab.org/mainenlab/Subjec\u001b[A\n",
      "(S3) /home/crombie/Downloads/ONE/alyx.internationalbrainlab.org/mainenlab/Subjec\u001b[A\n",
      "\n",
      "(S3) /home/crombie/Downloads/ONE/alyx.internationalbrainlab.org/mainenlab/Subjec\u001b[A\n",
      "(S3) /home/crombie/Downloads/ONE/alyx.internationalbrainlab.org/mainenlab/Subjec\u001b[A\n",
      "\n",
      "(S3) /home/crombie/Downloads/ONE/alyx.internationalbrainlab.org/mainenlab/Subjec\u001b[A\n",
      "(S3) /home/crombie/Downloads/ONE/alyx.internationalbrainlab.org/mainenlab/Subjec\u001b[A\n",
      "\n",
      "(S3) /home/crombie/Downloads/ONE/alyx.internationalbrainlab.org/mainenlab/Subjec\u001b[A\n",
      "(S3) /home/crombie/Downloads/ONE/alyx.internationalbrainlab.org/mainenlab/Subjec\u001b[A\n",
      "\n",
      "(S3) /home/crombie/Downloads/ONE/alyx.internationalbrainlab.org/mainenlab/Subjec\u001b[A\n",
      "(S3) /home/crombie/Downloads/ONE/alyx.internationalbrainlab.org/mainenlab/Subjec\u001b[A\n",
      "\n",
      "(S3) /home/crombie/Downloads/ONE/alyx.internationalbrainlab.org/mainenlab/Subjec\u001b[A\n",
      "(S3) /home/crombie/Downloads/ONE/alyx.internationalbrainlab.org/mainenlab/Subjec\u001b[A\n",
      "\n",
      "(S3) /home/crombie/Downloads/ONE/alyx.internationalbrainlab.org/mainenlab/Subjec\u001b[A\n",
      "(S3) /home/crombie/Downloads/ONE/alyx.internationalbrainlab.org/mainenlab/Subjec\u001b[A\n",
      "\n",
      "(S3) /home/crombie/Downloads/ONE/alyx.internationalbrainlab.org/mainenlab/Subjec\u001b[A\n",
      "(S3) /home/crombie/Downloads/ONE/alyx.internationalbrainlab.org/mainenlab/Subjec\u001b[A\n"
     ]
    },
    {
     "name": "stdout",
     "output_type": "stream",
     "text": [
      "Downloading: /home/crombie/Downloads/ONE/alyx.internationalbrainlab.org/mainenlab/Subjects/ZFM-06268/2023-08-15/001/alf/task_00/_ibl_trials.table.44459c4c-6fb9-4b87-8d69-7dbd47b28727.pqt Bytes: 29617\n"
     ]
    },
    {
     "name": "stderr",
     "output_type": "stream",
     "text": [
      "\n",
      "  0%|                                  | 0/0.028244972229003906 [00:00<?, ?it/s]\u001b[A\n",
      "100%|███████| 0.028244972229003906/0.028244972229003906 [00:00<00:00,  5.60s/it]\u001b[A\n",
      "\n",
      "(S3) /home/crombie/Downloads/ONE/alyx.internationalbrainlab.org/mainenlab/Subjec\u001b[A\n",
      "(S3) /home/crombie/Downloads/ONE/alyx.internationalbrainlab.org/mainenlab/Subjec\u001b[A\n",
      "\n",
      "(S3) /home/crombie/Downloads/ONE/alyx.internationalbrainlab.org/mainenlab/Subjec\u001b[A\n",
      "(S3) /home/crombie/Downloads/ONE/alyx.internationalbrainlab.org/mainenlab/Subjec\u001b[A\n",
      "\n",
      "(S3) /home/crombie/Downloads/ONE/alyx.internationalbrainlab.org/mainenlab/Subjec\u001b[A\n",
      "(S3) /home/crombie/Downloads/ONE/alyx.internationalbrainlab.org/mainenlab/Subjec\u001b[A\n",
      "\n",
      "(S3) /home/crombie/Downloads/ONE/alyx.internationalbrainlab.org/mainenlab/Subjec\u001b[A\n",
      "(S3) /home/crombie/Downloads/ONE/alyx.internationalbrainlab.org/mainenlab/Subjec\u001b[A\n",
      "\n",
      "(S3) /home/crombie/Downloads/ONE/alyx.internationalbrainlab.org/mainenlab/Subjec\u001b[A\n",
      "(S3) /home/crombie/Downloads/ONE/alyx.internationalbrainlab.org/mainenlab/Subjec\u001b[A\n",
      "\n",
      "(S3) /home/crombie/Downloads/ONE/alyx.internationalbrainlab.org/mainenlab/Subjec\u001b[A\n",
      "(S3) /home/crombie/Downloads/ONE/alyx.internationalbrainlab.org/mainenlab/Subjec\u001b[A\n",
      "\n",
      "(S3) /home/crombie/Downloads/ONE/alyx.internationalbrainlab.org/mainenlab/Subjec\u001b[A\n",
      "(S3) /home/crombie/Downloads/ONE/alyx.internationalbrainlab.org/mainenlab/Subjec\u001b[A\n",
      "\n",
      "(S3) /home/crombie/Downloads/ONE/alyx.internationalbrainlab.org/mainenlab/Subjec\u001b[A\n",
      "(S3) /home/crombie/Downloads/ONE/alyx.internationalbrainlab.org/mainenlab/Subjec\u001b[A\n",
      "\n",
      "(S3) /home/crombie/Downloads/ONE/alyx.internationalbrainlab.org/mainenlab/Subjec\u001b[A\n",
      "(S3) /home/crombie/Downloads/ONE/alyx.internationalbrainlab.org/mainenlab/Subjec\u001b[A\n"
     ]
    },
    {
     "name": "stdout",
     "output_type": "stream",
     "text": [
      "Downloading: /home/crombie/Downloads/ONE/alyx.internationalbrainlab.org/mainenlab/Subjects/ZFM-06171/2023-07-25/002/alf/task_00/_ibl_trials.table.026bbae1-a3d3-4fc4-9698-6502188c029e.pqt Bytes: 28922\n"
     ]
    },
    {
     "name": "stderr",
     "output_type": "stream",
     "text": [
      "\n",
      "  0%|                                  | 0/0.027582168579101562 [00:00<?, ?it/s]\u001b[A\n",
      "100%|███████| 0.027582168579101562/0.027582168579101562 [00:00<00:00,  7.42s/it]\u001b[A\n",
      "\n",
      "(S3) /home/crombie/Downloads/ONE/alyx.internationalbrainlab.org/mainenlab/Subjec\u001b[A\n",
      "(S3) /home/crombie/Downloads/ONE/alyx.internationalbrainlab.org/mainenlab/Subjec\u001b[A\n",
      "\n",
      "(S3) /home/crombie/Downloads/ONE/alyx.internationalbrainlab.org/mainenlab/Subjec\u001b[A\n",
      "(S3) /home/crombie/Downloads/ONE/alyx.internationalbrainlab.org/mainenlab/Subjec\u001b[A\n",
      "\n",
      "(S3) /home/crombie/Downloads/ONE/alyx.internationalbrainlab.org/mainenlab/Subjec\u001b[A\n",
      "(S3) /home/crombie/Downloads/ONE/alyx.internationalbrainlab.org/mainenlab/Subjec\u001b[A\n"
     ]
    },
    {
     "name": "stdout",
     "output_type": "stream",
     "text": [
      "Downloading: /home/crombie/Downloads/ONE/alyx.internationalbrainlab.org/mainenlab/Subjects/ZFM-06275/2023-07-25/001/alf/_ibl_trials.table.05bae42a-3971-42a9-a322-fec9db911a4b.pqt Bytes: 22225\n"
     ]
    },
    {
     "name": "stderr",
     "output_type": "stream",
     "text": [
      "\n",
      "  0%|                                  | 0/0.021195411682128906 [00:00<?, ?it/s]\u001b[A\n",
      "100%|███████| 0.021195411682128906/0.021195411682128906 [00:00<00:00,  7.22s/it]\u001b[A\n",
      "\n",
      "(S3) /home/crombie/Downloads/ONE/alyx.internationalbrainlab.org/mainenlab/Subjec\u001b[A\n",
      "(S3) /home/crombie/Downloads/ONE/alyx.internationalbrainlab.org/mainenlab/Subjec\u001b[A\n",
      "\n",
      "(S3) /home/crombie/Downloads/ONE/alyx.internationalbrainlab.org/mainenlab/Subjec\u001b[A\n",
      "(S3) /home/crombie/Downloads/ONE/alyx.internationalbrainlab.org/mainenlab/Subjec\u001b[A\n",
      "\n",
      "(S3) /home/crombie/Downloads/ONE/alyx.internationalbrainlab.org/mainenlab/Subjec\u001b[A\n",
      "(S3) /home/crombie/Downloads/ONE/alyx.internationalbrainlab.org/mainenlab/Subjec\u001b[A\n"
     ]
    },
    {
     "name": "stdout",
     "output_type": "stream",
     "text": [
      "Downloading: /home/crombie/Downloads/ONE/alyx.internationalbrainlab.org/mainenlab/Subjects/ZFM-05248/2023-07-24/001/alf/_ibl_trials.table.772e734f-232a-469a-ae28-1be9b7ef5d07.pqt Bytes: 49202\n"
     ]
    },
    {
     "name": "stderr",
     "output_type": "stream",
     "text": [
      "\n",
      "  0%|                                   | 0/0.04692268371582031 [00:00<?, ?it/s]\u001b[A\n",
      "100%|█████████| 0.04692268371582031/0.04692268371582031 [00:00<00:00,  8.47s/it]\u001b[A\n",
      "\n",
      "(S3) /home/crombie/Downloads/ONE/alyx.internationalbrainlab.org/mainenlab/Subjec\u001b[A\n",
      "(S3) /home/crombie/Downloads/ONE/alyx.internationalbrainlab.org/mainenlab/Subjec\u001b[A\n",
      "\n",
      "(S3) /home/crombie/Downloads/ONE/alyx.internationalbrainlab.org/mainenlab/Subjec\u001b[A\n",
      "(S3) /home/crombie/Downloads/ONE/alyx.internationalbrainlab.org/mainenlab/Subjec\u001b[A\n",
      "\n",
      "(S3) /home/crombie/Downloads/ONE/alyx.internationalbrainlab.org/mainenlab/Subjec\u001b[A\n",
      "(S3) /home/crombie/Downloads/ONE/alyx.internationalbrainlab.org/mainenlab/Subjec\u001b[A\n",
      "\n",
      "(S3) /home/crombie/Downloads/ONE/alyx.internationalbrainlab.org/mainenlab/Subjec\u001b[A\n",
      "(S3) /home/crombie/Downloads/ONE/alyx.internationalbrainlab.org/mainenlab/Subjec\u001b[A\n",
      "\n",
      "(S3) /home/crombie/Downloads/ONE/alyx.internationalbrainlab.org/mainenlab/Subjec\u001b[A\n",
      "(S3) /home/crombie/Downloads/ONE/alyx.internationalbrainlab.org/mainenlab/Subjec\u001b[A\n",
      "\n",
      "(S3) /home/crombie/Downloads/ONE/alyx.internationalbrainlab.org/mainenlab/Subjec\u001b[A\n",
      "(S3) /home/crombie/Downloads/ONE/alyx.internationalbrainlab.org/mainenlab/Subjec\u001b[A\n",
      "\n",
      "(S3) /home/crombie/Downloads/ONE/alyx.internationalbrainlab.org/mainenlab/Subjec\u001b[A\n",
      "(S3) /home/crombie/Downloads/ONE/alyx.internationalbrainlab.org/mainenlab/Subjec\u001b[A\n",
      "\n",
      "(S3) /home/crombie/Downloads/ONE/alyx.internationalbrainlab.org/mainenlab/Subjec\u001b[A\n",
      "(S3) /home/crombie/Downloads/ONE/alyx.internationalbrainlab.org/mainenlab/Subjec\u001b[A\n",
      "\n",
      "(S3) /home/crombie/Downloads/ONE/alyx.internationalbrainlab.org/mainenlab/Subjec\u001b[A\n",
      "(S3) /home/crombie/Downloads/ONE/alyx.internationalbrainlab.org/mainenlab/Subjec\u001b[A\n"
     ]
    },
    {
     "name": "stdout",
     "output_type": "stream",
     "text": [
      "Downloading: /home/crombie/Downloads/ONE/alyx.internationalbrainlab.org/mainenlab/Subjects/ZFM-05248/2023-07-21/001/alf/_ibl_trials.table.c7ca54ae-70ce-406f-859e-ab565a9ea918.pqt Bytes: 63273\n"
     ]
    },
    {
     "name": "stderr",
     "output_type": "stream",
     "text": [
      "\n",
      "  0%|                                  | 0/0.060341835021972656 [00:00<?, ?it/s]\u001b[A\n",
      "100%|███████| 0.060341835021972656/0.060341835021972656 [00:00<00:00,  7.77s/it]\u001b[A\n",
      "\n",
      "(S3) /home/crombie/Downloads/ONE/alyx.internationalbrainlab.org/mainenlab/Subjec\u001b[A\n",
      "(S3) /home/crombie/Downloads/ONE/alyx.internationalbrainlab.org/mainenlab/Subjec\u001b[A\n",
      "\n",
      "(S3) /home/crombie/Downloads/ONE/alyx.internationalbrainlab.org/mainenlab/Subjec\u001b[A\n",
      "(S3) /home/crombie/Downloads/ONE/alyx.internationalbrainlab.org/mainenlab/Subjec\u001b[A\n",
      "\n",
      "(S3) /home/crombie/Downloads/ONE/alyx.internationalbrainlab.org/mainenlab/Subjec\u001b[A\n",
      "(S3) /home/crombie/Downloads/ONE/alyx.internationalbrainlab.org/mainenlab/Subjec\u001b[A\n",
      "\n",
      "(S3) /home/crombie/Downloads/ONE/alyx.internationalbrainlab.org/mainenlab/Subjec\u001b[A\n",
      "(S3) /home/crombie/Downloads/ONE/alyx.internationalbrainlab.org/mainenlab/Subjec\u001b[A\n",
      "\n",
      "(S3) /home/crombie/Downloads/ONE/alyx.internationalbrainlab.org/mainenlab/Subjec\u001b[A\n",
      "(S3) /home/crombie/Downloads/ONE/alyx.internationalbrainlab.org/mainenlab/Subjec\u001b[A\n",
      "\n",
      "(S3) /home/crombie/Downloads/ONE/alyx.internationalbrainlab.org/mainenlab/Subjec\u001b[A\n",
      "(S3) /home/crombie/Downloads/ONE/alyx.internationalbrainlab.org/mainenlab/Subjec\u001b[A\n",
      "\n",
      "(S3) /home/crombie/Downloads/ONE/alyx.internationalbrainlab.org/mainenlab/Subjec\u001b[A\n",
      "(S3) /home/crombie/Downloads/ONE/alyx.internationalbrainlab.org/mainenlab/Subjec\u001b[A\n",
      "\n",
      "(S3) /home/crombie/Downloads/ONE/alyx.internationalbrainlab.org/mainenlab/Subjec\u001b[A\n",
      "(S3) /home/crombie/Downloads/ONE/alyx.internationalbrainlab.org/mainenlab/Subjec\u001b[A\n",
      "\n",
      "(S3) /home/crombie/Downloads/ONE/alyx.internationalbrainlab.org/mainenlab/Subjec\u001b[A\n",
      "(S3) /home/crombie/Downloads/ONE/alyx.internationalbrainlab.org/mainenlab/Subjec\u001b[A\n",
      "\n",
      "(S3) /home/crombie/Downloads/ONE/alyx.internationalbrainlab.org/mainenlab/Subjec\u001b[A\n",
      "(S3) /home/crombie/Downloads/ONE/alyx.internationalbrainlab.org/mainenlab/Subjec\u001b[A\n",
      "\n",
      "(S3) /home/crombie/Downloads/ONE/alyx.internationalbrainlab.org/mainenlab/Subjec\u001b[A\n",
      "(S3) /home/crombie/Downloads/ONE/alyx.internationalbrainlab.org/mainenlab/Subjec\u001b[A\n",
      "\n",
      "(S3) /home/crombie/Downloads/ONE/alyx.internationalbrainlab.org/mainenlab/Subjec\u001b[A\n",
      "(S3) /home/crombie/Downloads/ONE/alyx.internationalbrainlab.org/mainenlab/Subjec\u001b[A\n",
      "\n",
      "(S3) /home/crombie/Downloads/ONE/alyx.internationalbrainlab.org/mainenlab/Subjec\u001b[A\n",
      "(S3) /home/crombie/Downloads/ONE/alyx.internationalbrainlab.org/mainenlab/Subjec\u001b[A\n",
      "\n",
      "(S3) /home/crombie/Downloads/ONE/alyx.internationalbrainlab.org/mainenlab/Subjec\u001b[A\n",
      "(S3) /home/crombie/Downloads/ONE/alyx.internationalbrainlab.org/mainenlab/Subjec\u001b[A\n",
      "\n",
      "(S3) /home/crombie/Downloads/ONE/alyx.internationalbrainlab.org/mainenlab/Subjec\u001b[A\n",
      "(S3) /home/crombie/Downloads/ONE/alyx.internationalbrainlab.org/mainenlab/Subjec\u001b[A\n",
      "\n",
      "(S3) /home/crombie/Downloads/ONE/alyx.internationalbrainlab.org/mainenlab/Subjec\u001b[A\n",
      "(S3) /home/crombie/Downloads/ONE/alyx.internationalbrainlab.org/mainenlab/Subjec\u001b[A\n"
     ]
    },
    {
     "name": "stdout",
     "output_type": "stream",
     "text": [
      "Downloading: /home/crombie/Downloads/ONE/alyx.internationalbrainlab.org/mainenlab/Subjects/ZFM-06268/2023-07-18/001/alf/task_00/_ibl_trials.table.e13ef817-2475-42c7-8a65-db919a1d6022.pqt Bytes: 23542\n"
     ]
    },
    {
     "name": "stderr",
     "output_type": "stream",
     "text": [
      "\n",
      "  0%|                                  | 0/0.022451400756835938 [00:00<?, ?it/s]\u001b[A\n",
      "100%|███████| 0.022451400756835938/0.022451400756835938 [00:00<00:00,  9.02s/it]\u001b[A\n",
      "\n",
      "(S3) /home/crombie/Downloads/ONE/alyx.internationalbrainlab.org/mainenlab/Subjec\u001b[A\n",
      "(S3) /home/crombie/Downloads/ONE/alyx.internationalbrainlab.org/mainenlab/Subjec\u001b[A\n",
      "\n",
      "(S3) /home/crombie/Downloads/ONE/alyx.internationalbrainlab.org/mainenlab/Subjec\u001b[A\n",
      "(S3) /home/crombie/Downloads/ONE/alyx.internationalbrainlab.org/mainenlab/Subjec\u001b[A\n"
     ]
    },
    {
     "name": "stdout",
     "output_type": "stream",
     "text": [
      "Downloading: /home/crombie/Downloads/ONE/alyx.internationalbrainlab.org/mainenlab/Subjects/ZFM-06171/2023-07-18/002/alf/task_00/_ibl_trials.table.7a73a72e-da28-4a43-8733-9092b37069d8.pqt Bytes: 19212\n"
     ]
    },
    {
     "name": "stderr",
     "output_type": "stream",
     "text": [
      "\n",
      "  0%|                                  | 0/0.018321990966796875 [00:00<?, ?it/s]\u001b[A\n",
      "100%|███████| 0.018321990966796875/0.018321990966796875 [00:00<00:00,  9.63s/it]\u001b[A\n",
      "\n",
      "(S3) /home/crombie/Downloads/ONE/alyx.internationalbrainlab.org/mainenlab/Subjec\u001b[A\n",
      "(S3) /home/crombie/Downloads/ONE/alyx.internationalbrainlab.org/mainenlab/Subjec\u001b[A\n",
      "\n",
      "(S3) /home/crombie/Downloads/ONE/alyx.internationalbrainlab.org/mainenlab/Subjec\u001b[A\n",
      "(S3) /home/crombie/Downloads/ONE/alyx.internationalbrainlab.org/mainenlab/Subjec\u001b[A\n"
     ]
    },
    {
     "name": "stdout",
     "output_type": "stream",
     "text": [
      "Downloading: /home/crombie/Downloads/ONE/alyx.internationalbrainlab.org/mainenlab/Subjects/ZFM-05245/2023-07-18/001/alf/_ibl_trials.table.fa0eab08-fd97-4c4b-bff8-5035cdd896ac.pqt Bytes: 38730\n"
     ]
    },
    {
     "name": "stderr",
     "output_type": "stream",
     "text": [
      "\n",
      "  0%|                                   | 0/0.03693580627441406 [00:00<?, ?it/s]\u001b[A\n",
      "100%|█████████| 0.03693580627441406/0.03693580627441406 [00:00<00:00, 11.92s/it]\u001b[A\n",
      "\n",
      "(S3) /home/crombie/Downloads/ONE/alyx.internationalbrainlab.org/mainenlab/Subjec\u001b[A\n",
      "(S3) /home/crombie/Downloads/ONE/alyx.internationalbrainlab.org/mainenlab/Subjec\u001b[A\n",
      "\n",
      "(S3) /home/crombie/Downloads/ONE/alyx.internationalbrainlab.org/mainenlab/Subjec\u001b[A\n",
      "(S3) /home/crombie/Downloads/ONE/alyx.internationalbrainlab.org/mainenlab/Subjec\u001b[A\n"
     ]
    },
    {
     "name": "stdout",
     "output_type": "stream",
     "text": [
      "Downloading: /home/crombie/Downloads/ONE/alyx.internationalbrainlab.org/mainenlab/Subjects/ZFM-06275/2023-07-17/001/alf/_ibl_trials.table.a1f0c3df-5d5a-43d6-b4f2-aad563ad9b64.pqt Bytes: 21317\n"
     ]
    },
    {
     "name": "stderr",
     "output_type": "stream",
     "text": [
      "\n",
      "  0%|                                   | 0/0.02032947540283203 [00:00<?, ?it/s]\u001b[A\n",
      "100%|█████████| 0.02032947540283203/0.02032947540283203 [00:00<00:00,  7.80s/it]\u001b[A\n",
      "\n",
      "(S3) /home/crombie/Downloads/ONE/alyx.internationalbrainlab.org/mainenlab/Subjec\u001b[A\n",
      "(S3) /home/crombie/Downloads/ONE/alyx.internationalbrainlab.org/mainenlab/Subjec\u001b[A\n",
      "\n",
      "(S3) /home/crombie/Downloads/ONE/alyx.internationalbrainlab.org/mainenlab/Subjec\u001b[A\n",
      "(S3) /home/crombie/Downloads/ONE/alyx.internationalbrainlab.org/mainenlab/Subjec\u001b[A\n",
      "\n",
      "(S3) /home/crombie/Downloads/ONE/alyx.internationalbrainlab.org/mainenlab/Subjec\u001b[A\n",
      "(S3) /home/crombie/Downloads/ONE/alyx.internationalbrainlab.org/mainenlab/Subjec\u001b[A\n",
      "\n",
      "(S3) /home/crombie/Downloads/ONE/alyx.internationalbrainlab.org/mainenlab/Subjec\u001b[A\n",
      "(S3) /home/crombie/Downloads/ONE/alyx.internationalbrainlab.org/mainenlab/Subjec\u001b[A\n"
     ]
    },
    {
     "name": "stdout",
     "output_type": "stream",
     "text": [
      "Downloading: /home/crombie/Downloads/ONE/alyx.internationalbrainlab.org/mainenlab/Subjects/ZFM-05248/2023-07-14/001/alf/_ibl_trials.table.7fbe147d-f94d-4350-bb48-01cb43c55e8e.pqt Bytes: 80249\n"
     ]
    },
    {
     "name": "stderr",
     "output_type": "stream",
     "text": [
      "\n",
      "  0%|                                   | 0/0.07653141021728516 [00:00<?, ?it/s]\u001b[A\n",
      "100%|█████████| 0.07653141021728516/0.07653141021728516 [00:00<00:00,  5.06s/it]\u001b[A\n",
      "\n",
      "(S3) /home/crombie/Downloads/ONE/alyx.internationalbrainlab.org/mainenlab/Subjec\u001b[A\n",
      "(S3) /home/crombie/Downloads/ONE/alyx.internationalbrainlab.org/mainenlab/Subjec\u001b[A\n"
     ]
    },
    {
     "name": "stdout",
     "output_type": "stream",
     "text": [
      "Downloading: /home/crombie/Downloads/ONE/alyx.internationalbrainlab.org/mainenlab/Subjects/ZFM-05245/2023-07-14/001/alf/_ibl_trials.table.d42189f2-aaaa-425f-b67c-763cfe5a43fa.pqt Bytes: 90705\n"
     ]
    },
    {
     "name": "stderr",
     "output_type": "stream",
     "text": [
      "\n",
      "  0%|                                    | 0/0.0865030288696289 [00:00<?, ?it/s]\u001b[A\n",
      "100%|███████████| 0.0865030288696289/0.0865030288696289 [00:00<00:00, 11.16s/it]\u001b[A\n",
      "\n",
      "(S3) /home/crombie/Downloads/ONE/alyx.internationalbrainlab.org/mainenlab/Subjec\u001b[A\n",
      "(S3) /home/crombie/Downloads/ONE/alyx.internationalbrainlab.org/mainenlab/Subjec\u001b[A\n",
      "\n",
      "(S3) /home/crombie/Downloads/ONE/alyx.internationalbrainlab.org/mainenlab/Subjec\u001b[A\n",
      "(S3) /home/crombie/Downloads/ONE/alyx.internationalbrainlab.org/mainenlab/Subjec\u001b[A\n",
      "\n",
      "(S3) /home/crombie/Downloads/ONE/alyx.internationalbrainlab.org/mainenlab/Subjec\u001b[A\n",
      "(S3) /home/crombie/Downloads/ONE/alyx.internationalbrainlab.org/mainenlab/Subjec\u001b[A\n"
     ]
    },
    {
     "name": "stdout",
     "output_type": "stream",
     "text": [
      "Downloading: /home/crombie/Downloads/ONE/alyx.internationalbrainlab.org/mainenlab/Subjects/ZFM-06171/2023-07-14/001/alf/task_00/_ibl_trials.table.7b985802-89dc-4ad4-97bc-a871ee28254a.pqt Bytes: 19756\n"
     ]
    },
    {
     "name": "stderr",
     "output_type": "stream",
     "text": [
      "\n",
      "  0%|                                  | 0/0.018840789794921875 [00:00<?, ?it/s]\u001b[A\n",
      "100%|███████| 0.018840789794921875/0.018840789794921875 [00:00<00:00,  9.12s/it]\u001b[A\n",
      "\n",
      "(S3) /home/crombie/Downloads/ONE/alyx.internationalbrainlab.org/mainenlab/Subjec\u001b[A\n",
      "(S3) /home/crombie/Downloads/ONE/alyx.internationalbrainlab.org/mainenlab/Subjec\u001b[A\n",
      "\n",
      "(S3) /home/crombie/Downloads/ONE/alyx.internationalbrainlab.org/mainenlab/Subjec\u001b[A\n",
      "(S3) /home/crombie/Downloads/ONE/alyx.internationalbrainlab.org/mainenlab/Subjec\u001b[A\n",
      "\n",
      "(S3) /home/crombie/Downloads/ONE/alyx.internationalbrainlab.org/mainenlab/Subjec\u001b[A\n",
      "(S3) /home/crombie/Downloads/ONE/alyx.internationalbrainlab.org/mainenlab/Subjec\u001b[A\n",
      "\n",
      "(S3) /home/crombie/Downloads/ONE/alyx.internationalbrainlab.org/mainenlab/Subjec\u001b[A\n",
      "(S3) /home/crombie/Downloads/ONE/alyx.internationalbrainlab.org/mainenlab/Subjec\u001b[A\n",
      "\n",
      "(S3) /home/crombie/Downloads/ONE/alyx.internationalbrainlab.org/mainenlab/Subjec\u001b[A\n",
      "(S3) /home/crombie/Downloads/ONE/alyx.internationalbrainlab.org/mainenlab/Subjec\u001b[A\n",
      "\n",
      "(S3) /home/crombie/Downloads/ONE/alyx.internationalbrainlab.org/mainenlab/Subjec\u001b[A\n",
      "(S3) /home/crombie/Downloads/ONE/alyx.internationalbrainlab.org/mainenlab/Subjec\u001b[A\n",
      "\n",
      "(S3) /home/crombie/Downloads/ONE/alyx.internationalbrainlab.org/mainenlab/Subjec\u001b[A\n",
      "(S3) /home/crombie/Downloads/ONE/alyx.internationalbrainlab.org/mainenlab/Subjec\u001b[A\n",
      "\n",
      "(S3) /home/crombie/Downloads/ONE/alyx.internationalbrainlab.org/mainenlab/Subjec\u001b[A\n",
      "(S3) /home/crombie/Downloads/ONE/alyx.internationalbrainlab.org/mainenlab/Subjec\u001b[A\n",
      "\n",
      "(S3) /home/crombie/Downloads/ONE/alyx.internationalbrainlab.org/mainenlab/Subjec\u001b[A\n",
      "(S3) /home/crombie/Downloads/ONE/alyx.internationalbrainlab.org/mainenlab/Subjec\u001b[A\n",
      "\n",
      "(S3) /home/crombie/Downloads/ONE/alyx.internationalbrainlab.org/mainenlab/Subjec\u001b[A\n",
      "(S3) /home/crombie/Downloads/ONE/alyx.internationalbrainlab.org/mainenlab/Subjec\u001b[A\n",
      "\n",
      "(S3) /home/crombie/Downloads/ONE/alyx.internationalbrainlab.org/mainenlab/Subjec\u001b[A\n",
      "(S3) /home/crombie/Downloads/ONE/alyx.internationalbrainlab.org/mainenlab/Subjec\u001b[A\n",
      "\n",
      "(S3) /home/crombie/Downloads/ONE/alyx.internationalbrainlab.org/mainenlab/Subjec\u001b[A\n",
      "(S3) /home/crombie/Downloads/ONE/alyx.internationalbrainlab.org/mainenlab/Subjec\u001b[A\n",
      "\n",
      "(S3) /home/crombie/Downloads/ONE/alyx.internationalbrainlab.org/mainenlab/Subjec\u001b[A\n",
      "(S3) /home/crombie/Downloads/ONE/alyx.internationalbrainlab.org/mainenlab/Subjec\u001b[A\n",
      "\n",
      "(S3) /home/crombie/Downloads/ONE/alyx.internationalbrainlab.org/mainenlab/Subjec\u001b[A\n",
      "(S3) /home/crombie/Downloads/ONE/alyx.internationalbrainlab.org/mainenlab/Subjec\u001b[A\n",
      "\n",
      "(S3) /home/crombie/Downloads/ONE/alyx.internationalbrainlab.org/mainenlab/Subjec\u001b[A\n",
      "(S3) /home/crombie/Downloads/ONE/alyx.internationalbrainlab.org/mainenlab/Subjec\u001b[A\n"
     ]
    },
    {
     "name": "stdout",
     "output_type": "stream",
     "text": [
      "Downloading: /home/crombie/Downloads/ONE/alyx.internationalbrainlab.org/mainenlab/Subjects/ZFM-05245/2023-07-12/008/alf/_ibl_trials.table.be2adb3f-fbc3-45e1-90dd-713186d45ddd.pqt Bytes: 86107\n"
     ]
    },
    {
     "name": "stderr",
     "output_type": "stream",
     "text": [
      "\n",
      "  0%|                                   | 0/0.08211803436279297 [00:00<?, ?it/s]\u001b[A\n",
      "100%|█████████| 0.08211803436279297/0.08211803436279297 [00:00<00:00,  6.15s/it]\u001b[A\n"
     ]
    },
    {
     "name": "stdout",
     "output_type": "stream",
     "text": [
      "Downloading: /home/crombie/Downloads/ONE/alyx.internationalbrainlab.org/mainenlab/Subjects/ZFM-06272/2023-07-12/001/alf/_ibl_trials.table.dc4e4c32-06d2-4e92-8f1a-e5dac748b2f1.pqt Bytes: 21239\n"
     ]
    },
    {
     "name": "stderr",
     "output_type": "stream",
     "text": [
      "\n",
      "  0%|                                  | 0/0.020255088806152344 [00:00<?, ?it/s]\u001b[A\n",
      "100%|███████| 0.020255088806152344/0.020255088806152344 [00:00<00:00,  8.79s/it]\u001b[A\n",
      "\n",
      "(S3) /home/crombie/Downloads/ONE/alyx.internationalbrainlab.org/mainenlab/Subjec\u001b[A\n",
      "(S3) /home/crombie/Downloads/ONE/alyx.internationalbrainlab.org/mainenlab/Subjec\u001b[A\n",
      "\n",
      "(S3) /home/crombie/Downloads/ONE/alyx.internationalbrainlab.org/mainenlab/Subjec\u001b[A\n",
      "(S3) /home/crombie/Downloads/ONE/alyx.internationalbrainlab.org/mainenlab/Subjec\u001b[A\n",
      "\n",
      "(S3) /home/crombie/Downloads/ONE/alyx.internationalbrainlab.org/mainenlab/Subjec\u001b[A\n",
      "(S3) /home/crombie/Downloads/ONE/alyx.internationalbrainlab.org/mainenlab/Subjec\u001b[A\n",
      "\n",
      "(S3) /home/crombie/Downloads/ONE/alyx.internationalbrainlab.org/mainenlab/Subjec\u001b[A\n",
      "(S3) /home/crombie/Downloads/ONE/alyx.internationalbrainlab.org/mainenlab/Subjec\u001b[A\n",
      "\n",
      "(S3) /home/crombie/Downloads/ONE/alyx.internationalbrainlab.org/mainenlab/Subjec\u001b[A\n",
      "(S3) /home/crombie/Downloads/ONE/alyx.internationalbrainlab.org/mainenlab/Subjec\u001b[A\n"
     ]
    },
    {
     "name": "stdout",
     "output_type": "stream",
     "text": [
      "Downloading: /home/crombie/Downloads/ONE/alyx.internationalbrainlab.org/mainenlab/Subjects/ZFM-06268/2023-07-11/001/alf/_ibl_trials.table.2dca0988-44ab-4925-b77c-1cb2cd52aad2.pqt Bytes: 28933\n"
     ]
    },
    {
     "name": "stderr",
     "output_type": "stream",
     "text": [
      "\n",
      "  0%|                                   | 0/0.02759265899658203 [00:00<?, ?it/s]\u001b[A\n",
      "100%|█████████| 0.02759265899658203/0.02759265899658203 [00:00<00:00,  5.78s/it]\u001b[A\n"
     ]
    },
    {
     "name": "stdout",
     "output_type": "stream",
     "text": [
      "Downloading: /home/crombie/Downloads/ONE/alyx.internationalbrainlab.org/mainenlab/Subjects/ZFM-05245/2023-07-11/001/alf/_ibl_trials.table.f39e5cd2-6010-41c2-8cb8-f1017612deab.pqt Bytes: 82584\n"
     ]
    },
    {
     "name": "stderr",
     "output_type": "stream",
     "text": [
      "\n",
      "  0%|                                   | 0/0.07875823974609375 [00:00<?, ?it/s]\u001b[A\n",
      "100%|█████████| 0.07875823974609375/0.07875823974609375 [00:00<00:00,  7.23s/it]\u001b[A\n",
      "\n",
      "(S3) /home/crombie/Downloads/ONE/alyx.internationalbrainlab.org/mainenlab/Subjec\u001b[A\n",
      "(S3) /home/crombie/Downloads/ONE/alyx.internationalbrainlab.org/mainenlab/Subjec\u001b[A\n",
      "\n",
      "(S3) /home/crombie/Downloads/ONE/alyx.internationalbrainlab.org/mainenlab/Subjec\u001b[A\n",
      "(S3) /home/crombie/Downloads/ONE/alyx.internationalbrainlab.org/mainenlab/Subjec\u001b[A\n",
      "\n",
      "(S3) /home/crombie/Downloads/ONE/alyx.internationalbrainlab.org/mainenlab/Subjec\u001b[A\n",
      "(S3) /home/crombie/Downloads/ONE/alyx.internationalbrainlab.org/mainenlab/Subjec\u001b[A\n"
     ]
    },
    {
     "name": "stdout",
     "output_type": "stream",
     "text": [
      "Downloading: /home/crombie/Downloads/ONE/alyx.internationalbrainlab.org/mainenlab/Subjects/ZFM-06305/2023-07-11/001/alf/_ibl_trials.table.941242cd-c278-495f-bcf7-cd71b232d7f5.pqt Bytes: 23506\n"
     ]
    },
    {
     "name": "stderr",
     "output_type": "stream",
     "text": [
      "\n",
      "  0%|                                  | 0/0.022417068481445312 [00:00<?, ?it/s]\u001b[A\n",
      "100%|███████| 0.022417068481445312/0.022417068481445312 [00:00<00:00,  6.71s/it]\u001b[A\n"
     ]
    },
    {
     "name": "stdout",
     "output_type": "stream",
     "text": [
      "Downloading: /home/crombie/Downloads/ONE/alyx.internationalbrainlab.org/mainenlab/Subjects/ZFM-06275/2023-07-10/001/alf/_ibl_trials.table.d841f267-36a7-4872-b048-3500625ffac0.pqt Bytes: 20768\n"
     ]
    },
    {
     "name": "stderr",
     "output_type": "stream",
     "text": [
      "\n",
      "  0%|                                     | 0/0.019805908203125 [00:00<?, ?it/s]\u001b[A\n",
      "100%|█████████████| 0.019805908203125/0.019805908203125 [00:00<00:00,  8.54s/it]\u001b[A\n",
      "\n",
      "(S3) /home/crombie/Downloads/ONE/alyx.internationalbrainlab.org/mainenlab/Subjec\u001b[A\n",
      "(S3) /home/crombie/Downloads/ONE/alyx.internationalbrainlab.org/mainenlab/Subjec\u001b[A\n"
     ]
    },
    {
     "name": "stdout",
     "output_type": "stream",
     "text": [
      "Downloading: /home/crombie/Downloads/ONE/alyx.internationalbrainlab.org/mainenlab/Subjects/ZFM-06268/2023-07-10/001/alf/_ibl_trials.table.0802d7d8-9137-4589-a9b3-2548a9784710.pqt Bytes: 35388\n"
     ]
    },
    {
     "name": "stderr",
     "output_type": "stream",
     "text": [
      "\n",
      "  0%|                                  | 0/0.033748626708984375 [00:00<?, ?it/s]\u001b[A\n",
      "100%|███████| 0.033748626708984375/0.033748626708984375 [00:00<00:00, 11.35s/it]\u001b[A\n"
     ]
    },
    {
     "name": "stdout",
     "output_type": "stream",
     "text": [
      "Downloading: /home/crombie/Downloads/ONE/alyx.internationalbrainlab.org/mainenlab/Subjects/ZFM-06271/2023-07-10/002/alf/_ibl_trials.table.e565f2c0-5be7-4440-a173-045ffcc2a40b.pqt Bytes: 14556\n"
     ]
    },
    {
     "name": "stderr",
     "output_type": "stream",
     "text": [
      "\n",
      "  0%|                                  | 0/0.013881683349609375 [00:00<?, ?it/s]\u001b[A\n",
      "100%|███████| 0.013881683349609375/0.013881683349609375 [00:00<00:00, 14.64s/it]\u001b[A\n",
      "\n",
      "(S3) /home/crombie/Downloads/ONE/alyx.internationalbrainlab.org/mainenlab/Subjec\u001b[A\n",
      "(S3) /home/crombie/Downloads/ONE/alyx.internationalbrainlab.org/mainenlab/Subjec\u001b[A\n",
      "\n",
      "(S3) /home/crombie/Downloads/ONE/alyx.internationalbrainlab.org/mainenlab/Subjec\u001b[A\n",
      "(S3) /home/crombie/Downloads/ONE/alyx.internationalbrainlab.org/mainenlab/Subjec\u001b[A\n",
      "\n",
      "(S3) /home/crombie/Downloads/ONE/alyx.internationalbrainlab.org/mainenlab/Subjec\u001b[A\n",
      "(S3) /home/crombie/Downloads/ONE/alyx.internationalbrainlab.org/mainenlab/Subjec\u001b[A\n",
      "\n",
      "(S3) /home/crombie/Downloads/ONE/alyx.internationalbrainlab.org/mainenlab/Subjec\u001b[A\n",
      "(S3) /home/crombie/Downloads/ONE/alyx.internationalbrainlab.org/mainenlab/Subjec\u001b[A\n",
      "\n",
      "(S3) /home/crombie/Downloads/ONE/alyx.internationalbrainlab.org/mainenlab/Subjec\u001b[A\n",
      "(S3) /home/crombie/Downloads/ONE/alyx.internationalbrainlab.org/mainenlab/Subjec\u001b[A\n",
      "\n",
      "(S3) /home/crombie/Downloads/ONE/alyx.internationalbrainlab.org/mainenlab/Subjec\u001b[A\n",
      "(S3) /home/crombie/Downloads/ONE/alyx.internationalbrainlab.org/mainenlab/Subjec\u001b[A\n",
      "\n",
      "(S3) /home/crombie/Downloads/ONE/alyx.internationalbrainlab.org/mainenlab/Subjec\u001b[A\n",
      "(S3) /home/crombie/Downloads/ONE/alyx.internationalbrainlab.org/mainenlab/Subjec\u001b[A\n",
      "\n",
      "(S3) /home/crombie/Downloads/ONE/alyx.internationalbrainlab.org/mainenlab/Subjec\u001b[A\n",
      "(S3) /home/crombie/Downloads/ONE/alyx.internationalbrainlab.org/mainenlab/Subjec\u001b[A\n",
      "\n",
      "(S3) /home/crombie/Downloads/ONE/alyx.internationalbrainlab.org/mainenlab/Subjec\u001b[A\n",
      "(S3) /home/crombie/Downloads/ONE/alyx.internationalbrainlab.org/mainenlab/Subjec\u001b[A\n",
      "\n",
      "(S3) /home/crombie/Downloads/ONE/alyx.internationalbrainlab.org/mainenlab/Subjec\u001b[A\n",
      "(S3) /home/crombie/Downloads/ONE/alyx.internationalbrainlab.org/mainenlab/Subjec\u001b[A\n",
      "\n",
      "(S3) /home/crombie/Downloads/ONE/alyx.internationalbrainlab.org/mainenlab/Subjec\u001b[A\n",
      "(S3) /home/crombie/Downloads/ONE/alyx.internationalbrainlab.org/mainenlab/Subjec\u001b[A\n"
     ]
    },
    {
     "name": "stdout",
     "output_type": "stream",
     "text": [
      "Downloading: /home/crombie/Downloads/ONE/alyx.internationalbrainlab.org/mainenlab/Subjects/ZFM-05235/2023-07-07/001/alf/task_00/_ibl_trials.table.7f338481-0c55-4adb-862d-456305795a7a.pqt Bytes: 57461\n"
     ]
    },
    {
     "name": "stderr",
     "output_type": "stream",
     "text": [
      "\n",
      "  0%|                                   | 0/0.05479907989501953 [00:00<?, ?it/s]\u001b[A\n",
      "100%|█████████| 0.05479907989501953/0.05479907989501953 [00:00<00:00,  7.62s/it]\u001b[A\n",
      "\n",
      "(S3) /home/crombie/Downloads/ONE/alyx.internationalbrainlab.org/mainenlab/Subjec\u001b[A\n",
      "(S3) /home/crombie/Downloads/ONE/alyx.internationalbrainlab.org/mainenlab/Subjec\u001b[A\n",
      "\n",
      "(S3) /home/crombie/Downloads/ONE/alyx.internationalbrainlab.org/mainenlab/Subjec\u001b[A\n",
      "(S3) /home/crombie/Downloads/ONE/alyx.internationalbrainlab.org/mainenlab/Subjec\u001b[A\n",
      "\n",
      "(S3) /home/crombie/Downloads/ONE/alyx.internationalbrainlab.org/mainenlab/Subjec\u001b[A\n",
      "(S3) /home/crombie/Downloads/ONE/alyx.internationalbrainlab.org/mainenlab/Subjec\u001b[A\n",
      "\n",
      "(S3) /home/crombie/Downloads/ONE/alyx.internationalbrainlab.org/mainenlab/Subjec\u001b[A\n",
      "(S3) /home/crombie/Downloads/ONE/alyx.internationalbrainlab.org/mainenlab/Subjec\u001b[A\n",
      "\n",
      "(S3) /home/crombie/Downloads/ONE/alyx.internationalbrainlab.org/mainenlab/Subjec\u001b[A\n",
      "(S3) /home/crombie/Downloads/ONE/alyx.internationalbrainlab.org/mainenlab/Subjec\u001b[A\n",
      "\n",
      "(S3) /home/crombie/Downloads/ONE/alyx.internationalbrainlab.org/mainenlab/Subjec\u001b[A\n",
      "(S3) /home/crombie/Downloads/ONE/alyx.internationalbrainlab.org/mainenlab/Subjec\u001b[A\n"
     ]
    },
    {
     "name": "stdout",
     "output_type": "stream",
     "text": [
      "Downloading: /home/crombie/Downloads/ONE/alyx.internationalbrainlab.org/mainenlab/Subjects/ZFM-05245/2023-07-05/001/alf/_ibl_trials.table.4183e9ad-81e1-4ab6-baa7-d8e6491ff769.pqt Bytes: 52719\n"
     ]
    },
    {
     "name": "stderr",
     "output_type": "stream",
     "text": [
      "\n",
      "  0%|                                  | 0/0.050276756286621094 [00:00<?, ?it/s]\u001b[A\n",
      "100%|███████| 0.050276756286621094/0.050276756286621094 [00:00<00:00,  6.99s/it]\u001b[A\n",
      "\n",
      "(S3) /home/crombie/Downloads/ONE/alyx.internationalbrainlab.org/mainenlab/Subjec\u001b[A\n",
      "(S3) /home/crombie/Downloads/ONE/alyx.internationalbrainlab.org/mainenlab/Subjec\u001b[A\n",
      "\n",
      "(S3) /home/crombie/Downloads/ONE/alyx.internationalbrainlab.org/mainenlab/Subjec\u001b[A\n",
      "(S3) /home/crombie/Downloads/ONE/alyx.internationalbrainlab.org/mainenlab/Subjec\u001b[A\n"
     ]
    },
    {
     "name": "stdout",
     "output_type": "stream",
     "text": [
      "Downloading: /home/crombie/Downloads/ONE/alyx.internationalbrainlab.org/mainenlab/Subjects/ZFM-05245/2023-07-04/001/alf/_ibl_trials.table.6ce57077-3345-4716-8798-73fc6c72f048.pqt Bytes: 46105\n"
     ]
    },
    {
     "name": "stderr",
     "output_type": "stream",
     "text": [
      "\n",
      "  0%|                                  | 0/0.043969154357910156 [00:00<?, ?it/s]\u001b[A\n",
      "100%|███████| 0.043969154357910156/0.043969154357910156 [00:00<00:00, 17.57s/it]\u001b[A\n",
      "\n",
      "(S3) /home/crombie/Downloads/ONE/alyx.internationalbrainlab.org/mainenlab/Subjec\u001b[A\n",
      "(S3) /home/crombie/Downloads/ONE/alyx.internationalbrainlab.org/mainenlab/Subjec\u001b[A\n",
      "\n",
      "(S3) /home/crombie/Downloads/ONE/alyx.internationalbrainlab.org/mainenlab/Subjec\u001b[A\n",
      "(S3) /home/crombie/Downloads/ONE/alyx.internationalbrainlab.org/mainenlab/Subjec\u001b[A\n"
     ]
    },
    {
     "name": "stdout",
     "output_type": "stream",
     "text": [
      "Downloading: /home/crombie/Downloads/ONE/alyx.internationalbrainlab.org/mainenlab/Subjects/ZFM-04022/2023-07-03/001/alf/_ibl_trials.table.1cdecfc9-f88c-4dca-84b2-99134e2309e3.pqt Bytes: 22180\n"
     ]
    },
    {
     "name": "stderr",
     "output_type": "stream",
     "text": [
      "\n",
      "  0%|                                  | 0/0.021152496337890625 [00:00<?, ?it/s]\u001b[A\n",
      "100%|███████| 0.021152496337890625/0.021152496337890625 [00:00<00:00, 10.09s/it]\u001b[A\n",
      "\n",
      "(S3) /home/crombie/Downloads/ONE/alyx.internationalbrainlab.org/mainenlab/Subjec\u001b[A\n",
      "(S3) /home/crombie/Downloads/ONE/alyx.internationalbrainlab.org/mainenlab/Subjec\u001b[A\n"
     ]
    },
    {
     "name": "stdout",
     "output_type": "stream",
     "text": [
      "Downloading: /home/crombie/Downloads/ONE/alyx.internationalbrainlab.org/mainenlab/Subjects/ZFM-05245/2023-07-03/001/alf/_ibl_trials.table.ef97048c-15c8-49f8-af08-b93c260c3979.pqt Bytes: 30061\n"
     ]
    },
    {
     "name": "stderr",
     "output_type": "stream",
     "text": [
      "\n",
      "  0%|                                   | 0/0.02866840362548828 [00:00<?, ?it/s]\u001b[A\n",
      "100%|█████████| 0.02866840362548828/0.02866840362548828 [00:00<00:00,  7.33s/it]\u001b[A\n",
      "\n",
      "(S3) /home/crombie/Downloads/ONE/alyx.internationalbrainlab.org/mainenlab/Subjec\u001b[A\n",
      "(S3) /home/crombie/Downloads/ONE/alyx.internationalbrainlab.org/mainenlab/Subjec\u001b[A\n",
      "\n",
      "(S3) /home/crombie/Downloads/ONE/alyx.internationalbrainlab.org/mainenlab/Subjec\u001b[A\n",
      "(S3) /home/crombie/Downloads/ONE/alyx.internationalbrainlab.org/mainenlab/Subjec\u001b[A\n",
      "\n",
      "(S3) /home/crombie/Downloads/ONE/alyx.internationalbrainlab.org/mainenlab/Subjec\u001b[A\n",
      "(S3) /home/crombie/Downloads/ONE/alyx.internationalbrainlab.org/mainenlab/Subjec\u001b[A\n"
     ]
    },
    {
     "name": "stdout",
     "output_type": "stream",
     "text": [
      "Downloading: /home/crombie/Downloads/ONE/alyx.internationalbrainlab.org/mainenlab/Subjects/ZFM-05236/2023-06-27/001/alf/_ibl_trials.table.3101b537-4c74-4159-abab-38faeac0df71.pqt Bytes: 52299\n"
     ]
    },
    {
     "name": "stderr",
     "output_type": "stream",
     "text": [
      "\n",
      "  0%|                                   | 0/0.04987621307373047 [00:00<?, ?it/s]\u001b[A\n",
      "100%|█████████| 0.04987621307373047/0.04987621307373047 [00:00<00:00,  6.43s/it]\u001b[A\n"
     ]
    },
    {
     "name": "stdout",
     "output_type": "stream",
     "text": [
      "Downloading: /home/crombie/Downloads/ONE/alyx.internationalbrainlab.org/mainenlab/Subjects/ZFM-05245/2023-06-27/001/alf/_ibl_trials.table.46b2c9b7-94e1-4730-acb4-27ae9d90834b.pqt Bytes: 81026\n"
     ]
    },
    {
     "name": "stderr",
     "output_type": "stream",
     "text": [
      "\n",
      "  0%|                                   | 0/0.07727241516113281 [00:00<?, ?it/s]\u001b[A\n",
      "100%|█████████| 0.07727241516113281/0.07727241516113281 [00:00<00:00,  4.43s/it]\u001b[A\n",
      "\n",
      "(S3) /home/crombie/Downloads/ONE/alyx.internationalbrainlab.org/mainenlab/Subjec\u001b[A\n",
      "(S3) /home/crombie/Downloads/ONE/alyx.internationalbrainlab.org/mainenlab/Subjec\u001b[A\n"
     ]
    },
    {
     "name": "stdout",
     "output_type": "stream",
     "text": [
      "Downloading: /home/crombie/Downloads/ONE/alyx.internationalbrainlab.org/mainenlab/Subjects/ZFM-05248/2023-06-27/001/alf/_ibl_trials.table.b4f4ecf1-8bba-443f-87d0-0322288e0c0c.pqt Bytes: 52089\n"
     ]
    },
    {
     "name": "stderr",
     "output_type": "stream",
     "text": [
      "\n",
      "  0%|                                  | 0/0.049675941467285156 [00:00<?, ?it/s]\u001b[A\n",
      "100%|███████| 0.049675941467285156/0.049675941467285156 [00:00<00:00,  7.39s/it]\u001b[A\n",
      "\n",
      "(S3) /home/crombie/Downloads/ONE/alyx.internationalbrainlab.org/mainenlab/Subjec\u001b[A\n",
      "(S3) /home/crombie/Downloads/ONE/alyx.internationalbrainlab.org/mainenlab/Subjec\u001b[A\n",
      "\n",
      "(S3) /home/crombie/Downloads/ONE/alyx.internationalbrainlab.org/mainenlab/Subjec\u001b[A\n",
      "(S3) /home/crombie/Downloads/ONE/alyx.internationalbrainlab.org/mainenlab/Subjec\u001b[A\n",
      "\n",
      "(S3) /home/crombie/Downloads/ONE/alyx.internationalbrainlab.org/mainenlab/Subjec\u001b[A\n",
      "(S3) /home/crombie/Downloads/ONE/alyx.internationalbrainlab.org/mainenlab/Subjec\u001b[A\n",
      "\n",
      "(S3) /home/crombie/Downloads/ONE/alyx.internationalbrainlab.org/mainenlab/Subjec\u001b[A\n",
      "(S3) /home/crombie/Downloads/ONE/alyx.internationalbrainlab.org/mainenlab/Subjec\u001b[A\n",
      "\n",
      "(S3) /home/crombie/Downloads/ONE/alyx.internationalbrainlab.org/mainenlab/Subjec\u001b[A\n",
      "(S3) /home/crombie/Downloads/ONE/alyx.internationalbrainlab.org/mainenlab/Subjec\u001b[A\n",
      "\n",
      "(S3) /home/crombie/Downloads/ONE/alyx.internationalbrainlab.org/mainenlab/Subjec\u001b[A\n",
      "(S3) /home/crombie/Downloads/ONE/alyx.internationalbrainlab.org/mainenlab/Subjec\u001b[A\n",
      "\n",
      "(S3) /home/crombie/Downloads/ONE/alyx.internationalbrainlab.org/mainenlab/Subjec\u001b[A\n",
      "(S3) /home/crombie/Downloads/ONE/alyx.internationalbrainlab.org/mainenlab/Subjec\u001b[A\n",
      "\n",
      "(S3) /home/crombie/Downloads/ONE/alyx.internationalbrainlab.org/mainenlab/Subjec\u001b[A\n",
      "(S3) /home/crombie/Downloads/ONE/alyx.internationalbrainlab.org/mainenlab/Subjec\u001b[A\n",
      "\n",
      "(S3) /home/crombie/Downloads/ONE/alyx.internationalbrainlab.org/mainenlab/Subjec\u001b[A\n",
      "(S3) /home/crombie/Downloads/ONE/alyx.internationalbrainlab.org/mainenlab/Subjec\u001b[A\n"
     ]
    },
    {
     "name": "stdout",
     "output_type": "stream",
     "text": [
      "Downloading: /home/crombie/Downloads/ONE/alyx.internationalbrainlab.org/mainenlab/Subjects/ZFM-05248/2023-06-22/001/alf/_ibl_trials.table.da794512-335e-4377-8a1a-7232ac2950d9.pqt Bytes: 65316\n"
     ]
    },
    {
     "name": "stderr",
     "output_type": "stream",
     "text": [
      "\n",
      "  0%|                                  | 0/0.062290191650390625 [00:00<?, ?it/s]\u001b[A\n",
      "100%|███████| 0.062290191650390625/0.062290191650390625 [00:00<00:00, 12.89s/it]\u001b[A\n",
      "\n",
      "(S3) /home/crombie/Downloads/ONE/alyx.internationalbrainlab.org/mainenlab/Subjec\u001b[A\n",
      "(S3) /home/crombie/Downloads/ONE/alyx.internationalbrainlab.org/mainenlab/Subjec\u001b[A\n",
      "\n",
      "(S3) /home/crombie/Downloads/ONE/alyx.internationalbrainlab.org/mainenlab/Subjec\u001b[A\n",
      "(S3) /home/crombie/Downloads/ONE/alyx.internationalbrainlab.org/mainenlab/Subjec\u001b[A\n",
      "\n",
      "(S3) /home/crombie/Downloads/ONE/alyx.internationalbrainlab.org/mainenlab/Subjec\u001b[A\n",
      "(S3) /home/crombie/Downloads/ONE/alyx.internationalbrainlab.org/mainenlab/Subjec\u001b[A\n"
     ]
    },
    {
     "name": "stdout",
     "output_type": "stream",
     "text": [
      "Downloading: /home/crombie/Downloads/ONE/alyx.internationalbrainlab.org/mainenlab/Subjects/ZFM-05248/2023-06-21/001/alf/_ibl_trials.table.dfd5fa58-b901-425c-91d7-fb1a8fee2101.pqt Bytes: 49305\n"
     ]
    },
    {
     "name": "stderr",
     "output_type": "stream",
     "text": [
      "\n",
      "  0%|                                  | 0/0.047020912170410156 [00:00<?, ?it/s]\u001b[A\n",
      "100%|███████| 0.047020912170410156/0.047020912170410156 [00:00<00:00,  7.80s/it]\u001b[A\n",
      "\n",
      "(S3) /home/crombie/Downloads/ONE/alyx.internationalbrainlab.org/mainenlab/Subjec\u001b[A\n",
      "(S3) /home/crombie/Downloads/ONE/alyx.internationalbrainlab.org/mainenlab/Subjec\u001b[A\n",
      "\n",
      "(S3) /home/crombie/Downloads/ONE/alyx.internationalbrainlab.org/mainenlab/Subjec\u001b[A\n",
      "(S3) /home/crombie/Downloads/ONE/alyx.internationalbrainlab.org/mainenlab/Subjec\u001b[A\n",
      "\n",
      "(S3) /home/crombie/Downloads/ONE/alyx.internationalbrainlab.org/mainenlab/Subjec\u001b[A\n",
      "(S3) /home/crombie/Downloads/ONE/alyx.internationalbrainlab.org/mainenlab/Subjec\u001b[A\n",
      "\n",
      "(S3) /home/crombie/Downloads/ONE/alyx.internationalbrainlab.org/mainenlab/Subjec\u001b[A\n",
      "(S3) /home/crombie/Downloads/ONE/alyx.internationalbrainlab.org/mainenlab/Subjec\u001b[A\n",
      "\n",
      "(S3) /home/crombie/Downloads/ONE/alyx.internationalbrainlab.org/mainenlab/Subjec\u001b[A\n",
      "(S3) /home/crombie/Downloads/ONE/alyx.internationalbrainlab.org/mainenlab/Subjec\u001b[A\n"
     ]
    },
    {
     "name": "stdout",
     "output_type": "stream",
     "text": [
      "Downloading: /home/crombie/Downloads/ONE/alyx.internationalbrainlab.org/mainenlab/Subjects/ZFM-05248/2023-06-20/001/alf/_ibl_trials.table.0ddfff41-4b0f-47ff-ae3b-72cc1d7a6ec8.pqt Bytes: 17571\n"
     ]
    },
    {
     "name": "stderr",
     "output_type": "stream",
     "text": [
      "\n",
      "  0%|                                   | 0/0.01675701141357422 [00:00<?, ?it/s]\u001b[A\n",
      "100%|█████████| 0.01675701141357422/0.01675701141357422 [00:00<00:00, 13.30s/it]\u001b[A\n",
      "\n",
      "(S3) /home/crombie/Downloads/ONE/alyx.internationalbrainlab.org/mainenlab/Subjec\u001b[A\n",
      "(S3) /home/crombie/Downloads/ONE/alyx.internationalbrainlab.org/mainenlab/Subjec\u001b[A\n"
     ]
    },
    {
     "name": "stdout",
     "output_type": "stream",
     "text": [
      "Downloading: /home/crombie/Downloads/ONE/alyx.internationalbrainlab.org/mainenlab/Subjects/ZFM-05245/2023-06-20/002/alf/_ibl_trials.table.531a1457-eb83-4154-8fae-e3a10b74e777.pqt Bytes: 49205\n"
     ]
    },
    {
     "name": "stderr",
     "output_type": "stream",
     "text": [
      "\n",
      "  0%|                                   | 0/0.04692554473876953 [00:00<?, ?it/s]\u001b[A\n",
      "100%|█████████| 0.04692554473876953/0.04692554473876953 [00:00<00:00,  6.86s/it]\u001b[A\n"
     ]
    },
    {
     "name": "stdout",
     "output_type": "stream",
     "text": [
      "Downloading: /home/crombie/Downloads/ONE/alyx.internationalbrainlab.org/mainenlab/Subjects/ZFM-05245/2023-06-15/002/alf/_ibl_trials.table.79027d8a-aa04-4e53-8d7b-d8b3dd3d46bb.pqt Bytes: 55067\n"
     ]
    },
    {
     "name": "stderr",
     "output_type": "stream",
     "text": [
      "\n",
      "  0%|                                   | 0/0.05251598358154297 [00:00<?, ?it/s]\u001b[A\n",
      "100%|█████████| 0.05251598358154297/0.05251598358154297 [00:00<00:00,  6.10s/it]\u001b[A\n",
      "\n",
      "(S3) /home/crombie/Downloads/ONE/alyx.internationalbrainlab.org/mainenlab/Subjec\u001b[A\n",
      "(S3) /home/crombie/Downloads/ONE/alyx.internationalbrainlab.org/mainenlab/Subjec\u001b[A\n",
      "\n",
      "(S3) /home/crombie/Downloads/ONE/alyx.internationalbrainlab.org/mainenlab/Subjec\u001b[A\n",
      "(S3) /home/crombie/Downloads/ONE/alyx.internationalbrainlab.org/mainenlab/Subjec\u001b[A\n",
      "/home/crombie/miniconda3/envs/iblenv/lib/python3.10/site-packages/one/webclient.py:126: RuntimeWarning: Failed to connect, returning cached response\n",
      "  warnings.warn('Failed to connect, returning cached response', RuntimeWarning)\n",
      "/home/crombie/miniconda3/envs/iblenv/lib/python3.10/site-packages/one/webclient.py:126: RuntimeWarning: Failed to connect, returning cached response\n",
      "  warnings.warn('Failed to connect, returning cached response', RuntimeWarning)\n",
      "/home/crombie/miniconda3/envs/iblenv/lib/python3.10/site-packages/one/webclient.py:126: RuntimeWarning: Failed to connect, returning cached response\n",
      "  warnings.warn('Failed to connect, returning cached response', RuntimeWarning)\n",
      "/home/crombie/miniconda3/envs/iblenv/lib/python3.10/site-packages/one/webclient.py:126: RuntimeWarning: Failed to connect, returning cached response\n",
      "  warnings.warn('Failed to connect, returning cached response', RuntimeWarning)\n",
      "/home/crombie/miniconda3/envs/iblenv/lib/python3.10/site-packages/one/webclient.py:126: RuntimeWarning: Failed to connect, returning cached response\n",
      "  warnings.warn('Failed to connect, returning cached response', RuntimeWarning)\n",
      "/home/crombie/miniconda3/envs/iblenv/lib/python3.10/site-packages/one/webclient.py:126: RuntimeWarning: Failed to connect, returning cached response\n",
      "  warnings.warn('Failed to connect, returning cached response', RuntimeWarning)\n",
      "/home/crombie/miniconda3/envs/iblenv/lib/python3.10/site-packages/one/webclient.py:126: RuntimeWarning: Failed to connect, returning cached response\n",
      "  warnings.warn('Failed to connect, returning cached response', RuntimeWarning)\n",
      "/home/crombie/miniconda3/envs/iblenv/lib/python3.10/site-packages/one/webclient.py:126: RuntimeWarning: Failed to connect, returning cached response\n",
      "  warnings.warn('Failed to connect, returning cached response', RuntimeWarning)\n",
      "/home/crombie/miniconda3/envs/iblenv/lib/python3.10/site-packages/one/webclient.py:126: RuntimeWarning: Failed to connect, returning cached response\n",
      "  warnings.warn('Failed to connect, returning cached response', RuntimeWarning)\n",
      "/home/crombie/miniconda3/envs/iblenv/lib/python3.10/site-packages/one/webclient.py:126: RuntimeWarning: Failed to connect, returning cached response\n",
      "  warnings.warn('Failed to connect, returning cached response', RuntimeWarning)\n",
      "/home/crombie/miniconda3/envs/iblenv/lib/python3.10/site-packages/one/webclient.py:126: RuntimeWarning: Failed to connect, returning cached response\n",
      "  warnings.warn('Failed to connect, returning cached response', RuntimeWarning)\n",
      "/home/crombie/miniconda3/envs/iblenv/lib/python3.10/site-packages/one/webclient.py:126: RuntimeWarning: Failed to connect, returning cached response\n",
      "  warnings.warn('Failed to connect, returning cached response', RuntimeWarning)\n",
      "/home/crombie/miniconda3/envs/iblenv/lib/python3.10/site-packages/one/webclient.py:126: RuntimeWarning: Failed to connect, returning cached response\n",
      "  warnings.warn('Failed to connect, returning cached response', RuntimeWarning)\n",
      "/home/crombie/miniconda3/envs/iblenv/lib/python3.10/site-packages/one/webclient.py:126: RuntimeWarning: Failed to connect, returning cached response\n",
      "  warnings.warn('Failed to connect, returning cached response', RuntimeWarning)\n",
      "/home/crombie/miniconda3/envs/iblenv/lib/python3.10/site-packages/one/webclient.py:126: RuntimeWarning: Failed to connect, returning cached response\n",
      "  warnings.warn('Failed to connect, returning cached response', RuntimeWarning)\n",
      "/home/crombie/miniconda3/envs/iblenv/lib/python3.10/site-packages/one/webclient.py:126: RuntimeWarning: Failed to connect, returning cached response\n",
      "  warnings.warn('Failed to connect, returning cached response', RuntimeWarning)\n",
      "/home/crombie/miniconda3/envs/iblenv/lib/python3.10/site-packages/one/webclient.py:126: RuntimeWarning: Failed to connect, returning cached response\n",
      "  warnings.warn('Failed to connect, returning cached response', RuntimeWarning)\n",
      "/home/crombie/miniconda3/envs/iblenv/lib/python3.10/site-packages/one/webclient.py:126: RuntimeWarning: Failed to connect, returning cached response\n",
      "  warnings.warn('Failed to connect, returning cached response', RuntimeWarning)\n",
      "/home/crombie/miniconda3/envs/iblenv/lib/python3.10/site-packages/one/webclient.py:126: RuntimeWarning: Failed to connect, returning cached response\n",
      "  warnings.warn('Failed to connect, returning cached response', RuntimeWarning)\n",
      "/home/crombie/miniconda3/envs/iblenv/lib/python3.10/site-packages/one/webclient.py:126: RuntimeWarning: Failed to connect, returning cached response\n",
      "  warnings.warn('Failed to connect, returning cached response', RuntimeWarning)\n",
      "/home/crombie/miniconda3/envs/iblenv/lib/python3.10/site-packages/one/webclient.py:126: RuntimeWarning: Failed to connect, returning cached response\n",
      "  warnings.warn('Failed to connect, returning cached response', RuntimeWarning)\n",
      "/home/crombie/miniconda3/envs/iblenv/lib/python3.10/site-packages/one/webclient.py:126: RuntimeWarning: Failed to connect, returning cached response\n",
      "  warnings.warn('Failed to connect, returning cached response', RuntimeWarning)\n",
      "/home/crombie/miniconda3/envs/iblenv/lib/python3.10/site-packages/one/webclient.py:126: RuntimeWarning: Failed to connect, returning cached response\n",
      "  warnings.warn('Failed to connect, returning cached response', RuntimeWarning)\n",
      "/home/crombie/miniconda3/envs/iblenv/lib/python3.10/site-packages/one/webclient.py:126: RuntimeWarning: Failed to connect, returning cached response\n",
      "  warnings.warn('Failed to connect, returning cached response', RuntimeWarning)\n",
      "/home/crombie/miniconda3/envs/iblenv/lib/python3.10/site-packages/one/webclient.py:126: RuntimeWarning: Failed to connect, returning cached response\n",
      "  warnings.warn('Failed to connect, returning cached response', RuntimeWarning)\n",
      "/home/crombie/miniconda3/envs/iblenv/lib/python3.10/site-packages/one/webclient.py:126: RuntimeWarning: Failed to connect, returning cached response\n",
      "  warnings.warn('Failed to connect, returning cached response', RuntimeWarning)\n",
      "/home/crombie/miniconda3/envs/iblenv/lib/python3.10/site-packages/one/webclient.py:126: RuntimeWarning: Failed to connect, returning cached response\n",
      "  warnings.warn('Failed to connect, returning cached response', RuntimeWarning)\n",
      "/home/crombie/miniconda3/envs/iblenv/lib/python3.10/site-packages/one/webclient.py:126: RuntimeWarning: Failed to connect, returning cached response\n",
      "  warnings.warn('Failed to connect, returning cached response', RuntimeWarning)\n",
      "/home/crombie/miniconda3/envs/iblenv/lib/python3.10/site-packages/one/webclient.py:126: RuntimeWarning: Failed to connect, returning cached response\n",
      "  warnings.warn('Failed to connect, returning cached response', RuntimeWarning)\n",
      "/home/crombie/miniconda3/envs/iblenv/lib/python3.10/site-packages/one/webclient.py:126: RuntimeWarning: Failed to connect, returning cached response\n",
      "  warnings.warn('Failed to connect, returning cached response', RuntimeWarning)\n",
      "/home/crombie/miniconda3/envs/iblenv/lib/python3.10/site-packages/one/webclient.py:126: RuntimeWarning: Failed to connect, returning cached response\n",
      "  warnings.warn('Failed to connect, returning cached response', RuntimeWarning)\n",
      "/home/crombie/miniconda3/envs/iblenv/lib/python3.10/site-packages/one/webclient.py:126: RuntimeWarning: Failed to connect, returning cached response\n",
      "  warnings.warn('Failed to connect, returning cached response', RuntimeWarning)\n",
      "/home/crombie/miniconda3/envs/iblenv/lib/python3.10/site-packages/one/webclient.py:126: RuntimeWarning: Failed to connect, returning cached response\n",
      "  warnings.warn('Failed to connect, returning cached response', RuntimeWarning)\n",
      "/home/crombie/miniconda3/envs/iblenv/lib/python3.10/site-packages/one/webclient.py:126: RuntimeWarning: Failed to connect, returning cached response\n",
      "  warnings.warn('Failed to connect, returning cached response', RuntimeWarning)\n",
      "/home/crombie/miniconda3/envs/iblenv/lib/python3.10/site-packages/one/webclient.py:126: RuntimeWarning: Failed to connect, returning cached response\n",
      "  warnings.warn('Failed to connect, returning cached response', RuntimeWarning)\n",
      "/home/crombie/miniconda3/envs/iblenv/lib/python3.10/site-packages/one/webclient.py:126: RuntimeWarning: Failed to connect, returning cached response\n",
      "  warnings.warn('Failed to connect, returning cached response', RuntimeWarning)\n",
      "/home/crombie/miniconda3/envs/iblenv/lib/python3.10/site-packages/one/webclient.py:126: RuntimeWarning: Failed to connect, returning cached response\n",
      "  warnings.warn('Failed to connect, returning cached response', RuntimeWarning)\n",
      "/home/crombie/miniconda3/envs/iblenv/lib/python3.10/site-packages/one/webclient.py:126: RuntimeWarning: Failed to connect, returning cached response\n",
      "  warnings.warn('Failed to connect, returning cached response', RuntimeWarning)\n",
      "/home/crombie/miniconda3/envs/iblenv/lib/python3.10/site-packages/one/webclient.py:126: RuntimeWarning: Failed to connect, returning cached response\n",
      "  warnings.warn('Failed to connect, returning cached response', RuntimeWarning)\n",
      "/home/crombie/miniconda3/envs/iblenv/lib/python3.10/site-packages/one/webclient.py:126: RuntimeWarning: Failed to connect, returning cached response\n",
      "  warnings.warn('Failed to connect, returning cached response', RuntimeWarning)\n",
      "/home/crombie/miniconda3/envs/iblenv/lib/python3.10/site-packages/one/webclient.py:126: RuntimeWarning: Failed to connect, returning cached response\n",
      "  warnings.warn('Failed to connect, returning cached response', RuntimeWarning)\n",
      "/home/crombie/miniconda3/envs/iblenv/lib/python3.10/site-packages/one/webclient.py:126: RuntimeWarning: Failed to connect, returning cached response\n",
      "  warnings.warn('Failed to connect, returning cached response', RuntimeWarning)\n",
      "/home/crombie/miniconda3/envs/iblenv/lib/python3.10/site-packages/one/webclient.py:126: RuntimeWarning: Failed to connect, returning cached response\n",
      "  warnings.warn('Failed to connect, returning cached response', RuntimeWarning)\n",
      "/home/crombie/miniconda3/envs/iblenv/lib/python3.10/site-packages/one/webclient.py:126: RuntimeWarning: Failed to connect, returning cached response\n",
      "  warnings.warn('Failed to connect, returning cached response', RuntimeWarning)\n",
      "/home/crombie/miniconda3/envs/iblenv/lib/python3.10/site-packages/one/webclient.py:126: RuntimeWarning: Failed to connect, returning cached response\n",
      "  warnings.warn('Failed to connect, returning cached response', RuntimeWarning)\n",
      "/home/crombie/miniconda3/envs/iblenv/lib/python3.10/site-packages/one/webclient.py:126: RuntimeWarning: Failed to connect, returning cached response\n",
      "  warnings.warn('Failed to connect, returning cached response', RuntimeWarning)\n",
      "/home/crombie/miniconda3/envs/iblenv/lib/python3.10/site-packages/one/webclient.py:126: RuntimeWarning: Failed to connect, returning cached response\n",
      "  warnings.warn('Failed to connect, returning cached response', RuntimeWarning)\n",
      "/home/crombie/miniconda3/envs/iblenv/lib/python3.10/site-packages/one/webclient.py:126: RuntimeWarning: Failed to connect, returning cached response\n",
      "  warnings.warn('Failed to connect, returning cached response', RuntimeWarning)\n",
      "/home/crombie/miniconda3/envs/iblenv/lib/python3.10/site-packages/one/webclient.py:126: RuntimeWarning: Failed to connect, returning cached response\n",
      "  warnings.warn('Failed to connect, returning cached response', RuntimeWarning)\n",
      "/home/crombie/miniconda3/envs/iblenv/lib/python3.10/site-packages/one/webclient.py:126: RuntimeWarning: Failed to connect, returning cached response\n",
      "  warnings.warn('Failed to connect, returning cached response', RuntimeWarning)\n",
      "/home/crombie/miniconda3/envs/iblenv/lib/python3.10/site-packages/one/webclient.py:126: RuntimeWarning: Failed to connect, returning cached response\n",
      "  warnings.warn('Failed to connect, returning cached response', RuntimeWarning)\n",
      "/home/crombie/miniconda3/envs/iblenv/lib/python3.10/site-packages/one/webclient.py:126: RuntimeWarning: Failed to connect, returning cached response\n",
      "  warnings.warn('Failed to connect, returning cached response', RuntimeWarning)\n",
      "/home/crombie/miniconda3/envs/iblenv/lib/python3.10/site-packages/one/webclient.py:126: RuntimeWarning: Failed to connect, returning cached response\n",
      "  warnings.warn('Failed to connect, returning cached response', RuntimeWarning)\n",
      "/home/crombie/miniconda3/envs/iblenv/lib/python3.10/site-packages/one/webclient.py:126: RuntimeWarning: Failed to connect, returning cached response\n",
      "  warnings.warn('Failed to connect, returning cached response', RuntimeWarning)\n",
      "/home/crombie/miniconda3/envs/iblenv/lib/python3.10/site-packages/one/webclient.py:126: RuntimeWarning: Failed to connect, returning cached response\n",
      "  warnings.warn('Failed to connect, returning cached response', RuntimeWarning)\n",
      "/home/crombie/miniconda3/envs/iblenv/lib/python3.10/site-packages/one/webclient.py:126: RuntimeWarning: Failed to connect, returning cached response\n",
      "  warnings.warn('Failed to connect, returning cached response', RuntimeWarning)\n",
      "/home/crombie/miniconda3/envs/iblenv/lib/python3.10/site-packages/one/webclient.py:126: RuntimeWarning: Failed to connect, returning cached response\n",
      "  warnings.warn('Failed to connect, returning cached response', RuntimeWarning)\n",
      "/home/crombie/miniconda3/envs/iblenv/lib/python3.10/site-packages/one/webclient.py:126: RuntimeWarning: Failed to connect, returning cached response\n",
      "  warnings.warn('Failed to connect, returning cached response', RuntimeWarning)\n",
      "/home/crombie/miniconda3/envs/iblenv/lib/python3.10/site-packages/one/webclient.py:126: RuntimeWarning: Failed to connect, returning cached response\n",
      "  warnings.warn('Failed to connect, returning cached response', RuntimeWarning)\n",
      "/home/crombie/miniconda3/envs/iblenv/lib/python3.10/site-packages/one/webclient.py:126: RuntimeWarning: Failed to connect, returning cached response\n",
      "  warnings.warn('Failed to connect, returning cached response', RuntimeWarning)\n",
      "/home/crombie/miniconda3/envs/iblenv/lib/python3.10/site-packages/one/webclient.py:126: RuntimeWarning: Failed to connect, returning cached response\n",
      "  warnings.warn('Failed to connect, returning cached response', RuntimeWarning)\n",
      "/home/crombie/miniconda3/envs/iblenv/lib/python3.10/site-packages/one/webclient.py:126: RuntimeWarning: Failed to connect, returning cached response\n",
      "  warnings.warn('Failed to connect, returning cached response', RuntimeWarning)\n",
      "/home/crombie/miniconda3/envs/iblenv/lib/python3.10/site-packages/one/webclient.py:126: RuntimeWarning: Failed to connect, returning cached response\n",
      "  warnings.warn('Failed to connect, returning cached response', RuntimeWarning)\n",
      "/home/crombie/miniconda3/envs/iblenv/lib/python3.10/site-packages/one/webclient.py:126: RuntimeWarning: Failed to connect, returning cached response\n",
      "  warnings.warn('Failed to connect, returning cached response', RuntimeWarning)\n",
      "/home/crombie/miniconda3/envs/iblenv/lib/python3.10/site-packages/one/webclient.py:126: RuntimeWarning: Failed to connect, returning cached response\n",
      "  warnings.warn('Failed to connect, returning cached response', RuntimeWarning)\n",
      "/home/crombie/miniconda3/envs/iblenv/lib/python3.10/site-packages/one/webclient.py:126: RuntimeWarning: Failed to connect, returning cached response\n",
      "  warnings.warn('Failed to connect, returning cached response', RuntimeWarning)\n",
      "/home/crombie/miniconda3/envs/iblenv/lib/python3.10/site-packages/one/webclient.py:126: RuntimeWarning: Failed to connect, returning cached response\n",
      "  warnings.warn('Failed to connect, returning cached response', RuntimeWarning)\n",
      "/home/crombie/miniconda3/envs/iblenv/lib/python3.10/site-packages/one/webclient.py:126: RuntimeWarning: Failed to connect, returning cached response\n",
      "  warnings.warn('Failed to connect, returning cached response', RuntimeWarning)\n",
      "/home/crombie/miniconda3/envs/iblenv/lib/python3.10/site-packages/one/webclient.py:126: RuntimeWarning: Failed to connect, returning cached response\n",
      "  warnings.warn('Failed to connect, returning cached response', RuntimeWarning)\n",
      "/home/crombie/miniconda3/envs/iblenv/lib/python3.10/site-packages/one/webclient.py:126: RuntimeWarning: Failed to connect, returning cached response\n",
      "  warnings.warn('Failed to connect, returning cached response', RuntimeWarning)\n",
      "/home/crombie/miniconda3/envs/iblenv/lib/python3.10/site-packages/one/webclient.py:126: RuntimeWarning: Failed to connect, returning cached response\n",
      "  warnings.warn('Failed to connect, returning cached response', RuntimeWarning)\n",
      "/home/crombie/miniconda3/envs/iblenv/lib/python3.10/site-packages/one/webclient.py:126: RuntimeWarning: Failed to connect, returning cached response\n",
      "  warnings.warn('Failed to connect, returning cached response', RuntimeWarning)\n",
      "/home/crombie/miniconda3/envs/iblenv/lib/python3.10/site-packages/one/webclient.py:126: RuntimeWarning: Failed to connect, returning cached response\n",
      "  warnings.warn('Failed to connect, returning cached response', RuntimeWarning)\n",
      "/home/crombie/miniconda3/envs/iblenv/lib/python3.10/site-packages/one/webclient.py:126: RuntimeWarning: Failed to connect, returning cached response\n",
      "  warnings.warn('Failed to connect, returning cached response', RuntimeWarning)\n",
      "/home/crombie/miniconda3/envs/iblenv/lib/python3.10/site-packages/one/webclient.py:126: RuntimeWarning: Failed to connect, returning cached response\n",
      "  warnings.warn('Failed to connect, returning cached response', RuntimeWarning)\n",
      "/home/crombie/miniconda3/envs/iblenv/lib/python3.10/site-packages/one/webclient.py:126: RuntimeWarning: Failed to connect, returning cached response\n",
      "  warnings.warn('Failed to connect, returning cached response', RuntimeWarning)\n",
      "/home/crombie/miniconda3/envs/iblenv/lib/python3.10/site-packages/one/webclient.py:126: RuntimeWarning: Failed to connect, returning cached response\n",
      "  warnings.warn('Failed to connect, returning cached response', RuntimeWarning)\n",
      "/home/crombie/miniconda3/envs/iblenv/lib/python3.10/site-packages/one/webclient.py:126: RuntimeWarning: Failed to connect, returning cached response\n",
      "  warnings.warn('Failed to connect, returning cached response', RuntimeWarning)\n",
      "/home/crombie/miniconda3/envs/iblenv/lib/python3.10/site-packages/one/webclient.py:126: RuntimeWarning: Failed to connect, returning cached response\n",
      "  warnings.warn('Failed to connect, returning cached response', RuntimeWarning)\n",
      "/home/crombie/miniconda3/envs/iblenv/lib/python3.10/site-packages/one/webclient.py:126: RuntimeWarning: Failed to connect, returning cached response\n",
      "  warnings.warn('Failed to connect, returning cached response', RuntimeWarning)\n",
      "/home/crombie/miniconda3/envs/iblenv/lib/python3.10/site-packages/one/webclient.py:126: RuntimeWarning: Failed to connect, returning cached response\n",
      "  warnings.warn('Failed to connect, returning cached response', RuntimeWarning)\n",
      "/home/crombie/miniconda3/envs/iblenv/lib/python3.10/site-packages/one/webclient.py:126: RuntimeWarning: Failed to connect, returning cached response\n",
      "  warnings.warn('Failed to connect, returning cached response', RuntimeWarning)\n",
      "/home/crombie/miniconda3/envs/iblenv/lib/python3.10/site-packages/one/webclient.py:126: RuntimeWarning: Failed to connect, returning cached response\n",
      "  warnings.warn('Failed to connect, returning cached response', RuntimeWarning)\n",
      "/home/crombie/miniconda3/envs/iblenv/lib/python3.10/site-packages/one/webclient.py:126: RuntimeWarning: Failed to connect, returning cached response\n",
      "  warnings.warn('Failed to connect, returning cached response', RuntimeWarning)\n",
      "/home/crombie/miniconda3/envs/iblenv/lib/python3.10/site-packages/one/webclient.py:126: RuntimeWarning: Failed to connect, returning cached response\n",
      "  warnings.warn('Failed to connect, returning cached response', RuntimeWarning)\n",
      "/home/crombie/miniconda3/envs/iblenv/lib/python3.10/site-packages/one/webclient.py:126: RuntimeWarning: Failed to connect, returning cached response\n",
      "  warnings.warn('Failed to connect, returning cached response', RuntimeWarning)\n",
      "/home/crombie/miniconda3/envs/iblenv/lib/python3.10/site-packages/one/webclient.py:126: RuntimeWarning: Failed to connect, returning cached response\n",
      "  warnings.warn('Failed to connect, returning cached response', RuntimeWarning)\n",
      "/home/crombie/miniconda3/envs/iblenv/lib/python3.10/site-packages/one/webclient.py:126: RuntimeWarning: Failed to connect, returning cached response\n",
      "  warnings.warn('Failed to connect, returning cached response', RuntimeWarning)\n",
      "/home/crombie/miniconda3/envs/iblenv/lib/python3.10/site-packages/one/webclient.py:126: RuntimeWarning: Failed to connect, returning cached response\n",
      "  warnings.warn('Failed to connect, returning cached response', RuntimeWarning)\n",
      "/home/crombie/miniconda3/envs/iblenv/lib/python3.10/site-packages/one/webclient.py:126: RuntimeWarning: Failed to connect, returning cached response\n",
      "  warnings.warn('Failed to connect, returning cached response', RuntimeWarning)\n",
      "/home/crombie/miniconda3/envs/iblenv/lib/python3.10/site-packages/one/webclient.py:126: RuntimeWarning: Failed to connect, returning cached response\n",
      "  warnings.warn('Failed to connect, returning cached response', RuntimeWarning)\n",
      "/home/crombie/miniconda3/envs/iblenv/lib/python3.10/site-packages/one/webclient.py:126: RuntimeWarning: Failed to connect, returning cached response\n",
      "  warnings.warn('Failed to connect, returning cached response', RuntimeWarning)\n",
      "/home/crombie/miniconda3/envs/iblenv/lib/python3.10/site-packages/one/webclient.py:126: RuntimeWarning: Failed to connect, returning cached response\n",
      "  warnings.warn('Failed to connect, returning cached response', RuntimeWarning)\n",
      "/home/crombie/miniconda3/envs/iblenv/lib/python3.10/site-packages/one/webclient.py:126: RuntimeWarning: Failed to connect, returning cached response\n",
      "  warnings.warn('Failed to connect, returning cached response', RuntimeWarning)\n",
      "/home/crombie/miniconda3/envs/iblenv/lib/python3.10/site-packages/one/webclient.py:126: RuntimeWarning: Failed to connect, returning cached response\n",
      "  warnings.warn('Failed to connect, returning cached response', RuntimeWarning)\n",
      "/home/crombie/miniconda3/envs/iblenv/lib/python3.10/site-packages/one/webclient.py:126: RuntimeWarning: Failed to connect, returning cached response\n",
      "  warnings.warn('Failed to connect, returning cached response', RuntimeWarning)\n",
      "/home/crombie/miniconda3/envs/iblenv/lib/python3.10/site-packages/one/webclient.py:126: RuntimeWarning: Failed to connect, returning cached response\n",
      "  warnings.warn('Failed to connect, returning cached response', RuntimeWarning)\n",
      "/home/crombie/miniconda3/envs/iblenv/lib/python3.10/site-packages/one/webclient.py:126: RuntimeWarning: Failed to connect, returning cached response\n",
      "  warnings.warn('Failed to connect, returning cached response', RuntimeWarning)\n",
      "/home/crombie/miniconda3/envs/iblenv/lib/python3.10/site-packages/one/webclient.py:126: RuntimeWarning: Failed to connect, returning cached response\n",
      "  warnings.warn('Failed to connect, returning cached response', RuntimeWarning)\n",
      "/home/crombie/miniconda3/envs/iblenv/lib/python3.10/site-packages/one/webclient.py:126: RuntimeWarning: Failed to connect, returning cached response\n",
      "  warnings.warn('Failed to connect, returning cached response', RuntimeWarning)\n",
      "/home/crombie/miniconda3/envs/iblenv/lib/python3.10/site-packages/one/webclient.py:126: RuntimeWarning: Failed to connect, returning cached response\n",
      "  warnings.warn('Failed to connect, returning cached response', RuntimeWarning)\n",
      "/home/crombie/miniconda3/envs/iblenv/lib/python3.10/site-packages/one/webclient.py:126: RuntimeWarning: Failed to connect, returning cached response\n",
      "  warnings.warn('Failed to connect, returning cached response', RuntimeWarning)\n",
      "/home/crombie/miniconda3/envs/iblenv/lib/python3.10/site-packages/one/webclient.py:126: RuntimeWarning: Failed to connect, returning cached response\n",
      "  warnings.warn('Failed to connect, returning cached response', RuntimeWarning)\n",
      "/home/crombie/miniconda3/envs/iblenv/lib/python3.10/site-packages/one/webclient.py:126: RuntimeWarning: Failed to connect, returning cached response\n",
      "  warnings.warn('Failed to connect, returning cached response', RuntimeWarning)\n",
      "/home/crombie/miniconda3/envs/iblenv/lib/python3.10/site-packages/one/webclient.py:126: RuntimeWarning: Failed to connect, returning cached response\n",
      "  warnings.warn('Failed to connect, returning cached response', RuntimeWarning)\n",
      "/home/crombie/miniconda3/envs/iblenv/lib/python3.10/site-packages/one/webclient.py:126: RuntimeWarning: Failed to connect, returning cached response\n",
      "  warnings.warn('Failed to connect, returning cached response', RuntimeWarning)\n",
      "/home/crombie/miniconda3/envs/iblenv/lib/python3.10/site-packages/one/webclient.py:126: RuntimeWarning: Failed to connect, returning cached response\n",
      "  warnings.warn('Failed to connect, returning cached response', RuntimeWarning)\n",
      "/home/crombie/miniconda3/envs/iblenv/lib/python3.10/site-packages/one/webclient.py:126: RuntimeWarning: Failed to connect, returning cached response\n",
      "  warnings.warn('Failed to connect, returning cached response', RuntimeWarning)\n",
      "/home/crombie/miniconda3/envs/iblenv/lib/python3.10/site-packages/one/webclient.py:126: RuntimeWarning: Failed to connect, returning cached response\n",
      "  warnings.warn('Failed to connect, returning cached response', RuntimeWarning)\n",
      "/home/crombie/miniconda3/envs/iblenv/lib/python3.10/site-packages/one/webclient.py:126: RuntimeWarning: Failed to connect, returning cached response\n",
      "  warnings.warn('Failed to connect, returning cached response', RuntimeWarning)\n",
      "/home/crombie/miniconda3/envs/iblenv/lib/python3.10/site-packages/one/webclient.py:126: RuntimeWarning: Failed to connect, returning cached response\n",
      "  warnings.warn('Failed to connect, returning cached response', RuntimeWarning)\n",
      "/home/crombie/miniconda3/envs/iblenv/lib/python3.10/site-packages/one/webclient.py:126: RuntimeWarning: Failed to connect, returning cached response\n",
      "  warnings.warn('Failed to connect, returning cached response', RuntimeWarning)\n",
      "/home/crombie/miniconda3/envs/iblenv/lib/python3.10/site-packages/one/webclient.py:126: RuntimeWarning: Failed to connect, returning cached response\n",
      "  warnings.warn('Failed to connect, returning cached response', RuntimeWarning)\n",
      "/home/crombie/miniconda3/envs/iblenv/lib/python3.10/site-packages/one/webclient.py:126: RuntimeWarning: Failed to connect, returning cached response\n",
      "  warnings.warn('Failed to connect, returning cached response', RuntimeWarning)\n",
      "/home/crombie/miniconda3/envs/iblenv/lib/python3.10/site-packages/one/webclient.py:126: RuntimeWarning: Failed to connect, returning cached response\n",
      "  warnings.warn('Failed to connect, returning cached response', RuntimeWarning)\n",
      "/home/crombie/miniconda3/envs/iblenv/lib/python3.10/site-packages/one/webclient.py:126: RuntimeWarning: Failed to connect, returning cached response\n",
      "  warnings.warn('Failed to connect, returning cached response', RuntimeWarning)\n",
      "/home/crombie/miniconda3/envs/iblenv/lib/python3.10/site-packages/one/webclient.py:126: RuntimeWarning: Failed to connect, returning cached response\n",
      "  warnings.warn('Failed to connect, returning cached response', RuntimeWarning)\n",
      "/home/crombie/miniconda3/envs/iblenv/lib/python3.10/site-packages/one/webclient.py:126: RuntimeWarning: Failed to connect, returning cached response\n",
      "  warnings.warn('Failed to connect, returning cached response', RuntimeWarning)\n",
      "/home/crombie/miniconda3/envs/iblenv/lib/python3.10/site-packages/one/webclient.py:126: RuntimeWarning: Failed to connect, returning cached response\n",
      "  warnings.warn('Failed to connect, returning cached response', RuntimeWarning)\n",
      "/home/crombie/miniconda3/envs/iblenv/lib/python3.10/site-packages/one/webclient.py:126: RuntimeWarning: Failed to connect, returning cached response\n",
      "  warnings.warn('Failed to connect, returning cached response', RuntimeWarning)\n",
      "/home/crombie/miniconda3/envs/iblenv/lib/python3.10/site-packages/one/webclient.py:126: RuntimeWarning: Failed to connect, returning cached response\n",
      "  warnings.warn('Failed to connect, returning cached response', RuntimeWarning)\n",
      "/home/crombie/miniconda3/envs/iblenv/lib/python3.10/site-packages/one/webclient.py:126: RuntimeWarning: Failed to connect, returning cached response\n",
      "  warnings.warn('Failed to connect, returning cached response', RuntimeWarning)\n",
      "/home/crombie/miniconda3/envs/iblenv/lib/python3.10/site-packages/one/webclient.py:126: RuntimeWarning: Failed to connect, returning cached response\n",
      "  warnings.warn('Failed to connect, returning cached response', RuntimeWarning)\n",
      "/home/crombie/miniconda3/envs/iblenv/lib/python3.10/site-packages/one/webclient.py:126: RuntimeWarning: Failed to connect, returning cached response\n",
      "  warnings.warn('Failed to connect, returning cached response', RuntimeWarning)\n"
     ]
    }
   ],
   "source": [
    "def _get_performance(series):\n",
    "    performance = np.nan\n",
    "    try:\n",
    "        df_trials = one.load_dataset(series['eid'], dataset='_ibl_trials.table.pqt')\n",
    "        df_highcontrast = df_trials.query('(contrastRight == 1.) | (contrastLeft == 1.)')\n",
    "        performance = df_highcontrast['feedbackType'].clip(0, 1).mean()\n",
    "    except:\n",
    "        pass\n",
    "    return performance\n",
    "\n",
    "df_recinfo.progress_apply(_get_performance, axis='columns')"
   ]
  },
  {
   "cell_type": "code",
   "execution_count": 102,
   "id": "a0ad9185-9a00-4f95-9bda-e478a9daeba2",
   "metadata": {},
   "outputs": [],
   "source": [
    "## Doesn't seem to work more often than not\n",
    "# loader = SessionLoader(one=one, eid=eid)\n",
    "# loader.load_trials()"
   ]
  },
  {
   "cell_type": "code",
   "execution_count": 95,
   "id": "e4e6eeae-81fb-4480-8eb7-b3bcc4357541",
   "metadata": {},
   "outputs": [
    {
     "name": "stdout",
     "output_type": "stream",
     "text": [
      "CRITICAL 0\n",
      "FAIL 2309\n",
      "WARNING 27\n",
      "NOT_SET 110\n",
      "PASS 0\n"
     ]
    }
   ],
   "source": [
    "from one.alf import spec\n",
    "\n",
    "for qc in spec.QC:\n",
    "    qc = str(qc).split('.')[1]\n",
    "    eids_qc = one.search(projects='ibl_fibrephotometry', qc=qc)\n",
    "    print(qc, len(eids_qc))\n",
    "    # df_recinfo[qc] = df_recinfo.apply(lambda x: x['eid'] in list(eids_qc), axis='columns')"
   ]
  },
  {
   "cell_type": "code",
   "execution_count": null,
   "id": "0c3c3f4c-a455-4199-b181-1052a6034f38",
   "metadata": {},
   "outputs": [
    {
     "name": "stdout",
     "output_type": "stream",
     "text": [
      "CRITICAL 2296\n",
      "FAIL 2296\n",
      "WARNING 2296\n",
      "NOT_SET 2296\n",
      "PASS 2296\n"
     ]
    }
   ],
   "source": [
    "from one.alf import spec\n",
    "\n",
    "for qc in spec.QC:\n",
    "    qc = str(qc).split('.')[1]\n",
    "    eids_qc = one.search(projects='ibl_fibrephotometry', dataset='trials', dataset_qc=qc)\n",
    "    print(qc, len(eids_qc))\n",
    "    df_recinfo[f'trials_qc'] = df_recinfo.apply(lambda x: x['eid'] in list(eids_qc), axis='columns')"
   ]
  },
  {
   "cell_type": "markdown",
   "id": "54d4e011-3180-40fe-b744-01d34611898f",
   "metadata": {},
   "source": [
    "### Fiber photometry\n",
    "So far, this data only lives on the IBL server at CCU, so we mount the server and point ONE to the mounted cache_dir."
   ]
  },
  {
   "cell_type": "code",
   "execution_count": 8,
   "id": "de647bff-b297-4d6c-b1a0-b2f40268945d",
   "metadata": {},
   "outputs": [],
   "source": [
    "cache_dir = '/home/crombie/mnt/ccu-iblserver/kb/data/one'\n",
    "one = ONE(cache_dir=cache_dir)"
   ]
  },
  {
   "cell_type": "code",
   "execution_count": 7,
   "id": "071d2aef-dd32-40f2-845e-9ecce8e90be2",
   "metadata": {},
   "outputs": [],
   "source": [
    "subject = 'ZFM-06275'\n",
    "eid = df_sessions.query('subject == @subject').iloc[7]['eid']"
   ]
  },
  {
   "cell_type": "code",
   "execution_count": 24,
   "id": "0f3e2ba1-2737-49d6-87cb-a40e7f04cb4b",
   "metadata": {},
   "outputs": [],
   "source": [
    "from util import _check_local_datasets"
   ]
  },
  {
   "cell_type": "code",
   "execution_count": 28,
   "id": "849fbebb-8758-4fc8-8227-8cbd0a538006",
   "metadata": {},
   "outputs": [
    {
     "name": "stderr",
     "output_type": "stream",
     "text": [
      "100%|███████████████████████████████████████| 2519/2519 [00:50<00:00, 49.91it/s]\n"
     ]
    }
   ],
   "source": [
    "df_sessions = "
   ]
  },
  {
   "cell_type": "code",
   "execution_count": 34,
   "id": "6b777a75-cd18-43bf-88f1-ea2e94996de2",
   "metadata": {},
   "outputs": [
    {
     "data": {
      "text/plain": [
       "np.int64(2456)"
      ]
     },
     "execution_count": 34,
     "metadata": {},
     "output_type": "execute_result"
    }
   ],
   "source": [
    "extracted_photometry_datasets = [\n",
    "    'alf/photometry/photometry.signal.pqt',\n",
    "    'alf/photometry/photometryROI.locations.pqt'\n",
    "]\n",
    "\n",
    "df_sessions[['local_photometry'] + extracted_photometry_datasets].apply(any, axis='columns').sum()"
   ]
  },
  {
   "cell_type": "code",
   "execution_count": 35,
   "id": "c04624a4-3ff0-4ccb-ab56-de46809d078f",
   "metadata": {},
   "outputs": [
    {
     "data": {
      "text/plain": [
       "2519"
      ]
     },
     "execution_count": 35,
     "metadata": {},
     "output_type": "execute_result"
    }
   ],
   "source": [
    "len(df_sessions)"
   ]
  },
  {
   "cell_type": "code",
   "execution_count": 9,
   "id": "c5af461c-35f0-4ba1-97bd-445fc07c9a59",
   "metadata": {},
   "outputs": [],
   "source": [
    "session_path = one.eid2path(eid)\n",
    "pnames = [reg.name for reg in session_path.joinpath('alf').glob('Region*')]\n",
    "for pname in pnames:\n",
    "    pqt_path = session_path / 'alf' / pname / 'raw_photometry.pqt'"
   ]
  },
  {
   "cell_type": "code",
   "execution_count": 10,
   "id": "a1d21cfe-9195-416c-ade0-27fca6b5d559",
   "metadata": {},
   "outputs": [
    {
     "data": {
      "text/plain": [
       "PosixALFPath('/home/crombie/mnt/ccu-iblserver/kb/data/one/mainenlab/Subjects/ZFM-06275/2023-07-13/001/alf/Region4G/raw_photometry.pqt')"
      ]
     },
     "execution_count": 10,
     "metadata": {},
     "output_type": "execute_result"
    }
   ],
   "source": [
    "pqt_path"
   ]
  },
  {
   "cell_type": "code",
   "execution_count": 23,
   "id": "4c7f7b10-7c21-404c-afdb-1950804e8c4b",
   "metadata": {},
   "outputs": [
    {
     "name": "stderr",
     "output_type": "stream",
     "text": [
      "[autoreload of util failed: Traceback (most recent call last):\n",
      "  File \"/home/crombie/.local/lib/python3.10/site-packages/IPython/extensions/autoreload.py\", line 276, in check\n",
      "    superreload(m, reload, self.old_objects)\n",
      "  File \"/home/crombie/.local/lib/python3.10/site-packages/IPython/extensions/autoreload.py\", line 475, in superreload\n",
      "    module = reload(module)\n",
      "  File \"/home/crombie/miniconda3/envs/iblenv/lib/python3.10/importlib/__init__.py\", line 169, in reload\n",
      "    _bootstrap._exec(spec, module)\n",
      "  File \"<frozen importlib._bootstrap>\", line 619, in _exec\n",
      "  File \"<frozen importlib._bootstrap_external>\", line 879, in exec_module\n",
      "  File \"<frozen importlib._bootstrap_external>\", line 1017, in get_code\n",
      "  File \"<frozen importlib._bootstrap_external>\", line 947, in source_to_code\n",
      "  File \"<frozen importlib._bootstrap>\", line 241, in _call_with_frames_removed\n",
      "  File \"/home/crombie/code/ibl_neuromodulators/util.py\", line 90\n",
      "    series['local_photometry'] = [os\n",
      "                                 ^\n",
      "SyntaxError: '[' was never closed\n",
      "]\n"
     ]
    },
    {
     "data": {
      "text/plain": [
       "True"
      ]
     },
     "execution_count": 23,
     "metadata": {},
     "output_type": "execute_result"
    }
   ],
   "source": [
    "os.path.isfile(pqt_path)"
   ]
  },
  {
   "cell_type": "code",
   "execution_count": 20,
   "id": "94216dda-7e9e-4200-8cb4-3bb350a665b0",
   "metadata": {},
   "outputs": [
    {
     "data": {
      "text/plain": [
       "PosixALFPath('/home/crombie/mnt/ccu-iblserver/kb/data/one/mainenlab/Subjects/ZFM-06275/2023-07-13/001/alf/Region4G/raw_photometry.pqt')"
      ]
     },
     "execution_count": 20,
     "metadata": {},
     "output_type": "execute_result"
    }
   ],
   "source": [
    "os.pqt_path"
   ]
  },
  {
   "cell_type": "code",
   "execution_count": 61,
   "id": "e745cb35-6ffa-4fbc-94f3-31470cdc81ae",
   "metadata": {},
   "outputs": [
    {
     "data": {
      "text/plain": [
       "([], None)"
      ]
     },
     "execution_count": 61,
     "metadata": {},
     "output_type": "execute_result"
    }
   ],
   "source": [
    "one.search(\n",
    "    lab='mainenlab',\n",
    "    projects='ibl_fibrephotometry',\n",
    "    dataset_qc_lte='PASS',\n",
    "    query_type='local', \n",
    "    details=True\n",
    ")"
   ]
  },
  {
   "cell_type": "code",
   "execution_count": 89,
   "id": "ff43af14-e04e-4e3b-89b8-b632a6250bed",
   "metadata": {},
   "outputs": [],
   "source": [
    "df_recinfo = load_recinfo()"
   ]
  },
  {
   "cell_type": "markdown",
   "id": "d4b72508-8c3c-4b73-a677-a88bbbb89b4b",
   "metadata": {},
   "source": [
    "### Task performance\n",
    "Query for all `ibl_fiberphotometry` experiments that pass QC."
   ]
  },
  {
   "cell_type": "code",
   "execution_count": 19,
   "id": "d475c663-1644-4bcc-aa34-46488ed03487",
   "metadata": {},
   "outputs": [
    {
     "name": "stdout",
     "output_type": "stream",
     "text": [
      "Number of sessions: 2192\n",
      "Number of mice: 31\n"
     ]
    }
   ],
   "source": [
    "eids, infos = one.search(\n",
    "    lab='mainenlab',\n",
    "    projects='ibl_fibrephotometry',\n",
    "    dataset='trials',\n",
    "    dataset_qc_lte='PASS',\n",
    "    query_type='local', \n",
    "    details=True\n",
    ")\n",
    "\n",
    "# Place all metadata in a dataframe\n",
    "df_eids = pd.DataFrame(infos)\n",
    "df_eids['eid'] = eids\n",
    "print(f\"Number of sessions: {len(df_eids)}\")\n",
    "print(f\"Number of mice: {len(df_eids.groupby('subject'))}\")\n",
    "# print(df_eids['subject'].unique())"
   ]
  },
  {
   "cell_type": "code",
   "execution_count": 111,
   "id": "1466bfad-95c4-40b5-83f6-0cb9023ab70c",
   "metadata": {},
   "outputs": [
    {
     "data": {
      "image/png": "[encoded data removed]",
      "text/plain": [
       "<Figure size 1200x500 with 2 Axes>"
      ]
     },
     "metadata": {},
     "output_type": "display_data"
    }
   ],
   "source": [
    "fig, axs = plt.subplots(1, 2, figsize=(12, 5))\n",
    "df_protocols = df_recinfo['task_protocol'].value_counts()\n",
    "axs[0].bar(np.arange(len(df_protocols)), df_protocols.values)\n",
    "axs[1].bar(np.arange(20), df_protocols.head(20).values, color=plt.cm.tab20(np.arange(20)))\n",
    "axs[1].set_xticks(np.arange(20))\n",
    "axs[1].set_xticklabels(df_protocols.head(20).index)\n",
    "axs[1].tick_params(axis='x', labelrotation=90)"
   ]
  },
  {
   "cell_type": "code",
   "execution_count": null,
   "id": "9c46e162-d0ed-4e97-8e11-b154bbd4f5b4",
   "metadata": {},
   "outputs": [
    {
     "name": "stderr",
     "output_type": "stream",
     "text": [
      "/home/crombie/Downloads/ONE/alyx.internationalbrainlab.org/mainenlab/Subjects/ZF\n",
      "/home/crombie/Downloads/ONE/alyx.internationalbrainlab.org/mainenlab/Subjects/ZF\n",
      "/home/crombie/Downloads/ONE/alyx.internationalbrainlab.org/mainenlab/Subjects/ZF\n",
      "/home/crombie/Downloads/ONE/alyx.internationalbrainlab.org/mainenlab/Subjects/ZF\n",
      "/home/crombie/Downloads/ONE/alyx.internationalbrainlab.org/mainenlab/Subjects/ZF\n",
      "/home/crombie/Downloads/ONE/alyx.internationalbrainlab.org/mainenlab/Subjects/ZF\n",
      "/home/crombie/Downloads/ONE/alyx.internationalbrainlab.org/mainenlab/Subjects/ZF\n",
      "/home/crombie/Downloads/ONE/alyx.internationalbrainlab.org/mainenlab/Subjects/ZF\n",
      "/home/crombie/Downloads/ONE/alyx.internationalbrainlab.org/mainenlab/Subjects/ZF\n",
      "/home/crombie/Downloads/ONE/alyx.internationalbrainlab.org/mainenlab/Subjects/ZF\n",
      "/home/crombie/Downloads/ONE/alyx.internationalbrainlab.org/mainenlab/Subjects/ZF\n",
      "/home/crombie/Downloads/ONE/alyx.internationalbrainlab.org/mainenlab/Subjects/ZF\n",
      "/home/crombie/Downloads/ONE/alyx.internationalbrainlab.org/mainenlab/Subjects/ZF\n",
      "/home/crombie/Downloads/ONE/alyx.internationalbrainlab.org/mainenlab/Subjects/ZF\n",
      "/home/crombie/Downloads/ONE/alyx.internationalbrainlab.org/mainenlab/Subjects/ZF"
     ]
    }
   ],
   "source": [
    "# df_eids['data_exists'] = True\n",
    "agg_dict = {\n",
    "    'correct': 'mean',  # proportion correct\n",
    "    'date': 'first',\n",
    "    'task_protocol': 'first'\n",
    "    }\n",
    "\n",
    "for mid, mouse in df_eids.groupby('subject'):\n",
    "    df_trials = pd.DataFrame()\n",
    "    for _, session in mouse.iterrows():\n",
    "        try:\n",
    "            loader = SessionLoader(one=one, eid=session['eid'])\n",
    "            loader.load_trials()\n",
    "        except:\n",
    "            # df_eids.loc[idx, 'data_exists'] = False\n",
    "            continue\n",
    "        df = loader.trials\n",
    "        for data_label in ['subject', 'date', 'eid', 'task_protocol']:\n",
    "            df[data_label] = session[data_label]\n",
    "        df_trials = pd.concat([df_trials, df])\n",
    "    \n",
    "    df_trials = df_trials.reset_index().rename(columns={'index':'trial_n'})\n",
    "    df_trials['contrast'] = df_trials.apply(lambda x: np.nansum([x['contrastLeft'], x['contrastRight']]), axis='columns')\n",
    "    df_trials['correct'] = df_trials['feedbackType'] > 0\n",
    "    df_trials = df_trials.sort_values('date')\n",
    "    # df_trials.to_csv(f'data/{mid}.csv')\n",
    "\n",
    "    break\n",
    "\n",
    "    # df_learn = df_trials.query('contrast == 1').groupby('eid', sort=False).agg(agg_dict)\n",
    "    # df_learn = df_learn.query(\"not task_protocol.str.contains('habituation')\")\n",
    "\n",
    "    # fig, ax = plt.subplots()\n",
    "    # ax.plot(df_learn['correct'].values)\n",
    "    # ax.tick_params(axis='x', labelrotation=60)"
   ]
  }
 ],
 "metadata": {
  "kernelspec": {
   "display_name": "Python 3 (ipykernel)",
   "language": "python",
   "name": "python3"
  },
  "language_info": {
   "codemirror_mode": {
    "name": "ipython",
    "version": 3
   },
   "file_extension": ".py",
   "mimetype": "text/x-python",
   "name": "python",
   "nbconvert_exporter": "python",
   "pygments_lexer": "ipython3",
   "version": "3.10.14"
  }
 },
 "nbformat": 4,
 "nbformat_minor": 5
}
